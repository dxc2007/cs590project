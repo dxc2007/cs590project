{
 "cells": [
  {
   "cell_type": "code",
   "execution_count": 1,
   "metadata": {},
   "outputs": [],
   "source": [
    "def get_metrics(input_file):\n",
    "    print(\"input file: \", input_file)\n",
    "    f = open(input_file,\"r\")\n",
    "    fl = f.readlines()\n",
    "    f.close()\n",
    "\n",
    "    count = 1\n",
    "    metrics=[]\n",
    "    split_title = input_file.split(\"_\")\n",
    "#     print(split_title)\n",
    "    metrics.extend([float(split_title[3]), split_title[4].split(\".\")[0]])\n",
    "    for line in fl:\n",
    "    #     print(line)\n",
    "        if count >= 32 and count < 37:\n",
    "            _, val_str = line.split(\":\") \n",
    "            if defocus.match(line):\n",
    "                val=float(val_str.split(\",\")[0])\n",
    "                metrics.append(val)\n",
    "    #             print(val)\n",
    "            if score.match(line):\n",
    "                val=float(val_str)\n",
    "                metrics.append(val)\n",
    "    #             print(val)\n",
    "            if thon_rings.match(line):\n",
    "                val=float(val_str.split(\"Angstroms\")[0])\n",
    "                metrics.append(val)\n",
    "    #             print(val)\n",
    "        count+=1\n",
    "    all_metrics[split_title[0]].append(metrics)"
   ]
  },
  {
   "cell_type": "code",
   "execution_count": 2,
   "metadata": {},
   "outputs": [],
   "source": [
    "import sys\n",
    "import re\n",
    "import os\n",
    "from collections import defaultdict\n",
    "import glob\n",
    "import matplotlib.pyplot as plt\n",
    "import numpy as np\n",
    "%matplotlib inline\n",
    "\n",
    "\n",
    "defocus = re.compile(r\"Estimated defocus values[ ]+: [-+]?[0-9]*\\.?[0-9]+ , [-+]?[0-9]*\\.?[0-9]+ Angstroms\")\n",
    "score = re.compile(r\"Score[ ]+: [-+]?[0-9]*\\.?[0-9]+\")\n",
    "thon_rings = re.compile(r\"Thon rings with good fit up to[ ]+: [-+]?[0-9]*\\.?[0-9]+ Angstroms\")\n",
    "\n",
    "all_metrics = defaultdict(list)\n",
    "for f in glob.glob('*summary*.txt'):\n",
    "    get_metrics(f)"
   ]
  },
  {
   "cell_type": "code",
   "execution_count": 3,
   "metadata": {},
   "outputs": [
    {
     "data": {
      "text/plain": [
       "defaultdict(list, {})"
      ]
     },
     "execution_count": 3,
     "metadata": {},
     "output_type": "execute_result"
    }
   ],
   "source": [
    "all_metrics"
   ]
  },
  {
   "cell_type": "code",
   "execution_count": 5,
   "metadata": {
    "scrolled": false
   },
   "outputs": [
    {
     "name": "stdout",
     "output_type": "stream",
     "text": [
      "['1.0']\n",
      "['0']\n",
      "[]\n"
     ]
    },
    {
     "ename": "IndexError",
     "evalue": "too many indices for array",
     "output_type": "error",
     "traceback": [
      "\u001b[0;31m---------------------------------------------------------------------------\u001b[0m",
      "\u001b[0;31mIndexError\u001b[0m                                Traceback (most recent call last)",
      "\u001b[0;32m<ipython-input-5-c90522c2007b>\u001b[0m in \u001b[0;36m<module>\u001b[0;34m\u001b[0m\n\u001b[1;32m     18\u001b[0m         \u001b[0mvals\u001b[0m\u001b[0;34m=\u001b[0m\u001b[0mnp\u001b[0m\u001b[0;34m.\u001b[0m\u001b[0marray\u001b[0m\u001b[0;34m(\u001b[0m\u001b[0mlist\u001b[0m\u001b[0;34m(\u001b[0m\u001b[0mfilter\u001b[0m\u001b[0;34m(\u001b[0m\u001b[0;32mlambda\u001b[0m \u001b[0mx\u001b[0m\u001b[0;34m:\u001b[0m \u001b[0mx\u001b[0m\u001b[0;34m[\u001b[0m\u001b[0;36m0\u001b[0m\u001b[0;34m]\u001b[0m \u001b[0;34m==\u001b[0m \u001b[0mfloat\u001b[0m\u001b[0;34m(\u001b[0m\u001b[0mthres\u001b[0m\u001b[0;34m)\u001b[0m\u001b[0;34m,\u001b[0m \u001b[0mstack_metrics\u001b[0m\u001b[0;34m)\u001b[0m\u001b[0;34m)\u001b[0m\u001b[0;34m,\u001b[0m\u001b[0mdtype\u001b[0m\u001b[0;34m=\u001b[0m\u001b[0;34m'float32'\u001b[0m\u001b[0;34m)\u001b[0m\u001b[0;34m\u001b[0m\u001b[0;34m\u001b[0m\u001b[0m\n\u001b[1;32m     19\u001b[0m         \u001b[0mprint\u001b[0m\u001b[0;34m(\u001b[0m\u001b[0mvals\u001b[0m\u001b[0;34m)\u001b[0m\u001b[0;34m\u001b[0m\u001b[0;34m\u001b[0m\u001b[0m\n\u001b[0;32m---> 20\u001b[0;31m         \u001b[0morder\u001b[0m \u001b[0;34m=\u001b[0m \u001b[0mvals\u001b[0m\u001b[0;34m[\u001b[0m\u001b[0;34m:\u001b[0m\u001b[0;34m,\u001b[0m\u001b[0;36m1\u001b[0m\u001b[0;34m]\u001b[0m\u001b[0;34m.\u001b[0m\u001b[0margsort\u001b[0m\u001b[0;34m(\u001b[0m\u001b[0;34m)\u001b[0m\u001b[0;34m\u001b[0m\u001b[0;34m\u001b[0m\u001b[0m\n\u001b[0m\u001b[1;32m     21\u001b[0m     \u001b[0;31m#     print(order)\u001b[0m\u001b[0;34m\u001b[0m\u001b[0;34m\u001b[0m\u001b[0;34m\u001b[0m\u001b[0m\n\u001b[1;32m     22\u001b[0m     \u001b[0;31m#     print(vals[order])\u001b[0m\u001b[0;34m\u001b[0m\u001b[0;34m\u001b[0m\u001b[0;34m\u001b[0m\u001b[0m\n",
      "\u001b[0;31mIndexError\u001b[0m: too many indices for array"
     ]
    }
   ],
   "source": [
    "plt.rcParams.update({'font.size': 22})\n",
    "for i,stack in enumerate(all_metrics.keys()):\n",
    "    num = i+1\n",
    "    stack_num = int(stack.split('stack')[-1])\n",
    "    stack_metrics=np.array(all_metrics[stack])\n",
    "    hard_threshold_mul = sorted(set(stack_metrics.T[0]))\n",
    "    print(hard_threshold_mul)\n",
    "\n",
    "    bfactors = sorted(set(stack_metrics.T[1]))\n",
    "    print(bfactors)\n",
    "\n",
    "    twoddefocus=[]\n",
    "    twodscores=[]\n",
    "    twodfit=[]\n",
    "    scores=[]\n",
    "    fit=[]\n",
    "    for thres in hard_threshold_mul:\n",
    "        vals=np.array(list(filter(lambda x: x[0] == float(thres), stack_metrics)),dtype='float32')\n",
    "        order = vals[:,1].argsort()\n",
    "    #     print(order)\n",
    "    #     print(vals[order])\n",
    "        twoddefocus.append(list(vals[order][:,2]))\n",
    "        twodscores.append(list(vals[order][:,3]))\n",
    "        twodfit.append(list(vals[order][:,4]))\n",
    "        means=vals.mean(axis=0)\n",
    "        scores.append(means[3])\n",
    "        fit.append(means[4])\n",
    "    #     print(vals[:,3])\n",
    "    # print(twodscores)\n",
    "    # print(twodfit)\n",
    "#     print(twodscores)\n",
    "    extent = [min(bfactors), max(bfactors), max(hard_threshold_mul), min(hard_threshold_mul)]\n",
    "\n",
    "    fig, axes = plt.subplots(1, 3,figsize=(30,10))\n",
    "#     fig.subplots_adjust(left=0.02, bottom=0.06, right=0.95, top=0.94, wspace=0.05)\n",
    "\n",
    "    # fig, ax = plt.subplots()\n",
    "    # divider = make_axes_locatable(ax)\n",
    "    # cax = divider.append_axes('right', size='5%', pad=0.05)\n",
    "\n",
    "    mat = axes[0].matshow(twoddefocus,extent=extent,aspect='auto')\n",
    "    axes[0].set_title('defocus {}'.format(stack_num))\n",
    "    fig.colorbar(mat,ax=axes[0])\n",
    "\n",
    "    mat = axes[1].matshow(twodscores,extent=extent,aspect='auto')\n",
    "    axes[1].set_title('score {}'.format(stack_num))\n",
    "    fig.colorbar(mat,ax=axes[1])\n",
    "\n",
    "    mat = axes[2].matshow(twodfit,extent=extent,aspect='auto')\n",
    "    axes[2].set_title('fit {}'.format(stack_num))\n",
    "    fig.colorbar(mat,ax=axes[2])"
   ]
  },
  {
   "cell_type": "code",
   "execution_count": null,
   "metadata": {},
   "outputs": [],
   "source": []
  }
 ],
 "metadata": {
  "kernelspec": {
   "display_name": "Python 3",
   "language": "python",
   "name": "python3"
  },
  "language_info": {
   "codemirror_mode": {
    "name": "ipython",
    "version": 3
   },
   "file_extension": ".py",
   "mimetype": "text/x-python",
   "name": "python",
   "nbconvert_exporter": "python",
   "pygments_lexer": "ipython3",
   "version": "3.7.4"
  }
 },
 "nbformat": 4,
 "nbformat_minor": 2
}
