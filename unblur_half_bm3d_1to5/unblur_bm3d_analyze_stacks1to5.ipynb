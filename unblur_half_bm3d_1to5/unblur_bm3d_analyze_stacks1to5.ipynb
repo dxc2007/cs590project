{
 "cells": [
  {
   "cell_type": "code",
   "execution_count": 5,
   "metadata": {},
   "outputs": [],
   "source": [
    "def get_metrics(input_file):\n",
    "#     print(\"input file: \", input_file)\n",
    "    f = open(input_file,\"r\")\n",
    "    fl = f.readlines()\n",
    "    f.close()\n",
    "\n",
    "    count = 1\n",
    "    metrics=[]\n",
    "    split_title = input_file.split(\"_\")\n",
    "#     print(split_title)\n",
    "    metrics.extend([float(split_title[4]), float(split_title[6])])    \n",
    "    for line in fl:\n",
    "    #     print(line)\n",
    "        if count >= 32 and count < 37:\n",
    "            _, val_str = line.split(\":\") \n",
    "            if defocus.match(line):\n",
    "                val=float(val_str.split(\",\")[0])\n",
    "                metrics.append(val)\n",
    "    #             print(val)\n",
    "            if score.match(line):\n",
    "                val=float(val_str)\n",
    "                metrics.append(val)\n",
    "    #             print(val)\n",
    "            if thon_rings.match(line):\n",
    "                val=float(val_str.split(\"Angstroms\")[0])\n",
    "                metrics.append(val)\n",
    "    #             print(val)\n",
    "        count+=1\n",
    "    all_metrics[split_title[0]].append(metrics)"
   ]
  },
  {
   "cell_type": "code",
   "execution_count": 6,
   "metadata": {},
   "outputs": [],
   "source": [
    "import sys\n",
    "import re\n",
    "import os\n",
    "from collections import defaultdict\n",
    "import glob\n",
    "import matplotlib.pyplot as plt\n",
    "import numpy as np\n",
    "%matplotlib qt\n",
    "\n",
    "\n",
    "defocus = re.compile(r\"Estimated defocus values[ ]+: [-+]?[0-9]*\\.?[0-9]+ , [-+]?[0-9]*\\.?[0-9]+ Angstroms\")\n",
    "score = re.compile(r\"Score[ ]+: [-+]?[0-9]*\\.?[0-9]+\")\n",
    "thon_rings = re.compile(r\"Thon rings with good fit up to[ ]+: [-+]?[0-9]*\\.?[0-9]+ Angstroms\")\n",
    "\n",
    "all_metrics = defaultdict(list)\n",
    "for f in glob.glob('*summary*.txt'):\n",
    "    get_metrics(f)"
   ]
  },
  {
   "cell_type": "code",
   "execution_count": 7,
   "metadata": {},
   "outputs": [
    {
     "name": "stdout",
     "output_type": "stream",
     "text": [
      "stack4\n",
      "[    1.       2000.      20014.67        0.00654     6.4    ]\n",
      "stack2\n",
      "[    3.       2000.      21982.          0.00116     6.5    ]\n",
      "stack5\n",
      "[    3.          0.      16629.49        0.01378     6.1    ]\n",
      "stack3\n",
      "[    2.5     2000.     22368.54       0.0049     6.6   ]\n",
      "stack1\n",
      "[    3.          0.      19494.91        0.00304     6.7    ]\n"
     ]
    }
   ],
   "source": [
    "np.set_printoptions(suppress=True)\n",
    "for i,stack in enumerate(all_metrics.keys()):\n",
    "    stack_metrics=np.array(all_metrics[stack])\n",
    "    max_pos=np.argmax(stack_metrics[:,3])\n",
    "    print(stack)\n",
    "    print(stack_metrics[max_pos])"
   ]
  },
  {
   "cell_type": "code",
   "execution_count": 8,
   "metadata": {
    "scrolled": false
   },
   "outputs": [],
   "source": [
    "plt.rcParams.update({'font.size': 22})\n",
    "for i,stack in enumerate(all_metrics.keys()):\n",
    "    num = i+1\n",
    "    stack_num = int(stack.split('stack')[-1])\n",
    "    stack_metrics=np.array(all_metrics[stack])\n",
    "    hard_threshold_mul = sorted(set(stack_metrics.T[0]))\n",
    "#     print(hard_threshold_mul)\n",
    "\n",
    "    bfactors = sorted(set(stack_metrics.T[1]))\n",
    "#     print(bfactors)\n",
    "\n",
    "    twoddefocus=[]\n",
    "    twodscores=[]\n",
    "    twodfit=[]\n",
    "    scores=[]\n",
    "    fit=[]\n",
    "    for thres in hard_threshold_mul:\n",
    "        vals=np.array(list(filter(lambda x: x[0] == float(thres), stack_metrics)),dtype='float32')\n",
    "#         print(vals)\n",
    "        order = vals[:,1].argsort()\n",
    "    #     print(order)\n",
    "    #     print(vals[order])\n",
    "        twoddefocus.append(list(vals[order][:,2]))\n",
    "        twodscores.append(list(vals[order][:,3]))\n",
    "        twodfit.append(list(vals[order][:,4]))\n",
    "        means=vals.mean(axis=0)\n",
    "        scores.append(means[3])\n",
    "        fit.append(means[4])\n",
    "    #     print(vals[:,3])\n",
    "    # print(twodscores)\n",
    "    # print(twodfit)\n",
    "#     print(twodscores)\n",
    "    extent = [min(bfactors), max(bfactors), max(hard_threshold_mul), min(hard_threshold_mul)]\n",
    "\n",
    "    fig, axes = plt.subplots(1, 3,figsize=(30,10))\n",
    "#     fig.subplots_adjust(left=0.02, bottom=0.06, right=0.95, top=0.94, wspace=0.05)\n",
    "\n",
    "    # fig, ax = plt.subplots()\n",
    "    # divider = make_axes_locatable(ax)\n",
    "    # cax = divider.append_axes('right', size='5%', pad=0.05)\n",
    "\n",
    "    mat = axes[0].matshow(twoddefocus,extent=extent,aspect='auto')\n",
    "    axes[0].set_title('defocus {}'.format(stack_num))\n",
    "    fig.colorbar(mat,ax=axes[0])\n",
    "\n",
    "    mat = axes[1].matshow(twodscores,extent=extent,aspect='auto')\n",
    "    axes[1].set_title('score {}'.format(stack_num))\n",
    "    fig.colorbar(mat,ax=axes[1])\n",
    "\n",
    "    mat = axes[2].matshow(twodfit,extent=extent,aspect='auto')\n",
    "    axes[2].set_title('fit {}'.format(stack_num))\n",
    "    fig.colorbar(mat,ax=axes[2])"
   ]
  },
  {
   "cell_type": "code",
   "execution_count": null,
   "metadata": {},
   "outputs": [],
   "source": []
  },
  {
   "cell_type": "code",
   "execution_count": null,
   "metadata": {},
   "outputs": [],
   "source": []
  },
  {
   "cell_type": "code",
   "execution_count": null,
   "metadata": {},
   "outputs": [],
   "source": []
  }
 ],
 "metadata": {
  "kernelspec": {
   "display_name": "Python 3",
   "language": "python",
   "name": "python3"
  },
  "language_info": {
   "codemirror_mode": {
    "name": "ipython",
    "version": 3
   },
   "file_extension": ".py",
   "mimetype": "text/x-python",
   "name": "python",
   "nbconvert_exporter": "python",
   "pygments_lexer": "ipython3",
   "version": "3.7.4"
  }
 },
 "nbformat": 4,
 "nbformat_minor": 2
}
