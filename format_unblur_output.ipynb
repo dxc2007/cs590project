{
 "cells": [
  {
   "cell_type": "code",
   "execution_count": 110,
   "metadata": {},
   "outputs": [],
   "source": [
    "import sys\n",
    "import re\n",
    "\n",
    "input_file = sys.argv[1]\n",
    "scale = sys.argv[2]\n",
    "print(\"input file: \", input_file)\n",
    "f = open(input_file,\"r\")\n",
    "\n",
    "fl = f.readlines()\n",
    "f.close()"
   ]
  },
  {
   "cell_type": "code",
   "execution_count": 116,
   "metadata": {},
   "outputs": [
    {
     "name": "stdout",
     "output_type": "stream",
     "text": [
      "saving to: ./test_data/ub_shifts.txt with scale 1.5\n"
     ]
    }
   ],
   "source": [
    "save_name = re.sub(r'_raw','',input_file)\n",
    "print(\"saving to: {} with scale {}\".format(save_name, scale))"
   ]
  },
  {
   "cell_type": "code",
   "execution_count": 114,
   "metadata": {},
   "outputs": [],
   "source": [
    "sf = open(save_name,\"w+\")\n",
    "count = 1\n",
    "for line in fl:\n",
    "#     print(line)\n",
    "    if count > 18:\n",
    "        _, val_str = line.split(\"=\") \n",
    "#         print(val_str)\n",
    "        dx, dy = val_str.split(\",\")\n",
    "        sf.write(\"{} {} {} {} {} {}\\n\".format(1, 0, 0, 1, float(dx.strip())/scale, float(dy.strip())/scale))\n",
    "#         print(1, 0, 0, 1, dx.strip(), dy.strip())\n",
    "    count+=1\n",
    "sf.close()"
   ]
  }
 ],
 "metadata": {
  "kernelspec": {
   "display_name": "Python 3",
   "language": "python",
   "name": "python3"
  },
  "language_info": {
   "codemirror_mode": {
    "name": "ipython",
    "version": 3
   },
   "file_extension": ".py",
   "mimetype": "text/x-python",
   "name": "python",
   "nbconvert_exporter": "python",
   "pygments_lexer": "ipython3",
   "version": "3.7.4"
  }
 },
 "nbformat": 4,
 "nbformat_minor": 2
}
