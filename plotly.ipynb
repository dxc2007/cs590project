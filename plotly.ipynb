{
 "cells": [
  {
   "cell_type": "code",
   "execution_count": 78,
   "metadata": {},
   "outputs": [],
   "source": [
    "import plotly.graph_objects as go\n",
    "import pandas as pd\n",
    "import numpy as np\n",
    "from tqdm import tqdm_notebook as tqdm"
   ]
  },
  {
   "cell_type": "code",
   "execution_count": 32,
   "metadata": {},
   "outputs": [],
   "source": [
    "sample = pd.read_csv('new_sample.csv')"
   ]
  },
  {
   "cell_type": "code",
   "execution_count": 33,
   "metadata": {},
   "outputs": [
    {
     "data": {
      "text/html": [
       "<div>\n",
       "<style scoped>\n",
       "    .dataframe tbody tr th:only-of-type {\n",
       "        vertical-align: middle;\n",
       "    }\n",
       "\n",
       "    .dataframe tbody tr th {\n",
       "        vertical-align: top;\n",
       "    }\n",
       "\n",
       "    .dataframe thead th {\n",
       "        text-align: right;\n",
       "    }\n",
       "</style>\n",
       "<table border=\"1\" class=\"dataframe\">\n",
       "  <thead>\n",
       "    <tr style=\"text-align: right;\">\n",
       "      <th></th>\n",
       "      <th>Unnamed: 0</th>\n",
       "      <th>employer_name</th>\n",
       "      <th>employer_city</th>\n",
       "      <th>employer_state</th>\n",
       "      <th>job_title</th>\n",
       "      <th>prevailing_wage</th>\n",
       "      <th>employer_postal_code</th>\n",
       "    </tr>\n",
       "  </thead>\n",
       "  <tbody>\n",
       "    <tr>\n",
       "      <th>0</th>\n",
       "      <td>1</td>\n",
       "      <td>metasense inc.</td>\n",
       "      <td>west berlin</td>\n",
       "      <td>NJ</td>\n",
       "      <td>business analyst</td>\n",
       "      <td>69410.0</td>\n",
       "      <td>08091</td>\n",
       "    </tr>\n",
       "    <tr>\n",
       "      <th>1</th>\n",
       "      <td>33</td>\n",
       "      <td>summitworks technologies, inc.</td>\n",
       "      <td>south plainfield</td>\n",
       "      <td>NJ</td>\n",
       "      <td>software engineer</td>\n",
       "      <td>75504.0</td>\n",
       "      <td>07080</td>\n",
       "    </tr>\n",
       "    <tr>\n",
       "      <th>2</th>\n",
       "      <td>38</td>\n",
       "      <td>m.b. kahn construction co, inc.</td>\n",
       "      <td>columbia</td>\n",
       "      <td>SC</td>\n",
       "      <td>project manager</td>\n",
       "      <td>80683.0</td>\n",
       "      <td>29223</td>\n",
       "    </tr>\n",
       "    <tr>\n",
       "      <th>3</th>\n",
       "      <td>43</td>\n",
       "      <td>innova solutions, inc.</td>\n",
       "      <td>santa clara</td>\n",
       "      <td>CA</td>\n",
       "      <td>software engineer</td>\n",
       "      <td>133016.0</td>\n",
       "      <td>95054</td>\n",
       "    </tr>\n",
       "    <tr>\n",
       "      <th>4</th>\n",
       "      <td>52</td>\n",
       "      <td>caliber business systems inc.</td>\n",
       "      <td>south plainfield</td>\n",
       "      <td>NJ</td>\n",
       "      <td>business analyst</td>\n",
       "      <td>84926.0</td>\n",
       "      <td>07080</td>\n",
       "    </tr>\n",
       "  </tbody>\n",
       "</table>\n",
       "</div>"
      ],
      "text/plain": [
       "   Unnamed: 0                    employer_name     employer_city  \\\n",
       "0           1                   metasense inc.       west berlin   \n",
       "1          33   summitworks technologies, inc.  south plainfield   \n",
       "2          38  m.b. kahn construction co, inc.          columbia   \n",
       "3          43           innova solutions, inc.       santa clara   \n",
       "4          52    caliber business systems inc.  south plainfield   \n",
       "\n",
       "  employer_state          job_title  prevailing_wage employer_postal_code  \n",
       "0             NJ   business analyst          69410.0                08091  \n",
       "1             NJ  software engineer          75504.0                07080  \n",
       "2             SC    project manager          80683.0                29223  \n",
       "3             CA  software engineer         133016.0                95054  \n",
       "4             NJ   business analyst          84926.0                07080  "
      ]
     },
     "execution_count": 33,
     "metadata": {},
     "output_type": "execute_result"
    }
   ],
   "source": [
    "sample.head()"
   ]
  },
  {
   "cell_type": "code",
   "execution_count": 34,
   "metadata": {},
   "outputs": [
    {
     "data": {
      "application/vnd.plotly.v1+json": {
       "config": {
        "plotlyServerURL": "https://plot.ly"
       },
       "data": [
        {
         "orientation": "h",
         "type": "bar",
         "x": [
          164674,
          165589.2,
          168210,
          168210,
          168210,
          169749,
          174117,
          174117,
          179421,
          223496
         ],
         "y": [
          "alkira, inc.",
          "simple rules company",
          "peritus.ai, inc.",
          "bluefox inc.",
          "baby penguin llc",
          "essential products, inc.",
          "caffeine, inc.",
          "abnormal security corporation",
          "aurotech, inc",
          "nextdecade lng, llc"
         ]
        }
       ],
       "layout": {
        "template": {
         "data": {
          "bar": [
           {
            "error_x": {
             "color": "#2a3f5f"
            },
            "error_y": {
             "color": "#2a3f5f"
            },
            "marker": {
             "line": {
              "color": "#E5ECF6",
              "width": 0.5
             }
            },
            "type": "bar"
           }
          ],
          "barpolar": [
           {
            "marker": {
             "line": {
              "color": "#E5ECF6",
              "width": 0.5
             }
            },
            "type": "barpolar"
           }
          ],
          "carpet": [
           {
            "aaxis": {
             "endlinecolor": "#2a3f5f",
             "gridcolor": "white",
             "linecolor": "white",
             "minorgridcolor": "white",
             "startlinecolor": "#2a3f5f"
            },
            "baxis": {
             "endlinecolor": "#2a3f5f",
             "gridcolor": "white",
             "linecolor": "white",
             "minorgridcolor": "white",
             "startlinecolor": "#2a3f5f"
            },
            "type": "carpet"
           }
          ],
          "choropleth": [
           {
            "colorbar": {
             "outlinewidth": 0,
             "ticks": ""
            },
            "type": "choropleth"
           }
          ],
          "contour": [
           {
            "colorbar": {
             "outlinewidth": 0,
             "ticks": ""
            },
            "colorscale": [
             [
              0,
              "#0d0887"
             ],
             [
              0.1111111111111111,
              "#46039f"
             ],
             [
              0.2222222222222222,
              "#7201a8"
             ],
             [
              0.3333333333333333,
              "#9c179e"
             ],
             [
              0.4444444444444444,
              "#bd3786"
             ],
             [
              0.5555555555555556,
              "#d8576b"
             ],
             [
              0.6666666666666666,
              "#ed7953"
             ],
             [
              0.7777777777777778,
              "#fb9f3a"
             ],
             [
              0.8888888888888888,
              "#fdca26"
             ],
             [
              1,
              "#f0f921"
             ]
            ],
            "type": "contour"
           }
          ],
          "contourcarpet": [
           {
            "colorbar": {
             "outlinewidth": 0,
             "ticks": ""
            },
            "type": "contourcarpet"
           }
          ],
          "heatmap": [
           {
            "colorbar": {
             "outlinewidth": 0,
             "ticks": ""
            },
            "colorscale": [
             [
              0,
              "#0d0887"
             ],
             [
              0.1111111111111111,
              "#46039f"
             ],
             [
              0.2222222222222222,
              "#7201a8"
             ],
             [
              0.3333333333333333,
              "#9c179e"
             ],
             [
              0.4444444444444444,
              "#bd3786"
             ],
             [
              0.5555555555555556,
              "#d8576b"
             ],
             [
              0.6666666666666666,
              "#ed7953"
             ],
             [
              0.7777777777777778,
              "#fb9f3a"
             ],
             [
              0.8888888888888888,
              "#fdca26"
             ],
             [
              1,
              "#f0f921"
             ]
            ],
            "type": "heatmap"
           }
          ],
          "heatmapgl": [
           {
            "colorbar": {
             "outlinewidth": 0,
             "ticks": ""
            },
            "colorscale": [
             [
              0,
              "#0d0887"
             ],
             [
              0.1111111111111111,
              "#46039f"
             ],
             [
              0.2222222222222222,
              "#7201a8"
             ],
             [
              0.3333333333333333,
              "#9c179e"
             ],
             [
              0.4444444444444444,
              "#bd3786"
             ],
             [
              0.5555555555555556,
              "#d8576b"
             ],
             [
              0.6666666666666666,
              "#ed7953"
             ],
             [
              0.7777777777777778,
              "#fb9f3a"
             ],
             [
              0.8888888888888888,
              "#fdca26"
             ],
             [
              1,
              "#f0f921"
             ]
            ],
            "type": "heatmapgl"
           }
          ],
          "histogram": [
           {
            "marker": {
             "colorbar": {
              "outlinewidth": 0,
              "ticks": ""
             }
            },
            "type": "histogram"
           }
          ],
          "histogram2d": [
           {
            "colorbar": {
             "outlinewidth": 0,
             "ticks": ""
            },
            "colorscale": [
             [
              0,
              "#0d0887"
             ],
             [
              0.1111111111111111,
              "#46039f"
             ],
             [
              0.2222222222222222,
              "#7201a8"
             ],
             [
              0.3333333333333333,
              "#9c179e"
             ],
             [
              0.4444444444444444,
              "#bd3786"
             ],
             [
              0.5555555555555556,
              "#d8576b"
             ],
             [
              0.6666666666666666,
              "#ed7953"
             ],
             [
              0.7777777777777778,
              "#fb9f3a"
             ],
             [
              0.8888888888888888,
              "#fdca26"
             ],
             [
              1,
              "#f0f921"
             ]
            ],
            "type": "histogram2d"
           }
          ],
          "histogram2dcontour": [
           {
            "colorbar": {
             "outlinewidth": 0,
             "ticks": ""
            },
            "colorscale": [
             [
              0,
              "#0d0887"
             ],
             [
              0.1111111111111111,
              "#46039f"
             ],
             [
              0.2222222222222222,
              "#7201a8"
             ],
             [
              0.3333333333333333,
              "#9c179e"
             ],
             [
              0.4444444444444444,
              "#bd3786"
             ],
             [
              0.5555555555555556,
              "#d8576b"
             ],
             [
              0.6666666666666666,
              "#ed7953"
             ],
             [
              0.7777777777777778,
              "#fb9f3a"
             ],
             [
              0.8888888888888888,
              "#fdca26"
             ],
             [
              1,
              "#f0f921"
             ]
            ],
            "type": "histogram2dcontour"
           }
          ],
          "mesh3d": [
           {
            "colorbar": {
             "outlinewidth": 0,
             "ticks": ""
            },
            "type": "mesh3d"
           }
          ],
          "parcoords": [
           {
            "line": {
             "colorbar": {
              "outlinewidth": 0,
              "ticks": ""
             }
            },
            "type": "parcoords"
           }
          ],
          "scatter": [
           {
            "marker": {
             "colorbar": {
              "outlinewidth": 0,
              "ticks": ""
             }
            },
            "type": "scatter"
           }
          ],
          "scatter3d": [
           {
            "line": {
             "colorbar": {
              "outlinewidth": 0,
              "ticks": ""
             }
            },
            "marker": {
             "colorbar": {
              "outlinewidth": 0,
              "ticks": ""
             }
            },
            "type": "scatter3d"
           }
          ],
          "scattercarpet": [
           {
            "marker": {
             "colorbar": {
              "outlinewidth": 0,
              "ticks": ""
             }
            },
            "type": "scattercarpet"
           }
          ],
          "scattergeo": [
           {
            "marker": {
             "colorbar": {
              "outlinewidth": 0,
              "ticks": ""
             }
            },
            "type": "scattergeo"
           }
          ],
          "scattergl": [
           {
            "marker": {
             "colorbar": {
              "outlinewidth": 0,
              "ticks": ""
             }
            },
            "type": "scattergl"
           }
          ],
          "scattermapbox": [
           {
            "marker": {
             "colorbar": {
              "outlinewidth": 0,
              "ticks": ""
             }
            },
            "type": "scattermapbox"
           }
          ],
          "scatterpolar": [
           {
            "marker": {
             "colorbar": {
              "outlinewidth": 0,
              "ticks": ""
             }
            },
            "type": "scatterpolar"
           }
          ],
          "scatterpolargl": [
           {
            "marker": {
             "colorbar": {
              "outlinewidth": 0,
              "ticks": ""
             }
            },
            "type": "scatterpolargl"
           }
          ],
          "scatterternary": [
           {
            "marker": {
             "colorbar": {
              "outlinewidth": 0,
              "ticks": ""
             }
            },
            "type": "scatterternary"
           }
          ],
          "surface": [
           {
            "colorbar": {
             "outlinewidth": 0,
             "ticks": ""
            },
            "colorscale": [
             [
              0,
              "#0d0887"
             ],
             [
              0.1111111111111111,
              "#46039f"
             ],
             [
              0.2222222222222222,
              "#7201a8"
             ],
             [
              0.3333333333333333,
              "#9c179e"
             ],
             [
              0.4444444444444444,
              "#bd3786"
             ],
             [
              0.5555555555555556,
              "#d8576b"
             ],
             [
              0.6666666666666666,
              "#ed7953"
             ],
             [
              0.7777777777777778,
              "#fb9f3a"
             ],
             [
              0.8888888888888888,
              "#fdca26"
             ],
             [
              1,
              "#f0f921"
             ]
            ],
            "type": "surface"
           }
          ],
          "table": [
           {
            "cells": {
             "fill": {
              "color": "#EBF0F8"
             },
             "line": {
              "color": "white"
             }
            },
            "header": {
             "fill": {
              "color": "#C8D4E3"
             },
             "line": {
              "color": "white"
             }
            },
            "type": "table"
           }
          ]
         },
         "layout": {
          "annotationdefaults": {
           "arrowcolor": "#2a3f5f",
           "arrowhead": 0,
           "arrowwidth": 1
          },
          "colorscale": {
           "diverging": [
            [
             0,
             "#8e0152"
            ],
            [
             0.1,
             "#c51b7d"
            ],
            [
             0.2,
             "#de77ae"
            ],
            [
             0.3,
             "#f1b6da"
            ],
            [
             0.4,
             "#fde0ef"
            ],
            [
             0.5,
             "#f7f7f7"
            ],
            [
             0.6,
             "#e6f5d0"
            ],
            [
             0.7,
             "#b8e186"
            ],
            [
             0.8,
             "#7fbc41"
            ],
            [
             0.9,
             "#4d9221"
            ],
            [
             1,
             "#276419"
            ]
           ],
           "sequential": [
            [
             0,
             "#0d0887"
            ],
            [
             0.1111111111111111,
             "#46039f"
            ],
            [
             0.2222222222222222,
             "#7201a8"
            ],
            [
             0.3333333333333333,
             "#9c179e"
            ],
            [
             0.4444444444444444,
             "#bd3786"
            ],
            [
             0.5555555555555556,
             "#d8576b"
            ],
            [
             0.6666666666666666,
             "#ed7953"
            ],
            [
             0.7777777777777778,
             "#fb9f3a"
            ],
            [
             0.8888888888888888,
             "#fdca26"
            ],
            [
             1,
             "#f0f921"
            ]
           ],
           "sequentialminus": [
            [
             0,
             "#0d0887"
            ],
            [
             0.1111111111111111,
             "#46039f"
            ],
            [
             0.2222222222222222,
             "#7201a8"
            ],
            [
             0.3333333333333333,
             "#9c179e"
            ],
            [
             0.4444444444444444,
             "#bd3786"
            ],
            [
             0.5555555555555556,
             "#d8576b"
            ],
            [
             0.6666666666666666,
             "#ed7953"
            ],
            [
             0.7777777777777778,
             "#fb9f3a"
            ],
            [
             0.8888888888888888,
             "#fdca26"
            ],
            [
             1,
             "#f0f921"
            ]
           ]
          },
          "colorway": [
           "#636efa",
           "#EF553B",
           "#00cc96",
           "#ab63fa",
           "#FFA15A",
           "#19d3f3",
           "#FF6692",
           "#B6E880",
           "#FF97FF",
           "#FECB52"
          ],
          "font": {
           "color": "#2a3f5f"
          },
          "geo": {
           "bgcolor": "white",
           "lakecolor": "white",
           "landcolor": "#E5ECF6",
           "showlakes": true,
           "showland": true,
           "subunitcolor": "white"
          },
          "hoverlabel": {
           "align": "left"
          },
          "hovermode": "closest",
          "mapbox": {
           "style": "light"
          },
          "paper_bgcolor": "white",
          "plot_bgcolor": "#E5ECF6",
          "polar": {
           "angularaxis": {
            "gridcolor": "white",
            "linecolor": "white",
            "ticks": ""
           },
           "bgcolor": "#E5ECF6",
           "radialaxis": {
            "gridcolor": "white",
            "linecolor": "white",
            "ticks": ""
           }
          },
          "scene": {
           "xaxis": {
            "backgroundcolor": "#E5ECF6",
            "gridcolor": "white",
            "gridwidth": 2,
            "linecolor": "white",
            "showbackground": true,
            "ticks": "",
            "zerolinecolor": "white"
           },
           "yaxis": {
            "backgroundcolor": "#E5ECF6",
            "gridcolor": "white",
            "gridwidth": 2,
            "linecolor": "white",
            "showbackground": true,
            "ticks": "",
            "zerolinecolor": "white"
           },
           "zaxis": {
            "backgroundcolor": "#E5ECF6",
            "gridcolor": "white",
            "gridwidth": 2,
            "linecolor": "white",
            "showbackground": true,
            "ticks": "",
            "zerolinecolor": "white"
           }
          },
          "shapedefaults": {
           "line": {
            "color": "#2a3f5f"
           }
          },
          "ternary": {
           "aaxis": {
            "gridcolor": "white",
            "linecolor": "white",
            "ticks": ""
           },
           "baxis": {
            "gridcolor": "white",
            "linecolor": "white",
            "ticks": ""
           },
           "bgcolor": "#E5ECF6",
           "caxis": {
            "gridcolor": "white",
            "linecolor": "white",
            "ticks": ""
           }
          },
          "title": {
           "x": 0.05
          },
          "xaxis": {
           "automargin": true,
           "gridcolor": "white",
           "linecolor": "white",
           "ticks": "",
           "zerolinecolor": "white",
           "zerolinewidth": 2
          },
          "yaxis": {
           "automargin": true,
           "gridcolor": "white",
           "linecolor": "white",
           "ticks": "",
           "zerolinecolor": "white",
           "zerolinewidth": 2
          }
         }
        }
       }
      },
      "text/html": [
       "<div>\n",
       "        \n",
       "        \n",
       "            <div id=\"3b8dbce1-3b9e-442f-9065-40852345f769\" class=\"plotly-graph-div\" style=\"height:525px; width:100%;\"></div>\n",
       "            <script type=\"text/javascript\">\n",
       "                require([\"plotly\"], function(Plotly) {\n",
       "                    window.PLOTLYENV=window.PLOTLYENV || {};\n",
       "                    \n",
       "                if (document.getElementById(\"3b8dbce1-3b9e-442f-9065-40852345f769\")) {\n",
       "                    Plotly.newPlot(\n",
       "                        '3b8dbce1-3b9e-442f-9065-40852345f769',\n",
       "                        [{\"orientation\": \"h\", \"type\": \"bar\", \"x\": [164674.0, 165589.2, 168210.0, 168210.0, 168210.0, 169749.0, 174117.0, 174117.0, 179421.0, 223496.0], \"y\": [\"alkira, inc.\", \"simple rules company\", \"peritus.ai, inc.\", \"bluefox inc.\", \"baby penguin llc\", \"essential products, inc.\", \"caffeine, inc.\", \"abnormal security corporation\", \"aurotech, inc\", \"nextdecade lng, llc\"]}],\n",
       "                        {\"template\": {\"data\": {\"bar\": [{\"error_x\": {\"color\": \"#2a3f5f\"}, \"error_y\": {\"color\": \"#2a3f5f\"}, \"marker\": {\"line\": {\"color\": \"#E5ECF6\", \"width\": 0.5}}, \"type\": \"bar\"}], \"barpolar\": [{\"marker\": {\"line\": {\"color\": \"#E5ECF6\", \"width\": 0.5}}, \"type\": \"barpolar\"}], \"carpet\": [{\"aaxis\": {\"endlinecolor\": \"#2a3f5f\", \"gridcolor\": \"white\", \"linecolor\": \"white\", \"minorgridcolor\": \"white\", \"startlinecolor\": \"#2a3f5f\"}, \"baxis\": {\"endlinecolor\": \"#2a3f5f\", \"gridcolor\": \"white\", \"linecolor\": \"white\", \"minorgridcolor\": \"white\", \"startlinecolor\": \"#2a3f5f\"}, \"type\": \"carpet\"}], \"choropleth\": [{\"colorbar\": {\"outlinewidth\": 0, \"ticks\": \"\"}, \"type\": \"choropleth\"}], \"contour\": [{\"colorbar\": {\"outlinewidth\": 0, \"ticks\": \"\"}, \"colorscale\": [[0.0, \"#0d0887\"], [0.1111111111111111, \"#46039f\"], [0.2222222222222222, \"#7201a8\"], [0.3333333333333333, \"#9c179e\"], [0.4444444444444444, \"#bd3786\"], [0.5555555555555556, \"#d8576b\"], [0.6666666666666666, \"#ed7953\"], [0.7777777777777778, \"#fb9f3a\"], [0.8888888888888888, \"#fdca26\"], [1.0, \"#f0f921\"]], \"type\": \"contour\"}], \"contourcarpet\": [{\"colorbar\": {\"outlinewidth\": 0, \"ticks\": \"\"}, \"type\": \"contourcarpet\"}], \"heatmap\": [{\"colorbar\": {\"outlinewidth\": 0, \"ticks\": \"\"}, \"colorscale\": [[0.0, \"#0d0887\"], [0.1111111111111111, \"#46039f\"], [0.2222222222222222, \"#7201a8\"], [0.3333333333333333, \"#9c179e\"], [0.4444444444444444, \"#bd3786\"], [0.5555555555555556, \"#d8576b\"], [0.6666666666666666, \"#ed7953\"], [0.7777777777777778, \"#fb9f3a\"], [0.8888888888888888, \"#fdca26\"], [1.0, \"#f0f921\"]], \"type\": \"heatmap\"}], \"heatmapgl\": [{\"colorbar\": {\"outlinewidth\": 0, \"ticks\": \"\"}, \"colorscale\": [[0.0, \"#0d0887\"], [0.1111111111111111, \"#46039f\"], [0.2222222222222222, \"#7201a8\"], [0.3333333333333333, \"#9c179e\"], [0.4444444444444444, \"#bd3786\"], [0.5555555555555556, \"#d8576b\"], [0.6666666666666666, \"#ed7953\"], [0.7777777777777778, \"#fb9f3a\"], [0.8888888888888888, \"#fdca26\"], [1.0, \"#f0f921\"]], \"type\": \"heatmapgl\"}], \"histogram\": [{\"marker\": {\"colorbar\": {\"outlinewidth\": 0, \"ticks\": \"\"}}, \"type\": \"histogram\"}], \"histogram2d\": [{\"colorbar\": {\"outlinewidth\": 0, \"ticks\": \"\"}, \"colorscale\": [[0.0, \"#0d0887\"], [0.1111111111111111, \"#46039f\"], [0.2222222222222222, \"#7201a8\"], [0.3333333333333333, \"#9c179e\"], [0.4444444444444444, \"#bd3786\"], [0.5555555555555556, \"#d8576b\"], [0.6666666666666666, \"#ed7953\"], [0.7777777777777778, \"#fb9f3a\"], [0.8888888888888888, \"#fdca26\"], [1.0, \"#f0f921\"]], \"type\": \"histogram2d\"}], \"histogram2dcontour\": [{\"colorbar\": {\"outlinewidth\": 0, \"ticks\": \"\"}, \"colorscale\": [[0.0, \"#0d0887\"], [0.1111111111111111, \"#46039f\"], [0.2222222222222222, \"#7201a8\"], [0.3333333333333333, \"#9c179e\"], [0.4444444444444444, \"#bd3786\"], [0.5555555555555556, \"#d8576b\"], [0.6666666666666666, \"#ed7953\"], [0.7777777777777778, \"#fb9f3a\"], [0.8888888888888888, \"#fdca26\"], [1.0, \"#f0f921\"]], \"type\": \"histogram2dcontour\"}], \"mesh3d\": [{\"colorbar\": {\"outlinewidth\": 0, \"ticks\": \"\"}, \"type\": \"mesh3d\"}], \"parcoords\": [{\"line\": {\"colorbar\": {\"outlinewidth\": 0, \"ticks\": \"\"}}, \"type\": \"parcoords\"}], \"scatter\": [{\"marker\": {\"colorbar\": {\"outlinewidth\": 0, \"ticks\": \"\"}}, \"type\": \"scatter\"}], \"scatter3d\": [{\"line\": {\"colorbar\": {\"outlinewidth\": 0, \"ticks\": \"\"}}, \"marker\": {\"colorbar\": {\"outlinewidth\": 0, \"ticks\": \"\"}}, \"type\": \"scatter3d\"}], \"scattercarpet\": [{\"marker\": {\"colorbar\": {\"outlinewidth\": 0, \"ticks\": \"\"}}, \"type\": \"scattercarpet\"}], \"scattergeo\": [{\"marker\": {\"colorbar\": {\"outlinewidth\": 0, \"ticks\": \"\"}}, \"type\": \"scattergeo\"}], \"scattergl\": [{\"marker\": {\"colorbar\": {\"outlinewidth\": 0, \"ticks\": \"\"}}, \"type\": \"scattergl\"}], \"scattermapbox\": [{\"marker\": {\"colorbar\": {\"outlinewidth\": 0, \"ticks\": \"\"}}, \"type\": \"scattermapbox\"}], \"scatterpolar\": [{\"marker\": {\"colorbar\": {\"outlinewidth\": 0, \"ticks\": \"\"}}, \"type\": \"scatterpolar\"}], \"scatterpolargl\": [{\"marker\": {\"colorbar\": {\"outlinewidth\": 0, \"ticks\": \"\"}}, \"type\": \"scatterpolargl\"}], \"scatterternary\": [{\"marker\": {\"colorbar\": {\"outlinewidth\": 0, \"ticks\": \"\"}}, \"type\": \"scatterternary\"}], \"surface\": [{\"colorbar\": {\"outlinewidth\": 0, \"ticks\": \"\"}, \"colorscale\": [[0.0, \"#0d0887\"], [0.1111111111111111, \"#46039f\"], [0.2222222222222222, \"#7201a8\"], [0.3333333333333333, \"#9c179e\"], [0.4444444444444444, \"#bd3786\"], [0.5555555555555556, \"#d8576b\"], [0.6666666666666666, \"#ed7953\"], [0.7777777777777778, \"#fb9f3a\"], [0.8888888888888888, \"#fdca26\"], [1.0, \"#f0f921\"]], \"type\": \"surface\"}], \"table\": [{\"cells\": {\"fill\": {\"color\": \"#EBF0F8\"}, \"line\": {\"color\": \"white\"}}, \"header\": {\"fill\": {\"color\": \"#C8D4E3\"}, \"line\": {\"color\": \"white\"}}, \"type\": \"table\"}]}, \"layout\": {\"annotationdefaults\": {\"arrowcolor\": \"#2a3f5f\", \"arrowhead\": 0, \"arrowwidth\": 1}, \"colorscale\": {\"diverging\": [[0, \"#8e0152\"], [0.1, \"#c51b7d\"], [0.2, \"#de77ae\"], [0.3, \"#f1b6da\"], [0.4, \"#fde0ef\"], [0.5, \"#f7f7f7\"], [0.6, \"#e6f5d0\"], [0.7, \"#b8e186\"], [0.8, \"#7fbc41\"], [0.9, \"#4d9221\"], [1, \"#276419\"]], \"sequential\": [[0.0, \"#0d0887\"], [0.1111111111111111, \"#46039f\"], [0.2222222222222222, \"#7201a8\"], [0.3333333333333333, \"#9c179e\"], [0.4444444444444444, \"#bd3786\"], [0.5555555555555556, \"#d8576b\"], [0.6666666666666666, \"#ed7953\"], [0.7777777777777778, \"#fb9f3a\"], [0.8888888888888888, \"#fdca26\"], [1.0, \"#f0f921\"]], \"sequentialminus\": [[0.0, \"#0d0887\"], [0.1111111111111111, \"#46039f\"], [0.2222222222222222, \"#7201a8\"], [0.3333333333333333, \"#9c179e\"], [0.4444444444444444, \"#bd3786\"], [0.5555555555555556, \"#d8576b\"], [0.6666666666666666, \"#ed7953\"], [0.7777777777777778, \"#fb9f3a\"], [0.8888888888888888, \"#fdca26\"], [1.0, \"#f0f921\"]]}, \"colorway\": [\"#636efa\", \"#EF553B\", \"#00cc96\", \"#ab63fa\", \"#FFA15A\", \"#19d3f3\", \"#FF6692\", \"#B6E880\", \"#FF97FF\", \"#FECB52\"], \"font\": {\"color\": \"#2a3f5f\"}, \"geo\": {\"bgcolor\": \"white\", \"lakecolor\": \"white\", \"landcolor\": \"#E5ECF6\", \"showlakes\": true, \"showland\": true, \"subunitcolor\": \"white\"}, \"hoverlabel\": {\"align\": \"left\"}, \"hovermode\": \"closest\", \"mapbox\": {\"style\": \"light\"}, \"paper_bgcolor\": \"white\", \"plot_bgcolor\": \"#E5ECF6\", \"polar\": {\"angularaxis\": {\"gridcolor\": \"white\", \"linecolor\": \"white\", \"ticks\": \"\"}, \"bgcolor\": \"#E5ECF6\", \"radialaxis\": {\"gridcolor\": \"white\", \"linecolor\": \"white\", \"ticks\": \"\"}}, \"scene\": {\"xaxis\": {\"backgroundcolor\": \"#E5ECF6\", \"gridcolor\": \"white\", \"gridwidth\": 2, \"linecolor\": \"white\", \"showbackground\": true, \"ticks\": \"\", \"zerolinecolor\": \"white\"}, \"yaxis\": {\"backgroundcolor\": \"#E5ECF6\", \"gridcolor\": \"white\", \"gridwidth\": 2, \"linecolor\": \"white\", \"showbackground\": true, \"ticks\": \"\", \"zerolinecolor\": \"white\"}, \"zaxis\": {\"backgroundcolor\": \"#E5ECF6\", \"gridcolor\": \"white\", \"gridwidth\": 2, \"linecolor\": \"white\", \"showbackground\": true, \"ticks\": \"\", \"zerolinecolor\": \"white\"}}, \"shapedefaults\": {\"line\": {\"color\": \"#2a3f5f\"}}, \"ternary\": {\"aaxis\": {\"gridcolor\": \"white\", \"linecolor\": \"white\", \"ticks\": \"\"}, \"baxis\": {\"gridcolor\": \"white\", \"linecolor\": \"white\", \"ticks\": \"\"}, \"bgcolor\": \"#E5ECF6\", \"caxis\": {\"gridcolor\": \"white\", \"linecolor\": \"white\", \"ticks\": \"\"}}, \"title\": {\"x\": 0.05}, \"xaxis\": {\"automargin\": true, \"gridcolor\": \"white\", \"linecolor\": \"white\", \"ticks\": \"\", \"zerolinecolor\": \"white\", \"zerolinewidth\": 2}, \"yaxis\": {\"automargin\": true, \"gridcolor\": \"white\", \"linecolor\": \"white\", \"ticks\": \"\", \"zerolinecolor\": \"white\", \"zerolinewidth\": 2}}}},\n",
       "                        {\"responsive\": true}\n",
       "                    ).then(function(){\n",
       "                            \n",
       "var gd = document.getElementById('3b8dbce1-3b9e-442f-9065-40852345f769');\n",
       "var x = new MutationObserver(function (mutations, observer) {{\n",
       "        var display = window.getComputedStyle(gd).display;\n",
       "        if (!display || display === 'none') {{\n",
       "            console.log([gd, 'removed!']);\n",
       "            Plotly.purge(gd);\n",
       "            observer.disconnect();\n",
       "        }}\n",
       "}});\n",
       "\n",
       "// Listen for the removal of the full notebook cells\n",
       "var notebookContainer = gd.closest('#notebook-container');\n",
       "if (notebookContainer) {{\n",
       "    x.observe(notebookContainer, {childList: true});\n",
       "}}\n",
       "\n",
       "// Listen for the clearing of the current output cell\n",
       "var outputEl = gd.closest('.output');\n",
       "if (outputEl) {{\n",
       "    x.observe(outputEl, {childList: true});\n",
       "}}\n",
       "\n",
       "                        })\n",
       "                };\n",
       "                });\n",
       "            </script>\n",
       "        </div>"
      ]
     },
     "metadata": {},
     "output_type": "display_data"
    }
   ],
   "source": [
    "fig = go.Figure(go.Bar(\n",
    "            x=sample.groupby('employer_name').mean()[['prevailing_wage']].sort_values('prevailing_wage',ascending=False)[:10]['prevailing_wage'][::-1],\n",
    "            y=sample.groupby('employer_name').mean()[['prevailing_wage']].sort_values('prevailing_wage',ascending=False)[:10].index[::-1],\n",
    "            orientation='h'))\n",
    "\n",
    "fig.show()"
   ]
  },
  {
   "cell_type": "code",
   "execution_count": 35,
   "metadata": {},
   "outputs": [
    {
     "data": {
      "application/vnd.plotly.v1+json": {
       "config": {
        "plotlyServerURL": "https://plot.ly"
       },
       "data": [
        {
         "orientation": "h",
         "type": "bar",
         "x": [
          35880,
          35651,
          35610,
          34986,
          34382,
          33342,
          33259,
          31830,
          29058,
          28226
         ],
         "y": [
          "central capital colateral",
          "board of regents of the university of nebraska",
          "c2 imaging llc",
          "massey services, inc.",
          "the fishin' company",
          "palm construction, inc.",
          "xj property management corp.",
          "sentury tire usa, inc.",
          "mantrust, llc.",
          "oac management, inc."
         ]
        }
       ],
       "layout": {
        "template": {
         "data": {
          "bar": [
           {
            "error_x": {
             "color": "#2a3f5f"
            },
            "error_y": {
             "color": "#2a3f5f"
            },
            "marker": {
             "line": {
              "color": "#E5ECF6",
              "width": 0.5
             }
            },
            "type": "bar"
           }
          ],
          "barpolar": [
           {
            "marker": {
             "line": {
              "color": "#E5ECF6",
              "width": 0.5
             }
            },
            "type": "barpolar"
           }
          ],
          "carpet": [
           {
            "aaxis": {
             "endlinecolor": "#2a3f5f",
             "gridcolor": "white",
             "linecolor": "white",
             "minorgridcolor": "white",
             "startlinecolor": "#2a3f5f"
            },
            "baxis": {
             "endlinecolor": "#2a3f5f",
             "gridcolor": "white",
             "linecolor": "white",
             "minorgridcolor": "white",
             "startlinecolor": "#2a3f5f"
            },
            "type": "carpet"
           }
          ],
          "choropleth": [
           {
            "colorbar": {
             "outlinewidth": 0,
             "ticks": ""
            },
            "type": "choropleth"
           }
          ],
          "contour": [
           {
            "colorbar": {
             "outlinewidth": 0,
             "ticks": ""
            },
            "colorscale": [
             [
              0,
              "#0d0887"
             ],
             [
              0.1111111111111111,
              "#46039f"
             ],
             [
              0.2222222222222222,
              "#7201a8"
             ],
             [
              0.3333333333333333,
              "#9c179e"
             ],
             [
              0.4444444444444444,
              "#bd3786"
             ],
             [
              0.5555555555555556,
              "#d8576b"
             ],
             [
              0.6666666666666666,
              "#ed7953"
             ],
             [
              0.7777777777777778,
              "#fb9f3a"
             ],
             [
              0.8888888888888888,
              "#fdca26"
             ],
             [
              1,
              "#f0f921"
             ]
            ],
            "type": "contour"
           }
          ],
          "contourcarpet": [
           {
            "colorbar": {
             "outlinewidth": 0,
             "ticks": ""
            },
            "type": "contourcarpet"
           }
          ],
          "heatmap": [
           {
            "colorbar": {
             "outlinewidth": 0,
             "ticks": ""
            },
            "colorscale": [
             [
              0,
              "#0d0887"
             ],
             [
              0.1111111111111111,
              "#46039f"
             ],
             [
              0.2222222222222222,
              "#7201a8"
             ],
             [
              0.3333333333333333,
              "#9c179e"
             ],
             [
              0.4444444444444444,
              "#bd3786"
             ],
             [
              0.5555555555555556,
              "#d8576b"
             ],
             [
              0.6666666666666666,
              "#ed7953"
             ],
             [
              0.7777777777777778,
              "#fb9f3a"
             ],
             [
              0.8888888888888888,
              "#fdca26"
             ],
             [
              1,
              "#f0f921"
             ]
            ],
            "type": "heatmap"
           }
          ],
          "heatmapgl": [
           {
            "colorbar": {
             "outlinewidth": 0,
             "ticks": ""
            },
            "colorscale": [
             [
              0,
              "#0d0887"
             ],
             [
              0.1111111111111111,
              "#46039f"
             ],
             [
              0.2222222222222222,
              "#7201a8"
             ],
             [
              0.3333333333333333,
              "#9c179e"
             ],
             [
              0.4444444444444444,
              "#bd3786"
             ],
             [
              0.5555555555555556,
              "#d8576b"
             ],
             [
              0.6666666666666666,
              "#ed7953"
             ],
             [
              0.7777777777777778,
              "#fb9f3a"
             ],
             [
              0.8888888888888888,
              "#fdca26"
             ],
             [
              1,
              "#f0f921"
             ]
            ],
            "type": "heatmapgl"
           }
          ],
          "histogram": [
           {
            "marker": {
             "colorbar": {
              "outlinewidth": 0,
              "ticks": ""
             }
            },
            "type": "histogram"
           }
          ],
          "histogram2d": [
           {
            "colorbar": {
             "outlinewidth": 0,
             "ticks": ""
            },
            "colorscale": [
             [
              0,
              "#0d0887"
             ],
             [
              0.1111111111111111,
              "#46039f"
             ],
             [
              0.2222222222222222,
              "#7201a8"
             ],
             [
              0.3333333333333333,
              "#9c179e"
             ],
             [
              0.4444444444444444,
              "#bd3786"
             ],
             [
              0.5555555555555556,
              "#d8576b"
             ],
             [
              0.6666666666666666,
              "#ed7953"
             ],
             [
              0.7777777777777778,
              "#fb9f3a"
             ],
             [
              0.8888888888888888,
              "#fdca26"
             ],
             [
              1,
              "#f0f921"
             ]
            ],
            "type": "histogram2d"
           }
          ],
          "histogram2dcontour": [
           {
            "colorbar": {
             "outlinewidth": 0,
             "ticks": ""
            },
            "colorscale": [
             [
              0,
              "#0d0887"
             ],
             [
              0.1111111111111111,
              "#46039f"
             ],
             [
              0.2222222222222222,
              "#7201a8"
             ],
             [
              0.3333333333333333,
              "#9c179e"
             ],
             [
              0.4444444444444444,
              "#bd3786"
             ],
             [
              0.5555555555555556,
              "#d8576b"
             ],
             [
              0.6666666666666666,
              "#ed7953"
             ],
             [
              0.7777777777777778,
              "#fb9f3a"
             ],
             [
              0.8888888888888888,
              "#fdca26"
             ],
             [
              1,
              "#f0f921"
             ]
            ],
            "type": "histogram2dcontour"
           }
          ],
          "mesh3d": [
           {
            "colorbar": {
             "outlinewidth": 0,
             "ticks": ""
            },
            "type": "mesh3d"
           }
          ],
          "parcoords": [
           {
            "line": {
             "colorbar": {
              "outlinewidth": 0,
              "ticks": ""
             }
            },
            "type": "parcoords"
           }
          ],
          "scatter": [
           {
            "marker": {
             "colorbar": {
              "outlinewidth": 0,
              "ticks": ""
             }
            },
            "type": "scatter"
           }
          ],
          "scatter3d": [
           {
            "line": {
             "colorbar": {
              "outlinewidth": 0,
              "ticks": ""
             }
            },
            "marker": {
             "colorbar": {
              "outlinewidth": 0,
              "ticks": ""
             }
            },
            "type": "scatter3d"
           }
          ],
          "scattercarpet": [
           {
            "marker": {
             "colorbar": {
              "outlinewidth": 0,
              "ticks": ""
             }
            },
            "type": "scattercarpet"
           }
          ],
          "scattergeo": [
           {
            "marker": {
             "colorbar": {
              "outlinewidth": 0,
              "ticks": ""
             }
            },
            "type": "scattergeo"
           }
          ],
          "scattergl": [
           {
            "marker": {
             "colorbar": {
              "outlinewidth": 0,
              "ticks": ""
             }
            },
            "type": "scattergl"
           }
          ],
          "scattermapbox": [
           {
            "marker": {
             "colorbar": {
              "outlinewidth": 0,
              "ticks": ""
             }
            },
            "type": "scattermapbox"
           }
          ],
          "scatterpolar": [
           {
            "marker": {
             "colorbar": {
              "outlinewidth": 0,
              "ticks": ""
             }
            },
            "type": "scatterpolar"
           }
          ],
          "scatterpolargl": [
           {
            "marker": {
             "colorbar": {
              "outlinewidth": 0,
              "ticks": ""
             }
            },
            "type": "scatterpolargl"
           }
          ],
          "scatterternary": [
           {
            "marker": {
             "colorbar": {
              "outlinewidth": 0,
              "ticks": ""
             }
            },
            "type": "scatterternary"
           }
          ],
          "surface": [
           {
            "colorbar": {
             "outlinewidth": 0,
             "ticks": ""
            },
            "colorscale": [
             [
              0,
              "#0d0887"
             ],
             [
              0.1111111111111111,
              "#46039f"
             ],
             [
              0.2222222222222222,
              "#7201a8"
             ],
             [
              0.3333333333333333,
              "#9c179e"
             ],
             [
              0.4444444444444444,
              "#bd3786"
             ],
             [
              0.5555555555555556,
              "#d8576b"
             ],
             [
              0.6666666666666666,
              "#ed7953"
             ],
             [
              0.7777777777777778,
              "#fb9f3a"
             ],
             [
              0.8888888888888888,
              "#fdca26"
             ],
             [
              1,
              "#f0f921"
             ]
            ],
            "type": "surface"
           }
          ],
          "table": [
           {
            "cells": {
             "fill": {
              "color": "#EBF0F8"
             },
             "line": {
              "color": "white"
             }
            },
            "header": {
             "fill": {
              "color": "#C8D4E3"
             },
             "line": {
              "color": "white"
             }
            },
            "type": "table"
           }
          ]
         },
         "layout": {
          "annotationdefaults": {
           "arrowcolor": "#2a3f5f",
           "arrowhead": 0,
           "arrowwidth": 1
          },
          "colorscale": {
           "diverging": [
            [
             0,
             "#8e0152"
            ],
            [
             0.1,
             "#c51b7d"
            ],
            [
             0.2,
             "#de77ae"
            ],
            [
             0.3,
             "#f1b6da"
            ],
            [
             0.4,
             "#fde0ef"
            ],
            [
             0.5,
             "#f7f7f7"
            ],
            [
             0.6,
             "#e6f5d0"
            ],
            [
             0.7,
             "#b8e186"
            ],
            [
             0.8,
             "#7fbc41"
            ],
            [
             0.9,
             "#4d9221"
            ],
            [
             1,
             "#276419"
            ]
           ],
           "sequential": [
            [
             0,
             "#0d0887"
            ],
            [
             0.1111111111111111,
             "#46039f"
            ],
            [
             0.2222222222222222,
             "#7201a8"
            ],
            [
             0.3333333333333333,
             "#9c179e"
            ],
            [
             0.4444444444444444,
             "#bd3786"
            ],
            [
             0.5555555555555556,
             "#d8576b"
            ],
            [
             0.6666666666666666,
             "#ed7953"
            ],
            [
             0.7777777777777778,
             "#fb9f3a"
            ],
            [
             0.8888888888888888,
             "#fdca26"
            ],
            [
             1,
             "#f0f921"
            ]
           ],
           "sequentialminus": [
            [
             0,
             "#0d0887"
            ],
            [
             0.1111111111111111,
             "#46039f"
            ],
            [
             0.2222222222222222,
             "#7201a8"
            ],
            [
             0.3333333333333333,
             "#9c179e"
            ],
            [
             0.4444444444444444,
             "#bd3786"
            ],
            [
             0.5555555555555556,
             "#d8576b"
            ],
            [
             0.6666666666666666,
             "#ed7953"
            ],
            [
             0.7777777777777778,
             "#fb9f3a"
            ],
            [
             0.8888888888888888,
             "#fdca26"
            ],
            [
             1,
             "#f0f921"
            ]
           ]
          },
          "colorway": [
           "#636efa",
           "#EF553B",
           "#00cc96",
           "#ab63fa",
           "#FFA15A",
           "#19d3f3",
           "#FF6692",
           "#B6E880",
           "#FF97FF",
           "#FECB52"
          ],
          "font": {
           "color": "#2a3f5f"
          },
          "geo": {
           "bgcolor": "white",
           "lakecolor": "white",
           "landcolor": "#E5ECF6",
           "showlakes": true,
           "showland": true,
           "subunitcolor": "white"
          },
          "hoverlabel": {
           "align": "left"
          },
          "hovermode": "closest",
          "mapbox": {
           "style": "light"
          },
          "paper_bgcolor": "white",
          "plot_bgcolor": "#E5ECF6",
          "polar": {
           "angularaxis": {
            "gridcolor": "white",
            "linecolor": "white",
            "ticks": ""
           },
           "bgcolor": "#E5ECF6",
           "radialaxis": {
            "gridcolor": "white",
            "linecolor": "white",
            "ticks": ""
           }
          },
          "scene": {
           "xaxis": {
            "backgroundcolor": "#E5ECF6",
            "gridcolor": "white",
            "gridwidth": 2,
            "linecolor": "white",
            "showbackground": true,
            "ticks": "",
            "zerolinecolor": "white"
           },
           "yaxis": {
            "backgroundcolor": "#E5ECF6",
            "gridcolor": "white",
            "gridwidth": 2,
            "linecolor": "white",
            "showbackground": true,
            "ticks": "",
            "zerolinecolor": "white"
           },
           "zaxis": {
            "backgroundcolor": "#E5ECF6",
            "gridcolor": "white",
            "gridwidth": 2,
            "linecolor": "white",
            "showbackground": true,
            "ticks": "",
            "zerolinecolor": "white"
           }
          },
          "shapedefaults": {
           "line": {
            "color": "#2a3f5f"
           }
          },
          "ternary": {
           "aaxis": {
            "gridcolor": "white",
            "linecolor": "white",
            "ticks": ""
           },
           "baxis": {
            "gridcolor": "white",
            "linecolor": "white",
            "ticks": ""
           },
           "bgcolor": "#E5ECF6",
           "caxis": {
            "gridcolor": "white",
            "linecolor": "white",
            "ticks": ""
           }
          },
          "title": {
           "x": 0.05
          },
          "xaxis": {
           "automargin": true,
           "gridcolor": "white",
           "linecolor": "white",
           "ticks": "",
           "zerolinecolor": "white",
           "zerolinewidth": 2
          },
          "yaxis": {
           "automargin": true,
           "gridcolor": "white",
           "linecolor": "white",
           "ticks": "",
           "zerolinecolor": "white",
           "zerolinewidth": 2
          }
         }
        }
       }
      },
      "text/html": [
       "<div>\n",
       "        \n",
       "        \n",
       "            <div id=\"89a3cfbc-cf6d-4d16-b861-4416555b79dd\" class=\"plotly-graph-div\" style=\"height:525px; width:100%;\"></div>\n",
       "            <script type=\"text/javascript\">\n",
       "                require([\"plotly\"], function(Plotly) {\n",
       "                    window.PLOTLYENV=window.PLOTLYENV || {};\n",
       "                    \n",
       "                if (document.getElementById(\"89a3cfbc-cf6d-4d16-b861-4416555b79dd\")) {\n",
       "                    Plotly.newPlot(\n",
       "                        '89a3cfbc-cf6d-4d16-b861-4416555b79dd',\n",
       "                        [{\"orientation\": \"h\", \"type\": \"bar\", \"x\": [35880.0, 35651.0, 35610.0, 34986.0, 34382.0, 33342.0, 33259.0, 31830.0, 29058.0, 28226.0], \"y\": [\"central capital colateral\", \"board of regents of the university of nebraska\", \"c2 imaging llc\", \"massey services, inc.\", \"the fishin' company\", \"palm construction, inc.\", \"xj property management corp.\", \"sentury tire usa, inc.\", \"mantrust, llc.\", \"oac management, inc.\"]}],\n",
       "                        {\"template\": {\"data\": {\"bar\": [{\"error_x\": {\"color\": \"#2a3f5f\"}, \"error_y\": {\"color\": \"#2a3f5f\"}, \"marker\": {\"line\": {\"color\": \"#E5ECF6\", \"width\": 0.5}}, \"type\": \"bar\"}], \"barpolar\": [{\"marker\": {\"line\": {\"color\": \"#E5ECF6\", \"width\": 0.5}}, \"type\": \"barpolar\"}], \"carpet\": [{\"aaxis\": {\"endlinecolor\": \"#2a3f5f\", \"gridcolor\": \"white\", \"linecolor\": \"white\", \"minorgridcolor\": \"white\", \"startlinecolor\": \"#2a3f5f\"}, \"baxis\": {\"endlinecolor\": \"#2a3f5f\", \"gridcolor\": \"white\", \"linecolor\": \"white\", \"minorgridcolor\": \"white\", \"startlinecolor\": \"#2a3f5f\"}, \"type\": \"carpet\"}], \"choropleth\": [{\"colorbar\": {\"outlinewidth\": 0, \"ticks\": \"\"}, \"type\": \"choropleth\"}], \"contour\": [{\"colorbar\": {\"outlinewidth\": 0, \"ticks\": \"\"}, \"colorscale\": [[0.0, \"#0d0887\"], [0.1111111111111111, \"#46039f\"], [0.2222222222222222, \"#7201a8\"], [0.3333333333333333, \"#9c179e\"], [0.4444444444444444, \"#bd3786\"], [0.5555555555555556, \"#d8576b\"], [0.6666666666666666, \"#ed7953\"], [0.7777777777777778, \"#fb9f3a\"], [0.8888888888888888, \"#fdca26\"], [1.0, \"#f0f921\"]], \"type\": \"contour\"}], \"contourcarpet\": [{\"colorbar\": {\"outlinewidth\": 0, \"ticks\": \"\"}, \"type\": \"contourcarpet\"}], \"heatmap\": [{\"colorbar\": {\"outlinewidth\": 0, \"ticks\": \"\"}, \"colorscale\": [[0.0, \"#0d0887\"], [0.1111111111111111, \"#46039f\"], [0.2222222222222222, \"#7201a8\"], [0.3333333333333333, \"#9c179e\"], [0.4444444444444444, \"#bd3786\"], [0.5555555555555556, \"#d8576b\"], [0.6666666666666666, \"#ed7953\"], [0.7777777777777778, \"#fb9f3a\"], [0.8888888888888888, \"#fdca26\"], [1.0, \"#f0f921\"]], \"type\": \"heatmap\"}], \"heatmapgl\": [{\"colorbar\": {\"outlinewidth\": 0, \"ticks\": \"\"}, \"colorscale\": [[0.0, \"#0d0887\"], [0.1111111111111111, \"#46039f\"], [0.2222222222222222, \"#7201a8\"], [0.3333333333333333, \"#9c179e\"], [0.4444444444444444, \"#bd3786\"], [0.5555555555555556, \"#d8576b\"], [0.6666666666666666, \"#ed7953\"], [0.7777777777777778, \"#fb9f3a\"], [0.8888888888888888, \"#fdca26\"], [1.0, \"#f0f921\"]], \"type\": \"heatmapgl\"}], \"histogram\": [{\"marker\": {\"colorbar\": {\"outlinewidth\": 0, \"ticks\": \"\"}}, \"type\": \"histogram\"}], \"histogram2d\": [{\"colorbar\": {\"outlinewidth\": 0, \"ticks\": \"\"}, \"colorscale\": [[0.0, \"#0d0887\"], [0.1111111111111111, \"#46039f\"], [0.2222222222222222, \"#7201a8\"], [0.3333333333333333, \"#9c179e\"], [0.4444444444444444, \"#bd3786\"], [0.5555555555555556, \"#d8576b\"], [0.6666666666666666, \"#ed7953\"], [0.7777777777777778, \"#fb9f3a\"], [0.8888888888888888, \"#fdca26\"], [1.0, \"#f0f921\"]], \"type\": \"histogram2d\"}], \"histogram2dcontour\": [{\"colorbar\": {\"outlinewidth\": 0, \"ticks\": \"\"}, \"colorscale\": [[0.0, \"#0d0887\"], [0.1111111111111111, \"#46039f\"], [0.2222222222222222, \"#7201a8\"], [0.3333333333333333, \"#9c179e\"], [0.4444444444444444, \"#bd3786\"], [0.5555555555555556, \"#d8576b\"], [0.6666666666666666, \"#ed7953\"], [0.7777777777777778, \"#fb9f3a\"], [0.8888888888888888, \"#fdca26\"], [1.0, \"#f0f921\"]], \"type\": \"histogram2dcontour\"}], \"mesh3d\": [{\"colorbar\": {\"outlinewidth\": 0, \"ticks\": \"\"}, \"type\": \"mesh3d\"}], \"parcoords\": [{\"line\": {\"colorbar\": {\"outlinewidth\": 0, \"ticks\": \"\"}}, \"type\": \"parcoords\"}], \"scatter\": [{\"marker\": {\"colorbar\": {\"outlinewidth\": 0, \"ticks\": \"\"}}, \"type\": \"scatter\"}], \"scatter3d\": [{\"line\": {\"colorbar\": {\"outlinewidth\": 0, \"ticks\": \"\"}}, \"marker\": {\"colorbar\": {\"outlinewidth\": 0, \"ticks\": \"\"}}, \"type\": \"scatter3d\"}], \"scattercarpet\": [{\"marker\": {\"colorbar\": {\"outlinewidth\": 0, \"ticks\": \"\"}}, \"type\": \"scattercarpet\"}], \"scattergeo\": [{\"marker\": {\"colorbar\": {\"outlinewidth\": 0, \"ticks\": \"\"}}, \"type\": \"scattergeo\"}], \"scattergl\": [{\"marker\": {\"colorbar\": {\"outlinewidth\": 0, \"ticks\": \"\"}}, \"type\": \"scattergl\"}], \"scattermapbox\": [{\"marker\": {\"colorbar\": {\"outlinewidth\": 0, \"ticks\": \"\"}}, \"type\": \"scattermapbox\"}], \"scatterpolar\": [{\"marker\": {\"colorbar\": {\"outlinewidth\": 0, \"ticks\": \"\"}}, \"type\": \"scatterpolar\"}], \"scatterpolargl\": [{\"marker\": {\"colorbar\": {\"outlinewidth\": 0, \"ticks\": \"\"}}, \"type\": \"scatterpolargl\"}], \"scatterternary\": [{\"marker\": {\"colorbar\": {\"outlinewidth\": 0, \"ticks\": \"\"}}, \"type\": \"scatterternary\"}], \"surface\": [{\"colorbar\": {\"outlinewidth\": 0, \"ticks\": \"\"}, \"colorscale\": [[0.0, \"#0d0887\"], [0.1111111111111111, \"#46039f\"], [0.2222222222222222, \"#7201a8\"], [0.3333333333333333, \"#9c179e\"], [0.4444444444444444, \"#bd3786\"], [0.5555555555555556, \"#d8576b\"], [0.6666666666666666, \"#ed7953\"], [0.7777777777777778, \"#fb9f3a\"], [0.8888888888888888, \"#fdca26\"], [1.0, \"#f0f921\"]], \"type\": \"surface\"}], \"table\": [{\"cells\": {\"fill\": {\"color\": \"#EBF0F8\"}, \"line\": {\"color\": \"white\"}}, \"header\": {\"fill\": {\"color\": \"#C8D4E3\"}, \"line\": {\"color\": \"white\"}}, \"type\": \"table\"}]}, \"layout\": {\"annotationdefaults\": {\"arrowcolor\": \"#2a3f5f\", \"arrowhead\": 0, \"arrowwidth\": 1}, \"colorscale\": {\"diverging\": [[0, \"#8e0152\"], [0.1, \"#c51b7d\"], [0.2, \"#de77ae\"], [0.3, \"#f1b6da\"], [0.4, \"#fde0ef\"], [0.5, \"#f7f7f7\"], [0.6, \"#e6f5d0\"], [0.7, \"#b8e186\"], [0.8, \"#7fbc41\"], [0.9, \"#4d9221\"], [1, \"#276419\"]], \"sequential\": [[0.0, \"#0d0887\"], [0.1111111111111111, \"#46039f\"], [0.2222222222222222, \"#7201a8\"], [0.3333333333333333, \"#9c179e\"], [0.4444444444444444, \"#bd3786\"], [0.5555555555555556, \"#d8576b\"], [0.6666666666666666, \"#ed7953\"], [0.7777777777777778, \"#fb9f3a\"], [0.8888888888888888, \"#fdca26\"], [1.0, \"#f0f921\"]], \"sequentialminus\": [[0.0, \"#0d0887\"], [0.1111111111111111, \"#46039f\"], [0.2222222222222222, \"#7201a8\"], [0.3333333333333333, \"#9c179e\"], [0.4444444444444444, \"#bd3786\"], [0.5555555555555556, \"#d8576b\"], [0.6666666666666666, \"#ed7953\"], [0.7777777777777778, \"#fb9f3a\"], [0.8888888888888888, \"#fdca26\"], [1.0, \"#f0f921\"]]}, \"colorway\": [\"#636efa\", \"#EF553B\", \"#00cc96\", \"#ab63fa\", \"#FFA15A\", \"#19d3f3\", \"#FF6692\", \"#B6E880\", \"#FF97FF\", \"#FECB52\"], \"font\": {\"color\": \"#2a3f5f\"}, \"geo\": {\"bgcolor\": \"white\", \"lakecolor\": \"white\", \"landcolor\": \"#E5ECF6\", \"showlakes\": true, \"showland\": true, \"subunitcolor\": \"white\"}, \"hoverlabel\": {\"align\": \"left\"}, \"hovermode\": \"closest\", \"mapbox\": {\"style\": \"light\"}, \"paper_bgcolor\": \"white\", \"plot_bgcolor\": \"#E5ECF6\", \"polar\": {\"angularaxis\": {\"gridcolor\": \"white\", \"linecolor\": \"white\", \"ticks\": \"\"}, \"bgcolor\": \"#E5ECF6\", \"radialaxis\": {\"gridcolor\": \"white\", \"linecolor\": \"white\", \"ticks\": \"\"}}, \"scene\": {\"xaxis\": {\"backgroundcolor\": \"#E5ECF6\", \"gridcolor\": \"white\", \"gridwidth\": 2, \"linecolor\": \"white\", \"showbackground\": true, \"ticks\": \"\", \"zerolinecolor\": \"white\"}, \"yaxis\": {\"backgroundcolor\": \"#E5ECF6\", \"gridcolor\": \"white\", \"gridwidth\": 2, \"linecolor\": \"white\", \"showbackground\": true, \"ticks\": \"\", \"zerolinecolor\": \"white\"}, \"zaxis\": {\"backgroundcolor\": \"#E5ECF6\", \"gridcolor\": \"white\", \"gridwidth\": 2, \"linecolor\": \"white\", \"showbackground\": true, \"ticks\": \"\", \"zerolinecolor\": \"white\"}}, \"shapedefaults\": {\"line\": {\"color\": \"#2a3f5f\"}}, \"ternary\": {\"aaxis\": {\"gridcolor\": \"white\", \"linecolor\": \"white\", \"ticks\": \"\"}, \"baxis\": {\"gridcolor\": \"white\", \"linecolor\": \"white\", \"ticks\": \"\"}, \"bgcolor\": \"#E5ECF6\", \"caxis\": {\"gridcolor\": \"white\", \"linecolor\": \"white\", \"ticks\": \"\"}}, \"title\": {\"x\": 0.05}, \"xaxis\": {\"automargin\": true, \"gridcolor\": \"white\", \"linecolor\": \"white\", \"ticks\": \"\", \"zerolinecolor\": \"white\", \"zerolinewidth\": 2}, \"yaxis\": {\"automargin\": true, \"gridcolor\": \"white\", \"linecolor\": \"white\", \"ticks\": \"\", \"zerolinecolor\": \"white\", \"zerolinewidth\": 2}}}},\n",
       "                        {\"responsive\": true}\n",
       "                    ).then(function(){\n",
       "                            \n",
       "var gd = document.getElementById('89a3cfbc-cf6d-4d16-b861-4416555b79dd');\n",
       "var x = new MutationObserver(function (mutations, observer) {{\n",
       "        var display = window.getComputedStyle(gd).display;\n",
       "        if (!display || display === 'none') {{\n",
       "            console.log([gd, 'removed!']);\n",
       "            Plotly.purge(gd);\n",
       "            observer.disconnect();\n",
       "        }}\n",
       "}});\n",
       "\n",
       "// Listen for the removal of the full notebook cells\n",
       "var notebookContainer = gd.closest('#notebook-container');\n",
       "if (notebookContainer) {{\n",
       "    x.observe(notebookContainer, {childList: true});\n",
       "}}\n",
       "\n",
       "// Listen for the clearing of the current output cell\n",
       "var outputEl = gd.closest('.output');\n",
       "if (outputEl) {{\n",
       "    x.observe(outputEl, {childList: true});\n",
       "}}\n",
       "\n",
       "                        })\n",
       "                };\n",
       "                });\n",
       "            </script>\n",
       "        </div>"
      ]
     },
     "metadata": {},
     "output_type": "display_data"
    }
   ],
   "source": [
    "fig = go.Figure(go.Bar(\n",
    "            x=sample.groupby('employer_name').mean()[['prevailing_wage']].sort_values('prevailing_wage')[:10]['prevailing_wage'][::-1],\n",
    "            y=sample.groupby('employer_name').mean()[['prevailing_wage']].sort_values('prevailing_wage')[:10].index[::-1],\n",
    "            orientation='h'))\n",
    "\n",
    "fig.show()"
   ]
  },
  {
   "cell_type": "code",
   "execution_count": 36,
   "metadata": {},
   "outputs": [
    {
     "data": {
      "application/vnd.plotly.v1+json": {
       "config": {
        "plotlyServerURL": "https://plot.ly"
       },
       "data": [
        {
         "orientation": "h",
         "type": "bar",
         "x": [
          121419.67021276595,
          121680,
          121690,
          121690.5,
          125549,
          127920,
          130333,
          133016,
          139475.67038690476,
          179421
         ],
         "y": [
          "cupertino",
          "murrieta",
          "conshocken",
          "tysons",
          "ridgewood",
          "maynard",
          "edgewood",
          "los altos hills",
          "menlo park",
          "sliver spring"
         ]
        }
       ],
       "layout": {
        "template": {
         "data": {
          "bar": [
           {
            "error_x": {
             "color": "#2a3f5f"
            },
            "error_y": {
             "color": "#2a3f5f"
            },
            "marker": {
             "line": {
              "color": "#E5ECF6",
              "width": 0.5
             }
            },
            "type": "bar"
           }
          ],
          "barpolar": [
           {
            "marker": {
             "line": {
              "color": "#E5ECF6",
              "width": 0.5
             }
            },
            "type": "barpolar"
           }
          ],
          "carpet": [
           {
            "aaxis": {
             "endlinecolor": "#2a3f5f",
             "gridcolor": "white",
             "linecolor": "white",
             "minorgridcolor": "white",
             "startlinecolor": "#2a3f5f"
            },
            "baxis": {
             "endlinecolor": "#2a3f5f",
             "gridcolor": "white",
             "linecolor": "white",
             "minorgridcolor": "white",
             "startlinecolor": "#2a3f5f"
            },
            "type": "carpet"
           }
          ],
          "choropleth": [
           {
            "colorbar": {
             "outlinewidth": 0,
             "ticks": ""
            },
            "type": "choropleth"
           }
          ],
          "contour": [
           {
            "colorbar": {
             "outlinewidth": 0,
             "ticks": ""
            },
            "colorscale": [
             [
              0,
              "#0d0887"
             ],
             [
              0.1111111111111111,
              "#46039f"
             ],
             [
              0.2222222222222222,
              "#7201a8"
             ],
             [
              0.3333333333333333,
              "#9c179e"
             ],
             [
              0.4444444444444444,
              "#bd3786"
             ],
             [
              0.5555555555555556,
              "#d8576b"
             ],
             [
              0.6666666666666666,
              "#ed7953"
             ],
             [
              0.7777777777777778,
              "#fb9f3a"
             ],
             [
              0.8888888888888888,
              "#fdca26"
             ],
             [
              1,
              "#f0f921"
             ]
            ],
            "type": "contour"
           }
          ],
          "contourcarpet": [
           {
            "colorbar": {
             "outlinewidth": 0,
             "ticks": ""
            },
            "type": "contourcarpet"
           }
          ],
          "heatmap": [
           {
            "colorbar": {
             "outlinewidth": 0,
             "ticks": ""
            },
            "colorscale": [
             [
              0,
              "#0d0887"
             ],
             [
              0.1111111111111111,
              "#46039f"
             ],
             [
              0.2222222222222222,
              "#7201a8"
             ],
             [
              0.3333333333333333,
              "#9c179e"
             ],
             [
              0.4444444444444444,
              "#bd3786"
             ],
             [
              0.5555555555555556,
              "#d8576b"
             ],
             [
              0.6666666666666666,
              "#ed7953"
             ],
             [
              0.7777777777777778,
              "#fb9f3a"
             ],
             [
              0.8888888888888888,
              "#fdca26"
             ],
             [
              1,
              "#f0f921"
             ]
            ],
            "type": "heatmap"
           }
          ],
          "heatmapgl": [
           {
            "colorbar": {
             "outlinewidth": 0,
             "ticks": ""
            },
            "colorscale": [
             [
              0,
              "#0d0887"
             ],
             [
              0.1111111111111111,
              "#46039f"
             ],
             [
              0.2222222222222222,
              "#7201a8"
             ],
             [
              0.3333333333333333,
              "#9c179e"
             ],
             [
              0.4444444444444444,
              "#bd3786"
             ],
             [
              0.5555555555555556,
              "#d8576b"
             ],
             [
              0.6666666666666666,
              "#ed7953"
             ],
             [
              0.7777777777777778,
              "#fb9f3a"
             ],
             [
              0.8888888888888888,
              "#fdca26"
             ],
             [
              1,
              "#f0f921"
             ]
            ],
            "type": "heatmapgl"
           }
          ],
          "histogram": [
           {
            "marker": {
             "colorbar": {
              "outlinewidth": 0,
              "ticks": ""
             }
            },
            "type": "histogram"
           }
          ],
          "histogram2d": [
           {
            "colorbar": {
             "outlinewidth": 0,
             "ticks": ""
            },
            "colorscale": [
             [
              0,
              "#0d0887"
             ],
             [
              0.1111111111111111,
              "#46039f"
             ],
             [
              0.2222222222222222,
              "#7201a8"
             ],
             [
              0.3333333333333333,
              "#9c179e"
             ],
             [
              0.4444444444444444,
              "#bd3786"
             ],
             [
              0.5555555555555556,
              "#d8576b"
             ],
             [
              0.6666666666666666,
              "#ed7953"
             ],
             [
              0.7777777777777778,
              "#fb9f3a"
             ],
             [
              0.8888888888888888,
              "#fdca26"
             ],
             [
              1,
              "#f0f921"
             ]
            ],
            "type": "histogram2d"
           }
          ],
          "histogram2dcontour": [
           {
            "colorbar": {
             "outlinewidth": 0,
             "ticks": ""
            },
            "colorscale": [
             [
              0,
              "#0d0887"
             ],
             [
              0.1111111111111111,
              "#46039f"
             ],
             [
              0.2222222222222222,
              "#7201a8"
             ],
             [
              0.3333333333333333,
              "#9c179e"
             ],
             [
              0.4444444444444444,
              "#bd3786"
             ],
             [
              0.5555555555555556,
              "#d8576b"
             ],
             [
              0.6666666666666666,
              "#ed7953"
             ],
             [
              0.7777777777777778,
              "#fb9f3a"
             ],
             [
              0.8888888888888888,
              "#fdca26"
             ],
             [
              1,
              "#f0f921"
             ]
            ],
            "type": "histogram2dcontour"
           }
          ],
          "mesh3d": [
           {
            "colorbar": {
             "outlinewidth": 0,
             "ticks": ""
            },
            "type": "mesh3d"
           }
          ],
          "parcoords": [
           {
            "line": {
             "colorbar": {
              "outlinewidth": 0,
              "ticks": ""
             }
            },
            "type": "parcoords"
           }
          ],
          "scatter": [
           {
            "marker": {
             "colorbar": {
              "outlinewidth": 0,
              "ticks": ""
             }
            },
            "type": "scatter"
           }
          ],
          "scatter3d": [
           {
            "line": {
             "colorbar": {
              "outlinewidth": 0,
              "ticks": ""
             }
            },
            "marker": {
             "colorbar": {
              "outlinewidth": 0,
              "ticks": ""
             }
            },
            "type": "scatter3d"
           }
          ],
          "scattercarpet": [
           {
            "marker": {
             "colorbar": {
              "outlinewidth": 0,
              "ticks": ""
             }
            },
            "type": "scattercarpet"
           }
          ],
          "scattergeo": [
           {
            "marker": {
             "colorbar": {
              "outlinewidth": 0,
              "ticks": ""
             }
            },
            "type": "scattergeo"
           }
          ],
          "scattergl": [
           {
            "marker": {
             "colorbar": {
              "outlinewidth": 0,
              "ticks": ""
             }
            },
            "type": "scattergl"
           }
          ],
          "scattermapbox": [
           {
            "marker": {
             "colorbar": {
              "outlinewidth": 0,
              "ticks": ""
             }
            },
            "type": "scattermapbox"
           }
          ],
          "scatterpolar": [
           {
            "marker": {
             "colorbar": {
              "outlinewidth": 0,
              "ticks": ""
             }
            },
            "type": "scatterpolar"
           }
          ],
          "scatterpolargl": [
           {
            "marker": {
             "colorbar": {
              "outlinewidth": 0,
              "ticks": ""
             }
            },
            "type": "scatterpolargl"
           }
          ],
          "scatterternary": [
           {
            "marker": {
             "colorbar": {
              "outlinewidth": 0,
              "ticks": ""
             }
            },
            "type": "scatterternary"
           }
          ],
          "surface": [
           {
            "colorbar": {
             "outlinewidth": 0,
             "ticks": ""
            },
            "colorscale": [
             [
              0,
              "#0d0887"
             ],
             [
              0.1111111111111111,
              "#46039f"
             ],
             [
              0.2222222222222222,
              "#7201a8"
             ],
             [
              0.3333333333333333,
              "#9c179e"
             ],
             [
              0.4444444444444444,
              "#bd3786"
             ],
             [
              0.5555555555555556,
              "#d8576b"
             ],
             [
              0.6666666666666666,
              "#ed7953"
             ],
             [
              0.7777777777777778,
              "#fb9f3a"
             ],
             [
              0.8888888888888888,
              "#fdca26"
             ],
             [
              1,
              "#f0f921"
             ]
            ],
            "type": "surface"
           }
          ],
          "table": [
           {
            "cells": {
             "fill": {
              "color": "#EBF0F8"
             },
             "line": {
              "color": "white"
             }
            },
            "header": {
             "fill": {
              "color": "#C8D4E3"
             },
             "line": {
              "color": "white"
             }
            },
            "type": "table"
           }
          ]
         },
         "layout": {
          "annotationdefaults": {
           "arrowcolor": "#2a3f5f",
           "arrowhead": 0,
           "arrowwidth": 1
          },
          "colorscale": {
           "diverging": [
            [
             0,
             "#8e0152"
            ],
            [
             0.1,
             "#c51b7d"
            ],
            [
             0.2,
             "#de77ae"
            ],
            [
             0.3,
             "#f1b6da"
            ],
            [
             0.4,
             "#fde0ef"
            ],
            [
             0.5,
             "#f7f7f7"
            ],
            [
             0.6,
             "#e6f5d0"
            ],
            [
             0.7,
             "#b8e186"
            ],
            [
             0.8,
             "#7fbc41"
            ],
            [
             0.9,
             "#4d9221"
            ],
            [
             1,
             "#276419"
            ]
           ],
           "sequential": [
            [
             0,
             "#0d0887"
            ],
            [
             0.1111111111111111,
             "#46039f"
            ],
            [
             0.2222222222222222,
             "#7201a8"
            ],
            [
             0.3333333333333333,
             "#9c179e"
            ],
            [
             0.4444444444444444,
             "#bd3786"
            ],
            [
             0.5555555555555556,
             "#d8576b"
            ],
            [
             0.6666666666666666,
             "#ed7953"
            ],
            [
             0.7777777777777778,
             "#fb9f3a"
            ],
            [
             0.8888888888888888,
             "#fdca26"
            ],
            [
             1,
             "#f0f921"
            ]
           ],
           "sequentialminus": [
            [
             0,
             "#0d0887"
            ],
            [
             0.1111111111111111,
             "#46039f"
            ],
            [
             0.2222222222222222,
             "#7201a8"
            ],
            [
             0.3333333333333333,
             "#9c179e"
            ],
            [
             0.4444444444444444,
             "#bd3786"
            ],
            [
             0.5555555555555556,
             "#d8576b"
            ],
            [
             0.6666666666666666,
             "#ed7953"
            ],
            [
             0.7777777777777778,
             "#fb9f3a"
            ],
            [
             0.8888888888888888,
             "#fdca26"
            ],
            [
             1,
             "#f0f921"
            ]
           ]
          },
          "colorway": [
           "#636efa",
           "#EF553B",
           "#00cc96",
           "#ab63fa",
           "#FFA15A",
           "#19d3f3",
           "#FF6692",
           "#B6E880",
           "#FF97FF",
           "#FECB52"
          ],
          "font": {
           "color": "#2a3f5f"
          },
          "geo": {
           "bgcolor": "white",
           "lakecolor": "white",
           "landcolor": "#E5ECF6",
           "showlakes": true,
           "showland": true,
           "subunitcolor": "white"
          },
          "hoverlabel": {
           "align": "left"
          },
          "hovermode": "closest",
          "mapbox": {
           "style": "light"
          },
          "paper_bgcolor": "white",
          "plot_bgcolor": "#E5ECF6",
          "polar": {
           "angularaxis": {
            "gridcolor": "white",
            "linecolor": "white",
            "ticks": ""
           },
           "bgcolor": "#E5ECF6",
           "radialaxis": {
            "gridcolor": "white",
            "linecolor": "white",
            "ticks": ""
           }
          },
          "scene": {
           "xaxis": {
            "backgroundcolor": "#E5ECF6",
            "gridcolor": "white",
            "gridwidth": 2,
            "linecolor": "white",
            "showbackground": true,
            "ticks": "",
            "zerolinecolor": "white"
           },
           "yaxis": {
            "backgroundcolor": "#E5ECF6",
            "gridcolor": "white",
            "gridwidth": 2,
            "linecolor": "white",
            "showbackground": true,
            "ticks": "",
            "zerolinecolor": "white"
           },
           "zaxis": {
            "backgroundcolor": "#E5ECF6",
            "gridcolor": "white",
            "gridwidth": 2,
            "linecolor": "white",
            "showbackground": true,
            "ticks": "",
            "zerolinecolor": "white"
           }
          },
          "shapedefaults": {
           "line": {
            "color": "#2a3f5f"
           }
          },
          "ternary": {
           "aaxis": {
            "gridcolor": "white",
            "linecolor": "white",
            "ticks": ""
           },
           "baxis": {
            "gridcolor": "white",
            "linecolor": "white",
            "ticks": ""
           },
           "bgcolor": "#E5ECF6",
           "caxis": {
            "gridcolor": "white",
            "linecolor": "white",
            "ticks": ""
           }
          },
          "title": {
           "x": 0.05
          },
          "xaxis": {
           "automargin": true,
           "gridcolor": "white",
           "linecolor": "white",
           "ticks": "",
           "zerolinecolor": "white",
           "zerolinewidth": 2
          },
          "yaxis": {
           "automargin": true,
           "gridcolor": "white",
           "linecolor": "white",
           "ticks": "",
           "zerolinecolor": "white",
           "zerolinewidth": 2
          }
         }
        }
       }
      },
      "text/html": [
       "<div>\n",
       "        \n",
       "        \n",
       "            <div id=\"2e4ab705-0c09-489a-9550-695ae4eeb7da\" class=\"plotly-graph-div\" style=\"height:525px; width:100%;\"></div>\n",
       "            <script type=\"text/javascript\">\n",
       "                require([\"plotly\"], function(Plotly) {\n",
       "                    window.PLOTLYENV=window.PLOTLYENV || {};\n",
       "                    \n",
       "                if (document.getElementById(\"2e4ab705-0c09-489a-9550-695ae4eeb7da\")) {\n",
       "                    Plotly.newPlot(\n",
       "                        '2e4ab705-0c09-489a-9550-695ae4eeb7da',\n",
       "                        [{\"orientation\": \"h\", \"type\": \"bar\", \"x\": [121419.67021276595, 121680.0, 121690.0, 121690.5, 125549.0, 127920.0, 130333.0, 133016.0, 139475.67038690476, 179421.0], \"y\": [\"cupertino\", \"murrieta\", \"conshocken\", \"tysons\", \"ridgewood\", \"maynard\", \"edgewood\", \"los altos hills\", \"menlo park\", \"sliver spring\"]}],\n",
       "                        {\"template\": {\"data\": {\"bar\": [{\"error_x\": {\"color\": \"#2a3f5f\"}, \"error_y\": {\"color\": \"#2a3f5f\"}, \"marker\": {\"line\": {\"color\": \"#E5ECF6\", \"width\": 0.5}}, \"type\": \"bar\"}], \"barpolar\": [{\"marker\": {\"line\": {\"color\": \"#E5ECF6\", \"width\": 0.5}}, \"type\": \"barpolar\"}], \"carpet\": [{\"aaxis\": {\"endlinecolor\": \"#2a3f5f\", \"gridcolor\": \"white\", \"linecolor\": \"white\", \"minorgridcolor\": \"white\", \"startlinecolor\": \"#2a3f5f\"}, \"baxis\": {\"endlinecolor\": \"#2a3f5f\", \"gridcolor\": \"white\", \"linecolor\": \"white\", \"minorgridcolor\": \"white\", \"startlinecolor\": \"#2a3f5f\"}, \"type\": \"carpet\"}], \"choropleth\": [{\"colorbar\": {\"outlinewidth\": 0, \"ticks\": \"\"}, \"type\": \"choropleth\"}], \"contour\": [{\"colorbar\": {\"outlinewidth\": 0, \"ticks\": \"\"}, \"colorscale\": [[0.0, \"#0d0887\"], [0.1111111111111111, \"#46039f\"], [0.2222222222222222, \"#7201a8\"], [0.3333333333333333, \"#9c179e\"], [0.4444444444444444, \"#bd3786\"], [0.5555555555555556, \"#d8576b\"], [0.6666666666666666, \"#ed7953\"], [0.7777777777777778, \"#fb9f3a\"], [0.8888888888888888, \"#fdca26\"], [1.0, \"#f0f921\"]], \"type\": \"contour\"}], \"contourcarpet\": [{\"colorbar\": {\"outlinewidth\": 0, \"ticks\": \"\"}, \"type\": \"contourcarpet\"}], \"heatmap\": [{\"colorbar\": {\"outlinewidth\": 0, \"ticks\": \"\"}, \"colorscale\": [[0.0, \"#0d0887\"], [0.1111111111111111, \"#46039f\"], [0.2222222222222222, \"#7201a8\"], [0.3333333333333333, \"#9c179e\"], [0.4444444444444444, \"#bd3786\"], [0.5555555555555556, \"#d8576b\"], [0.6666666666666666, \"#ed7953\"], [0.7777777777777778, \"#fb9f3a\"], [0.8888888888888888, \"#fdca26\"], [1.0, \"#f0f921\"]], \"type\": \"heatmap\"}], \"heatmapgl\": [{\"colorbar\": {\"outlinewidth\": 0, \"ticks\": \"\"}, \"colorscale\": [[0.0, \"#0d0887\"], [0.1111111111111111, \"#46039f\"], [0.2222222222222222, \"#7201a8\"], [0.3333333333333333, \"#9c179e\"], [0.4444444444444444, \"#bd3786\"], [0.5555555555555556, \"#d8576b\"], [0.6666666666666666, \"#ed7953\"], [0.7777777777777778, \"#fb9f3a\"], [0.8888888888888888, \"#fdca26\"], [1.0, \"#f0f921\"]], \"type\": \"heatmapgl\"}], \"histogram\": [{\"marker\": {\"colorbar\": {\"outlinewidth\": 0, \"ticks\": \"\"}}, \"type\": \"histogram\"}], \"histogram2d\": [{\"colorbar\": {\"outlinewidth\": 0, \"ticks\": \"\"}, \"colorscale\": [[0.0, \"#0d0887\"], [0.1111111111111111, \"#46039f\"], [0.2222222222222222, \"#7201a8\"], [0.3333333333333333, \"#9c179e\"], [0.4444444444444444, \"#bd3786\"], [0.5555555555555556, \"#d8576b\"], [0.6666666666666666, \"#ed7953\"], [0.7777777777777778, \"#fb9f3a\"], [0.8888888888888888, \"#fdca26\"], [1.0, \"#f0f921\"]], \"type\": \"histogram2d\"}], \"histogram2dcontour\": [{\"colorbar\": {\"outlinewidth\": 0, \"ticks\": \"\"}, \"colorscale\": [[0.0, \"#0d0887\"], [0.1111111111111111, \"#46039f\"], [0.2222222222222222, \"#7201a8\"], [0.3333333333333333, \"#9c179e\"], [0.4444444444444444, \"#bd3786\"], [0.5555555555555556, \"#d8576b\"], [0.6666666666666666, \"#ed7953\"], [0.7777777777777778, \"#fb9f3a\"], [0.8888888888888888, \"#fdca26\"], [1.0, \"#f0f921\"]], \"type\": \"histogram2dcontour\"}], \"mesh3d\": [{\"colorbar\": {\"outlinewidth\": 0, \"ticks\": \"\"}, \"type\": \"mesh3d\"}], \"parcoords\": [{\"line\": {\"colorbar\": {\"outlinewidth\": 0, \"ticks\": \"\"}}, \"type\": \"parcoords\"}], \"scatter\": [{\"marker\": {\"colorbar\": {\"outlinewidth\": 0, \"ticks\": \"\"}}, \"type\": \"scatter\"}], \"scatter3d\": [{\"line\": {\"colorbar\": {\"outlinewidth\": 0, \"ticks\": \"\"}}, \"marker\": {\"colorbar\": {\"outlinewidth\": 0, \"ticks\": \"\"}}, \"type\": \"scatter3d\"}], \"scattercarpet\": [{\"marker\": {\"colorbar\": {\"outlinewidth\": 0, \"ticks\": \"\"}}, \"type\": \"scattercarpet\"}], \"scattergeo\": [{\"marker\": {\"colorbar\": {\"outlinewidth\": 0, \"ticks\": \"\"}}, \"type\": \"scattergeo\"}], \"scattergl\": [{\"marker\": {\"colorbar\": {\"outlinewidth\": 0, \"ticks\": \"\"}}, \"type\": \"scattergl\"}], \"scattermapbox\": [{\"marker\": {\"colorbar\": {\"outlinewidth\": 0, \"ticks\": \"\"}}, \"type\": \"scattermapbox\"}], \"scatterpolar\": [{\"marker\": {\"colorbar\": {\"outlinewidth\": 0, \"ticks\": \"\"}}, \"type\": \"scatterpolar\"}], \"scatterpolargl\": [{\"marker\": {\"colorbar\": {\"outlinewidth\": 0, \"ticks\": \"\"}}, \"type\": \"scatterpolargl\"}], \"scatterternary\": [{\"marker\": {\"colorbar\": {\"outlinewidth\": 0, \"ticks\": \"\"}}, \"type\": \"scatterternary\"}], \"surface\": [{\"colorbar\": {\"outlinewidth\": 0, \"ticks\": \"\"}, \"colorscale\": [[0.0, \"#0d0887\"], [0.1111111111111111, \"#46039f\"], [0.2222222222222222, \"#7201a8\"], [0.3333333333333333, \"#9c179e\"], [0.4444444444444444, \"#bd3786\"], [0.5555555555555556, \"#d8576b\"], [0.6666666666666666, \"#ed7953\"], [0.7777777777777778, \"#fb9f3a\"], [0.8888888888888888, \"#fdca26\"], [1.0, \"#f0f921\"]], \"type\": \"surface\"}], \"table\": [{\"cells\": {\"fill\": {\"color\": \"#EBF0F8\"}, \"line\": {\"color\": \"white\"}}, \"header\": {\"fill\": {\"color\": \"#C8D4E3\"}, \"line\": {\"color\": \"white\"}}, \"type\": \"table\"}]}, \"layout\": {\"annotationdefaults\": {\"arrowcolor\": \"#2a3f5f\", \"arrowhead\": 0, \"arrowwidth\": 1}, \"colorscale\": {\"diverging\": [[0, \"#8e0152\"], [0.1, \"#c51b7d\"], [0.2, \"#de77ae\"], [0.3, \"#f1b6da\"], [0.4, \"#fde0ef\"], [0.5, \"#f7f7f7\"], [0.6, \"#e6f5d0\"], [0.7, \"#b8e186\"], [0.8, \"#7fbc41\"], [0.9, \"#4d9221\"], [1, \"#276419\"]], \"sequential\": [[0.0, \"#0d0887\"], [0.1111111111111111, \"#46039f\"], [0.2222222222222222, \"#7201a8\"], [0.3333333333333333, \"#9c179e\"], [0.4444444444444444, \"#bd3786\"], [0.5555555555555556, \"#d8576b\"], [0.6666666666666666, \"#ed7953\"], [0.7777777777777778, \"#fb9f3a\"], [0.8888888888888888, \"#fdca26\"], [1.0, \"#f0f921\"]], \"sequentialminus\": [[0.0, \"#0d0887\"], [0.1111111111111111, \"#46039f\"], [0.2222222222222222, \"#7201a8\"], [0.3333333333333333, \"#9c179e\"], [0.4444444444444444, \"#bd3786\"], [0.5555555555555556, \"#d8576b\"], [0.6666666666666666, \"#ed7953\"], [0.7777777777777778, \"#fb9f3a\"], [0.8888888888888888, \"#fdca26\"], [1.0, \"#f0f921\"]]}, \"colorway\": [\"#636efa\", \"#EF553B\", \"#00cc96\", \"#ab63fa\", \"#FFA15A\", \"#19d3f3\", \"#FF6692\", \"#B6E880\", \"#FF97FF\", \"#FECB52\"], \"font\": {\"color\": \"#2a3f5f\"}, \"geo\": {\"bgcolor\": \"white\", \"lakecolor\": \"white\", \"landcolor\": \"#E5ECF6\", \"showlakes\": true, \"showland\": true, \"subunitcolor\": \"white\"}, \"hoverlabel\": {\"align\": \"left\"}, \"hovermode\": \"closest\", \"mapbox\": {\"style\": \"light\"}, \"paper_bgcolor\": \"white\", \"plot_bgcolor\": \"#E5ECF6\", \"polar\": {\"angularaxis\": {\"gridcolor\": \"white\", \"linecolor\": \"white\", \"ticks\": \"\"}, \"bgcolor\": \"#E5ECF6\", \"radialaxis\": {\"gridcolor\": \"white\", \"linecolor\": \"white\", \"ticks\": \"\"}}, \"scene\": {\"xaxis\": {\"backgroundcolor\": \"#E5ECF6\", \"gridcolor\": \"white\", \"gridwidth\": 2, \"linecolor\": \"white\", \"showbackground\": true, \"ticks\": \"\", \"zerolinecolor\": \"white\"}, \"yaxis\": {\"backgroundcolor\": \"#E5ECF6\", \"gridcolor\": \"white\", \"gridwidth\": 2, \"linecolor\": \"white\", \"showbackground\": true, \"ticks\": \"\", \"zerolinecolor\": \"white\"}, \"zaxis\": {\"backgroundcolor\": \"#E5ECF6\", \"gridcolor\": \"white\", \"gridwidth\": 2, \"linecolor\": \"white\", \"showbackground\": true, \"ticks\": \"\", \"zerolinecolor\": \"white\"}}, \"shapedefaults\": {\"line\": {\"color\": \"#2a3f5f\"}}, \"ternary\": {\"aaxis\": {\"gridcolor\": \"white\", \"linecolor\": \"white\", \"ticks\": \"\"}, \"baxis\": {\"gridcolor\": \"white\", \"linecolor\": \"white\", \"ticks\": \"\"}, \"bgcolor\": \"#E5ECF6\", \"caxis\": {\"gridcolor\": \"white\", \"linecolor\": \"white\", \"ticks\": \"\"}}, \"title\": {\"x\": 0.05}, \"xaxis\": {\"automargin\": true, \"gridcolor\": \"white\", \"linecolor\": \"white\", \"ticks\": \"\", \"zerolinecolor\": \"white\", \"zerolinewidth\": 2}, \"yaxis\": {\"automargin\": true, \"gridcolor\": \"white\", \"linecolor\": \"white\", \"ticks\": \"\", \"zerolinecolor\": \"white\", \"zerolinewidth\": 2}}}},\n",
       "                        {\"responsive\": true}\n",
       "                    ).then(function(){\n",
       "                            \n",
       "var gd = document.getElementById('2e4ab705-0c09-489a-9550-695ae4eeb7da');\n",
       "var x = new MutationObserver(function (mutations, observer) {{\n",
       "        var display = window.getComputedStyle(gd).display;\n",
       "        if (!display || display === 'none') {{\n",
       "            console.log([gd, 'removed!']);\n",
       "            Plotly.purge(gd);\n",
       "            observer.disconnect();\n",
       "        }}\n",
       "}});\n",
       "\n",
       "// Listen for the removal of the full notebook cells\n",
       "var notebookContainer = gd.closest('#notebook-container');\n",
       "if (notebookContainer) {{\n",
       "    x.observe(notebookContainer, {childList: true});\n",
       "}}\n",
       "\n",
       "// Listen for the clearing of the current output cell\n",
       "var outputEl = gd.closest('.output');\n",
       "if (outputEl) {{\n",
       "    x.observe(outputEl, {childList: true});\n",
       "}}\n",
       "\n",
       "                        })\n",
       "                };\n",
       "                });\n",
       "            </script>\n",
       "        </div>"
      ]
     },
     "metadata": {},
     "output_type": "display_data"
    }
   ],
   "source": [
    "fig = go.Figure(go.Bar(\n",
    "            x=sample.groupby('employer_city').mean()[['prevailing_wage']].sort_values('prevailing_wage',ascending=False)[:10]['prevailing_wage'][::-1],\n",
    "            y=sample.groupby('employer_city').mean()[['prevailing_wage']].sort_values('prevailing_wage',ascending=False)[:10].index[::-1],\n",
    "            orientation='h'))\n",
    "\n",
    "fig.show()"
   ]
  },
  {
   "cell_type": "code",
   "execution_count": 37,
   "metadata": {},
   "outputs": [
    {
     "data": {
      "application/vnd.plotly.v1+json": {
       "config": {
        "plotlyServerURL": "https://plot.ly"
       },
       "data": [
        {
         "orientation": "h",
         "type": "bar",
         "x": [
          46592,
          46051,
          45573,
          44824,
          43909,
          40394,
          39333,
          34382,
          29058,
          28226
         ],
         "y": [
          "elk grove village",
          "youngstown",
          "el paso",
          "warrenton",
          "clemson",
          "davis",
          "wailuku",
          "munhall",
          "dothan",
          "superior"
         ]
        }
       ],
       "layout": {
        "template": {
         "data": {
          "bar": [
           {
            "error_x": {
             "color": "#2a3f5f"
            },
            "error_y": {
             "color": "#2a3f5f"
            },
            "marker": {
             "line": {
              "color": "#E5ECF6",
              "width": 0.5
             }
            },
            "type": "bar"
           }
          ],
          "barpolar": [
           {
            "marker": {
             "line": {
              "color": "#E5ECF6",
              "width": 0.5
             }
            },
            "type": "barpolar"
           }
          ],
          "carpet": [
           {
            "aaxis": {
             "endlinecolor": "#2a3f5f",
             "gridcolor": "white",
             "linecolor": "white",
             "minorgridcolor": "white",
             "startlinecolor": "#2a3f5f"
            },
            "baxis": {
             "endlinecolor": "#2a3f5f",
             "gridcolor": "white",
             "linecolor": "white",
             "minorgridcolor": "white",
             "startlinecolor": "#2a3f5f"
            },
            "type": "carpet"
           }
          ],
          "choropleth": [
           {
            "colorbar": {
             "outlinewidth": 0,
             "ticks": ""
            },
            "type": "choropleth"
           }
          ],
          "contour": [
           {
            "colorbar": {
             "outlinewidth": 0,
             "ticks": ""
            },
            "colorscale": [
             [
              0,
              "#0d0887"
             ],
             [
              0.1111111111111111,
              "#46039f"
             ],
             [
              0.2222222222222222,
              "#7201a8"
             ],
             [
              0.3333333333333333,
              "#9c179e"
             ],
             [
              0.4444444444444444,
              "#bd3786"
             ],
             [
              0.5555555555555556,
              "#d8576b"
             ],
             [
              0.6666666666666666,
              "#ed7953"
             ],
             [
              0.7777777777777778,
              "#fb9f3a"
             ],
             [
              0.8888888888888888,
              "#fdca26"
             ],
             [
              1,
              "#f0f921"
             ]
            ],
            "type": "contour"
           }
          ],
          "contourcarpet": [
           {
            "colorbar": {
             "outlinewidth": 0,
             "ticks": ""
            },
            "type": "contourcarpet"
           }
          ],
          "heatmap": [
           {
            "colorbar": {
             "outlinewidth": 0,
             "ticks": ""
            },
            "colorscale": [
             [
              0,
              "#0d0887"
             ],
             [
              0.1111111111111111,
              "#46039f"
             ],
             [
              0.2222222222222222,
              "#7201a8"
             ],
             [
              0.3333333333333333,
              "#9c179e"
             ],
             [
              0.4444444444444444,
              "#bd3786"
             ],
             [
              0.5555555555555556,
              "#d8576b"
             ],
             [
              0.6666666666666666,
              "#ed7953"
             ],
             [
              0.7777777777777778,
              "#fb9f3a"
             ],
             [
              0.8888888888888888,
              "#fdca26"
             ],
             [
              1,
              "#f0f921"
             ]
            ],
            "type": "heatmap"
           }
          ],
          "heatmapgl": [
           {
            "colorbar": {
             "outlinewidth": 0,
             "ticks": ""
            },
            "colorscale": [
             [
              0,
              "#0d0887"
             ],
             [
              0.1111111111111111,
              "#46039f"
             ],
             [
              0.2222222222222222,
              "#7201a8"
             ],
             [
              0.3333333333333333,
              "#9c179e"
             ],
             [
              0.4444444444444444,
              "#bd3786"
             ],
             [
              0.5555555555555556,
              "#d8576b"
             ],
             [
              0.6666666666666666,
              "#ed7953"
             ],
             [
              0.7777777777777778,
              "#fb9f3a"
             ],
             [
              0.8888888888888888,
              "#fdca26"
             ],
             [
              1,
              "#f0f921"
             ]
            ],
            "type": "heatmapgl"
           }
          ],
          "histogram": [
           {
            "marker": {
             "colorbar": {
              "outlinewidth": 0,
              "ticks": ""
             }
            },
            "type": "histogram"
           }
          ],
          "histogram2d": [
           {
            "colorbar": {
             "outlinewidth": 0,
             "ticks": ""
            },
            "colorscale": [
             [
              0,
              "#0d0887"
             ],
             [
              0.1111111111111111,
              "#46039f"
             ],
             [
              0.2222222222222222,
              "#7201a8"
             ],
             [
              0.3333333333333333,
              "#9c179e"
             ],
             [
              0.4444444444444444,
              "#bd3786"
             ],
             [
              0.5555555555555556,
              "#d8576b"
             ],
             [
              0.6666666666666666,
              "#ed7953"
             ],
             [
              0.7777777777777778,
              "#fb9f3a"
             ],
             [
              0.8888888888888888,
              "#fdca26"
             ],
             [
              1,
              "#f0f921"
             ]
            ],
            "type": "histogram2d"
           }
          ],
          "histogram2dcontour": [
           {
            "colorbar": {
             "outlinewidth": 0,
             "ticks": ""
            },
            "colorscale": [
             [
              0,
              "#0d0887"
             ],
             [
              0.1111111111111111,
              "#46039f"
             ],
             [
              0.2222222222222222,
              "#7201a8"
             ],
             [
              0.3333333333333333,
              "#9c179e"
             ],
             [
              0.4444444444444444,
              "#bd3786"
             ],
             [
              0.5555555555555556,
              "#d8576b"
             ],
             [
              0.6666666666666666,
              "#ed7953"
             ],
             [
              0.7777777777777778,
              "#fb9f3a"
             ],
             [
              0.8888888888888888,
              "#fdca26"
             ],
             [
              1,
              "#f0f921"
             ]
            ],
            "type": "histogram2dcontour"
           }
          ],
          "mesh3d": [
           {
            "colorbar": {
             "outlinewidth": 0,
             "ticks": ""
            },
            "type": "mesh3d"
           }
          ],
          "parcoords": [
           {
            "line": {
             "colorbar": {
              "outlinewidth": 0,
              "ticks": ""
             }
            },
            "type": "parcoords"
           }
          ],
          "scatter": [
           {
            "marker": {
             "colorbar": {
              "outlinewidth": 0,
              "ticks": ""
             }
            },
            "type": "scatter"
           }
          ],
          "scatter3d": [
           {
            "line": {
             "colorbar": {
              "outlinewidth": 0,
              "ticks": ""
             }
            },
            "marker": {
             "colorbar": {
              "outlinewidth": 0,
              "ticks": ""
             }
            },
            "type": "scatter3d"
           }
          ],
          "scattercarpet": [
           {
            "marker": {
             "colorbar": {
              "outlinewidth": 0,
              "ticks": ""
             }
            },
            "type": "scattercarpet"
           }
          ],
          "scattergeo": [
           {
            "marker": {
             "colorbar": {
              "outlinewidth": 0,
              "ticks": ""
             }
            },
            "type": "scattergeo"
           }
          ],
          "scattergl": [
           {
            "marker": {
             "colorbar": {
              "outlinewidth": 0,
              "ticks": ""
             }
            },
            "type": "scattergl"
           }
          ],
          "scattermapbox": [
           {
            "marker": {
             "colorbar": {
              "outlinewidth": 0,
              "ticks": ""
             }
            },
            "type": "scattermapbox"
           }
          ],
          "scatterpolar": [
           {
            "marker": {
             "colorbar": {
              "outlinewidth": 0,
              "ticks": ""
             }
            },
            "type": "scatterpolar"
           }
          ],
          "scatterpolargl": [
           {
            "marker": {
             "colorbar": {
              "outlinewidth": 0,
              "ticks": ""
             }
            },
            "type": "scatterpolargl"
           }
          ],
          "scatterternary": [
           {
            "marker": {
             "colorbar": {
              "outlinewidth": 0,
              "ticks": ""
             }
            },
            "type": "scatterternary"
           }
          ],
          "surface": [
           {
            "colorbar": {
             "outlinewidth": 0,
             "ticks": ""
            },
            "colorscale": [
             [
              0,
              "#0d0887"
             ],
             [
              0.1111111111111111,
              "#46039f"
             ],
             [
              0.2222222222222222,
              "#7201a8"
             ],
             [
              0.3333333333333333,
              "#9c179e"
             ],
             [
              0.4444444444444444,
              "#bd3786"
             ],
             [
              0.5555555555555556,
              "#d8576b"
             ],
             [
              0.6666666666666666,
              "#ed7953"
             ],
             [
              0.7777777777777778,
              "#fb9f3a"
             ],
             [
              0.8888888888888888,
              "#fdca26"
             ],
             [
              1,
              "#f0f921"
             ]
            ],
            "type": "surface"
           }
          ],
          "table": [
           {
            "cells": {
             "fill": {
              "color": "#EBF0F8"
             },
             "line": {
              "color": "white"
             }
            },
            "header": {
             "fill": {
              "color": "#C8D4E3"
             },
             "line": {
              "color": "white"
             }
            },
            "type": "table"
           }
          ]
         },
         "layout": {
          "annotationdefaults": {
           "arrowcolor": "#2a3f5f",
           "arrowhead": 0,
           "arrowwidth": 1
          },
          "colorscale": {
           "diverging": [
            [
             0,
             "#8e0152"
            ],
            [
             0.1,
             "#c51b7d"
            ],
            [
             0.2,
             "#de77ae"
            ],
            [
             0.3,
             "#f1b6da"
            ],
            [
             0.4,
             "#fde0ef"
            ],
            [
             0.5,
             "#f7f7f7"
            ],
            [
             0.6,
             "#e6f5d0"
            ],
            [
             0.7,
             "#b8e186"
            ],
            [
             0.8,
             "#7fbc41"
            ],
            [
             0.9,
             "#4d9221"
            ],
            [
             1,
             "#276419"
            ]
           ],
           "sequential": [
            [
             0,
             "#0d0887"
            ],
            [
             0.1111111111111111,
             "#46039f"
            ],
            [
             0.2222222222222222,
             "#7201a8"
            ],
            [
             0.3333333333333333,
             "#9c179e"
            ],
            [
             0.4444444444444444,
             "#bd3786"
            ],
            [
             0.5555555555555556,
             "#d8576b"
            ],
            [
             0.6666666666666666,
             "#ed7953"
            ],
            [
             0.7777777777777778,
             "#fb9f3a"
            ],
            [
             0.8888888888888888,
             "#fdca26"
            ],
            [
             1,
             "#f0f921"
            ]
           ],
           "sequentialminus": [
            [
             0,
             "#0d0887"
            ],
            [
             0.1111111111111111,
             "#46039f"
            ],
            [
             0.2222222222222222,
             "#7201a8"
            ],
            [
             0.3333333333333333,
             "#9c179e"
            ],
            [
             0.4444444444444444,
             "#bd3786"
            ],
            [
             0.5555555555555556,
             "#d8576b"
            ],
            [
             0.6666666666666666,
             "#ed7953"
            ],
            [
             0.7777777777777778,
             "#fb9f3a"
            ],
            [
             0.8888888888888888,
             "#fdca26"
            ],
            [
             1,
             "#f0f921"
            ]
           ]
          },
          "colorway": [
           "#636efa",
           "#EF553B",
           "#00cc96",
           "#ab63fa",
           "#FFA15A",
           "#19d3f3",
           "#FF6692",
           "#B6E880",
           "#FF97FF",
           "#FECB52"
          ],
          "font": {
           "color": "#2a3f5f"
          },
          "geo": {
           "bgcolor": "white",
           "lakecolor": "white",
           "landcolor": "#E5ECF6",
           "showlakes": true,
           "showland": true,
           "subunitcolor": "white"
          },
          "hoverlabel": {
           "align": "left"
          },
          "hovermode": "closest",
          "mapbox": {
           "style": "light"
          },
          "paper_bgcolor": "white",
          "plot_bgcolor": "#E5ECF6",
          "polar": {
           "angularaxis": {
            "gridcolor": "white",
            "linecolor": "white",
            "ticks": ""
           },
           "bgcolor": "#E5ECF6",
           "radialaxis": {
            "gridcolor": "white",
            "linecolor": "white",
            "ticks": ""
           }
          },
          "scene": {
           "xaxis": {
            "backgroundcolor": "#E5ECF6",
            "gridcolor": "white",
            "gridwidth": 2,
            "linecolor": "white",
            "showbackground": true,
            "ticks": "",
            "zerolinecolor": "white"
           },
           "yaxis": {
            "backgroundcolor": "#E5ECF6",
            "gridcolor": "white",
            "gridwidth": 2,
            "linecolor": "white",
            "showbackground": true,
            "ticks": "",
            "zerolinecolor": "white"
           },
           "zaxis": {
            "backgroundcolor": "#E5ECF6",
            "gridcolor": "white",
            "gridwidth": 2,
            "linecolor": "white",
            "showbackground": true,
            "ticks": "",
            "zerolinecolor": "white"
           }
          },
          "shapedefaults": {
           "line": {
            "color": "#2a3f5f"
           }
          },
          "ternary": {
           "aaxis": {
            "gridcolor": "white",
            "linecolor": "white",
            "ticks": ""
           },
           "baxis": {
            "gridcolor": "white",
            "linecolor": "white",
            "ticks": ""
           },
           "bgcolor": "#E5ECF6",
           "caxis": {
            "gridcolor": "white",
            "linecolor": "white",
            "ticks": ""
           }
          },
          "title": {
           "x": 0.05
          },
          "xaxis": {
           "automargin": true,
           "gridcolor": "white",
           "linecolor": "white",
           "ticks": "",
           "zerolinecolor": "white",
           "zerolinewidth": 2
          },
          "yaxis": {
           "automargin": true,
           "gridcolor": "white",
           "linecolor": "white",
           "ticks": "",
           "zerolinecolor": "white",
           "zerolinewidth": 2
          }
         }
        }
       }
      },
      "text/html": [
       "<div>\n",
       "        \n",
       "        \n",
       "            <div id=\"3c4041fc-0f88-44e3-b836-e218a378e519\" class=\"plotly-graph-div\" style=\"height:525px; width:100%;\"></div>\n",
       "            <script type=\"text/javascript\">\n",
       "                require([\"plotly\"], function(Plotly) {\n",
       "                    window.PLOTLYENV=window.PLOTLYENV || {};\n",
       "                    \n",
       "                if (document.getElementById(\"3c4041fc-0f88-44e3-b836-e218a378e519\")) {\n",
       "                    Plotly.newPlot(\n",
       "                        '3c4041fc-0f88-44e3-b836-e218a378e519',\n",
       "                        [{\"orientation\": \"h\", \"type\": \"bar\", \"x\": [46592.0, 46051.0, 45573.0, 44824.0, 43909.0, 40394.0, 39333.0, 34382.0, 29058.0, 28226.0], \"y\": [\"elk grove village\", \"youngstown\", \"el paso\", \"warrenton\", \"clemson\", \"davis\", \"wailuku\", \"munhall\", \"dothan\", \"superior\"]}],\n",
       "                        {\"template\": {\"data\": {\"bar\": [{\"error_x\": {\"color\": \"#2a3f5f\"}, \"error_y\": {\"color\": \"#2a3f5f\"}, \"marker\": {\"line\": {\"color\": \"#E5ECF6\", \"width\": 0.5}}, \"type\": \"bar\"}], \"barpolar\": [{\"marker\": {\"line\": {\"color\": \"#E5ECF6\", \"width\": 0.5}}, \"type\": \"barpolar\"}], \"carpet\": [{\"aaxis\": {\"endlinecolor\": \"#2a3f5f\", \"gridcolor\": \"white\", \"linecolor\": \"white\", \"minorgridcolor\": \"white\", \"startlinecolor\": \"#2a3f5f\"}, \"baxis\": {\"endlinecolor\": \"#2a3f5f\", \"gridcolor\": \"white\", \"linecolor\": \"white\", \"minorgridcolor\": \"white\", \"startlinecolor\": \"#2a3f5f\"}, \"type\": \"carpet\"}], \"choropleth\": [{\"colorbar\": {\"outlinewidth\": 0, \"ticks\": \"\"}, \"type\": \"choropleth\"}], \"contour\": [{\"colorbar\": {\"outlinewidth\": 0, \"ticks\": \"\"}, \"colorscale\": [[0.0, \"#0d0887\"], [0.1111111111111111, \"#46039f\"], [0.2222222222222222, \"#7201a8\"], [0.3333333333333333, \"#9c179e\"], [0.4444444444444444, \"#bd3786\"], [0.5555555555555556, \"#d8576b\"], [0.6666666666666666, \"#ed7953\"], [0.7777777777777778, \"#fb9f3a\"], [0.8888888888888888, \"#fdca26\"], [1.0, \"#f0f921\"]], \"type\": \"contour\"}], \"contourcarpet\": [{\"colorbar\": {\"outlinewidth\": 0, \"ticks\": \"\"}, \"type\": \"contourcarpet\"}], \"heatmap\": [{\"colorbar\": {\"outlinewidth\": 0, \"ticks\": \"\"}, \"colorscale\": [[0.0, \"#0d0887\"], [0.1111111111111111, \"#46039f\"], [0.2222222222222222, \"#7201a8\"], [0.3333333333333333, \"#9c179e\"], [0.4444444444444444, \"#bd3786\"], [0.5555555555555556, \"#d8576b\"], [0.6666666666666666, \"#ed7953\"], [0.7777777777777778, \"#fb9f3a\"], [0.8888888888888888, \"#fdca26\"], [1.0, \"#f0f921\"]], \"type\": \"heatmap\"}], \"heatmapgl\": [{\"colorbar\": {\"outlinewidth\": 0, \"ticks\": \"\"}, \"colorscale\": [[0.0, \"#0d0887\"], [0.1111111111111111, \"#46039f\"], [0.2222222222222222, \"#7201a8\"], [0.3333333333333333, \"#9c179e\"], [0.4444444444444444, \"#bd3786\"], [0.5555555555555556, \"#d8576b\"], [0.6666666666666666, \"#ed7953\"], [0.7777777777777778, \"#fb9f3a\"], [0.8888888888888888, \"#fdca26\"], [1.0, \"#f0f921\"]], \"type\": \"heatmapgl\"}], \"histogram\": [{\"marker\": {\"colorbar\": {\"outlinewidth\": 0, \"ticks\": \"\"}}, \"type\": \"histogram\"}], \"histogram2d\": [{\"colorbar\": {\"outlinewidth\": 0, \"ticks\": \"\"}, \"colorscale\": [[0.0, \"#0d0887\"], [0.1111111111111111, \"#46039f\"], [0.2222222222222222, \"#7201a8\"], [0.3333333333333333, \"#9c179e\"], [0.4444444444444444, \"#bd3786\"], [0.5555555555555556, \"#d8576b\"], [0.6666666666666666, \"#ed7953\"], [0.7777777777777778, \"#fb9f3a\"], [0.8888888888888888, \"#fdca26\"], [1.0, \"#f0f921\"]], \"type\": \"histogram2d\"}], \"histogram2dcontour\": [{\"colorbar\": {\"outlinewidth\": 0, \"ticks\": \"\"}, \"colorscale\": [[0.0, \"#0d0887\"], [0.1111111111111111, \"#46039f\"], [0.2222222222222222, \"#7201a8\"], [0.3333333333333333, \"#9c179e\"], [0.4444444444444444, \"#bd3786\"], [0.5555555555555556, \"#d8576b\"], [0.6666666666666666, \"#ed7953\"], [0.7777777777777778, \"#fb9f3a\"], [0.8888888888888888, \"#fdca26\"], [1.0, \"#f0f921\"]], \"type\": \"histogram2dcontour\"}], \"mesh3d\": [{\"colorbar\": {\"outlinewidth\": 0, \"ticks\": \"\"}, \"type\": \"mesh3d\"}], \"parcoords\": [{\"line\": {\"colorbar\": {\"outlinewidth\": 0, \"ticks\": \"\"}}, \"type\": \"parcoords\"}], \"scatter\": [{\"marker\": {\"colorbar\": {\"outlinewidth\": 0, \"ticks\": \"\"}}, \"type\": \"scatter\"}], \"scatter3d\": [{\"line\": {\"colorbar\": {\"outlinewidth\": 0, \"ticks\": \"\"}}, \"marker\": {\"colorbar\": {\"outlinewidth\": 0, \"ticks\": \"\"}}, \"type\": \"scatter3d\"}], \"scattercarpet\": [{\"marker\": {\"colorbar\": {\"outlinewidth\": 0, \"ticks\": \"\"}}, \"type\": \"scattercarpet\"}], \"scattergeo\": [{\"marker\": {\"colorbar\": {\"outlinewidth\": 0, \"ticks\": \"\"}}, \"type\": \"scattergeo\"}], \"scattergl\": [{\"marker\": {\"colorbar\": {\"outlinewidth\": 0, \"ticks\": \"\"}}, \"type\": \"scattergl\"}], \"scattermapbox\": [{\"marker\": {\"colorbar\": {\"outlinewidth\": 0, \"ticks\": \"\"}}, \"type\": \"scattermapbox\"}], \"scatterpolar\": [{\"marker\": {\"colorbar\": {\"outlinewidth\": 0, \"ticks\": \"\"}}, \"type\": \"scatterpolar\"}], \"scatterpolargl\": [{\"marker\": {\"colorbar\": {\"outlinewidth\": 0, \"ticks\": \"\"}}, \"type\": \"scatterpolargl\"}], \"scatterternary\": [{\"marker\": {\"colorbar\": {\"outlinewidth\": 0, \"ticks\": \"\"}}, \"type\": \"scatterternary\"}], \"surface\": [{\"colorbar\": {\"outlinewidth\": 0, \"ticks\": \"\"}, \"colorscale\": [[0.0, \"#0d0887\"], [0.1111111111111111, \"#46039f\"], [0.2222222222222222, \"#7201a8\"], [0.3333333333333333, \"#9c179e\"], [0.4444444444444444, \"#bd3786\"], [0.5555555555555556, \"#d8576b\"], [0.6666666666666666, \"#ed7953\"], [0.7777777777777778, \"#fb9f3a\"], [0.8888888888888888, \"#fdca26\"], [1.0, \"#f0f921\"]], \"type\": \"surface\"}], \"table\": [{\"cells\": {\"fill\": {\"color\": \"#EBF0F8\"}, \"line\": {\"color\": \"white\"}}, \"header\": {\"fill\": {\"color\": \"#C8D4E3\"}, \"line\": {\"color\": \"white\"}}, \"type\": \"table\"}]}, \"layout\": {\"annotationdefaults\": {\"arrowcolor\": \"#2a3f5f\", \"arrowhead\": 0, \"arrowwidth\": 1}, \"colorscale\": {\"diverging\": [[0, \"#8e0152\"], [0.1, \"#c51b7d\"], [0.2, \"#de77ae\"], [0.3, \"#f1b6da\"], [0.4, \"#fde0ef\"], [0.5, \"#f7f7f7\"], [0.6, \"#e6f5d0\"], [0.7, \"#b8e186\"], [0.8, \"#7fbc41\"], [0.9, \"#4d9221\"], [1, \"#276419\"]], \"sequential\": [[0.0, \"#0d0887\"], [0.1111111111111111, \"#46039f\"], [0.2222222222222222, \"#7201a8\"], [0.3333333333333333, \"#9c179e\"], [0.4444444444444444, \"#bd3786\"], [0.5555555555555556, \"#d8576b\"], [0.6666666666666666, \"#ed7953\"], [0.7777777777777778, \"#fb9f3a\"], [0.8888888888888888, \"#fdca26\"], [1.0, \"#f0f921\"]], \"sequentialminus\": [[0.0, \"#0d0887\"], [0.1111111111111111, \"#46039f\"], [0.2222222222222222, \"#7201a8\"], [0.3333333333333333, \"#9c179e\"], [0.4444444444444444, \"#bd3786\"], [0.5555555555555556, \"#d8576b\"], [0.6666666666666666, \"#ed7953\"], [0.7777777777777778, \"#fb9f3a\"], [0.8888888888888888, \"#fdca26\"], [1.0, \"#f0f921\"]]}, \"colorway\": [\"#636efa\", \"#EF553B\", \"#00cc96\", \"#ab63fa\", \"#FFA15A\", \"#19d3f3\", \"#FF6692\", \"#B6E880\", \"#FF97FF\", \"#FECB52\"], \"font\": {\"color\": \"#2a3f5f\"}, \"geo\": {\"bgcolor\": \"white\", \"lakecolor\": \"white\", \"landcolor\": \"#E5ECF6\", \"showlakes\": true, \"showland\": true, \"subunitcolor\": \"white\"}, \"hoverlabel\": {\"align\": \"left\"}, \"hovermode\": \"closest\", \"mapbox\": {\"style\": \"light\"}, \"paper_bgcolor\": \"white\", \"plot_bgcolor\": \"#E5ECF6\", \"polar\": {\"angularaxis\": {\"gridcolor\": \"white\", \"linecolor\": \"white\", \"ticks\": \"\"}, \"bgcolor\": \"#E5ECF6\", \"radialaxis\": {\"gridcolor\": \"white\", \"linecolor\": \"white\", \"ticks\": \"\"}}, \"scene\": {\"xaxis\": {\"backgroundcolor\": \"#E5ECF6\", \"gridcolor\": \"white\", \"gridwidth\": 2, \"linecolor\": \"white\", \"showbackground\": true, \"ticks\": \"\", \"zerolinecolor\": \"white\"}, \"yaxis\": {\"backgroundcolor\": \"#E5ECF6\", \"gridcolor\": \"white\", \"gridwidth\": 2, \"linecolor\": \"white\", \"showbackground\": true, \"ticks\": \"\", \"zerolinecolor\": \"white\"}, \"zaxis\": {\"backgroundcolor\": \"#E5ECF6\", \"gridcolor\": \"white\", \"gridwidth\": 2, \"linecolor\": \"white\", \"showbackground\": true, \"ticks\": \"\", \"zerolinecolor\": \"white\"}}, \"shapedefaults\": {\"line\": {\"color\": \"#2a3f5f\"}}, \"ternary\": {\"aaxis\": {\"gridcolor\": \"white\", \"linecolor\": \"white\", \"ticks\": \"\"}, \"baxis\": {\"gridcolor\": \"white\", \"linecolor\": \"white\", \"ticks\": \"\"}, \"bgcolor\": \"#E5ECF6\", \"caxis\": {\"gridcolor\": \"white\", \"linecolor\": \"white\", \"ticks\": \"\"}}, \"title\": {\"x\": 0.05}, \"xaxis\": {\"automargin\": true, \"gridcolor\": \"white\", \"linecolor\": \"white\", \"ticks\": \"\", \"zerolinecolor\": \"white\", \"zerolinewidth\": 2}, \"yaxis\": {\"automargin\": true, \"gridcolor\": \"white\", \"linecolor\": \"white\", \"ticks\": \"\", \"zerolinecolor\": \"white\", \"zerolinewidth\": 2}}}},\n",
       "                        {\"responsive\": true}\n",
       "                    ).then(function(){\n",
       "                            \n",
       "var gd = document.getElementById('3c4041fc-0f88-44e3-b836-e218a378e519');\n",
       "var x = new MutationObserver(function (mutations, observer) {{\n",
       "        var display = window.getComputedStyle(gd).display;\n",
       "        if (!display || display === 'none') {{\n",
       "            console.log([gd, 'removed!']);\n",
       "            Plotly.purge(gd);\n",
       "            observer.disconnect();\n",
       "        }}\n",
       "}});\n",
       "\n",
       "// Listen for the removal of the full notebook cells\n",
       "var notebookContainer = gd.closest('#notebook-container');\n",
       "if (notebookContainer) {{\n",
       "    x.observe(notebookContainer, {childList: true});\n",
       "}}\n",
       "\n",
       "// Listen for the clearing of the current output cell\n",
       "var outputEl = gd.closest('.output');\n",
       "if (outputEl) {{\n",
       "    x.observe(outputEl, {childList: true});\n",
       "}}\n",
       "\n",
       "                        })\n",
       "                };\n",
       "                });\n",
       "            </script>\n",
       "        </div>"
      ]
     },
     "metadata": {},
     "output_type": "display_data"
    }
   ],
   "source": [
    "fig = go.Figure(go.Bar(\n",
    "            x=sample.groupby('employer_city').mean()[['prevailing_wage']].sort_values('prevailing_wage')[:10]['prevailing_wage'][::-1],\n",
    "            y=sample.groupby('employer_city').mean()[['prevailing_wage']].sort_values('prevailing_wage')[:10].index[::-1],\n",
    "            orientation='h'))\n",
    "\n",
    "fig.show()"
   ]
  },
  {
   "cell_type": "code",
   "execution_count": 8,
   "metadata": {},
   "outputs": [
    {
     "data": {
      "text/plain": [
       "'name.html'"
      ]
     },
     "execution_count": 8,
     "metadata": {},
     "output_type": "execute_result"
    }
   ],
   "source": [
    "plotly.offline.plot(fig, filename='name.html')"
   ]
  },
  {
   "cell_type": "code",
   "execution_count": 41,
   "metadata": {},
   "outputs": [
    {
     "data": {
      "text/html": [
       "<div>\n",
       "<style scoped>\n",
       "    .dataframe tbody tr th:only-of-type {\n",
       "        vertical-align: middle;\n",
       "    }\n",
       "\n",
       "    .dataframe tbody tr th {\n",
       "        vertical-align: top;\n",
       "    }\n",
       "\n",
       "    .dataframe thead th {\n",
       "        text-align: right;\n",
       "    }\n",
       "</style>\n",
       "<table border=\"1\" class=\"dataframe\">\n",
       "  <thead>\n",
       "    <tr style=\"text-align: right;\">\n",
       "      <th></th>\n",
       "      <th>Unnamed: 0</th>\n",
       "      <th>employer_name</th>\n",
       "      <th>employer_city</th>\n",
       "      <th>employer_state</th>\n",
       "      <th>job_title</th>\n",
       "      <th>prevailing_wage</th>\n",
       "      <th>employer_postal_code</th>\n",
       "    </tr>\n",
       "  </thead>\n",
       "  <tbody>\n",
       "    <tr>\n",
       "      <th>0</th>\n",
       "      <td>1</td>\n",
       "      <td>metasense inc.</td>\n",
       "      <td>west berlin</td>\n",
       "      <td>NJ</td>\n",
       "      <td>business analyst</td>\n",
       "      <td>69410.0</td>\n",
       "      <td>08091</td>\n",
       "    </tr>\n",
       "    <tr>\n",
       "      <th>1</th>\n",
       "      <td>33</td>\n",
       "      <td>summitworks technologies, inc.</td>\n",
       "      <td>south plainfield</td>\n",
       "      <td>NJ</td>\n",
       "      <td>software engineer</td>\n",
       "      <td>75504.0</td>\n",
       "      <td>07080</td>\n",
       "    </tr>\n",
       "    <tr>\n",
       "      <th>2</th>\n",
       "      <td>38</td>\n",
       "      <td>m.b. kahn construction co, inc.</td>\n",
       "      <td>columbia</td>\n",
       "      <td>SC</td>\n",
       "      <td>project manager</td>\n",
       "      <td>80683.0</td>\n",
       "      <td>29223</td>\n",
       "    </tr>\n",
       "    <tr>\n",
       "      <th>3</th>\n",
       "      <td>43</td>\n",
       "      <td>innova solutions, inc.</td>\n",
       "      <td>santa clara</td>\n",
       "      <td>CA</td>\n",
       "      <td>software engineer</td>\n",
       "      <td>133016.0</td>\n",
       "      <td>95054</td>\n",
       "    </tr>\n",
       "    <tr>\n",
       "      <th>4</th>\n",
       "      <td>52</td>\n",
       "      <td>caliber business systems inc.</td>\n",
       "      <td>south plainfield</td>\n",
       "      <td>NJ</td>\n",
       "      <td>business analyst</td>\n",
       "      <td>84926.0</td>\n",
       "      <td>07080</td>\n",
       "    </tr>\n",
       "    <tr>\n",
       "      <th>5</th>\n",
       "      <td>69</td>\n",
       "      <td>qualcomm atheros, inc.</td>\n",
       "      <td>san jose</td>\n",
       "      <td>CA</td>\n",
       "      <td>software engineer</td>\n",
       "      <td>99154.0</td>\n",
       "      <td>95110</td>\n",
       "    </tr>\n",
       "    <tr>\n",
       "      <th>6</th>\n",
       "      <td>74</td>\n",
       "      <td>pinterest, inc.</td>\n",
       "      <td>san francisco</td>\n",
       "      <td>CA</td>\n",
       "      <td>software engineer</td>\n",
       "      <td>121077.0</td>\n",
       "      <td>94107</td>\n",
       "    </tr>\n",
       "    <tr>\n",
       "      <th>7</th>\n",
       "      <td>86</td>\n",
       "      <td>birlasoft inc</td>\n",
       "      <td>edison</td>\n",
       "      <td>NJ</td>\n",
       "      <td>software engineer</td>\n",
       "      <td>87235.0</td>\n",
       "      <td>08837</td>\n",
       "    </tr>\n",
       "    <tr>\n",
       "      <th>8</th>\n",
       "      <td>95</td>\n",
       "      <td>hexaware technologies, inc.</td>\n",
       "      <td>iselin</td>\n",
       "      <td>NJ</td>\n",
       "      <td>software engineer</td>\n",
       "      <td>57283.0</td>\n",
       "      <td>08830</td>\n",
       "    </tr>\n",
       "    <tr>\n",
       "      <th>9</th>\n",
       "      <td>120</td>\n",
       "      <td>priserve consulting inc</td>\n",
       "      <td>houston</td>\n",
       "      <td>TX</td>\n",
       "      <td>business analyst</td>\n",
       "      <td>77979.0</td>\n",
       "      <td>77079</td>\n",
       "    </tr>\n",
       "    <tr>\n",
       "      <th>10</th>\n",
       "      <td>125</td>\n",
       "      <td>wayfair llc</td>\n",
       "      <td>boston</td>\n",
       "      <td>MA</td>\n",
       "      <td>software engineer</td>\n",
       "      <td>87859.0</td>\n",
       "      <td>02116</td>\n",
       "    </tr>\n",
       "    <tr>\n",
       "      <th>11</th>\n",
       "      <td>146</td>\n",
       "      <td>microsoft corporation</td>\n",
       "      <td>redmond</td>\n",
       "      <td>WA</td>\n",
       "      <td>software engineer</td>\n",
       "      <td>88733.0</td>\n",
       "      <td>98052</td>\n",
       "    </tr>\n",
       "    <tr>\n",
       "      <th>12</th>\n",
       "      <td>164</td>\n",
       "      <td>arka technologies inc</td>\n",
       "      <td>miami</td>\n",
       "      <td>FL</td>\n",
       "      <td>software engineer</td>\n",
       "      <td>66643.0</td>\n",
       "      <td>33131</td>\n",
       "    </tr>\n",
       "    <tr>\n",
       "      <th>13</th>\n",
       "      <td>168</td>\n",
       "      <td>bed bath &amp; beyond inc.</td>\n",
       "      <td>union</td>\n",
       "      <td>NJ</td>\n",
       "      <td>data scientist</td>\n",
       "      <td>96720.0</td>\n",
       "      <td>07083</td>\n",
       "    </tr>\n",
       "    <tr>\n",
       "      <th>14</th>\n",
       "      <td>173</td>\n",
       "      <td>pathpartner technology inc.</td>\n",
       "      <td>fremont</td>\n",
       "      <td>CA</td>\n",
       "      <td>software engineer</td>\n",
       "      <td>108576.0</td>\n",
       "      <td>94538</td>\n",
       "    </tr>\n",
       "    <tr>\n",
       "      <th>15</th>\n",
       "      <td>181</td>\n",
       "      <td>3i infotech, inc.</td>\n",
       "      <td>edison</td>\n",
       "      <td>NJ</td>\n",
       "      <td>data scientist</td>\n",
       "      <td>69722.0</td>\n",
       "      <td>08837</td>\n",
       "    </tr>\n",
       "    <tr>\n",
       "      <th>16</th>\n",
       "      <td>182</td>\n",
       "      <td>deloitte consulting llp</td>\n",
       "      <td>philadelphia</td>\n",
       "      <td>PA</td>\n",
       "      <td>consultant</td>\n",
       "      <td>64230.0</td>\n",
       "      <td>19103</td>\n",
       "    </tr>\n",
       "    <tr>\n",
       "      <th>17</th>\n",
       "      <td>232</td>\n",
       "      <td>j.b. hunt transport, inc.</td>\n",
       "      <td>lowell</td>\n",
       "      <td>AR</td>\n",
       "      <td>software engineer</td>\n",
       "      <td>91291.0</td>\n",
       "      <td>72745</td>\n",
       "    </tr>\n",
       "    <tr>\n",
       "      <th>18</th>\n",
       "      <td>234</td>\n",
       "      <td>sigma software llc</td>\n",
       "      <td>dallas</td>\n",
       "      <td>TX</td>\n",
       "      <td>software engineer</td>\n",
       "      <td>78624.0</td>\n",
       "      <td>75234</td>\n",
       "    </tr>\n",
       "    <tr>\n",
       "      <th>19</th>\n",
       "      <td>245</td>\n",
       "      <td>cloudera, inc.</td>\n",
       "      <td>palo alto</td>\n",
       "      <td>CA</td>\n",
       "      <td>software engineer</td>\n",
       "      <td>122533.0</td>\n",
       "      <td>94304</td>\n",
       "    </tr>\n",
       "    <tr>\n",
       "      <th>20</th>\n",
       "      <td>250</td>\n",
       "      <td>adara, inc.</td>\n",
       "      <td>palo alto</td>\n",
       "      <td>CA</td>\n",
       "      <td>software engineer</td>\n",
       "      <td>88733.0</td>\n",
       "      <td>94303</td>\n",
       "    </tr>\n",
       "    <tr>\n",
       "      <th>21</th>\n",
       "      <td>255</td>\n",
       "      <td>intraedge, inc.</td>\n",
       "      <td>chandler</td>\n",
       "      <td>AZ</td>\n",
       "      <td>software engineer</td>\n",
       "      <td>78021.0</td>\n",
       "      <td>85226</td>\n",
       "    </tr>\n",
       "    <tr>\n",
       "      <th>22</th>\n",
       "      <td>258</td>\n",
       "      <td>spectrum logix, inc</td>\n",
       "      <td>farmington hills</td>\n",
       "      <td>MI</td>\n",
       "      <td>software engineer</td>\n",
       "      <td>92768.0</td>\n",
       "      <td>48335</td>\n",
       "    </tr>\n",
       "    <tr>\n",
       "      <th>23</th>\n",
       "      <td>286</td>\n",
       "      <td>syntel inc</td>\n",
       "      <td>troy</td>\n",
       "      <td>MI</td>\n",
       "      <td>project manager</td>\n",
       "      <td>63939.0</td>\n",
       "      <td>48083</td>\n",
       "    </tr>\n",
       "    <tr>\n",
       "      <th>24</th>\n",
       "      <td>288</td>\n",
       "      <td>avigo solutions, llc</td>\n",
       "      <td>burlington</td>\n",
       "      <td>MA</td>\n",
       "      <td>data scientist</td>\n",
       "      <td>87859.0</td>\n",
       "      <td>01803</td>\n",
       "    </tr>\n",
       "    <tr>\n",
       "      <th>25</th>\n",
       "      <td>340</td>\n",
       "      <td>tata consultancy services limited</td>\n",
       "      <td>rockville</td>\n",
       "      <td>MD</td>\n",
       "      <td>project manager</td>\n",
       "      <td>88317.0</td>\n",
       "      <td>20850</td>\n",
       "    </tr>\n",
       "    <tr>\n",
       "      <th>26</th>\n",
       "      <td>341</td>\n",
       "      <td>pioneer corporate services inc</td>\n",
       "      <td>ashburn</td>\n",
       "      <td>VA</td>\n",
       "      <td>software engineer</td>\n",
       "      <td>90646.0</td>\n",
       "      <td>20147</td>\n",
       "    </tr>\n",
       "    <tr>\n",
       "      <th>27</th>\n",
       "      <td>352</td>\n",
       "      <td>deloitte consulting llp</td>\n",
       "      <td>philadelphia</td>\n",
       "      <td>PA</td>\n",
       "      <td>consultant</td>\n",
       "      <td>77189.0</td>\n",
       "      <td>19103</td>\n",
       "    </tr>\n",
       "    <tr>\n",
       "      <th>28</th>\n",
       "      <td>371</td>\n",
       "      <td>houzz, inc.</td>\n",
       "      <td>palo alto</td>\n",
       "      <td>CA</td>\n",
       "      <td>business analyst</td>\n",
       "      <td>89960.0</td>\n",
       "      <td>94301</td>\n",
       "    </tr>\n",
       "    <tr>\n",
       "      <th>29</th>\n",
       "      <td>385</td>\n",
       "      <td>dotcom team, llc</td>\n",
       "      <td>braintree</td>\n",
       "      <td>MA</td>\n",
       "      <td>software engineer</td>\n",
       "      <td>72571.0</td>\n",
       "      <td>02184</td>\n",
       "    </tr>\n",
       "    <tr>\n",
       "      <th>...</th>\n",
       "      <td>...</td>\n",
       "      <td>...</td>\n",
       "      <td>...</td>\n",
       "      <td>...</td>\n",
       "      <td>...</td>\n",
       "      <td>...</td>\n",
       "      <td>...</td>\n",
       "    </tr>\n",
       "    <tr>\n",
       "      <th>46914</th>\n",
       "      <td>653946</td>\n",
       "      <td>spa enterprise services inc.</td>\n",
       "      <td>cumming</td>\n",
       "      <td>GA</td>\n",
       "      <td>software engineer</td>\n",
       "      <td>83366.0</td>\n",
       "      <td>30041</td>\n",
       "    </tr>\n",
       "    <tr>\n",
       "      <th>46915</th>\n",
       "      <td>653959</td>\n",
       "      <td>mindtree limited</td>\n",
       "      <td>warren</td>\n",
       "      <td>NJ</td>\n",
       "      <td>business analyst</td>\n",
       "      <td>82410.0</td>\n",
       "      <td>07059</td>\n",
       "    </tr>\n",
       "    <tr>\n",
       "      <th>46916</th>\n",
       "      <td>653983</td>\n",
       "      <td>miracle software sysytems inc</td>\n",
       "      <td>novi</td>\n",
       "      <td>MI</td>\n",
       "      <td>software engineer</td>\n",
       "      <td>56534.0</td>\n",
       "      <td>48374</td>\n",
       "    </tr>\n",
       "    <tr>\n",
       "      <th>46917</th>\n",
       "      <td>654003</td>\n",
       "      <td>deloitte consulting llp</td>\n",
       "      <td>philadelphia</td>\n",
       "      <td>PA</td>\n",
       "      <td>consultant</td>\n",
       "      <td>60341.0</td>\n",
       "      <td>19103</td>\n",
       "    </tr>\n",
       "    <tr>\n",
       "      <th>46918</th>\n",
       "      <td>654006</td>\n",
       "      <td>yourpeople, inc.</td>\n",
       "      <td>san francisco</td>\n",
       "      <td>CA</td>\n",
       "      <td>software engineer</td>\n",
       "      <td>122429.0</td>\n",
       "      <td>94107</td>\n",
       "    </tr>\n",
       "    <tr>\n",
       "      <th>46919</th>\n",
       "      <td>654014</td>\n",
       "      <td>wipro limited</td>\n",
       "      <td>east brunswick</td>\n",
       "      <td>NJ</td>\n",
       "      <td>consultant</td>\n",
       "      <td>61818.0</td>\n",
       "      <td>08816</td>\n",
       "    </tr>\n",
       "    <tr>\n",
       "      <th>46920</th>\n",
       "      <td>654019</td>\n",
       "      <td>lumaco u.s., llc.</td>\n",
       "      <td>north charleston</td>\n",
       "      <td>SC</td>\n",
       "      <td>project manager</td>\n",
       "      <td>68806.0</td>\n",
       "      <td>29405</td>\n",
       "    </tr>\n",
       "    <tr>\n",
       "      <th>46921</th>\n",
       "      <td>654053</td>\n",
       "      <td>nant health, inc.</td>\n",
       "      <td>culver city</td>\n",
       "      <td>CA</td>\n",
       "      <td>software engineer</td>\n",
       "      <td>87859.0</td>\n",
       "      <td>90232</td>\n",
       "    </tr>\n",
       "    <tr>\n",
       "      <th>46922</th>\n",
       "      <td>654064</td>\n",
       "      <td>genius minds llc</td>\n",
       "      <td>tacoma</td>\n",
       "      <td>WA</td>\n",
       "      <td>business analyst</td>\n",
       "      <td>60341.0</td>\n",
       "      <td>98402</td>\n",
       "    </tr>\n",
       "    <tr>\n",
       "      <th>46923</th>\n",
       "      <td>654081</td>\n",
       "      <td>codesmart inc.</td>\n",
       "      <td>lacey</td>\n",
       "      <td>WA</td>\n",
       "      <td>software engineer</td>\n",
       "      <td>76482.0</td>\n",
       "      <td>98516</td>\n",
       "    </tr>\n",
       "    <tr>\n",
       "      <th>46924</th>\n",
       "      <td>654085</td>\n",
       "      <td>clearlite, inc.</td>\n",
       "      <td>south plainfield</td>\n",
       "      <td>NJ</td>\n",
       "      <td>software engineer</td>\n",
       "      <td>83366.0</td>\n",
       "      <td>07080</td>\n",
       "    </tr>\n",
       "    <tr>\n",
       "      <th>46925</th>\n",
       "      <td>654088</td>\n",
       "      <td>microsoft corporation</td>\n",
       "      <td>redmond</td>\n",
       "      <td>WA</td>\n",
       "      <td>software engineer</td>\n",
       "      <td>93038.0</td>\n",
       "      <td>98052</td>\n",
       "    </tr>\n",
       "    <tr>\n",
       "      <th>46926</th>\n",
       "      <td>654091</td>\n",
       "      <td>mindtree limited</td>\n",
       "      <td>warren</td>\n",
       "      <td>NJ</td>\n",
       "      <td>software engineer</td>\n",
       "      <td>62338.0</td>\n",
       "      <td>07059</td>\n",
       "    </tr>\n",
       "    <tr>\n",
       "      <th>46927</th>\n",
       "      <td>654094</td>\n",
       "      <td>new england it associates, inc</td>\n",
       "      <td>burlington</td>\n",
       "      <td>MA</td>\n",
       "      <td>business analyst</td>\n",
       "      <td>66227.0</td>\n",
       "      <td>01803</td>\n",
       "    </tr>\n",
       "    <tr>\n",
       "      <th>46928</th>\n",
       "      <td>654096</td>\n",
       "      <td>capsovision inc.</td>\n",
       "      <td>saratoga</td>\n",
       "      <td>CA</td>\n",
       "      <td>software engineer</td>\n",
       "      <td>133016.0</td>\n",
       "      <td>95070</td>\n",
       "    </tr>\n",
       "    <tr>\n",
       "      <th>46929</th>\n",
       "      <td>654119</td>\n",
       "      <td>imperative execution inc.</td>\n",
       "      <td>stamford</td>\n",
       "      <td>CT</td>\n",
       "      <td>software engineer</td>\n",
       "      <td>134805.0</td>\n",
       "      <td>06905</td>\n",
       "    </tr>\n",
       "    <tr>\n",
       "      <th>46930</th>\n",
       "      <td>654121</td>\n",
       "      <td>3k technologies, llc</td>\n",
       "      <td>milpitas</td>\n",
       "      <td>CA</td>\n",
       "      <td>business analyst</td>\n",
       "      <td>80683.0</td>\n",
       "      <td>95035</td>\n",
       "    </tr>\n",
       "    <tr>\n",
       "      <th>46931</th>\n",
       "      <td>654132</td>\n",
       "      <td>informed, inc.</td>\n",
       "      <td>san francisco</td>\n",
       "      <td>CA</td>\n",
       "      <td>software engineer</td>\n",
       "      <td>102669.0</td>\n",
       "      <td>94107</td>\n",
       "    </tr>\n",
       "    <tr>\n",
       "      <th>46932</th>\n",
       "      <td>654135</td>\n",
       "      <td>here north america, llc</td>\n",
       "      <td>chicago</td>\n",
       "      <td>IL</td>\n",
       "      <td>software engineer</td>\n",
       "      <td>88026.0</td>\n",
       "      <td>60606</td>\n",
       "    </tr>\n",
       "    <tr>\n",
       "      <th>46933</th>\n",
       "      <td>654155</td>\n",
       "      <td>google inc.</td>\n",
       "      <td>mountain view</td>\n",
       "      <td>CA</td>\n",
       "      <td>software engineer</td>\n",
       "      <td>120349.0</td>\n",
       "      <td>94043</td>\n",
       "    </tr>\n",
       "    <tr>\n",
       "      <th>46934</th>\n",
       "      <td>654157</td>\n",
       "      <td>deloitte consulting llp</td>\n",
       "      <td>philadelphia</td>\n",
       "      <td>PA</td>\n",
       "      <td>consultant</td>\n",
       "      <td>58864.0</td>\n",
       "      <td>19103</td>\n",
       "    </tr>\n",
       "    <tr>\n",
       "      <th>46935</th>\n",
       "      <td>654175</td>\n",
       "      <td>strategic solutions group, llc</td>\n",
       "      <td>needham</td>\n",
       "      <td>MA</td>\n",
       "      <td>business analyst</td>\n",
       "      <td>109075.0</td>\n",
       "      <td>02494</td>\n",
       "    </tr>\n",
       "    <tr>\n",
       "      <th>46936</th>\n",
       "      <td>654182</td>\n",
       "      <td>hitachi consulting corporation</td>\n",
       "      <td>dallas</td>\n",
       "      <td>TX</td>\n",
       "      <td>software engineer</td>\n",
       "      <td>89232.0</td>\n",
       "      <td>75254</td>\n",
       "    </tr>\n",
       "    <tr>\n",
       "      <th>46937</th>\n",
       "      <td>654192</td>\n",
       "      <td>piper companies llc</td>\n",
       "      <td>mclean</td>\n",
       "      <td>VA</td>\n",
       "      <td>software engineer</td>\n",
       "      <td>107411.0</td>\n",
       "      <td>22102</td>\n",
       "    </tr>\n",
       "    <tr>\n",
       "      <th>46938</th>\n",
       "      <td>654196</td>\n",
       "      <td>ibm corporation</td>\n",
       "      <td>durham</td>\n",
       "      <td>NC</td>\n",
       "      <td>project manager</td>\n",
       "      <td>106808.0</td>\n",
       "      <td>27709</td>\n",
       "    </tr>\n",
       "    <tr>\n",
       "      <th>46939</th>\n",
       "      <td>654253</td>\n",
       "      <td>lyft, inc.</td>\n",
       "      <td>san francisco</td>\n",
       "      <td>CA</td>\n",
       "      <td>software engineer</td>\n",
       "      <td>122429.0</td>\n",
       "      <td>94107</td>\n",
       "    </tr>\n",
       "    <tr>\n",
       "      <th>46940</th>\n",
       "      <td>654262</td>\n",
       "      <td>scm data inc</td>\n",
       "      <td>herndon</td>\n",
       "      <td>VA</td>\n",
       "      <td>business analyst</td>\n",
       "      <td>81058.0</td>\n",
       "      <td>20171</td>\n",
       "    </tr>\n",
       "    <tr>\n",
       "      <th>46941</th>\n",
       "      <td>654291</td>\n",
       "      <td>world wide technology asynchrony labs, llc</td>\n",
       "      <td>st. louis</td>\n",
       "      <td>MO</td>\n",
       "      <td>software engineer</td>\n",
       "      <td>85925.0</td>\n",
       "      <td>63102</td>\n",
       "    </tr>\n",
       "    <tr>\n",
       "      <th>46942</th>\n",
       "      <td>654299</td>\n",
       "      <td>deloitte consulting llp</td>\n",
       "      <td>philadelphia</td>\n",
       "      <td>PA</td>\n",
       "      <td>consultant</td>\n",
       "      <td>60757.0</td>\n",
       "      <td>19103</td>\n",
       "    </tr>\n",
       "    <tr>\n",
       "      <th>46943</th>\n",
       "      <td>654353</td>\n",
       "      <td>nic info tek, inc</td>\n",
       "      <td>tampa</td>\n",
       "      <td>FL</td>\n",
       "      <td>software engineer</td>\n",
       "      <td>93309.0</td>\n",
       "      <td>33637</td>\n",
       "    </tr>\n",
       "  </tbody>\n",
       "</table>\n",
       "<p>46944 rows × 7 columns</p>\n",
       "</div>"
      ],
      "text/plain": [
       "       Unnamed: 0                               employer_name  \\\n",
       "0               1                              metasense inc.   \n",
       "1              33              summitworks technologies, inc.   \n",
       "2              38             m.b. kahn construction co, inc.   \n",
       "3              43                      innova solutions, inc.   \n",
       "4              52               caliber business systems inc.   \n",
       "...           ...                                         ...   \n",
       "46939      654253                                  lyft, inc.   \n",
       "46940      654262                                scm data inc   \n",
       "46941      654291  world wide technology asynchrony labs, llc   \n",
       "46942      654299                     deloitte consulting llp   \n",
       "46943      654353                           nic info tek, inc   \n",
       "\n",
       "          employer_city employer_state          job_title  prevailing_wage  \\\n",
       "0           west berlin             NJ   business analyst          69410.0   \n",
       "1      south plainfield             NJ  software engineer          75504.0   \n",
       "2              columbia             SC    project manager          80683.0   \n",
       "3           santa clara             CA  software engineer         133016.0   \n",
       "4      south plainfield             NJ   business analyst          84926.0   \n",
       "...                 ...            ...                ...              ...   \n",
       "46939     san francisco             CA  software engineer         122429.0   \n",
       "46940           herndon             VA   business analyst          81058.0   \n",
       "46941         st. louis             MO  software engineer          85925.0   \n",
       "46942      philadelphia             PA         consultant          60757.0   \n",
       "46943             tampa             FL  software engineer          93309.0   \n",
       "\n",
       "      employer_postal_code  \n",
       "0                    08091  \n",
       "1                    07080  \n",
       "2                    29223  \n",
       "3                    95054  \n",
       "4                    07080  \n",
       "...                    ...  \n",
       "46939                94107  \n",
       "46940                20171  \n",
       "46941                63102  \n",
       "46942                19103  \n",
       "46943                33637  \n",
       "\n",
       "[46944 rows x 7 columns]"
      ]
     },
     "execution_count": 41,
     "metadata": {},
     "output_type": "execute_result"
    }
   ],
   "source": [
    "sample.groupby('employer_city')"
   ]
  },
  {
   "cell_type": "code",
   "execution_count": 40,
   "metadata": {},
   "outputs": [
    {
     "data": {
      "text/html": [
       "<div>\n",
       "<style scoped>\n",
       "    .dataframe tbody tr th:only-of-type {\n",
       "        vertical-align: middle;\n",
       "    }\n",
       "\n",
       "    .dataframe tbody tr th {\n",
       "        vertical-align: top;\n",
       "    }\n",
       "\n",
       "    .dataframe thead th {\n",
       "        text-align: right;\n",
       "    }\n",
       "</style>\n",
       "<table border=\"1\" class=\"dataframe\">\n",
       "  <thead>\n",
       "    <tr style=\"text-align: right;\">\n",
       "      <th></th>\n",
       "      <th>name</th>\n",
       "      <th>pop</th>\n",
       "      <th>lat</th>\n",
       "      <th>lon</th>\n",
       "      <th>text</th>\n",
       "    </tr>\n",
       "  </thead>\n",
       "  <tbody>\n",
       "    <tr>\n",
       "      <th>0</th>\n",
       "      <td>New York</td>\n",
       "      <td>8287238</td>\n",
       "      <td>40.730599</td>\n",
       "      <td>-73.986581</td>\n",
       "      <td>New York &lt;br&gt;Population 8.287238 million</td>\n",
       "    </tr>\n",
       "    <tr>\n",
       "      <th>1</th>\n",
       "      <td>Los Angeles</td>\n",
       "      <td>3826423</td>\n",
       "      <td>34.053717</td>\n",
       "      <td>-118.242727</td>\n",
       "      <td>Los Angeles &lt;br&gt;Population 3.826423 million</td>\n",
       "    </tr>\n",
       "    <tr>\n",
       "      <th>2</th>\n",
       "      <td>Chicago</td>\n",
       "      <td>2705627</td>\n",
       "      <td>41.875555</td>\n",
       "      <td>-87.624421</td>\n",
       "      <td>Chicago &lt;br&gt;Population 2.705627 million</td>\n",
       "    </tr>\n",
       "    <tr>\n",
       "      <th>3</th>\n",
       "      <td>Houston</td>\n",
       "      <td>2129784</td>\n",
       "      <td>29.758938</td>\n",
       "      <td>-95.367697</td>\n",
       "      <td>Houston &lt;br&gt;Population 2.129784 million</td>\n",
       "    </tr>\n",
       "    <tr>\n",
       "      <th>4</th>\n",
       "      <td>Philadelphia</td>\n",
       "      <td>1539313</td>\n",
       "      <td>39.952335</td>\n",
       "      <td>-75.163789</td>\n",
       "      <td>Philadelphia &lt;br&gt;Population 1.539313 million</td>\n",
       "    </tr>\n",
       "  </tbody>\n",
       "</table>\n",
       "</div>"
      ],
      "text/plain": [
       "            name      pop        lat         lon  \\\n",
       "0      New York   8287238  40.730599  -73.986581   \n",
       "1   Los Angeles   3826423  34.053717 -118.242727   \n",
       "2       Chicago   2705627  41.875555  -87.624421   \n",
       "3       Houston   2129784  29.758938  -95.367697   \n",
       "4  Philadelphia   1539313  39.952335  -75.163789   \n",
       "\n",
       "                                           text  \n",
       "0      New York <br>Population 8.287238 million  \n",
       "1   Los Angeles <br>Population 3.826423 million  \n",
       "2       Chicago <br>Population 2.705627 million  \n",
       "3       Houston <br>Population 2.129784 million  \n",
       "4  Philadelphia <br>Population 1.539313 million  "
      ]
     },
     "execution_count": 40,
     "metadata": {},
     "output_type": "execute_result"
    }
   ],
   "source": [
    "df.head()"
   ]
  },
  {
   "cell_type": "code",
   "execution_count": 42,
   "metadata": {},
   "outputs": [
    {
     "data": {
      "text/plain": [
       "(3228, 5)"
      ]
     },
     "execution_count": 42,
     "metadata": {},
     "output_type": "execute_result"
    }
   ],
   "source": [
    "df.shape"
   ]
  },
  {
   "cell_type": "code",
   "execution_count": 43,
   "metadata": {},
   "outputs": [
    {
     "data": {
      "text/plain": [
       "2741"
      ]
     },
     "execution_count": 43,
     "metadata": {},
     "output_type": "execute_result"
    }
   ],
   "source": [
    "df['name'].nunique()"
   ]
  },
  {
   "cell_type": "code",
   "execution_count": 69,
   "metadata": {},
   "outputs": [],
   "source": [
    "import geopandas\n",
    "from geopy.geocoders import Nominatim"
   ]
  },
  {
   "cell_type": "code",
   "execution_count": 72,
   "metadata": {},
   "outputs": [],
   "source": [
    "locator = Nominatim(user_agent=\"myGeocoder\")\n",
    "location = locator.geocode(\"tampa, FL\")"
   ]
  },
  {
   "cell_type": "code",
   "execution_count": 75,
   "metadata": {},
   "outputs": [
    {
     "data": {
      "text/plain": [
       "-82.458444"
      ]
     },
     "execution_count": 75,
     "metadata": {},
     "output_type": "execute_result"
    }
   ],
   "source": [
    "location.longitude"
   ]
  },
  {
   "cell_type": "code",
   "execution_count": null,
   "metadata": {},
   "outputs": [],
   "source": [
    "# This code returns the complete address but it takes forever to run because it makes requests\n",
    "\n",
    "# lat,lon = [],[]\n",
    "# for city,state in tqdm(zip(sample['employer_city'],sample['employer_state'])):\n",
    "#     addr = city+', '+state\n",
    "#     locator = Nominatim(user_agent=\"myGeocoder\")\n",
    "#     location = locator.geocode(\"tampa, FL\")\n",
    "#     lat.append(location.latitude)\n",
    "#     lon.append(location.longitude)"
   ]
  },
  {
   "cell_type": "code",
   "execution_count": 82,
   "metadata": {},
   "outputs": [],
   "source": [
    "sample.drop('Unnamed: 0',axis=1,inplace=True)"
   ]
  },
  {
   "cell_type": "code",
   "execution_count": 99,
   "metadata": {},
   "outputs": [],
   "source": [
    "sample.columns = [sample.columns[0]] + ['name'] +sample.columns[2:].tolist()"
   ]
  },
  {
   "cell_type": "code",
   "execution_count": 132,
   "metadata": {},
   "outputs": [],
   "source": [
    "df['name'] = [x.lower().strip() for x in df['name']]"
   ]
  },
  {
   "cell_type": "code",
   "execution_count": 133,
   "metadata": {},
   "outputs": [],
   "source": [
    "df = pd.merge(sample,df,on='name',how='left')"
   ]
  },
  {
   "cell_type": "code",
   "execution_count": 137,
   "metadata": {},
   "outputs": [],
   "source": [
    "df = df.dropna()"
   ]
  },
  {
   "cell_type": "code",
   "execution_count": 131,
   "metadata": {},
   "outputs": [
    {
     "data": {
      "text/html": [
       "<div>\n",
       "<style scoped>\n",
       "    .dataframe tbody tr th:only-of-type {\n",
       "        vertical-align: middle;\n",
       "    }\n",
       "\n",
       "    .dataframe tbody tr th {\n",
       "        vertical-align: top;\n",
       "    }\n",
       "\n",
       "    .dataframe thead th {\n",
       "        text-align: right;\n",
       "    }\n",
       "</style>\n",
       "<table border=\"1\" class=\"dataframe\">\n",
       "  <thead>\n",
       "    <tr style=\"text-align: right;\">\n",
       "      <th></th>\n",
       "      <th>name</th>\n",
       "      <th>pop</th>\n",
       "      <th>lat</th>\n",
       "      <th>lon</th>\n",
       "    </tr>\n",
       "  </thead>\n",
       "  <tbody>\n",
       "    <tr>\n",
       "      <th>0</th>\n",
       "      <td>New York</td>\n",
       "      <td>8287238</td>\n",
       "      <td>40.730599</td>\n",
       "      <td>-73.986581</td>\n",
       "    </tr>\n",
       "    <tr>\n",
       "      <th>1</th>\n",
       "      <td>Los Angeles</td>\n",
       "      <td>3826423</td>\n",
       "      <td>34.053717</td>\n",
       "      <td>-118.242727</td>\n",
       "    </tr>\n",
       "    <tr>\n",
       "      <th>2</th>\n",
       "      <td>Chicago</td>\n",
       "      <td>2705627</td>\n",
       "      <td>41.875555</td>\n",
       "      <td>-87.624421</td>\n",
       "    </tr>\n",
       "    <tr>\n",
       "      <th>3</th>\n",
       "      <td>Houston</td>\n",
       "      <td>2129784</td>\n",
       "      <td>29.758938</td>\n",
       "      <td>-95.367697</td>\n",
       "    </tr>\n",
       "    <tr>\n",
       "      <th>4</th>\n",
       "      <td>Philadelphia</td>\n",
       "      <td>1539313</td>\n",
       "      <td>39.952335</td>\n",
       "      <td>-75.163789</td>\n",
       "    </tr>\n",
       "  </tbody>\n",
       "</table>\n",
       "</div>"
      ],
      "text/plain": [
       "            name      pop        lat         lon\n",
       "0      New York   8287238  40.730599  -73.986581\n",
       "1   Los Angeles   3826423  34.053717 -118.242727\n",
       "2       Chicago   2705627  41.875555  -87.624421\n",
       "3       Houston   2129784  29.758938  -95.367697\n",
       "4  Philadelphia   1539313  39.952335  -75.163789"
      ]
     },
     "execution_count": 131,
     "metadata": {},
     "output_type": "execute_result"
    }
   ],
   "source": [
    "df = pd.read_csv('https://raw.githubusercontent.com/plotly/datasets/master/2014_us_cities.csv')\n",
    "df.head()"
   ]
  },
  {
   "cell_type": "code",
   "execution_count": null,
   "metadata": {},
   "outputs": [],
   "source": [
    "sns.distplot(df[])"
   ]
  },
  {
   "cell_type": "code",
   "execution_count": 150,
   "metadata": {},
   "outputs": [
    {
     "data": {
      "text/html": [
       "<div>\n",
       "<style scoped>\n",
       "    .dataframe tbody tr th:only-of-type {\n",
       "        vertical-align: middle;\n",
       "    }\n",
       "\n",
       "    .dataframe tbody tr th {\n",
       "        vertical-align: top;\n",
       "    }\n",
       "\n",
       "    .dataframe thead th {\n",
       "        text-align: right;\n",
       "    }\n",
       "</style>\n",
       "<table border=\"1\" class=\"dataframe\">\n",
       "  <thead>\n",
       "    <tr style=\"text-align: right;\">\n",
       "      <th></th>\n",
       "      <th>employer_name</th>\n",
       "      <th>name</th>\n",
       "      <th>employer_state</th>\n",
       "      <th>job_title</th>\n",
       "      <th>prevailing_wage</th>\n",
       "      <th>employer_postal_code</th>\n",
       "      <th>pop</th>\n",
       "      <th>lat</th>\n",
       "      <th>lon</th>\n",
       "      <th>text</th>\n",
       "    </tr>\n",
       "  </thead>\n",
       "  <tbody>\n",
       "    <tr>\n",
       "      <th>3</th>\n",
       "      <td>innova solutions, inc.</td>\n",
       "      <td>santa clara</td>\n",
       "      <td>CA</td>\n",
       "      <td>software engineer</td>\n",
       "      <td>133016.0</td>\n",
       "      <td>95054</td>\n",
       "      <td>118010.0</td>\n",
       "      <td>37.354113</td>\n",
       "      <td>-121.955174</td>\n",
       "      <td>santa clara&lt;br&gt;Salary 133.016 thousand</td>\n",
       "    </tr>\n",
       "    <tr>\n",
       "      <th>5</th>\n",
       "      <td>qualcomm atheros, inc.</td>\n",
       "      <td>san jose</td>\n",
       "      <td>CA</td>\n",
       "      <td>software engineer</td>\n",
       "      <td>99154.0</td>\n",
       "      <td>95110</td>\n",
       "      <td>971495.0</td>\n",
       "      <td>37.343850</td>\n",
       "      <td>-121.883135</td>\n",
       "      <td>san jose&lt;br&gt;Salary 99.154 thousand</td>\n",
       "    </tr>\n",
       "    <tr>\n",
       "      <th>6</th>\n",
       "      <td>pinterest, inc.</td>\n",
       "      <td>san francisco</td>\n",
       "      <td>CA</td>\n",
       "      <td>software engineer</td>\n",
       "      <td>121077.0</td>\n",
       "      <td>94107</td>\n",
       "      <td>816239.0</td>\n",
       "      <td>37.779277</td>\n",
       "      <td>-122.419270</td>\n",
       "      <td>san francisco&lt;br&gt;Salary 121.077 thousand</td>\n",
       "    </tr>\n",
       "    <tr>\n",
       "      <th>9</th>\n",
       "      <td>priserve consulting inc</td>\n",
       "      <td>houston</td>\n",
       "      <td>TX</td>\n",
       "      <td>business analyst</td>\n",
       "      <td>77979.0</td>\n",
       "      <td>77079</td>\n",
       "      <td>2129784.0</td>\n",
       "      <td>29.758938</td>\n",
       "      <td>-95.367697</td>\n",
       "      <td>houston&lt;br&gt;Salary 77.979 thousand</td>\n",
       "    </tr>\n",
       "    <tr>\n",
       "      <th>10</th>\n",
       "      <td>wayfair llc</td>\n",
       "      <td>boston</td>\n",
       "      <td>MA</td>\n",
       "      <td>software engineer</td>\n",
       "      <td>87859.0</td>\n",
       "      <td>02116</td>\n",
       "      <td>630645.0</td>\n",
       "      <td>42.360482</td>\n",
       "      <td>-71.059568</td>\n",
       "      <td>boston&lt;br&gt;Salary 87.859 thousand</td>\n",
       "    </tr>\n",
       "  </tbody>\n",
       "</table>\n",
       "</div>"
      ],
      "text/plain": [
       "              employer_name           name employer_state          job_title  \\\n",
       "3    innova solutions, inc.    santa clara             CA  software engineer   \n",
       "5    qualcomm atheros, inc.       san jose             CA  software engineer   \n",
       "6           pinterest, inc.  san francisco             CA  software engineer   \n",
       "9   priserve consulting inc        houston             TX   business analyst   \n",
       "10              wayfair llc         boston             MA  software engineer   \n",
       "\n",
       "    prevailing_wage employer_postal_code        pop        lat         lon  \\\n",
       "3          133016.0                95054   118010.0  37.354113 -121.955174   \n",
       "5           99154.0                95110   971495.0  37.343850 -121.883135   \n",
       "6          121077.0                94107   816239.0  37.779277 -122.419270   \n",
       "9           77979.0                77079  2129784.0  29.758938  -95.367697   \n",
       "10          87859.0                02116   630645.0  42.360482  -71.059568   \n",
       "\n",
       "                                        text  \n",
       "3     santa clara<br>Salary 133.016 thousand  \n",
       "5         san jose<br>Salary 99.154 thousand  \n",
       "6   san francisco<br>Salary 121.077 thousand  \n",
       "9          houston<br>Salary 77.979 thousand  \n",
       "10          boston<br>Salary 87.859 thousand  "
      ]
     },
     "execution_count": 150,
     "metadata": {},
     "output_type": "execute_result"
    }
   ],
   "source": [
    "df.head()"
   ]
  },
  {
   "cell_type": "code",
   "execution_count": 157,
   "metadata": {},
   "outputs": [
    {
     "name": "stderr",
     "output_type": "stream",
     "text": [
      "/Users/bassim/anaconda3/lib/python3.6/site-packages/ipykernel_launcher.py:6: SettingWithCopyWarning:\n",
      "\n",
      "\n",
      "A value is trying to be set on a copy of a slice from a DataFrame.\n",
      "Try using .loc[row_indexer,col_indexer] = value instead\n",
      "\n",
      "See the caveats in the documentation: http://pandas.pydata.org/pandas-docs/stable/user_guide/indexing.html#returning-a-view-versus-a-copy\n",
      "\n"
     ]
    }
   ],
   "source": [
    "\n",
    "import plotly.graph_objs as go\n",
    "\n",
    "import pandas as pd\n",
    "\n",
    "\n",
    "df['text'] = df['name'] + '<br>Salary ' + (df['prevailing_wage']/1000).astype(str)+' thousand'\n",
    "limits = [(0,50),(51,70),(71,90),(91,110),(111,1000)]\n",
    "colors = [\"rgb(0,116,217)\",\"rgb(255,65,54)\",\"rgb(133,20,75)\",\"rgb(255,133,27)\",\"lightgrey\"]\n",
    "cities = []\n",
    "scale = 1000\n",
    "\n",
    "for i in range(len(limits)):\n",
    "    lim = limits[i]\n",
    "    df_sub = df[lim[0]:lim[1]]\n",
    "    city = go.Scattergeo(\n",
    "        locationmode = 'USA-states',\n",
    "        lon = df_sub['lon'],\n",
    "        lat = df_sub['lat'],\n",
    "        text = df_sub['text'],\n",
    "        marker = go.scattergeo.Marker(\n",
    "            size = df_sub['prevailing_wage']/1000,\n",
    "            color = colors[i],\n",
    "            line = go.scattergeo.marker.Line(\n",
    "                width=0.5, color='rgb(40,40,40)'\n",
    "            ),\n",
    "            sizemode = 'area'\n",
    "        ),\n",
    "        name = '{0} - {1}'.format(lim[0],lim[1]) )\n",
    "    cities.append(city)\n",
    "\n",
    "layout = go.Layout(\n",
    "        title = go.layout.Title(\n",
    "            text = '2018 US city Salaries<br>(Click legend to toggle traces)'\n",
    "        ),\n",
    "        showlegend = True,\n",
    "        geo = go.layout.Geo(\n",
    "            scope = 'usa',\n",
    "            projection = go.layout.geo.Projection(\n",
    "                type='albers usa'\n",
    "            ),\n",
    "            showland = True,\n",
    "            landcolor = 'rgb(217, 217, 217)',\n",
    "            subunitwidth=1,\n",
    "            countrywidth=1,\n",
    "            subunitcolor=\"rgb(255, 255, 255)\",\n",
    "            countrycolor=\"rgb(255, 255, 255)\"\n",
    "        )\n",
    "    )\n",
    "\n",
    "fig = go.Figure(data=cities, layout=layout)\n"
   ]
  },
  {
   "cell_type": "code",
   "execution_count": 158,
   "metadata": {},
   "outputs": [
    {
     "data": {
      "application/vnd.plotly.v1+json": {
       "config": {
        "plotlyServerURL": "https://plot.ly"
       },
       "data": [
        {
         "lat": [
          37.35411320000001,
          37.343850200000006,
          37.7792768,
          29.7589382,
          42.3604823,
          47.6694141,
          47.6694141,
          25.7742658,
          25.7742658,
          37.461645399999995,
          37.461645399999995,
          37.461645399999995,
          37.548269700000006,
          37.548269700000006,
          37.548269700000006,
          39.952335,
          39.952335,
          42.633424700000006,
          42.633424700000006,
          42.633424700000006,
          32.7761963,
          32.7761963,
          32.7761963,
          37.442156,
          37.442156,
          33.3067132,
          42.4853125,
          42.6055893,
          42.6055893,
          42.6055893,
          42.6055893,
          42.6055893,
          42.6055893,
          44.4723989,
          44.4723989,
          44.4723989,
          44.4723989,
          44.4723989,
          44.4723989,
          39.0840054,
          39.952335,
          39.952335,
          37.442156,
          37.343850200000006,
          47.4799078,
          40.730599100000006,
          38.8462236,
          38.8462236,
          41.788641999999996,
          41.788641999999996
         ],
         "locationmode": "USA-states",
         "lon": [
          -121.95517439999999,
          -121.88313490000002,
          -122.41927040000002,
          -95.36769740000001,
          -71.0595678,
          -122.1238767,
          -122.1238767,
          -80.1936589,
          -80.1936589,
          -89.2504793,
          -89.2504793,
          -89.2504793,
          -121.98857190000001,
          -121.98857190000001,
          -121.98857190000001,
          -75.16378900000001,
          -75.16378900000001,
          -71.3161718,
          -71.3161718,
          -71.3161718,
          -96.7968994,
          -96.7968994,
          -96.7968994,
          -122.16344720000001,
          -122.16344720000001,
          -111.84084890000001,
          -83.3771553,
          -83.1499304,
          -83.1499304,
          -83.1499304,
          -83.1499304,
          -83.1499304,
          -83.1499304,
          -73.2114941,
          -73.2114941,
          -73.2114941,
          -73.2114941,
          -73.2114941,
          -73.2114941,
          -77.15275729999999,
          -75.16378900000001,
          -75.16378900000001,
          -122.16344720000001,
          -121.88313490000002,
          -122.2034496,
          -73.9865812,
          -77.3063733,
          -77.3063733,
          -89.6962194,
          -89.6962194
         ],
         "marker": {
          "color": "rgb(0,116,217)",
          "line": {
           "color": "rgb(40,40,40)",
           "width": 0.5
          },
          "size": [
           118.01,
           971.495,
           816.239,
           2129.784,
           630.645,
           55.501,
           26.617,
           412.438,
           13.629,
           10.372,
           10.284,
           8.304,
           217.63,
           26.687,
           16.633,
           1539.313,
           7.482,
           107.553,
           9.335,
           7.524,
           1219.399,
           14.668,
           11.844,
           65.442,
           65.442,
           239.977,
           80.196,
           81.53,
           50.024,
           25.323,
           18.232,
           10.864,
           9.934,
           51.12,
           42.41,
           25.494,
           10.509,
           9.898,
           8.453,
           62.143,
           1539.313,
           7.482,
           65.442,
           971.495,
           94.03,
           8287.238,
           22.792,
           7.511,
           15.323,
           14.773
          ],
          "sizemode": "area"
         },
         "name": "0 - 50",
         "text": [
          "santa clara<br>Salary 133.016 thousand",
          "san jose<br>Salary 99.154 thousand",
          "san francisco<br>Salary 121.077 thousand",
          "houston<br>Salary 77.979 thousand",
          "boston<br>Salary 87.859 thousand",
          "redmond<br>Salary 88.733 thousand",
          "redmond<br>Salary 88.733 thousand",
          "miami<br>Salary 66.643 thousand",
          "miami<br>Salary 66.643 thousand",
          "union<br>Salary 96.72 thousand",
          "union<br>Salary 96.72 thousand",
          "union<br>Salary 96.72 thousand",
          "fremont<br>Salary 108.576 thousand",
          "fremont<br>Salary 108.576 thousand",
          "fremont<br>Salary 108.576 thousand",
          "philadelphia<br>Salary 64.23 thousand",
          "philadelphia<br>Salary 64.23 thousand",
          "lowell<br>Salary 91.291 thousand",
          "lowell<br>Salary 91.291 thousand",
          "lowell<br>Salary 91.291 thousand",
          "dallas<br>Salary 78.624 thousand",
          "dallas<br>Salary 78.624 thousand",
          "dallas<br>Salary 78.624 thousand",
          "palo alto<br>Salary 122.533 thousand",
          "palo alto<br>Salary 88.733 thousand",
          "chandler<br>Salary 78.021 thousand",
          "farmington hills<br>Salary 92.768 thousand",
          "troy<br>Salary 63.939 thousand",
          "troy<br>Salary 63.939 thousand",
          "troy<br>Salary 63.939 thousand",
          "troy<br>Salary 63.939 thousand",
          "troy<br>Salary 63.939 thousand",
          "troy<br>Salary 63.939 thousand",
          "burlington<br>Salary 87.859 thousand",
          "burlington<br>Salary 87.859 thousand",
          "burlington<br>Salary 87.859 thousand",
          "burlington<br>Salary 87.859 thousand",
          "burlington<br>Salary 87.859 thousand",
          "burlington<br>Salary 87.859 thousand",
          "rockville<br>Salary 88.317 thousand",
          "philadelphia<br>Salary 77.189 thousand",
          "philadelphia<br>Salary 77.189 thousand",
          "palo alto<br>Salary 89.96 thousand",
          "san jose<br>Salary 103.168 thousand",
          "renton<br>Salary 71.51 thousand",
          "new york<br>Salary 94.827 thousand",
          "fairfax<br>Salary 93.309 thousand",
          "fairfax<br>Salary 93.309 thousand",
          "sterling<br>Salary 71.656 thousand",
          "sterling<br>Salary 71.656 thousand"
         ],
         "type": "scattergeo"
        },
        {
         "lat": [
          39.952335,
          41.772910700000004,
          38.6779591,
          41.258731700000006,
          37.7799273,
          42.6055893,
          42.6055893,
          42.6055893,
          42.6055893,
          42.6055893,
          42.6055893,
          39.0840054,
          40.730599100000006,
          37.6624312,
          37.6624312,
          39.7989763,
          39.7989763,
          39.7989763,
          39.7989763
         ],
         "locationmode": "USA-states",
         "lon": [
          -75.16378900000001,
          -88.147867,
          -121.17605829999998,
          -95.93787320000001,
          -121.9780153,
          -83.1499304,
          -83.1499304,
          -83.1499304,
          -83.1499304,
          -83.1499304,
          -83.1499304,
          -77.15275729999999,
          -73.9865812,
          -121.8746789,
          -121.8746789,
          -89.6443688,
          -89.6443688,
          -89.6443688,
          -89.6443688
         ],
         "marker": {
          "color": "rgb(255,65,54)",
          "line": {
           "color": "rgb(40,40,40)",
           "width": 0.5
          },
          "size": [
           7.482,
           142.994,
           72.682,
           429.604,
           73.062,
           81.53,
           50.024,
           25.323,
           18.232,
           10.864,
           9.934,
           62.143,
           8287.238,
           71.249,
           9.077,
           160.408,
           153.798,
           117.096,
           60.306
          ],
          "sizemode": "area"
         },
         "name": "51 - 70",
         "text": [
          "philadelphia<br>Salary 71.074 thousand",
          "naperville<br>Salary 71.635 thousand",
          "folsom<br>Salary 96.325 thousand",
          "omaha<br>Salary 89.502 thousand",
          "san ramon<br>Salary 79.934 thousand",
          "troy<br>Salary 78.624 thousand",
          "troy<br>Salary 78.624 thousand",
          "troy<br>Salary 78.624 thousand",
          "troy<br>Salary 78.624 thousand",
          "troy<br>Salary 78.624 thousand",
          "troy<br>Salary 78.624 thousand",
          "rockville<br>Salary 58.51 thousand",
          "new york<br>Salary 92.768 thousand",
          "pleasanton<br>Salary 60.029 thousand",
          "pleasanton<br>Salary 60.029 thousand",
          "springfield<br>Salary 74.152 thousand",
          "springfield<br>Salary 74.152 thousand",
          "springfield<br>Salary 74.152 thousand",
          "springfield<br>Salary 74.152 thousand"
         ],
         "type": "scattergeo"
        },
        {
         "lat": [
          39.7989763,
          39.7989763,
          25.7742658,
          25.7742658,
          29.7589382,
          47.614421899999996,
          47.614421899999996,
          47.614421899999996,
          37.7792768,
          42.3604823,
          47.6694141,
          47.6694141,
          33.749098700000005,
          37.343850200000006,
          32.7761963,
          32.7761963,
          32.7761963,
          38.62727329999999,
          38.62727329999999
         ],
         "locationmode": "USA-states",
         "lon": [
          -89.6443688,
          -89.6443688,
          -80.1936589,
          -80.1936589,
          -95.36769740000001,
          -122.1923372,
          -122.1923372,
          -122.1923372,
          -122.41927040000002,
          -71.0595678,
          -122.1238767,
          -122.1238767,
          -84.39018490000001,
          -121.88313490000002,
          -96.7968994,
          -96.7968994,
          -96.7968994,
          -90.19788890000001,
          -90.19788890000001
         ],
         "marker": {
          "color": "rgb(133,20,75)",
          "line": {
           "color": "rgb(40,40,40)",
           "width": 0.5
          },
          "size": [
           16.544,
           8.942,
           412.438,
           13.629,
           2129.784,
           130.267,
           51.888,
           8.164,
           816.239,
           630.645,
           55.501,
           26.617,
           432.135,
           971.495,
           1219.399,
           14.668,
           11.844,
           319.188,
           7.38
          ],
          "sizemode": "area"
         },
         "name": "71 - 90",
         "text": [
          "springfield<br>Salary 74.152 thousand",
          "springfield<br>Salary 74.152 thousand",
          "miami<br>Salary 66.248 thousand",
          "miami<br>Salary 66.248 thousand",
          "houston<br>Salary 94.598 thousand",
          "bellevue<br>Salary 117.0 thousand",
          "bellevue<br>Salary 117.0 thousand",
          "bellevue<br>Salary 117.0 thousand",
          "san francisco<br>Salary 118.186 thousand",
          "boston<br>Salary 109.741 thousand",
          "redmond<br>Salary 92.81 thousand",
          "redmond<br>Salary 92.81 thousand",
          "atlanta<br>Salary 82.098 thousand",
          "san jose<br>Salary 135.387 thousand",
          "dallas<br>Salary 70.346 thousand",
          "dallas<br>Salary 70.346 thousand",
          "dallas<br>Salary 70.346 thousand",
          "st. louis<br>Salary 66.81 thousand",
          "st. louis<br>Salary 66.81 thousand"
         ],
         "type": "scattergeo"
        },
        {
         "lat": [
          25.7742658,
          25.7742658,
          37.453827399999994,
          40.3492744,
          40.3492744,
          40.3492744,
          40.3492744,
          37.35411320000001,
          40.7433066,
          42.303275799999994,
          42.303275799999994,
          38.969531599999996,
          42.6055893,
          42.6055893,
          42.6055893,
          42.6055893,
          42.6055893,
          42.6055893,
          39.0840054
         ],
         "locationmode": "USA-states",
         "lon": [
          -80.1936589,
          -80.1936589,
          -122.18218710000001,
          -74.6592958,
          -74.6592958,
          -74.6592958,
          -74.6592958,
          -121.95517439999999,
          -74.0323752,
          -83.02851109999999,
          -83.02851109999999,
          -77.3859479,
          -83.1499304,
          -83.1499304,
          -83.1499304,
          -83.1499304,
          -83.1499304,
          -83.1499304,
          -77.15275729999999
         ],
         "marker": {
          "color": "rgb(255,133,27)",
          "line": {
           "color": "rgb(40,40,40)",
           "width": 0.5
          },
          "size": [
           412.438,
           13.629,
           32.519,
           28.206,
           8.627,
           7.592,
           7.288,
           118.01,
           51.33,
           26.93,
           19.237,
           23.889,
           81.53,
           50.024,
           25.323,
           18.232,
           10.864,
           9.934,
           62.143
          ],
          "sizemode": "area"
         },
         "name": "91 - 110",
         "text": [
          "miami<br>Salary 66.643 thousand",
          "miami<br>Salary 66.643 thousand",
          "menlo park<br>Salary 151.59 thousand",
          "princeton<br>Salary 109.325 thousand",
          "princeton<br>Salary 109.325 thousand",
          "princeton<br>Salary 109.325 thousand",
          "princeton<br>Salary 109.325 thousand",
          "santa clara<br>Salary 133.016 thousand",
          "hoboken<br>Salary 73.403 thousand",
          "windsor<br>Salary 76.003 thousand",
          "windsor<br>Salary 76.003 thousand",
          "herndon<br>Salary 58.885 thousand",
          "troy<br>Salary 98.363 thousand",
          "troy<br>Salary 98.363 thousand",
          "troy<br>Salary 98.363 thousand",
          "troy<br>Salary 98.363 thousand",
          "troy<br>Salary 98.363 thousand",
          "troy<br>Salary 98.363 thousand",
          "rockville<br>Salary 78.978 thousand"
         ],
         "type": "scattergeo"
        },
        {
         "lat": [
          37.2158191,
          34.2163939,
          39.952335,
          39.952335,
          39.0840054,
          32.862919500000004,
          40.3492744,
          40.3492744,
          40.3492744,
          40.3492744,
          33.749098700000005,
          46.77293220000001,
          46.77293220000001,
          32.862919500000004,
          37.7792768,
          41.9758872,
          40.730599100000006,
          33.749098700000005,
          41.8755546,
          40.735657,
          40.735657,
          40.735657,
          40.735657,
          35.2270869,
          35.2270869,
          47.6038321,
          36.73042879999999,
          36.73042879999999,
          36.73042879999999,
          36.73042879999999,
          36.73042879999999,
          42.4853125,
          44.8277446,
          44.8277446,
          40.7670126,
          37.7792768,
          37.35411320000001,
          40.3492744,
          40.3492744,
          40.3492744,
          40.3492744,
          33.013676399999994,
          33.013676399999994,
          27.947759499999997,
          37.35411320000001,
          42.6055893,
          42.6055893,
          42.6055893,
          42.6055893,
          42.6055893,
          42.6055893,
          42.48059,
          37.3855745,
          41.258731700000006,
          37.35411320000001,
          39.952335,
          39.952335,
          40.730599100000006,
          39.952335,
          39.952335,
          41.258731700000006,
          40.730599100000006,
          37.35411320000001,
          40.233843799999995,
          40.730599100000006,
          39.7989763,
          39.7989763,
          39.7989763,
          39.7989763,
          39.7989763,
          39.7989763,
          39.7989763,
          37.35411320000001,
          39.952335,
          39.952335,
          37.7792768,
          33.44676810000001,
          37.7792768,
          37.4282724,
          29.7589382,
          35.2351765,
          38.969531599999996,
          37.442156,
          37.7792768,
          39.9622601,
          39.9622601,
          39.9622601,
          39.9622601,
          39.9622601,
          41.258731700000006,
          37.343850200000006,
          27.770379600000002,
          40.730599100000006,
          39.952335,
          39.952335,
          39.0840054,
          37.4282724,
          37.7792768,
          33.749098700000005,
          40.4416941,
          37.496904,
          40.730599100000006,
          41.6096029,
          37.3855745,
          30.5119385,
          37.7792768,
          41.5067003,
          42.7653662,
          44.4669941,
          37.7792768,
          42.633424700000006,
          42.633424700000006,
          42.633424700000006,
          33.3067132,
          37.343850200000006,
          37.368830100000004,
          37.3855745,
          39.952335,
          39.952335,
          37.7792768,
          39.0840054,
          37.7792768,
          44.4669941,
          45.4871723,
          38.0464066,
          38.0464066,
          38.0464066,
          38.0464066,
          30.3321838,
          30.3321838,
          30.3321838,
          30.3321838,
          30.3321838,
          30.3321838,
          39.952335,
          39.952335,
          34.0709576,
          44.4669941,
          39.7989763,
          39.7989763,
          39.7989763,
          39.7989763,
          39.7989763,
          39.7989763,
          39.7989763,
          40.730599100000006,
          43.0605671,
          37.453827399999994,
          40.3492744,
          40.3492744,
          40.3492744,
          40.3492744,
          37.343850200000006,
          37.3855745,
          37.35411320000001,
          32.753177,
          39.0840054,
          47.6694141,
          47.6694141,
          37.453827399999994,
          37.35411320000001,
          47.6694141,
          47.6694141,
          47.0263876,
          33.6633386,
          47.614421899999996,
          47.614421899999996,
          47.614421899999996,
          39.952335,
          39.952335,
          42.4853125,
          40.3492744,
          40.3492744,
          40.3492744,
          40.3492744,
          41.772910700000004,
          40.844282799999995,
          40.844282799999995,
          40.844282799999995,
          47.6694141,
          47.6694141,
          39.7989763,
          39.7989763,
          39.7989763,
          39.7989763,
          39.7989763,
          39.7989763,
          39.7989763,
          39.952335,
          39.952335,
          47.6694141,
          47.6694141,
          37.3855745,
          41.258731700000006,
          41.8755546,
          47.6694141,
          47.6694141,
          25.818472500000002,
          33.749098700000005,
          39.004554399999996,
          37.548269700000006,
          37.548269700000006,
          37.548269700000006,
          41.258731700000006,
          42.6055893,
          42.6055893,
          42.6055893,
          42.6055893,
          42.6055893,
          42.6055893,
          34.7464809,
          37.368830100000004,
          40.7281575,
          47.6038321,
          34.0181557,
          40.730599100000006,
          35.8428646,
          39.0840054,
          42.268156899999994,
          37.343850200000006,
          42.473368900000004,
          39.952335,
          39.952335,
          32.862919500000004,
          42.3604823,
          32.7761963,
          32.7761963,
          32.7761963,
          39.952335,
          39.952335,
          37.343850200000006,
          47.6694141,
          47.6694141,
          37.7799273,
          37.368830100000004,
          37.343850200000006,
          47.6038321,
          40.730599100000006,
          37.368830100000004,
          34.0514898,
          41.1175966,
          41.1175966,
          41.1175966,
          41.1175966,
          37.7792768,
          35.2827525,
          41.8755546,
          41.564533700000005,
          41.772910700000004,
          40.730599100000006,
          37.7792768,
          35.2351765,
          42.6055893,
          42.6055893,
          42.6055893,
          42.6055893,
          42.6055893,
          42.6055893,
          47.6694141,
          47.6694141,
          42.6055893,
          42.6055893,
          42.6055893,
          42.6055893,
          42.6055893,
          42.6055893,
          40.5246711,
          37.4282724,
          47.6694141,
          47.6694141,
          37.7792768,
          37.548269700000006,
          37.548269700000006,
          37.548269700000006,
          39.0840054,
          40.3492744,
          40.3492744,
          40.3492744,
          40.3492744,
          42.3604823,
          34.0709576,
          37.343850200000006,
          47.6694141,
          47.6694141,
          33.3067132,
          41.772910700000004,
          47.6694141,
          47.6694141,
          47.6694141,
          47.6694141,
          47.6694141,
          47.6694141,
          42.6055893,
          42.6055893,
          42.6055893,
          42.6055893,
          42.6055893,
          42.6055893,
          47.4799078,
          40.758390000000006,
          40.758390000000006,
          37.442156,
          37.343850200000006,
          40.126174299999995,
          47.6694141,
          47.6694141,
          39.143440600000005,
          32.862919500000004,
          37.4852152,
          38.8462236,
          38.8462236,
          37.548269700000006,
          37.548269700000006,
          37.548269700000006,
          37.35411320000001,
          35.2351765,
          37.368830100000004,
          37.7792768,
          42.0841936,
          33.6633386,
          37.343850200000006,
          40.3492744,
          40.3492744,
          40.3492744,
          40.3492744,
          40.730599100000006,
          38.8462236,
          38.8462236,
          35.823483,
          42.3604823,
          33.9562149,
          30.3321838,
          30.3321838,
          30.3321838,
          30.3321838,
          30.3321838,
          30.3321838,
          39.952335,
          39.952335,
          37.4282724,
          42.6055893,
          42.6055893,
          42.6055893,
          42.6055893,
          42.6055893,
          42.6055893,
          40.7281575,
          40.730599100000006,
          37.7799273,
          29.424600199999997,
          42.3604823,
          34.0709576,
          37.7792768,
          37.560033600000004,
          39.0840054,
          37.7792768,
          37.7792768,
          40.730599100000006,
          37.7792768,
          32.7761963,
          32.7761963,
          32.7761963,
          39.1014537,
          47.6694141,
          47.6694141,
          29.7589382,
          37.496904,
          39.952335,
          39.952335,
          41.8755546,
          40.233843799999995,
          42.6055893,
          42.6055893,
          42.6055893,
          42.6055893,
          42.6055893,
          42.6055893,
          37.7792768,
          37.35411320000001,
          43.6205056,
          43.6205056,
          33.685696899999996,
          39.952335,
          39.952335,
          40.730599100000006,
          35.4729886,
          39.952335,
          39.952335,
          41.788641999999996,
          41.788641999999996,
          39.952335,
          39.952335,
          42.473368900000004,
          38.5815719,
          47.6694141,
          47.6694141,
          39.952335,
          39.952335,
          41.6096029,
          47.6694141,
          47.6694141,
          33.3067132,
          39.952335,
          39.952335,
          42.3604823,
          39.7989763,
          39.7989763,
          39.7989763,
          39.7989763,
          39.7989763,
          39.7989763,
          39.7989763,
          42.041582299999995,
          42.5247729,
          35.2351765,
          39.952335,
          39.952335,
          42.48059,
          40.730599100000006,
          37.368830100000004,
          40.730599100000006,
          37.35411320000001,
          37.6624312,
          37.6624312,
          37.7792768,
          29.6196787,
          32.862919500000004,
          47.6694141,
          47.6694141,
          39.7989763,
          39.7989763,
          39.7989763,
          39.7989763,
          39.7989763,
          39.7989763,
          39.7989763,
          42.6055893,
          42.6055893,
          42.6055893,
          42.6055893,
          42.6055893,
          42.6055893,
          32.862919500000004,
          30.3321838,
          30.3321838,
          30.3321838,
          30.3321838,
          30.3321838,
          30.3321838,
          39.0840054,
          39.0840054,
          39.952335,
          39.952335,
          39.952335,
          39.952335,
          37.368830100000004,
          47.6694141,
          47.6694141,
          39.952335,
          39.952335,
          28.5421175,
          32.862919500000004,
          40.7281575,
          37.7792768,
          39.7989763,
          39.7989763,
          39.7989763,
          39.7989763,
          39.7989763,
          39.7989763,
          39.7989763,
          25.7742658,
          25.7742658,
          37.4852152,
          35.4729886,
          35.7804015,
          47.6038321,
          37.7792768,
          37.442156,
          38.969531599999996,
          39.952335,
          39.952335,
          37.7792768,
          37.548269700000006,
          37.548269700000006,
          37.548269700000006,
          40.2975185,
          40.266310700000005,
          40.266310700000005,
          40.266310700000005,
          42.3604823,
          38.8949549,
          38.8949549,
          38.8949549,
          38.8949549,
          38.8949549,
          38.8949549,
          38.8949549,
          38.8949549,
          33.685696899999996,
          42.4853125,
          40.730599100000006,
          40.730599100000006,
          36.9746099,
          37.368830100000004,
          37.35411320000001,
          29.424600199999997,
          47.6694141,
          47.6694141,
          42.6055893,
          42.6055893,
          42.6055893,
          42.6055893,
          42.6055893,
          42.6055893,
          29.7589382,
          39.952335,
          39.952335,
          40.730599100000006,
          37.7799273,
          37.35411320000001,
          37.323010700000005,
          39.952335,
          39.952335,
          44.4723989,
          44.4723989,
          44.4723989,
          44.4723989,
          44.4723989,
          44.4723989,
          47.6694141,
          47.6694141,
          42.4853125,
          41.788641999999996,
          41.788641999999996,
          30.2711286,
          30.2711286,
          32.7761963,
          32.7761963,
          32.7761963,
          42.36837,
          42.633424700000006,
          42.633424700000006,
          42.633424700000006,
          29.7589382,
          40.6178915,
          34.0514898,
          42.48059,
          25.7742658,
          25.7742658,
          32.862919500000004,
          42.041582299999995,
          37.4282724,
          47.6694141,
          47.6694141,
          37.226611,
          37.496904,
          42.6055893,
          42.6055893,
          42.6055893,
          42.6055893,
          42.6055893,
          42.6055893,
          39.0840054,
          47.6694141,
          47.6694141,
          47.6694141,
          47.6694141,
          42.3604823,
          40.730599100000006,
          42.6055893,
          42.6055893,
          42.6055893,
          42.6055893,
          42.6055893,
          42.6055893,
          42.6055893,
          42.6055893,
          42.6055893,
          42.6055893,
          42.6055893,
          42.6055893,
          37.496904,
          34.0709576,
          32.862919500000004,
          42.4853125,
          42.48059,
          37.4852152,
          37.9716898,
          37.9716898,
          37.9716898,
          37.9716898,
          33.013676399999994,
          33.013676399999994,
          37.343850200000006,
          33.013676399999994,
          33.013676399999994,
          35.788297299999996,
          47.6038321,
          25.7742658,
          25.7742658,
          38.9822282,
          39.7989763,
          39.7989763,
          39.7989763,
          39.7989763,
          39.7989763,
          39.7989763,
          39.7989763,
          41.558152500000006,
          37.7792768,
          32.862919500000004,
          42.6647495,
          41.788641999999996,
          41.788641999999996,
          32.7761963,
          32.7761963,
          32.7761963,
          47.6694141,
          47.6694141,
          40.3492744,
          40.3492744,
          40.3492744,
          40.3492744,
          33.013676399999994,
          33.013676399999994,
          42.963240500000005,
          42.963240500000005,
          36.0726355,
          41.258731700000006,
          37.7792768,
          40.5621704,
          40.735657,
          40.735657,
          40.735657,
          40.735657,
          47.6694141,
          47.6694141,
          39.9622601,
          39.9622601,
          39.9622601,
          39.9622601,
          39.9622601,
          40.730599100000006,
          39.952335,
          39.952335,
          38.969531599999996,
          37.548269700000006,
          37.548269700000006,
          37.548269700000006,
          37.35411320000001,
          47.6038321,
          38.882334,
          41.6096029,
          32.862919500000004,
          32.862919500000004,
          40.730599100000006,
          39.952335,
          39.952335,
          37.7792768,
          39.952335,
          39.952335,
          42.041582299999995,
          47.6038321,
          40.730599100000006,
          40.7433066,
          39.1670396,
          39.1670396,
          39.1670396,
          37.7792768,
          37.35411320000001,
          37.453827399999994,
          37.7792768,
          40.730599100000006,
          38.969531599999996,
          39.952335,
          39.952335,
          32.7761963,
          32.7761963,
          32.7761963,
          34.0709576,
          42.48059,
          37.7792768,
          41.564533700000005,
          33.749098700000005,
          39.952335,
          39.952335,
          41.258731700000006,
          38.595018200000005,
          41.258731700000006,
          38.9822282,
          40.730599100000006,
          37.368830100000004,
          47.6694141,
          47.6694141,
          40.730599100000006,
          37.53850870000001,
          37.53850870000001,
          37.53850870000001,
          37.53850870000001,
          37.53850870000001,
          37.368830100000004,
          37.4282724,
          37.453827399999994,
          42.6055893,
          42.6055893,
          42.6055893,
          42.6055893,
          42.6055893,
          42.6055893,
          38.8462236,
          38.8462236,
          47.6694141,
          47.6694141,
          39.0840054,
          33.013676399999994,
          33.013676399999994,
          47.4799078,
          42.3604823,
          34.851354,
          34.851354,
          34.851354,
          34.851354,
          34.851354,
          34.851354,
          34.851354,
          37.6820583,
          41.8755546,
          37.343850200000006,
          37.442156,
          47.6694141,
          47.6694141,
          29.7857853,
          38.969531599999996,
          42.6055893,
          42.6055893,
          42.6055893,
          42.6055893,
          42.6055893,
          42.6055893,
          38.538942299999995,
          32.862919500000004,
          40.730599100000006,
          41.258731700000006,
          37.343850200000006,
          40.730599100000006,
          39.1670396,
          39.1670396,
          39.1670396,
          47.6694141,
          47.6694141,
          42.40920379999999,
          40.730599100000006,
          36.73042879999999,
          36.73042879999999,
          36.73042879999999,
          36.73042879999999,
          36.73042879999999,
          37.7792768,
          37.496904,
          40.3492744,
          40.3492744,
          40.3492744,
          40.3492744,
          40.126174299999995,
          43.0833231,
          32.7761963,
          32.7761963,
          32.7761963,
          47.6694141,
          47.6694141,
          44.4723989,
          44.4723989,
          44.4723989,
          44.4723989,
          44.4723989,
          44.4723989,
          37.343850200000006,
          44.4723989,
          44.4723989,
          44.4723989,
          44.4723989,
          44.4723989,
          44.4723989,
          47.6694141,
          47.6694141,
          39.952335,
          39.952335,
          32.862919500000004,
          43.0833231,
          35.4729886,
          42.3604823,
          38.969531599999996,
          34.0709576,
          37.7792768,
          37.7792768,
          39.952335,
          39.952335,
          39.0840054,
          40.730599100000006,
          37.7792768,
          42.5247729,
          41.8755546,
          43.0116784,
          37.3855745,
          42.6055893,
          42.6055893,
          42.6055893,
          42.6055893,
          42.6055893,
          42.6055893,
          37.548269700000006,
          37.548269700000006,
          37.548269700000006,
          34.0195598,
          47.6694141,
          47.6694141,
          39.0067768,
          39.414443,
          39.414443,
          40.730599100000006,
          37.343850200000006,
          47.6038321,
          40.730599100000006,
          28.5421175,
          41.8755546,
          34.0709576,
          41.8755546,
          37.35411320000001,
          30.2711286,
          30.2711286,
          39.952335,
          39.952335,
          42.6055893,
          42.6055893,
          42.6055893,
          42.6055893,
          42.6055893,
          42.6055893,
          39.7391536,
          37.7792768,
          47.6694141,
          47.6694141,
          35.2270869,
          35.2270869,
          41.788641999999996,
          41.788641999999996,
          37.368830100000004,
          29.7589382,
          39.952335,
          39.952335,
          39.0840054,
          39.004554399999996,
          35.7804015,
          33.750037799999994,
          33.750037799999994,
          34.053717,
          47.6694141,
          47.6694141,
          41.8755546,
          37.548269700000006,
          37.548269700000006,
          37.548269700000006,
          37.496904,
          39.7989763,
          39.7989763,
          39.7989763,
          39.7989763,
          39.7989763,
          39.7989763,
          39.7989763,
          35.8970899,
          37.7792768,
          40.730599100000006,
          34.2694474,
          37.4852152,
          40.730599100000006,
          39.952335,
          39.952335,
          42.4853125,
          39.952335,
          39.952335,
          42.268156899999994,
          39.952335,
          39.952335,
          37.226611,
          39.952335,
          39.952335,
          33.44676810000001
         ],
         "locationmode": "USA-states",
         "lon": [
          -79.1165953,
          -119.0376024,
          -75.16378900000001,
          -75.16378900000001,
          -77.15275729999999,
          -96.97917017,
          -74.6592958,
          -74.6592958,
          -74.6592958,
          -74.6592958,
          -84.39018490000001,
          -92.1251218,
          -92.1251218,
          -96.97917017,
          -122.41927040000002,
          -91.6704053,
          -73.9865812,
          -84.39018490000001,
          -87.6244212,
          -74.1723667,
          -74.1723667,
          -74.1723667,
          -74.1723667,
          -80.8431268,
          -80.8431268,
          -122.3300624,
          -108.20891909999999,
          -108.20891909999999,
          -108.20891909999999,
          -108.20891909999999,
          -108.20891909999999,
          -83.3771553,
          -92.9438218,
          -92.9438218,
          -111.89043079999999,
          -122.41927040000002,
          -121.95517439999999,
          -74.6592958,
          -74.6592958,
          -74.6592958,
          -74.6592958,
          -96.6925096,
          -96.6925096,
          -82.458444,
          -121.95517439999999,
          -83.1499304,
          -83.1499304,
          -83.1499304,
          -83.1499304,
          -83.1499304,
          -83.1499304,
          -83.47549129999999,
          -122.08205,
          -95.93787320000001,
          -121.95517439999999,
          -75.16378900000001,
          -75.16378900000001,
          -73.9865812,
          -75.16378900000001,
          -75.16378900000001,
          -95.93787320000001,
          -73.9865812,
          -121.95517439999999,
          -111.6585337,
          -73.9865812,
          -89.6443688,
          -89.6443688,
          -89.6443688,
          -89.6443688,
          -89.6443688,
          -89.6443688,
          -89.6443688,
          -121.95517439999999,
          -75.16378900000001,
          -75.16378900000001,
          -122.41927040000002,
          -112.07567240000002,
          -122.41927040000002,
          -121.90662379999999,
          -95.36769740000001,
          -75.6284903,
          -77.3859479,
          -122.16344720000001,
          -122.41927040000002,
          -83.00070649999999,
          -83.00070649999999,
          -83.00070649999999,
          -83.00070649999999,
          -83.00070649999999,
          -95.93787320000001,
          -121.88313490000002,
          -82.66950849999999,
          -73.9865812,
          -75.16378900000001,
          -75.16378900000001,
          -77.15275729999999,
          -121.90662379999999,
          -122.41927040000002,
          -84.39018490000001,
          -79.99008609999998,
          -122.33305729999998,
          -73.9865812,
          -93.7754352,
          -122.08205,
          -97.80974470000001,
          -122.41927040000002,
          -90.5151342,
          -71.467566,
          -73.1709604,
          -122.41927040000002,
          -71.3161718,
          -71.3161718,
          -71.3161718,
          -111.84084890000001,
          -121.88313490000002,
          -122.03634960000001,
          -122.08205,
          -75.16378900000001,
          -75.16378900000001,
          -122.41927040000002,
          -77.15275729999999,
          -122.41927040000002,
          -73.1709604,
          -122.8037804,
          -84.4970393,
          -84.4970393,
          -84.4970393,
          -84.4970393,
          -81.655651,
          -81.655651,
          -81.655651,
          -81.655651,
          -81.655651,
          -81.655651,
          -75.16378900000001,
          -75.16378900000001,
          -84.2747329,
          -73.1709604,
          -89.6443688,
          -89.6443688,
          -89.6443688,
          -89.6443688,
          -89.6443688,
          -89.6443688,
          -89.6443688,
          -73.9865812,
          -88.1064787,
          -122.18218710000001,
          -74.6592958,
          -74.6592958,
          -74.6592958,
          -74.6592958,
          -121.88313490000002,
          -122.08205,
          -121.95517439999999,
          -97.3327459,
          -77.15275729999999,
          -122.1238767,
          -122.1238767,
          -122.18218710000001,
          -121.95517439999999,
          -122.1238767,
          -122.1238767,
          -122.8072257,
          -117.90331699999999,
          -122.1923372,
          -122.1923372,
          -122.1923372,
          -75.16378900000001,
          -75.16378900000001,
          -83.3771553,
          -74.6592958,
          -74.6592958,
          -74.6592958,
          -74.6592958,
          -88.147867,
          -90.61684079999999,
          -90.61684079999999,
          -90.61684079999999,
          -122.1238767,
          -122.1238767,
          -89.6443688,
          -89.6443688,
          -89.6443688,
          -89.6443688,
          -89.6443688,
          -89.6443688,
          -89.6443688,
          -75.16378900000001,
          -75.16378900000001,
          -122.1238767,
          -122.1238767,
          -122.08205,
          -95.93787320000001,
          -87.6244212,
          -122.1238767,
          -122.1238767,
          -80.35396781,
          -84.39018490000001,
          -76.8755282,
          -121.98857190000001,
          -121.98857190000001,
          -121.98857190000001,
          -95.93787320000001,
          -83.1499304,
          -83.1499304,
          -83.1499304,
          -83.1499304,
          -83.1499304,
          -83.1499304,
          -92.2895948,
          -122.03634960000001,
          -74.0776417,
          -122.3300624,
          -84.190196,
          -73.9865812,
          -90.7034522,
          -77.15275729999999,
          -83.7312291,
          -121.88313490000002,
          -83.2218731,
          -75.16378900000001,
          -75.16378900000001,
          -96.97917017,
          -71.0595678,
          -96.7968994,
          -96.7968994,
          -96.7968994,
          -75.16378900000001,
          -75.16378900000001,
          -121.88313490000002,
          -122.1238767,
          -122.1238767,
          -121.9780153,
          -122.03634960000001,
          -121.88313490000002,
          -122.3300624,
          -73.9865812,
          -122.03634960000001,
          -84.0712997,
          -73.4078968,
          -73.4078968,
          -73.4078968,
          -73.4078968,
          -122.41927040000002,
          -120.6596156,
          -87.6244212,
          -93.7595281,
          -88.147867,
          -73.9865812,
          -122.41927040000002,
          -75.6284903,
          -83.1499304,
          -83.1499304,
          -83.1499304,
          -83.1499304,
          -83.1499304,
          -83.1499304,
          -122.1238767,
          -122.1238767,
          -83.1499304,
          -83.1499304,
          -83.1499304,
          -83.1499304,
          -83.1499304,
          -83.1499304,
          -111.8638226,
          -121.90662379999999,
          -122.1238767,
          -122.1238767,
          -122.41927040000002,
          -121.98857190000001,
          -121.98857190000001,
          -121.98857190000001,
          -77.15275729999999,
          -74.6592958,
          -74.6592958,
          -74.6592958,
          -74.6592958,
          -71.0595678,
          -84.2747329,
          -121.88313490000002,
          -122.1238767,
          -122.1238767,
          -111.84084890000001,
          -88.147867,
          -122.1238767,
          -122.1238767,
          -122.1238767,
          -122.1238767,
          -122.1238767,
          -122.1238767,
          -83.1499304,
          -83.1499304,
          -83.1499304,
          -83.1499304,
          -83.1499304,
          -83.1499304,
          -122.2034496,
          -82.51544709999999,
          -82.51544709999999,
          -122.16344720000001,
          -121.88313490000002,
          -82.9290696,
          -122.1238767,
          -122.1238767,
          -77.2013705,
          -96.97917017,
          -122.2363548,
          -77.3063733,
          -77.3063733,
          -121.98857190000001,
          -121.98857190000001,
          -121.98857190000001,
          -121.95517439999999,
          -75.6284903,
          -122.03634960000001,
          -122.41927040000002,
          -88.0131275,
          -117.90331699999999,
          -121.88313490000002,
          -74.6592958,
          -74.6592958,
          -74.6592958,
          -74.6592958,
          -73.9865812,
          -77.3063733,
          -77.3063733,
          -78.8255621,
          -71.0595678,
          -83.9879625,
          -81.655651,
          -81.655651,
          -81.655651,
          -81.655651,
          -81.655651,
          -81.655651,
          -75.16378900000001,
          -75.16378900000001,
          -121.90662379999999,
          -83.1499304,
          -83.1499304,
          -83.1499304,
          -83.1499304,
          -83.1499304,
          -83.1499304,
          -74.0776417,
          -73.9865812,
          -121.9780153,
          -98.4951405,
          -71.0595678,
          -84.2747329,
          -122.41927040000002,
          -122.26885220000001,
          -77.15275729999999,
          -122.41927040000002,
          -122.41927040000002,
          -73.9865812,
          -122.41927040000002,
          -96.7968994,
          -96.7968994,
          -96.7968994,
          -84.5124602,
          -122.1238767,
          -122.1238767,
          -95.36769740000001,
          -122.33305729999998,
          -75.16378900000001,
          -75.16378900000001,
          -87.6244212,
          -111.6585337,
          -83.1499304,
          -83.1499304,
          -83.1499304,
          -83.1499304,
          -83.1499304,
          -83.1499304,
          -122.41927040000002,
          -121.95517439999999,
          -95.5956434,
          -95.5956434,
          -117.82598190000002,
          -75.16378900000001,
          -75.16378900000001,
          -73.9865812,
          -97.5170536,
          -75.16378900000001,
          -75.16378900000001,
          -89.6962194,
          -89.6962194,
          -75.16378900000001,
          -75.16378900000001,
          -83.2218731,
          -121.49439960000001,
          -122.1238767,
          -122.1238767,
          -75.16378900000001,
          -75.16378900000001,
          -93.7754352,
          -122.1238767,
          -122.1238767,
          -111.84084890000001,
          -75.16378900000001,
          -75.16378900000001,
          -71.0595678,
          -89.6443688,
          -89.6443688,
          -89.6443688,
          -89.6443688,
          -89.6443688,
          -89.6443688,
          -89.6443688,
          -87.8873916,
          -83.5363339,
          -75.6284903,
          -75.16378900000001,
          -75.16378900000001,
          -83.47549129999999,
          -73.9865812,
          -122.03634960000001,
          -73.9865812,
          -121.95517439999999,
          -121.8746789,
          -121.8746789,
          -122.41927040000002,
          -95.6349463,
          -96.97917017,
          -122.1238767,
          -122.1238767,
          -89.6443688,
          -89.6443688,
          -89.6443688,
          -89.6443688,
          -89.6443688,
          -89.6443688,
          -89.6443688,
          -83.1499304,
          -83.1499304,
          -83.1499304,
          -83.1499304,
          -83.1499304,
          -83.1499304,
          -96.97917017,
          -81.655651,
          -81.655651,
          -81.655651,
          -81.655651,
          -81.655651,
          -81.655651,
          -77.15275729999999,
          -77.15275729999999,
          -75.16378900000001,
          -75.16378900000001,
          -75.16378900000001,
          -75.16378900000001,
          -122.03634960000001,
          -122.1238767,
          -122.1238767,
          -75.16378900000001,
          -75.16378900000001,
          -81.3790462,
          -96.97917017,
          -74.0776417,
          -122.41927040000002,
          -89.6443688,
          -89.6443688,
          -89.6443688,
          -89.6443688,
          -89.6443688,
          -89.6443688,
          -89.6443688,
          -80.1936589,
          -80.1936589,
          -122.2363548,
          -97.5170536,
          -78.6390779,
          -122.3300624,
          -122.41927040000002,
          -122.16344720000001,
          -77.3859479,
          -75.16378900000001,
          -75.16378900000001,
          -122.41927040000002,
          -121.98857190000001,
          -121.98857190000001,
          -121.98857190000001,
          -111.6944685,
          -76.8861122,
          -76.8861122,
          -76.8861122,
          -71.0595678,
          -77.03664559999999,
          -77.03664559999999,
          -77.03664559999999,
          -77.03664559999999,
          -77.03664559999999,
          -77.03664559999999,
          -77.03664559999999,
          -77.03664559999999,
          -117.82598190000002,
          -83.3771553,
          -73.9865812,
          -73.9865812,
          -122.0294259,
          -122.03634960000001,
          -121.95517439999999,
          -98.4951405,
          -122.1238767,
          -122.1238767,
          -83.1499304,
          -83.1499304,
          -83.1499304,
          -83.1499304,
          -83.1499304,
          -83.1499304,
          -95.36769740000001,
          -75.16378900000001,
          -75.16378900000001,
          -73.9865812,
          -121.9780153,
          -121.95517439999999,
          -122.0322519,
          -75.16378900000001,
          -75.16378900000001,
          -73.2114941,
          -73.2114941,
          -73.2114941,
          -73.2114941,
          -73.2114941,
          -73.2114941,
          -122.1238767,
          -122.1238767,
          -83.3771553,
          -89.6962194,
          -89.6962194,
          -97.7436995,
          -97.7436995,
          -96.7968994,
          -96.7968994,
          -96.7968994,
          -83.3527097,
          -71.3161718,
          -71.3161718,
          -71.3161718,
          -95.36769740000001,
          -75.3786521,
          -84.0712997,
          -83.47549129999999,
          -80.1936589,
          -80.1936589,
          -96.97917017,
          -87.8873916,
          -121.90662379999999,
          -122.1238767,
          -122.1238767,
          -121.9746797,
          -122.33305729999998,
          -83.1499304,
          -83.1499304,
          -83.1499304,
          -83.1499304,
          -83.1499304,
          -83.1499304,
          -77.15275729999999,
          -122.1238767,
          -122.1238767,
          -122.1238767,
          -122.1238767,
          -71.0595678,
          -73.9865812,
          -83.1499304,
          -83.1499304,
          -83.1499304,
          -83.1499304,
          -83.1499304,
          -83.1499304,
          -83.1499304,
          -83.1499304,
          -83.1499304,
          -83.1499304,
          -83.1499304,
          -83.1499304,
          -122.33305729999998,
          -84.2747329,
          -96.97917017,
          -83.3771553,
          -83.47549129999999,
          -122.2363548,
          -100.8726618,
          -100.8726618,
          -100.8726618,
          -100.8726618,
          -96.6925096,
          -96.6925096,
          -121.88313490000002,
          -96.6925096,
          -96.6925096,
          -78.7811925,
          -122.3300624,
          -80.1936589,
          -80.1936589,
          -94.6707917,
          -89.6443688,
          -89.6443688,
          -89.6443688,
          -89.6443688,
          -89.6443688,
          -89.6443688,
          -89.6443688,
          -73.0514966,
          -122.41927040000002,
          -96.97917017,
          -83.23093751,
          -89.6962194,
          -89.6962194,
          -96.7968994,
          -96.7968994,
          -96.7968994,
          -122.1238767,
          -122.1238767,
          -74.6592958,
          -74.6592958,
          -74.6592958,
          -74.6592958,
          -96.6925096,
          -96.6925096,
          -85.66786390000001,
          -85.66786390000001,
          -79.79197540000001,
          -95.93787320000001,
          -122.41927040000002,
          -111.929658,
          -74.1723667,
          -74.1723667,
          -74.1723667,
          -74.1723667,
          -122.1238767,
          -122.1238767,
          -83.00070649999999,
          -83.00070649999999,
          -83.00070649999999,
          -83.00070649999999,
          -83.00070649999999,
          -73.9865812,
          -75.16378900000001,
          -75.16378900000001,
          -77.3859479,
          -121.98857190000001,
          -121.98857190000001,
          -121.98857190000001,
          -121.95517439999999,
          -122.3300624,
          -77.17109140000001,
          -93.7754352,
          -96.97917017,
          -96.97917017,
          -73.9865812,
          -75.16378900000001,
          -75.16378900000001,
          -122.41927040000002,
          -75.16378900000001,
          -75.16378900000001,
          -87.8873916,
          -122.3300624,
          -73.9865812,
          -74.0323752,
          -86.5342881,
          -86.5342881,
          -86.5342881,
          -122.41927040000002,
          -121.95517439999999,
          -122.18218710000001,
          -122.41927040000002,
          -73.9865812,
          -77.3859479,
          -75.16378900000001,
          -75.16378900000001,
          -96.7968994,
          -96.7968994,
          -96.7968994,
          -84.2747329,
          -83.47549129999999,
          -122.41927040000002,
          -93.7595281,
          -84.39018490000001,
          -75.16378900000001,
          -75.16378900000001,
          -95.93787320000001,
          -90.54691329999999,
          -95.93787320000001,
          -94.6707917,
          -73.9865812,
          -122.03634960000001,
          -122.1238767,
          -122.1238767,
          -73.9865812,
          -77.43428,
          -77.43428,
          -77.43428,
          -77.43428,
          -77.43428,
          -122.03634960000001,
          -121.90662379999999,
          -122.18218710000001,
          -83.1499304,
          -83.1499304,
          -83.1499304,
          -83.1499304,
          -83.1499304,
          -83.1499304,
          -77.3063733,
          -77.3063733,
          -122.1238767,
          -122.1238767,
          -77.15275729999999,
          -96.6925096,
          -96.6925096,
          -122.2034496,
          -71.0595678,
          -82.3984882,
          -82.3984882,
          -82.3984882,
          -82.3984882,
          -82.3984882,
          -82.3984882,
          -82.3984882,
          -121.76805309999999,
          -87.6244212,
          -121.88313490000002,
          -122.16344720000001,
          -122.1238767,
          -122.1238767,
          -95.82439559999999,
          -77.3859479,
          -83.1499304,
          -83.1499304,
          -83.1499304,
          -83.1499304,
          -83.1499304,
          -83.1499304,
          -90.407341,
          -96.97917017,
          -73.9865812,
          -95.93787320000001,
          -121.88313490000002,
          -73.9865812,
          -86.5342881,
          -86.5342881,
          -86.5342881,
          -122.1238767,
          -122.1238767,
          -82.8918587,
          -73.9865812,
          -108.20891909999999,
          -108.20891909999999,
          -108.20891909999999,
          -108.20891909999999,
          -108.20891909999999,
          -122.41927040000002,
          -122.33305729999998,
          -74.6592958,
          -74.6592958,
          -74.6592958,
          -74.6592958,
          -82.9290696,
          -73.8712155,
          -96.7968994,
          -96.7968994,
          -96.7968994,
          -122.1238767,
          -122.1238767,
          -73.2114941,
          -73.2114941,
          -73.2114941,
          -73.2114941,
          -73.2114941,
          -73.2114941,
          -121.88313490000002,
          -73.2114941,
          -73.2114941,
          -73.2114941,
          -73.2114941,
          -73.2114941,
          -73.2114941,
          -122.1238767,
          -122.1238767,
          -75.16378900000001,
          -75.16378900000001,
          -96.97917017,
          -73.8712155,
          -97.5170536,
          -71.0595678,
          -77.3859479,
          -84.2747329,
          -122.41927040000002,
          -122.41927040000002,
          -75.16378900000001,
          -75.16378900000001,
          -77.15275729999999,
          -73.9865812,
          -122.41927040000002,
          -83.5363339,
          -87.6244212,
          -88.2314813,
          -122.08205,
          -83.1499304,
          -83.1499304,
          -83.1499304,
          -83.1499304,
          -83.1499304,
          -83.1499304,
          -121.98857190000001,
          -121.98857190000001,
          -121.98857190000001,
          -118.48697390000001,
          -122.1238767,
          -122.1238767,
          -76.77913649999999,
          -77.4105783,
          -77.4105783,
          -73.9865812,
          -121.88313490000002,
          -122.3300624,
          -73.9865812,
          -81.3790462,
          -87.6244212,
          -84.2747329,
          -87.6244212,
          -121.95517439999999,
          -97.7436995,
          -97.7436995,
          -75.16378900000001,
          -75.16378900000001,
          -83.1499304,
          -83.1499304,
          -83.1499304,
          -83.1499304,
          -83.1499304,
          -83.1499304,
          -104.9847034,
          -122.41927040000002,
          -122.1238767,
          -122.1238767,
          -80.8431268,
          -80.8431268,
          -89.6962194,
          -89.6962194,
          -122.03634960000001,
          -95.36769740000001,
          -75.16378900000001,
          -75.16378900000001,
          -77.15275729999999,
          -76.8755282,
          -78.6390779,
          -117.87049309999999,
          -117.87049309999999,
          -118.24272659999998,
          -122.1238767,
          -122.1238767,
          -87.6244212,
          -121.98857190000001,
          -121.98857190000001,
          -121.98857190000001,
          -122.33305729999998,
          -89.6443688,
          -89.6443688,
          -89.6443688,
          -89.6443688,
          -89.6443688,
          -89.6443688,
          -89.6443688,
          -98.42259609999999,
          -122.41927040000002,
          -73.9865812,
          -118.78148200000001,
          -122.2363548,
          -73.9865812,
          -75.16378900000001,
          -75.16378900000001,
          -83.3771553,
          -75.16378900000001,
          -75.16378900000001,
          -83.7312291,
          -75.16378900000001,
          -75.16378900000001,
          -121.9746797,
          -75.16378900000001,
          -75.16378900000001,
          -112.07567240000002
         ],
         "marker": {
          "color": "lightgrey",
          "line": {
           "color": "rgb(40,40,40)",
           "width": 0.5
          },
          "size": [
           8.177,
           65.67,
           1539.313,
           7.482,
           62.143,
           220.012,
           28.206,
           8.627,
           7.592,
           7.288,
           432.135,
           86.27,
           27.326,
           220.012,
           816.239,
           127.837,
           8287.238,
           432.135,
           2705.627,
           277.854,
           47.793,
           43.065,
           31.934,
           756.204,
           9.051,
           622.175,
           45.511,
           21.472,
           19.311,
           16.796,
           10.426,
           80.196,
           34.912,
           9.748,
           188.158,
           816.239,
           118.01,
           28.206,
           8.627,
           7.592,
           7.288,
           267.62,
           10.981,
           346.934,
           118.01,
           81.53,
           50.024,
           25.323,
           18.232,
           10.864,
           9.934,
           55.933,
           75.207,
           429.604,
           118.01,
           1539.313,
           7.482,
           8287.238,
           1539.313,
           7.482,
           429.604,
           8287.238,
           118.01,
           114.611,
           8287.238,
           160.408,
           153.798,
           117.096,
           60.306,
           59.728,
           16.544,
           8.942,
           118.01,
           1539.313,
           7.482,
           816.239,
           1465.114,
           816.239,
           67.188,
           2129.784,
           123.605,
           23.889,
           65.442,
           816.239,
           799.27,
           195.272,
           44.578,
           23.554,
           22.37,
           429.604,
           971.495,
           246.042,
           8287.238,
           1539.313,
           7.482,
           62.143,
           67.188,
           816.239,
           432.135,
           306.099,
           98.669,
           8287.238,
           15.837,
           75.207,
           55.36,
           816.239,
           43.243,
           86.644,
           18.142,
           816.239,
           107.553,
           9.335,
           7.524,
           239.977,
           971.495,
           143.968,
           75.207,
           1539.313,
           7.482,
           816.239,
           62.143,
           816.239,
           18.142,
           91.406,
           18.968,
           18.619,
           10.244,
           7.775,
           829.543,
           68.161,
           28.808,
           19.452,
           14.579,
           12.473,
           1539.313,
           7.482,
           59.424,
           18.142,
           160.408,
           153.798,
           117.096,
           60.306,
           59.728,
           16.544,
           8.942,
           8287.238,
           37.912,
           32.519,
           28.206,
           8.627,
           7.592,
           7.288,
           971.495,
           75.207,
           118.01,
           761.895,
           62.143,
           55.501,
           26.617,
           32.519,
           118.01,
           55.501,
           26.617,
           43.354,
           111.049,
           130.267,
           51.888,
           8.164,
           1539.313,
           7.482,
           80.196,
           28.206,
           8.627,
           7.592,
           7.288,
           142.994,
           133.904,
           41.062,
           9.625,
           55.501,
           26.617,
           160.408,
           153.798,
           117.096,
           60.306,
           59.728,
           16.544,
           8.942,
           1539.313,
           7.482,
           55.501,
           26.617,
           75.207,
           429.604,
           2705.627,
           55.501,
           26.617,
           47.648,
           432.135,
           23.362,
           217.63,
           26.687,
           16.633,
           429.604,
           81.53,
           50.024,
           25.323,
           18.232,
           10.864,
           9.934,
           195.279,
           143.968,
           253.117,
           622.175,
           79.521,
           8287.238,
           69.069,
           62.143,
           115.276,
           971.495,
           72.109,
           1539.313,
           7.482,
           220.012,
           630.645,
           1219.399,
           14.668,
           11.844,
           1539.313,
           7.482,
           971.495,
           55.501,
           26.617,
           73.062,
           143.968,
           971.495,
           622.175,
           8287.238,
           143.968,
           15.798,
           106.188,
           86.705,
           16.975,
           9.288,
           816.239,
           45.415,
           2705.627,
           58.373,
           142.994,
           8287.238,
           816.239,
           123.605,
           81.53,
           50.024,
           25.323,
           18.232,
           10.864,
           9.934,
           55.501,
           26.617,
           81.53,
           50.024,
           25.323,
           18.232,
           10.864,
           9.934,
           43.273,
           67.188,
           55.501,
           26.617,
           816.239,
           217.63,
           26.687,
           16.633,
           62.143,
           28.206,
           8.627,
           7.592,
           7.288,
           630.645,
           59.424,
           971.495,
           55.501,
           26.617,
           239.977,
           142.994,
           55.501,
           26.617,
           55.501,
           26.617,
           55.501,
           26.617,
           81.53,
           50.024,
           25.323,
           18.232,
           10.864,
           9.934,
           94.03,
           58.065,
           47.246,
           65.442,
           971.495,
           36.787,
           55.501,
           26.617,
           61.491,
           220.012,
           78.066,
           22.792,
           7.511,
           217.63,
           26.687,
           16.633,
           118.01,
           123.605,
           143.968,
           816.239,
           24.178,
           111.049,
           971.495,
           28.206,
           8.627,
           7.592,
           7.288,
           8287.238,
           22.792,
           7.511,
           19.545,
           630.645,
           28.946,
           829.543,
           68.161,
           28.808,
           19.452,
           14.579,
           12.473,
           1539.313,
           7.482,
           67.188,
           81.53,
           50.024,
           25.323,
           18.232,
           10.864,
           9.934,
           253.117,
           8287.238,
           73.062,
           1359.174,
           630.645,
           59.424,
           816.239,
           31.01,
           62.143,
           816.239,
           816.239,
           8287.238,
           816.239,
           1219.399,
           14.668,
           11.844,
           296.114,
           55.501,
           26.617,
           2129.784,
           98.669,
           1539.313,
           7.482,
           2705.627,
           114.611,
           81.53,
           50.024,
           25.323,
           18.232,
           10.864,
           9.934,
           816.239,
           118.01,
           13.664,
           12.917,
           220.528,
           1539.313,
           7.482,
           8287.238,
           589.896,
           1539.313,
           7.482,
           15.323,
           14.773,
           1539.313,
           7.482,
           72.109,
           471.625,
           55.501,
           26.617,
           1539.313,
           7.482,
           15.837,
           55.501,
           26.617,
           239.977,
           1539.313,
           7.482,
           630.645,
           160.408,
           153.798,
           117.096,
           60.306,
           59.728,
           16.544,
           8.942,
           58.637,
           13.569,
           123.605,
           1539.313,
           7.482,
           55.933,
           8287.238,
           143.968,
           8287.238,
           118.01,
           71.249,
           9.077,
           816.239,
           80.527,
           220.012,
           55.501,
           26.617,
           160.408,
           153.798,
           117.096,
           60.306,
           59.728,
           16.544,
           8.942,
           81.53,
           50.024,
           25.323,
           18.232,
           10.864,
           9.934,
           220.012,
           829.543,
           68.161,
           28.808,
           19.452,
           14.579,
           12.473,
           62.143,
           62.143,
           1539.313,
           7.482,
           1539.313,
           7.482,
           143.968,
           55.501,
           26.617,
           1539.313,
           7.482,
           243.787,
           220.012,
           253.117,
           816.239,
           160.408,
           153.798,
           117.096,
           60.306,
           59.728,
           16.544,
           8.942,
           412.438,
           13.629,
           78.066,
           589.896,
           414.135,
           622.175,
           816.239,
           65.442,
           23.889,
           1539.313,
           7.482,
           816.239,
           217.63,
           26.687,
           16.633,
           89.613,
           49.365,
           13.274,
           9.041,
           630.645,
           620.427,
           19.974,
           15.409,
           13.976,
           13.805,
           11.64,
           9.729,
           7.302,
           220.528,
           80.196,
           8287.238,
           8287.238,
           61.449,
           143.968,
           118.01,
           1359.174,
           55.501,
           26.617,
           81.53,
           50.024,
           25.323,
           18.232,
           10.864,
           9.934,
           2129.784,
           1539.313,
           7.482,
           8287.238,
           73.062,
           118.01,
           59.253,
           1539.313,
           7.482,
           51.12,
           42.41,
           25.494,
           10.509,
           9.898,
           8.453,
           55.501,
           26.617,
           80.196,
           15.323,
           14.773,
           839.714,
           24.8,
           1219.399,
           14.668,
           11.844,
           96.315,
           107.553,
           9.335,
           7.524,
           2129.784,
           75.084,
           15.798,
           55.933,
           412.438,
           13.629,
           220.012,
           58.637,
           67.188,
           55.501,
           26.617,
           29.874,
           98.669,
           81.53,
           50.024,
           25.323,
           18.232,
           10.864,
           9.934,
           62.143,
           55.501,
           26.617,
           55.501,
           26.617,
           630.645,
           8287.238,
           81.53,
           50.024,
           25.323,
           18.232,
           10.864,
           9.934,
           81.53,
           50.024,
           25.323,
           18.232,
           10.864,
           9.934,
           98.669,
           59.424,
           220.012,
           80.196,
           55.933,
           78.066,
           27.508,
           26.921,
           11.112,
           8.923,
           267.62,
           10.981,
           971.495,
           267.62,
           10.981,
           141.773,
           622.175,
           412.438,
           13.629,
           176.068,
           160.408,
           153.798,
           117.096,
           60.306,
           59.728,
           16.544,
           8.942,
           110.08,
           816.239,
           220.012,
           21.51,
           15.323,
           14.773,
           1219.399,
           14.668,
           11.844,
           55.501,
           26.617,
           28.206,
           8.627,
           7.592,
           7.288,
           267.62,
           10.981,
           189.054,
           10.897,
           272.521,
           429.604,
           816.239,
           53.347,
           277.854,
           47.793,
           43.065,
           31.934,
           55.501,
           26.617,
           799.27,
           195.272,
           44.578,
           23.554,
           22.37,
           8287.238,
           1539.313,
           7.482,
           23.889,
           217.63,
           26.687,
           16.633,
           118.01,
           622.175,
           12.72,
           15.837,
           220.012,
           220.012,
           8287.238,
           1539.313,
           7.482,
           816.239,
           1539.313,
           7.482,
           58.637,
           622.175,
           8287.238,
           51.33,
           83.917,
           81.71,
           77.12,
           816.239,
           118.01,
           32.519,
           816.239,
           8287.238,
           23.889,
           1539.313,
           7.482,
           1219.399,
           14.668,
           11.844,
           59.424,
           55.933,
           816.239,
           58.373,
           432.135,
           1539.313,
           7.482,
           429.604,
           30.418,
           429.604,
           176.068,
           8287.238,
           143.968,
           55.501,
           26.617,
           8287.238,
           206.977,
           105.404,
           36.833,
           32.489,
           11.676,
           143.968,
           67.188,
           32.519,
           81.53,
           50.024,
           25.323,
           18.232,
           10.864,
           9.934,
           22.792,
           7.511,
           55.501,
           26.617,
           62.143,
           267.62,
           10.981,
           94.03,
           630.645,
           86.244,
           59.947,
           33.913,
           25.797,
           13.156,
           8.45,
           8.033,
           82.36,
           2705.627,
           971.495,
           65.442,
           55.501,
           26.617,
           14.41,
           23.889,
           81.53,
           50.024,
           25.323,
           18.232,
           10.864,
           9.934,
           8.499,
           220.012,
           8287.238,
           429.604,
           971.495,
           8287.238,
           83.917,
           81.71,
           77.12,
           55.501,
           26.617,
           9.418,
           8287.238,
           45.511,
           21.472,
           19.311,
           16.796,
           10.426,
           816.239,
           98.669,
           28.206,
           8.627,
           7.592,
           7.288,
           36.787,
           30.363,
           1219.399,
           14.668,
           11.844,
           55.501,
           26.617,
           51.12,
           42.41,
           25.494,
           10.509,
           9.898,
           8.453,
           971.495,
           51.12,
           42.41,
           25.494,
           10.509,
           9.898,
           8.453,
           55.501,
           26.617,
           1539.313,
           7.482,
           220.012,
           30.363,
           589.896,
           630.645,
           23.889,
           59.424,
           816.239,
           816.239,
           1539.313,
           7.482,
           62.143,
           8287.238,
           816.239,
           13.569,
           2705.627,
           70.709,
           75.207,
           81.53,
           50.024,
           25.323,
           18.232,
           10.864,
           9.934,
           217.63,
           26.687,
           16.633,
           90.749,
           55.501,
           26.617,
           55.725,
           65.965,
           8.969,
           8287.238,
           971.495,
           622.175,
           8287.238,
           243.787,
           2705.627,
           59.424,
           2705.627,
           118.01,
           839.714,
           24.8,
           1539.313,
           7.482,
           81.53,
           50.024,
           25.323,
           18.232,
           10.864,
           9.934,
           619.39,
           816.239,
           55.501,
           26.617,
           756.204,
           9.051,
           15.323,
           14.773,
           143.968,
           2129.784,
           1539.313,
           7.482,
           62.143,
           23.362,
           414.135,
           138.438,
           18.676,
           3826.423,
           55.501,
           26.617,
           2705.627,
           217.63,
           26.687,
           16.633,
           98.669,
           160.408,
           153.798,
           117.096,
           60.306,
           59.728,
           16.544,
           8.942,
           58.128,
           816.239,
           8287.238,
           125.184,
           78.066,
           8287.238,
           1539.313,
           7.482,
           80.196,
           1539.313,
           7.482,
           115.276,
           1539.313,
           7.482,
           29.874,
           1539.313,
           7.482,
           1465.114
          ],
          "sizemode": "area"
         },
         "name": "111 - 1000",
         "text": [
          "campbell<br>Salary 88.733 thousand",
          "camarillo<br>Salary 112.611 thousand",
          "philadelphia<br>Salary 57.096 thousand",
          "philadelphia<br>Salary 57.096 thousand",
          "rockville<br>Salary 102.731 thousand",
          "irving<br>Salary 83.366 thousand",
          "princeton<br>Salary 87.693 thousand",
          "princeton<br>Salary 87.693 thousand",
          "princeton<br>Salary 87.693 thousand",
          "princeton<br>Salary 87.693 thousand",
          "atlanta<br>Salary 102.669 thousand",
          "duluth<br>Salary 82.098 thousand",
          "duluth<br>Salary 82.098 thousand",
          "irving<br>Salary 83.97 thousand",
          "san francisco<br>Salary 122.429 thousand",
          "cedar rapids<br>Salary 83.366 thousand",
          "new york<br>Salary 138.861 thousand",
          "atlanta<br>Salary 83.595 thousand",
          "chicago<br>Salary 138.861 thousand",
          "newark<br>Salary 85.384 thousand",
          "newark<br>Salary 85.384 thousand",
          "newark<br>Salary 85.384 thousand",
          "newark<br>Salary 85.384 thousand",
          "charlotte<br>Salary 83.47 thousand",
          "charlotte<br>Salary 83.47 thousand",
          "seattle<br>Salary 113.318 thousand",
          "farmington<br>Salary 83.533 thousand",
          "farmington<br>Salary 83.533 thousand",
          "farmington<br>Salary 83.533 thousand",
          "farmington<br>Salary 83.533 thousand",
          "farmington<br>Salary 83.533 thousand",
          "farmington hills<br>Salary 51.272 thousand",
          "cottage grove<br>Salary 83.97 thousand",
          "cottage grove<br>Salary 83.97 thousand",
          "salt lake city<br>Salary 69.576 thousand",
          "san francisco<br>Salary 117.0 thousand",
          "santa clara<br>Salary 93.038 thousand",
          "princeton<br>Salary 87.693 thousand",
          "princeton<br>Salary 87.693 thousand",
          "princeton<br>Salary 87.693 thousand",
          "princeton<br>Salary 87.693 thousand",
          "plano<br>Salary 68.827 thousand",
          "plano<br>Salary 68.827 thousand",
          "tampa<br>Salary 74.734 thousand",
          "santa clara<br>Salary 172.515 thousand",
          "troy<br>Salary 93.454 thousand",
          "troy<br>Salary 93.454 thousand",
          "troy<br>Salary 93.454 thousand",
          "troy<br>Salary 93.454 thousand",
          "troy<br>Salary 93.454 thousand",
          "troy<br>Salary 93.454 thousand",
          "novi<br>Salary 71.635 thousand",
          "mountain view<br>Salary 132.184 thousand",
          "omaha<br>Salary 88.13 thousand",
          "santa clara<br>Salary 88.733 thousand",
          "philadelphia<br>Salary 58.968 thousand",
          "philadelphia<br>Salary 58.968 thousand",
          "new york<br>Salary 70.554 thousand",
          "philadelphia<br>Salary 60.341 thousand",
          "philadelphia<br>Salary 60.341 thousand",
          "omaha<br>Salary 89.502 thousand",
          "new york<br>Salary 80.808 thousand",
          "santa clara<br>Salary 125.05 thousand",
          "provo<br>Salary 66.165 thousand",
          "new york<br>Salary 77.022 thousand",
          "springfield<br>Salary 77.002 thousand",
          "springfield<br>Salary 77.002 thousand",
          "springfield<br>Salary 77.002 thousand",
          "springfield<br>Salary 77.002 thousand",
          "springfield<br>Salary 77.002 thousand",
          "springfield<br>Salary 77.002 thousand",
          "springfield<br>Salary 77.002 thousand",
          "santa clara<br>Salary 110.864 thousand",
          "philadelphia<br>Salary 73.507 thousand",
          "philadelphia<br>Salary 73.507 thousand",
          "san francisco<br>Salary 135.99 thousand",
          "phoenix<br>Salary 78.582 thousand",
          "san francisco<br>Salary 121.077 thousand",
          "milpitas<br>Salary 90.002 thousand",
          "houston<br>Salary 90.002 thousand",
          "frisco<br>Salary 90.646 thousand",
          "herndon<br>Salary 61.818 thousand",
          "palo alto<br>Salary 102.669 thousand",
          "san francisco<br>Salary 135.99 thousand",
          "columbus<br>Salary 83.595 thousand",
          "columbus<br>Salary 83.595 thousand",
          "columbus<br>Salary 83.595 thousand",
          "columbus<br>Salary 83.595 thousand",
          "columbus<br>Salary 83.595 thousand",
          "omaha<br>Salary 96.762 thousand",
          "san jose<br>Salary 78.915 thousand",
          "st. petersburg<br>Salary 110.864 thousand",
          "new york<br>Salary 133.016 thousand",
          "philadelphia<br>Salary 53.082 thousand",
          "philadelphia<br>Salary 53.082 thousand",
          "rockville<br>Salary 60.653 thousand",
          "milpitas<br>Salary 110.864 thousand",
          "san francisco<br>Salary 122.429 thousand",
          "atlanta<br>Salary 62.026 thousand",
          "pittsburgh<br>Salary 81.12 thousand",
          "san mateo<br>Salary 102.669 thousand",
          "new york<br>Salary 102.669 thousand",
          "clive<br>Salary 83.47 thousand",
          "mountain view<br>Salary 125.05 thousand",
          "cedar park<br>Salary 79.082 thousand",
          "san francisco<br>Salary 94.827 thousand",
          "moline<br>Salary 68.411 thousand",
          "nashua<br>Salary 83.741 thousand",
          "south burlington<br>Salary 92.768 thousand",
          "san francisco<br>Salary 122.429 thousand",
          "lowell<br>Salary 76.523 thousand",
          "lowell<br>Salary 76.523 thousand",
          "lowell<br>Salary 76.523 thousand",
          "chandler<br>Salary 73.278 thousand",
          "san jose<br>Salary 78.915 thousand",
          "sunnyvale<br>Salary 133.016 thousand",
          "mountain view<br>Salary 133.016 thousand",
          "philadelphia<br>Salary 57.096 thousand",
          "philadelphia<br>Salary 57.096 thousand",
          "san francisco<br>Salary 122.429 thousand",
          "rockville<br>Salary 69.722 thousand",
          "san francisco<br>Salary 142.168 thousand",
          "south burlington<br>Salary 92.768 thousand",
          "beaverton<br>Salary 67.35 thousand",
          "lexington<br>Salary 60.0 thousand",
          "lexington<br>Salary 60.0 thousand",
          "lexington<br>Salary 60.0 thousand",
          "lexington<br>Salary 60.0 thousand",
          "jacksonville<br>Salary 77.875 thousand",
          "jacksonville<br>Salary 77.875 thousand",
          "jacksonville<br>Salary 77.875 thousand",
          "jacksonville<br>Salary 77.875 thousand",
          "jacksonville<br>Salary 77.875 thousand",
          "jacksonville<br>Salary 77.875 thousand",
          "philadelphia<br>Salary 57.533 thousand",
          "philadelphia<br>Salary 57.533 thousand",
          "alpharetta<br>Salary 60.528 thousand",
          "south burlington<br>Salary 80.912 thousand",
          "springfield<br>Salary 59.779 thousand",
          "springfield<br>Salary 59.779 thousand",
          "springfield<br>Salary 59.779 thousand",
          "springfield<br>Salary 59.779 thousand",
          "springfield<br>Salary 59.779 thousand",
          "springfield<br>Salary 59.779 thousand",
          "springfield<br>Salary 59.779 thousand",
          "new york<br>Salary 138.861 thousand",
          "brookfield<br>Salary 73.362 thousand",
          "menlo park<br>Salary 121.805 thousand",
          "princeton<br>Salary 49.962 thousand",
          "princeton<br>Salary 49.962 thousand",
          "princeton<br>Salary 49.962 thousand",
          "princeton<br>Salary 49.962 thousand",
          "san jose<br>Salary 110.864 thousand",
          "mountain view<br>Salary 110.864 thousand",
          "santa clara<br>Salary 110.864 thousand",
          "fort worth<br>Salary 73.944 thousand",
          "rockville<br>Salary 65.707 thousand",
          "redmond<br>Salary 112.549 thousand",
          "redmond<br>Salary 112.549 thousand",
          "menlo park<br>Salary 121.139 thousand",
          "santa clara<br>Salary 136.635 thousand",
          "redmond<br>Salary 113.318 thousand",
          "redmond<br>Salary 113.318 thousand",
          "lacey<br>Salary 76.482 thousand",
          "costa mesa<br>Salary 84.739 thousand",
          "bellevue<br>Salary 68.702 thousand",
          "bellevue<br>Salary 68.702 thousand",
          "bellevue<br>Salary 68.702 thousand",
          "philadelphia<br>Salary 57.096 thousand",
          "philadelphia<br>Salary 57.096 thousand",
          "farmington hills<br>Salary 71.635 thousand",
          "princeton<br>Salary 75.546 thousand",
          "princeton<br>Salary 75.546 thousand",
          "princeton<br>Salary 75.546 thousand",
          "princeton<br>Salary 75.546 thousand",
          "naperville<br>Salary 83.595 thousand",
          "warren<br>Salary 77.917 thousand",
          "warren<br>Salary 77.917 thousand",
          "warren<br>Salary 77.917 thousand",
          "redmond<br>Salary 113.318 thousand",
          "redmond<br>Salary 113.318 thousand",
          "springfield<br>Salary 73.528 thousand",
          "springfield<br>Salary 73.528 thousand",
          "springfield<br>Salary 73.528 thousand",
          "springfield<br>Salary 73.528 thousand",
          "springfield<br>Salary 73.528 thousand",
          "springfield<br>Salary 73.528 thousand",
          "springfield<br>Salary 73.528 thousand",
          "philadelphia<br>Salary 57.096 thousand",
          "philadelphia<br>Salary 57.096 thousand",
          "redmond<br>Salary 112.549 thousand",
          "redmond<br>Salary 112.549 thousand",
          "mountain view<br>Salary 142.376 thousand",
          "omaha<br>Salary 75.504 thousand",
          "chicago<br>Salary 59.093 thousand",
          "redmond<br>Salary 93.038 thousand",
          "redmond<br>Salary 93.038 thousand",
          "doral<br>Salary 81.598 thousand",
          "atlanta<br>Salary 80.517 thousand",
          "greenbelt<br>Salary 102.731 thousand",
          "fremont<br>Salary 70.47 thousand",
          "fremont<br>Salary 70.47 thousand",
          "fremont<br>Salary 70.47 thousand",
          "omaha<br>Salary 84.24 thousand",
          "troy<br>Salary 63.939 thousand",
          "troy<br>Salary 63.939 thousand",
          "troy<br>Salary 63.939 thousand",
          "troy<br>Salary 63.939 thousand",
          "troy<br>Salary 63.939 thousand",
          "troy<br>Salary 63.939 thousand",
          "little rock<br>Salary 87.693 thousand",
          "sunnyvale<br>Salary 133.016 thousand",
          "jersey city<br>Salary 69.701 thousand",
          "seattle<br>Salary 118.456 thousand",
          "johns creek<br>Salary 103.688 thousand",
          "new york<br>Salary 71.51 thousand",
          "jonesboro<br>Salary 82.098 thousand",
          "rockville<br>Salary 61.152 thousand",
          "ann arbor<br>Salary 82.098 thousand",
          "san jose<br>Salary 87.714 thousand",
          "southfield<br>Salary 72.197 thousand",
          "philadelphia<br>Salary 67.891 thousand",
          "philadelphia<br>Salary 67.891 thousand",
          "irving<br>Salary 82.493 thousand",
          "boston<br>Salary 87.859 thousand",
          "dallas<br>Salary 74.194 thousand",
          "dallas<br>Salary 74.194 thousand",
          "dallas<br>Salary 74.194 thousand",
          "philadelphia<br>Salary 57.096 thousand",
          "philadelphia<br>Salary 57.096 thousand",
          "san jose<br>Salary 83.47 thousand",
          "redmond<br>Salary 112.549 thousand",
          "redmond<br>Salary 112.549 thousand",
          "san ramon<br>Salary 109.325 thousand",
          "sunnyvale<br>Salary 93.995 thousand",
          "san jose<br>Salary 144.518 thousand",
          "seattle<br>Salary 107.39 thousand",
          "new york<br>Salary 71.51 thousand",
          "sunnyvale<br>Salary 101.587 thousand",
          "suwanee<br>Salary 79.373 thousand",
          "norwalk<br>Salary 65.229 thousand",
          "norwalk<br>Salary 65.229 thousand",
          "norwalk<br>Salary 65.229 thousand",
          "norwalk<br>Salary 65.229 thousand",
          "san francisco<br>Salary 118.186 thousand",
          "san luis obispo<br>Salary 82.098 thousand",
          "chicago<br>Salary 100.09 thousand",
          "west des moines<br>Salary 56.534 thousand",
          "naperville<br>Salary 102.003 thousand",
          "new york<br>Salary 69.701 thousand",
          "san francisco<br>Salary 107.203 thousand",
          "frisco<br>Salary 90.646 thousand",
          "troy<br>Salary 83.678 thousand",
          "troy<br>Salary 83.678 thousand",
          "troy<br>Salary 83.678 thousand",
          "troy<br>Salary 83.678 thousand",
          "troy<br>Salary 83.678 thousand",
          "troy<br>Salary 83.678 thousand",
          "redmond<br>Salary 83.47 thousand",
          "redmond<br>Salary 83.47 thousand",
          "troy<br>Salary 96.47 thousand",
          "troy<br>Salary 96.47 thousand",
          "troy<br>Salary 96.47 thousand",
          "troy<br>Salary 96.47 thousand",
          "troy<br>Salary 96.47 thousand",
          "troy<br>Salary 96.47 thousand",
          "draper<br>Salary 77.667 thousand",
          "milpitas<br>Salary 155.147 thousand",
          "redmond<br>Salary 93.038 thousand",
          "redmond<br>Salary 93.038 thousand",
          "san francisco<br>Salary 142.168 thousand",
          "fremont<br>Salary 87.506 thousand",
          "fremont<br>Salary 87.506 thousand",
          "fremont<br>Salary 87.506 thousand",
          "rockville<br>Salary 76.586 thousand",
          "princeton<br>Salary 67.746 thousand",
          "princeton<br>Salary 67.746 thousand",
          "princeton<br>Salary 67.746 thousand",
          "princeton<br>Salary 67.746 thousand",
          "boston<br>Salary 95.618 thousand",
          "alpharetta<br>Salary 60.299 thousand",
          "san jose<br>Salary 96.325 thousand",
          "redmond<br>Salary 93.038 thousand",
          "redmond<br>Salary 93.038 thousand",
          "chandler<br>Salary 78.021 thousand",
          "naperville<br>Salary 84.24 thousand",
          "redmond<br>Salary 112.549 thousand",
          "redmond<br>Salary 112.549 thousand",
          "redmond<br>Salary 93.038 thousand",
          "redmond<br>Salary 93.038 thousand",
          "redmond<br>Salary 93.038 thousand",
          "redmond<br>Salary 93.038 thousand",
          "troy<br>Salary 83.678 thousand",
          "troy<br>Salary 83.678 thousand",
          "troy<br>Salary 83.678 thousand",
          "troy<br>Salary 83.678 thousand",
          "troy<br>Salary 83.678 thousand",
          "troy<br>Salary 83.678 thousand",
          "renton<br>Salary 81.765 thousand",
          "mansfield<br>Salary 85.238 thousand",
          "mansfield<br>Salary 85.238 thousand",
          "palo alto<br>Salary 153.774 thousand",
          "san jose<br>Salary 77.605 thousand",
          "westerville<br>Salary 80.85 thousand",
          "redmond<br>Salary 92.81 thousand",
          "redmond<br>Salary 92.81 thousand",
          "gaithersburg<br>Salary 83.97 thousand",
          "irving<br>Salary 74.152 thousand",
          "redwood city<br>Salary 102.669 thousand",
          "fairfax<br>Salary 113.589 thousand",
          "fairfax<br>Salary 113.589 thousand",
          "fremont<br>Salary 92.768 thousand",
          "fremont<br>Salary 92.768 thousand",
          "fremont<br>Salary 92.768 thousand",
          "santa clara<br>Salary 88.733 thousand",
          "frisco<br>Salary 90.646 thousand",
          "sunnyvale<br>Salary 71.365 thousand",
          "san francisco<br>Salary 121.077 thousand",
          "rolling meadows<br>Salary 92.768 thousand",
          "costa mesa<br>Salary 102.669 thousand",
          "san jose<br>Salary 146.619 thousand",
          "princeton<br>Salary 127.878 thousand",
          "princeton<br>Salary 127.878 thousand",
          "princeton<br>Salary 127.878 thousand",
          "princeton<br>Salary 127.878 thousand",
          "new york<br>Salary 88.733 thousand",
          "fairfax<br>Salary 70.283 thousand",
          "fairfax<br>Salary 70.283 thousand",
          "morrisville<br>Salary 99.32 thousand",
          "boston<br>Salary 84.698 thousand",
          "lawrenceville<br>Salary 52.52 thousand",
          "jacksonville<br>Salary 63.44 thousand",
          "jacksonville<br>Salary 63.44 thousand",
          "jacksonville<br>Salary 63.44 thousand",
          "jacksonville<br>Salary 63.44 thousand",
          "jacksonville<br>Salary 63.44 thousand",
          "jacksonville<br>Salary 63.44 thousand",
          "philadelphia<br>Salary 82.93 thousand",
          "philadelphia<br>Salary 82.93 thousand",
          "milpitas<br>Salary 155.147 thousand",
          "troy<br>Salary 83.678 thousand",
          "troy<br>Salary 83.678 thousand",
          "troy<br>Salary 83.678 thousand",
          "troy<br>Salary 83.678 thousand",
          "troy<br>Salary 83.678 thousand",
          "troy<br>Salary 83.678 thousand",
          "jersey city<br>Salary 94.827 thousand",
          "new york<br>Salary 58.594 thousand",
          "san ramon<br>Salary 75.941 thousand",
          "san antonio<br>Salary 132.08 thousand",
          "boston<br>Salary 110.698 thousand",
          "alpharetta<br>Salary 82.098 thousand",
          "san francisco<br>Salary 129.106 thousand",
          "foster city<br>Salary 122.429 thousand",
          "rockville<br>Salary 68.869 thousand",
          "san francisco<br>Salary 92.955 thousand",
          "san francisco<br>Salary 102.669 thousand",
          "new york<br>Salary 137.696 thousand",
          "san francisco<br>Salary 102.669 thousand",
          "dallas<br>Salary 73.507 thousand",
          "dallas<br>Salary 73.507 thousand",
          "dallas<br>Salary 73.507 thousand",
          "cincinnati<br>Salary 63.211 thousand",
          "redmond<br>Salary 101.837 thousand",
          "redmond<br>Salary 101.837 thousand",
          "houston<br>Salary 81.058 thousand",
          "san mateo<br>Salary 122.429 thousand",
          "philadelphia<br>Salary 71.531 thousand",
          "philadelphia<br>Salary 71.531 thousand",
          "chicago<br>Salary 71.365 thousand",
          "provo<br>Salary 88.358 thousand",
          "troy<br>Salary 128.44 thousand",
          "troy<br>Salary 128.44 thousand",
          "troy<br>Salary 128.44 thousand",
          "troy<br>Salary 128.44 thousand",
          "troy<br>Salary 128.44 thousand",
          "troy<br>Salary 128.44 thousand",
          "san francisco<br>Salary 122.429 thousand",
          "santa clara<br>Salary 120.349 thousand",
          "worthington<br>Salary 86.59 thousand",
          "worthington<br>Salary 86.59 thousand",
          "irvine<br>Salary 120.994 thousand",
          "philadelphia<br>Salary 62.733 thousand",
          "philadelphia<br>Salary 62.733 thousand",
          "new york<br>Salary 114.026 thousand",
          "oklahoma city<br>Salary 62.026 thousand",
          "philadelphia<br>Salary 55.64 thousand",
          "philadelphia<br>Salary 55.64 thousand",
          "sterling<br>Salary 92.019 thousand",
          "sterling<br>Salary 92.019 thousand",
          "philadelphia<br>Salary 73.507 thousand",
          "philadelphia<br>Salary 73.507 thousand",
          "southfield<br>Salary 66.186 thousand",
          "sacramento<br>Salary 98.218 thousand",
          "redmond<br>Salary 112.549 thousand",
          "redmond<br>Salary 112.549 thousand",
          "philadelphia<br>Salary 70.283 thousand",
          "philadelphia<br>Salary 70.283 thousand",
          "clive<br>Salary 109.741 thousand",
          "redmond<br>Salary 113.318 thousand",
          "redmond<br>Salary 113.318 thousand",
          "chandler<br>Salary 81.266 thousand",
          "philadelphia<br>Salary 62.941 thousand",
          "philadelphia<br>Salary 62.941 thousand",
          "boston<br>Salary 67.829 thousand",
          "springfield<br>Salary 66.269 thousand",
          "springfield<br>Salary 66.269 thousand",
          "springfield<br>Salary 66.269 thousand",
          "springfield<br>Salary 66.269 thousand",
          "springfield<br>Salary 66.269 thousand",
          "springfield<br>Salary 66.269 thousand",
          "springfield<br>Salary 66.269 thousand",
          "des plaines<br>Salary 67.163 thousand",
          "wixom<br>Salary 78.125 thousand",
          "frisco<br>Salary 72.363 thousand",
          "philadelphia<br>Salary 55.453 thousand",
          "philadelphia<br>Salary 55.453 thousand",
          "novi<br>Salary 101.816 thousand",
          "new york<br>Salary 135.283 thousand",
          "sunnyvale<br>Salary 105.414 thousand",
          "new york<br>Salary 52.208 thousand",
          "santa clara<br>Salary 88.733 thousand",
          "pleasanton<br>Salary 109.325 thousand",
          "pleasanton<br>Salary 109.325 thousand",
          "san francisco<br>Salary 110.864 thousand",
          "sugar land<br>Salary 85.53 thousand",
          "irving<br>Salary 85.197 thousand",
          "redmond<br>Salary 112.549 thousand",
          "redmond<br>Salary 112.549 thousand",
          "springfield<br>Salary 90.646 thousand",
          "springfield<br>Salary 90.646 thousand",
          "springfield<br>Salary 90.646 thousand",
          "springfield<br>Salary 90.646 thousand",
          "springfield<br>Salary 90.646 thousand",
          "springfield<br>Salary 90.646 thousand",
          "springfield<br>Salary 90.646 thousand",
          "troy<br>Salary 63.939 thousand",
          "troy<br>Salary 63.939 thousand",
          "troy<br>Salary 63.939 thousand",
          "troy<br>Salary 63.939 thousand",
          "troy<br>Salary 63.939 thousand",
          "troy<br>Salary 63.939 thousand",
          "irving<br>Salary 89.024 thousand",
          "jacksonville<br>Salary 82.098 thousand",
          "jacksonville<br>Salary 82.098 thousand",
          "jacksonville<br>Salary 82.098 thousand",
          "jacksonville<br>Salary 82.098 thousand",
          "jacksonville<br>Salary 82.098 thousand",
          "jacksonville<br>Salary 82.098 thousand",
          "rockville<br>Salary 61.152 thousand",
          "rockville<br>Salary 86.029 thousand",
          "philadelphia<br>Salary 67.829 thousand",
          "philadelphia<br>Salary 67.829 thousand",
          "philadelphia<br>Salary 62.733 thousand",
          "philadelphia<br>Salary 62.733 thousand",
          "sunnyvale<br>Salary 133.016 thousand",
          "redmond<br>Salary 113.318 thousand",
          "redmond<br>Salary 113.318 thousand",
          "philadelphia<br>Salary 55.536 thousand",
          "philadelphia<br>Salary 55.536 thousand",
          "orlando<br>Salary 79.414 thousand",
          "irving<br>Salary 86.154 thousand",
          "jersey city<br>Salary 73.507 thousand",
          "san francisco<br>Salary 110.864 thousand",
          "springfield<br>Salary 85.925 thousand",
          "springfield<br>Salary 85.925 thousand",
          "springfield<br>Salary 85.925 thousand",
          "springfield<br>Salary 85.925 thousand",
          "springfield<br>Salary 85.925 thousand",
          "springfield<br>Salary 85.925 thousand",
          "springfield<br>Salary 85.925 thousand",
          "miami<br>Salary 78.874 thousand",
          "miami<br>Salary 78.874 thousand",
          "redwood city<br>Salary 102.669 thousand",
          "oklahoma city<br>Salary 73.091 thousand",
          "raleigh<br>Salary 88.712 thousand",
          "seattle<br>Salary 112.549 thousand",
          "san francisco<br>Salary 114.65 thousand",
          "palo alto<br>Salary 110.864 thousand",
          "herndon<br>Salary 124.218 thousand",
          "philadelphia<br>Salary 67.142 thousand",
          "philadelphia<br>Salary 67.142 thousand",
          "san francisco<br>Salary 112.362 thousand",
          "fremont<br>Salary 85.155 thousand",
          "fremont<br>Salary 85.155 thousand",
          "fremont<br>Salary 85.155 thousand",
          "orem<br>Salary 77.667 thousand",
          "harrisburg<br>Salary 66.248 thousand",
          "harrisburg<br>Salary 66.248 thousand",
          "harrisburg<br>Salary 66.248 thousand",
          "boston<br>Salary 87.859 thousand",
          "washington<br>Salary 105.83 thousand",
          "washington<br>Salary 105.83 thousand",
          "washington<br>Salary 105.83 thousand",
          "washington<br>Salary 105.83 thousand",
          "washington<br>Salary 105.83 thousand",
          "washington<br>Salary 105.83 thousand",
          "washington<br>Salary 105.83 thousand",
          "washington<br>Salary 105.83 thousand",
          "irvine<br>Salary 78.083 thousand",
          "farmington hills<br>Salary 90.646 thousand",
          "new york<br>Salary 60.341 thousand",
          "new york<br>Salary 87.235 thousand",
          "santa cruz<br>Salary 88.067 thousand",
          "sunnyvale<br>Salary 133.016 thousand",
          "santa clara<br>Salary 91.874 thousand",
          "san antonio<br>Salary 109.242 thousand",
          "redmond<br>Salary 92.81 thousand",
          "redmond<br>Salary 92.81 thousand",
          "troy<br>Salary 82.805 thousand",
          "troy<br>Salary 82.805 thousand",
          "troy<br>Salary 82.805 thousand",
          "troy<br>Salary 82.805 thousand",
          "troy<br>Salary 82.805 thousand",
          "troy<br>Salary 82.805 thousand",
          "houston<br>Salary 121.077 thousand",
          "philadelphia<br>Salary 41.704 thousand",
          "philadelphia<br>Salary 41.704 thousand",
          "new york<br>Salary 69.701 thousand",
          "san ramon<br>Salary 79.581 thousand",
          "santa clara<br>Salary 116.522 thousand",
          "cupertino<br>Salary 110.864 thousand",
          "philadelphia<br>Salary 62.733 thousand",
          "philadelphia<br>Salary 62.733 thousand",
          "burlington<br>Salary 58.219 thousand",
          "burlington<br>Salary 58.219 thousand",
          "burlington<br>Salary 58.219 thousand",
          "burlington<br>Salary 58.219 thousand",
          "burlington<br>Salary 58.219 thousand",
          "burlington<br>Salary 58.219 thousand",
          "redmond<br>Salary 110.864 thousand",
          "redmond<br>Salary 110.864 thousand",
          "farmington hills<br>Salary 78.125 thousand",
          "sterling<br>Salary 92.019 thousand",
          "sterling<br>Salary 92.019 thousand",
          "austin<br>Salary 70.928 thousand",
          "austin<br>Salary 70.928 thousand",
          "dallas<br>Salary 76.523 thousand",
          "dallas<br>Salary 76.523 thousand",
          "dallas<br>Salary 76.523 thousand",
          "livonia<br>Salary 69.805 thousand",
          "lowell<br>Salary 76.523 thousand",
          "lowell<br>Salary 76.523 thousand",
          "lowell<br>Salary 76.523 thousand",
          "houston<br>Salary 90.002 thousand",
          "bethlehem<br>Salary 99.902 thousand",
          "suwanee<br>Salary 86.133 thousand",
          "novi<br>Salary 71.635 thousand",
          "miami<br>Salary 71.51 thousand",
          "miami<br>Salary 71.51 thousand",
          "irving<br>Salary 89.024 thousand",
          "des plaines<br>Salary 67.163 thousand",
          "milpitas<br>Salary 110.864 thousand",
          "redmond<br>Salary 112.549 thousand",
          "redmond<br>Salary 112.549 thousand",
          "los gatos<br>Salary 78.021 thousand",
          "san mateo<br>Salary 122.429 thousand",
          "troy<br>Salary 101.754 thousand",
          "troy<br>Salary 101.754 thousand",
          "troy<br>Salary 101.754 thousand",
          "troy<br>Salary 101.754 thousand",
          "troy<br>Salary 101.754 thousand",
          "troy<br>Salary 101.754 thousand",
          "rockville<br>Salary 98.696 thousand",
          "redmond<br>Salary 93.038 thousand",
          "redmond<br>Salary 93.038 thousand",
          "redmond<br>Salary 68.266 thousand",
          "redmond<br>Salary 68.266 thousand",
          "boston<br>Salary 38.563 thousand",
          "new york<br>Salary 165.006 thousand",
          "troy<br>Salary 83.678 thousand",
          "troy<br>Salary 83.678 thousand",
          "troy<br>Salary 83.678 thousand",
          "troy<br>Salary 83.678 thousand",
          "troy<br>Salary 83.678 thousand",
          "troy<br>Salary 83.678 thousand",
          "troy<br>Salary 101.171 thousand",
          "troy<br>Salary 101.171 thousand",
          "troy<br>Salary 101.171 thousand",
          "troy<br>Salary 101.171 thousand",
          "troy<br>Salary 101.171 thousand",
          "troy<br>Salary 101.171 thousand",
          "san mateo<br>Salary 122.429 thousand",
          "alpharetta<br>Salary 72.904 thousand",
          "irving<br>Salary 98.363 thousand",
          "farmington hills<br>Salary 71.635 thousand",
          "novi<br>Salary 71.635 thousand",
          "redwood city<br>Salary 76.336 thousand",
          "garden city<br>Salary 99.341 thousand",
          "garden city<br>Salary 99.341 thousand",
          "garden city<br>Salary 99.341 thousand",
          "garden city<br>Salary 99.341 thousand",
          "plano<br>Salary 78.624 thousand",
          "plano<br>Salary 78.624 thousand",
          "san jose<br>Salary 113.256 thousand",
          "plano<br>Salary 68.827 thousand",
          "plano<br>Salary 68.827 thousand",
          "cary<br>Salary 82.098 thousand",
          "seattle<br>Salary 102.669 thousand",
          "miami<br>Salary 66.643 thousand",
          "miami<br>Salary 66.643 thousand",
          "overland park<br>Salary 65.728 thousand",
          "springfield<br>Salary 90.646 thousand",
          "springfield<br>Salary 90.646 thousand",
          "springfield<br>Salary 90.646 thousand",
          "springfield<br>Salary 90.646 thousand",
          "springfield<br>Salary 90.646 thousand",
          "springfield<br>Salary 90.646 thousand",
          "springfield<br>Salary 90.646 thousand",
          "waterbury<br>Salary 62.213 thousand",
          "san francisco<br>Salary 102.669 thousand",
          "irving<br>Salary 66.81 thousand",
          "auburn hills<br>Salary 73.112 thousand",
          "sterling<br>Salary 92.019 thousand",
          "sterling<br>Salary 92.019 thousand",
          "dallas<br>Salary 90.646 thousand",
          "dallas<br>Salary 90.646 thousand",
          "dallas<br>Salary 90.646 thousand",
          "redmond<br>Salary 132.08 thousand",
          "redmond<br>Salary 132.08 thousand",
          "princeton<br>Salary 54.558 thousand",
          "princeton<br>Salary 54.558 thousand",
          "princeton<br>Salary 54.558 thousand",
          "princeton<br>Salary 54.558 thousand",
          "plano<br>Salary 73.507 thousand",
          "plano<br>Salary 73.507 thousand",
          "grand rapids<br>Salary 86.653 thousand",
          "grand rapids<br>Salary 86.653 thousand",
          "greensboro<br>Salary 60.133 thousand",
          "omaha<br>Salary 107.89 thousand",
          "san francisco<br>Salary 112.549 thousand",
          "south jordan<br>Salary 77.667 thousand",
          "newark<br>Salary 102.274 thousand",
          "newark<br>Salary 102.274 thousand",
          "newark<br>Salary 102.274 thousand",
          "newark<br>Salary 102.274 thousand",
          "redmond<br>Salary 113.318 thousand",
          "redmond<br>Salary 113.318 thousand",
          "columbus<br>Salary 98.384 thousand",
          "columbus<br>Salary 98.384 thousand",
          "columbus<br>Salary 98.384 thousand",
          "columbus<br>Salary 98.384 thousand",
          "columbus<br>Salary 98.384 thousand",
          "new york<br>Salary 133.016 thousand",
          "philadelphia<br>Salary 56.285 thousand",
          "philadelphia<br>Salary 56.285 thousand",
          "herndon<br>Salary 86.299 thousand",
          "fremont<br>Salary 90.646 thousand",
          "fremont<br>Salary 90.646 thousand",
          "fremont<br>Salary 90.646 thousand",
          "santa clara<br>Salary 86.154 thousand",
          "seattle<br>Salary 146.619 thousand",
          "falls church<br>Salary 72.862 thousand",
          "clive<br>Salary 65.645 thousand",
          "irving<br>Salary 74.152 thousand",
          "irving<br>Salary 68.328 thousand",
          "new york<br>Salary 92.768 thousand",
          "philadelphia<br>Salary 86.32 thousand",
          "philadelphia<br>Salary 86.32 thousand",
          "san francisco<br>Salary 122.429 thousand",
          "philadelphia<br>Salary 57.096 thousand",
          "philadelphia<br>Salary 57.096 thousand",
          "des plaines<br>Salary 67.163 thousand",
          "seattle<br>Salary 112.549 thousand",
          "new york<br>Salary 81.037 thousand",
          "hoboken<br>Salary 74.194 thousand",
          "bloomington<br>Salary 82.098 thousand",
          "bloomington<br>Salary 82.098 thousand",
          "bloomington<br>Salary 82.098 thousand",
          "san francisco<br>Salary 103.771 thousand",
          "santa clara<br>Salary 86.195 thousand",
          "menlo park<br>Salary 102.669 thousand",
          "san francisco<br>Salary 99.382 thousand",
          "new york<br>Salary 53.976 thousand",
          "herndon<br>Salary 90.646 thousand",
          "philadelphia<br>Salary 57.533 thousand",
          "philadelphia<br>Salary 57.533 thousand",
          "dallas<br>Salary 73.507 thousand",
          "dallas<br>Salary 73.507 thousand",
          "dallas<br>Salary 73.507 thousand",
          "alpharetta<br>Salary 86.59 thousand",
          "novi<br>Salary 68.702 thousand",
          "san francisco<br>Salary 102.669 thousand",
          "west des moines<br>Salary 67.725 thousand",
          "atlanta<br>Salary 70.283 thousand",
          "philadelphia<br>Salary 56.826 thousand",
          "philadelphia<br>Salary 56.826 thousand",
          "omaha<br>Salary 131.165 thousand",
          "ballwin<br>Salary 82.098 thousand",
          "omaha<br>Salary 82.098 thousand",
          "overland park<br>Salary 83.699 thousand",
          "new york<br>Salary 114.026 thousand",
          "sunnyvale<br>Salary 125.59 thousand",
          "redmond<br>Salary 113.318 thousand",
          "redmond<br>Salary 113.318 thousand",
          "new york<br>Salary 110.864 thousand",
          "richmond<br>Salary 74.402 thousand",
          "richmond<br>Salary 74.402 thousand",
          "richmond<br>Salary 74.402 thousand",
          "richmond<br>Salary 74.402 thousand",
          "richmond<br>Salary 74.402 thousand",
          "sunnyvale<br>Salary 88.587 thousand",
          "milpitas<br>Salary 110.864 thousand",
          "menlo park<br>Salary 117.77 thousand",
          "troy<br>Salary 86.133 thousand",
          "troy<br>Salary 86.133 thousand",
          "troy<br>Salary 86.133 thousand",
          "troy<br>Salary 86.133 thousand",
          "troy<br>Salary 86.133 thousand",
          "troy<br>Salary 86.133 thousand",
          "fairfax<br>Salary 113.755 thousand",
          "fairfax<br>Salary 113.755 thousand",
          "redmond<br>Salary 113.318 thousand",
          "redmond<br>Salary 113.318 thousand",
          "rockville<br>Salary 66.706 thousand",
          "plano<br>Salary 87.859 thousand",
          "plano<br>Salary 87.859 thousand",
          "renton<br>Salary 69.722 thousand",
          "boston<br>Salary 90.355 thousand",
          "greenville<br>Salary 53.186 thousand",
          "greenville<br>Salary 53.186 thousand",
          "greenville<br>Salary 53.186 thousand",
          "greenville<br>Salary 53.186 thousand",
          "greenville<br>Salary 53.186 thousand",
          "greenville<br>Salary 53.186 thousand",
          "greenville<br>Salary 53.186 thousand",
          "livermore<br>Salary 109.325 thousand",
          "chicago<br>Salary 83.658 thousand",
          "san jose<br>Salary 110.864 thousand",
          "palo alto<br>Salary 76.918 thousand",
          "redmond<br>Salary 112.549 thousand",
          "redmond<br>Salary 112.549 thousand",
          "katy<br>Salary 90.002 thousand",
          "herndon<br>Salary 84.739 thousand",
          "troy<br>Salary 117.541 thousand",
          "troy<br>Salary 117.541 thousand",
          "troy<br>Salary 117.541 thousand",
          "troy<br>Salary 117.541 thousand",
          "troy<br>Salary 117.541 thousand",
          "troy<br>Salary 117.541 thousand",
          "sunset hills<br>Salary 78.624 thousand",
          "irving<br>Salary 66.643 thousand",
          "new york<br>Salary 87.859 thousand",
          "omaha<br>Salary 76.523 thousand",
          "san jose<br>Salary 87.714 thousand",
          "new york<br>Salary 100.09 thousand",
          "bloomington<br>Salary 94.058 thousand",
          "bloomington<br>Salary 94.058 thousand",
          "bloomington<br>Salary 94.058 thousand",
          "redmond<br>Salary 112.549 thousand",
          "redmond<br>Salary 112.549 thousand",
          "grosse pointe farms<br>Salary 50.253 thousand",
          "new york<br>Salary 92.768 thousand",
          "farmington<br>Salary 66.206 thousand",
          "farmington<br>Salary 66.206 thousand",
          "farmington<br>Salary 66.206 thousand",
          "farmington<br>Salary 66.206 thousand",
          "farmington<br>Salary 66.206 thousand",
          "san francisco<br>Salary 153.774 thousand",
          "san mateo<br>Salary 71.51 thousand",
          "princeton<br>Salary 71.51 thousand",
          "princeton<br>Salary 71.51 thousand",
          "princeton<br>Salary 71.51 thousand",
          "princeton<br>Salary 71.51 thousand",
          "westerville<br>Salary 86.59 thousand",
          "saratoga<br>Salary 88.733 thousand",
          "dallas<br>Salary 90.646 thousand",
          "dallas<br>Salary 90.646 thousand",
          "dallas<br>Salary 90.646 thousand",
          "redmond<br>Salary 113.318 thousand",
          "redmond<br>Salary 113.318 thousand",
          "burlington<br>Salary 67.829 thousand",
          "burlington<br>Salary 67.829 thousand",
          "burlington<br>Salary 67.829 thousand",
          "burlington<br>Salary 67.829 thousand",
          "burlington<br>Salary 67.829 thousand",
          "burlington<br>Salary 67.829 thousand",
          "san jose<br>Salary 75.92 thousand",
          "burlington<br>Salary 87.859 thousand",
          "burlington<br>Salary 87.859 thousand",
          "burlington<br>Salary 87.859 thousand",
          "burlington<br>Salary 87.859 thousand",
          "burlington<br>Salary 87.859 thousand",
          "burlington<br>Salary 87.859 thousand",
          "redmond<br>Salary 113.318 thousand",
          "redmond<br>Salary 113.318 thousand",
          "philadelphia<br>Salary 57.096 thousand",
          "philadelphia<br>Salary 57.096 thousand",
          "irving<br>Salary 92.768 thousand",
          "saratoga<br>Salary 96.99 thousand",
          "oklahoma city<br>Salary 62.026 thousand",
          "boston<br>Salary 113.256 thousand",
          "herndon<br>Salary 75.067 thousand",
          "alpharetta<br>Salary 84.24 thousand",
          "san francisco<br>Salary 133.806 thousand",
          "san francisco<br>Salary 118.186 thousand",
          "philadelphia<br>Salary 57.096 thousand",
          "philadelphia<br>Salary 57.096 thousand",
          "rockville<br>Salary 76.586 thousand",
          "new york<br>Salary 114.026 thousand",
          "san francisco<br>Salary 92.955 thousand",
          "wixom<br>Salary 65.042 thousand",
          "chicago<br>Salary 100.09 thousand",
          "waukesha<br>Salary 83.366 thousand",
          "mountain view<br>Salary 88.733 thousand",
          "troy<br>Salary 101.171 thousand",
          "troy<br>Salary 101.171 thousand",
          "troy<br>Salary 101.171 thousand",
          "troy<br>Salary 101.171 thousand",
          "troy<br>Salary 101.171 thousand",
          "troy<br>Salary 101.171 thousand",
          "fremont<br>Salary 96.72 thousand",
          "fremont<br>Salary 96.72 thousand",
          "fremont<br>Salary 96.72 thousand",
          "santa monica<br>Salary 55.557 thousand",
          "redmond<br>Salary 112.549 thousand",
          "redmond<br>Salary 112.549 thousand",
          "bowie<br>Salary 37.586 thousand",
          "frederick<br>Salary 65.874 thousand",
          "frederick<br>Salary 65.874 thousand",
          "new york<br>Salary 71.51 thousand",
          "san jose<br>Salary 92.518 thousand",
          "seattle<br>Salary 49.171 thousand",
          "new york<br>Salary 76.794 thousand",
          "orlando<br>Salary 106.454 thousand",
          "chicago<br>Salary 83.366 thousand",
          "alpharetta<br>Salary 82.098 thousand",
          "chicago<br>Salary 86.466 thousand",
          "santa clara<br>Salary 110.864 thousand",
          "austin<br>Salary 86.611 thousand",
          "austin<br>Salary 86.611 thousand",
          "philadelphia<br>Salary 57.096 thousand",
          "philadelphia<br>Salary 57.096 thousand",
          "troy<br>Salary 73.112 thousand",
          "troy<br>Salary 73.112 thousand",
          "troy<br>Salary 73.112 thousand",
          "troy<br>Salary 73.112 thousand",
          "troy<br>Salary 73.112 thousand",
          "troy<br>Salary 73.112 thousand",
          "denver<br>Salary 44.782 thousand",
          "san francisco<br>Salary 92.768 thousand",
          "redmond<br>Salary 93.038 thousand",
          "redmond<br>Salary 93.038 thousand",
          "charlotte<br>Salary 83.47 thousand",
          "charlotte<br>Salary 83.47 thousand",
          "sterling<br>Salary 83.366 thousand",
          "sterling<br>Salary 83.366 thousand",
          "sunnyvale<br>Salary 109.325 thousand",
          "houston<br>Salary 81.058 thousand",
          "philadelphia<br>Salary 83.366 thousand",
          "philadelphia<br>Salary 83.366 thousand",
          "rockville<br>Salary 75.442 thousand",
          "greenbelt<br>Salary 113.755 thousand",
          "raleigh<br>Salary 65.728 thousand",
          "orange<br>Salary 78.083 thousand",
          "orange<br>Salary 78.083 thousand",
          "los angeles<br>Salary 78.478 thousand",
          "redmond<br>Salary 112.549 thousand",
          "redmond<br>Salary 112.549 thousand",
          "chicago<br>Salary 102.669 thousand",
          "fremont<br>Salary 96.72 thousand",
          "fremont<br>Salary 96.72 thousand",
          "fremont<br>Salary 96.72 thousand",
          "san mateo<br>Salary 102.669 thousand",
          "springfield<br>Salary 83.47 thousand",
          "springfield<br>Salary 83.47 thousand",
          "springfield<br>Salary 83.47 thousand",
          "springfield<br>Salary 83.47 thousand",
          "springfield<br>Salary 83.47 thousand",
          "springfield<br>Salary 83.47 thousand",
          "springfield<br>Salary 83.47 thousand",
          "blaine<br>Salary 81.0 thousand",
          "san francisco<br>Salary 122.429 thousand",
          "new york<br>Salary 75.941 thousand",
          "simi valley<br>Salary 70.283 thousand",
          "redwood city<br>Salary 102.669 thousand",
          "new york<br>Salary 92.768 thousand",
          "philadelphia<br>Salary 55.536 thousand",
          "philadelphia<br>Salary 55.536 thousand",
          "farmington hills<br>Salary 92.768 thousand",
          "philadelphia<br>Salary 57.845 thousand",
          "philadelphia<br>Salary 57.845 thousand",
          "ann arbor<br>Salary 63.669 thousand",
          "philadelphia<br>Salary 57.096 thousand",
          "philadelphia<br>Salary 57.096 thousand",
          "los gatos<br>Salary 110.864 thousand",
          "philadelphia<br>Salary 57.069 thousand",
          "philadelphia<br>Salary 57.069 thousand",
          "phoenix<br>Salary 88.733 thousand"
         ],
         "type": "scattergeo"
        }
       ],
       "layout": {
        "geo": {
         "countrycolor": "rgb(255, 255, 255)",
         "countrywidth": 1,
         "landcolor": "rgb(217, 217, 217)",
         "projection": {
          "type": "albers usa"
         },
         "scope": "usa",
         "showland": true,
         "subunitcolor": "rgb(255, 255, 255)",
         "subunitwidth": 1
        },
        "showlegend": true,
        "template": {
         "data": {
          "bar": [
           {
            "error_x": {
             "color": "#2a3f5f"
            },
            "error_y": {
             "color": "#2a3f5f"
            },
            "marker": {
             "line": {
              "color": "#E5ECF6",
              "width": 0.5
             }
            },
            "type": "bar"
           }
          ],
          "barpolar": [
           {
            "marker": {
             "line": {
              "color": "#E5ECF6",
              "width": 0.5
             }
            },
            "type": "barpolar"
           }
          ],
          "carpet": [
           {
            "aaxis": {
             "endlinecolor": "#2a3f5f",
             "gridcolor": "white",
             "linecolor": "white",
             "minorgridcolor": "white",
             "startlinecolor": "#2a3f5f"
            },
            "baxis": {
             "endlinecolor": "#2a3f5f",
             "gridcolor": "white",
             "linecolor": "white",
             "minorgridcolor": "white",
             "startlinecolor": "#2a3f5f"
            },
            "type": "carpet"
           }
          ],
          "choropleth": [
           {
            "colorbar": {
             "outlinewidth": 0,
             "ticks": ""
            },
            "type": "choropleth"
           }
          ],
          "contour": [
           {
            "colorbar": {
             "outlinewidth": 0,
             "ticks": ""
            },
            "colorscale": [
             [
              0,
              "#0d0887"
             ],
             [
              0.1111111111111111,
              "#46039f"
             ],
             [
              0.2222222222222222,
              "#7201a8"
             ],
             [
              0.3333333333333333,
              "#9c179e"
             ],
             [
              0.4444444444444444,
              "#bd3786"
             ],
             [
              0.5555555555555556,
              "#d8576b"
             ],
             [
              0.6666666666666666,
              "#ed7953"
             ],
             [
              0.7777777777777778,
              "#fb9f3a"
             ],
             [
              0.8888888888888888,
              "#fdca26"
             ],
             [
              1,
              "#f0f921"
             ]
            ],
            "type": "contour"
           }
          ],
          "contourcarpet": [
           {
            "colorbar": {
             "outlinewidth": 0,
             "ticks": ""
            },
            "type": "contourcarpet"
           }
          ],
          "heatmap": [
           {
            "colorbar": {
             "outlinewidth": 0,
             "ticks": ""
            },
            "colorscale": [
             [
              0,
              "#0d0887"
             ],
             [
              0.1111111111111111,
              "#46039f"
             ],
             [
              0.2222222222222222,
              "#7201a8"
             ],
             [
              0.3333333333333333,
              "#9c179e"
             ],
             [
              0.4444444444444444,
              "#bd3786"
             ],
             [
              0.5555555555555556,
              "#d8576b"
             ],
             [
              0.6666666666666666,
              "#ed7953"
             ],
             [
              0.7777777777777778,
              "#fb9f3a"
             ],
             [
              0.8888888888888888,
              "#fdca26"
             ],
             [
              1,
              "#f0f921"
             ]
            ],
            "type": "heatmap"
           }
          ],
          "heatmapgl": [
           {
            "colorbar": {
             "outlinewidth": 0,
             "ticks": ""
            },
            "colorscale": [
             [
              0,
              "#0d0887"
             ],
             [
              0.1111111111111111,
              "#46039f"
             ],
             [
              0.2222222222222222,
              "#7201a8"
             ],
             [
              0.3333333333333333,
              "#9c179e"
             ],
             [
              0.4444444444444444,
              "#bd3786"
             ],
             [
              0.5555555555555556,
              "#d8576b"
             ],
             [
              0.6666666666666666,
              "#ed7953"
             ],
             [
              0.7777777777777778,
              "#fb9f3a"
             ],
             [
              0.8888888888888888,
              "#fdca26"
             ],
             [
              1,
              "#f0f921"
             ]
            ],
            "type": "heatmapgl"
           }
          ],
          "histogram": [
           {
            "marker": {
             "colorbar": {
              "outlinewidth": 0,
              "ticks": ""
             }
            },
            "type": "histogram"
           }
          ],
          "histogram2d": [
           {
            "colorbar": {
             "outlinewidth": 0,
             "ticks": ""
            },
            "colorscale": [
             [
              0,
              "#0d0887"
             ],
             [
              0.1111111111111111,
              "#46039f"
             ],
             [
              0.2222222222222222,
              "#7201a8"
             ],
             [
              0.3333333333333333,
              "#9c179e"
             ],
             [
              0.4444444444444444,
              "#bd3786"
             ],
             [
              0.5555555555555556,
              "#d8576b"
             ],
             [
              0.6666666666666666,
              "#ed7953"
             ],
             [
              0.7777777777777778,
              "#fb9f3a"
             ],
             [
              0.8888888888888888,
              "#fdca26"
             ],
             [
              1,
              "#f0f921"
             ]
            ],
            "type": "histogram2d"
           }
          ],
          "histogram2dcontour": [
           {
            "colorbar": {
             "outlinewidth": 0,
             "ticks": ""
            },
            "colorscale": [
             [
              0,
              "#0d0887"
             ],
             [
              0.1111111111111111,
              "#46039f"
             ],
             [
              0.2222222222222222,
              "#7201a8"
             ],
             [
              0.3333333333333333,
              "#9c179e"
             ],
             [
              0.4444444444444444,
              "#bd3786"
             ],
             [
              0.5555555555555556,
              "#d8576b"
             ],
             [
              0.6666666666666666,
              "#ed7953"
             ],
             [
              0.7777777777777778,
              "#fb9f3a"
             ],
             [
              0.8888888888888888,
              "#fdca26"
             ],
             [
              1,
              "#f0f921"
             ]
            ],
            "type": "histogram2dcontour"
           }
          ],
          "mesh3d": [
           {
            "colorbar": {
             "outlinewidth": 0,
             "ticks": ""
            },
            "type": "mesh3d"
           }
          ],
          "parcoords": [
           {
            "line": {
             "colorbar": {
              "outlinewidth": 0,
              "ticks": ""
             }
            },
            "type": "parcoords"
           }
          ],
          "scatter": [
           {
            "marker": {
             "colorbar": {
              "outlinewidth": 0,
              "ticks": ""
             }
            },
            "type": "scatter"
           }
          ],
          "scatter3d": [
           {
            "line": {
             "colorbar": {
              "outlinewidth": 0,
              "ticks": ""
             }
            },
            "marker": {
             "colorbar": {
              "outlinewidth": 0,
              "ticks": ""
             }
            },
            "type": "scatter3d"
           }
          ],
          "scattercarpet": [
           {
            "marker": {
             "colorbar": {
              "outlinewidth": 0,
              "ticks": ""
             }
            },
            "type": "scattercarpet"
           }
          ],
          "scattergeo": [
           {
            "marker": {
             "colorbar": {
              "outlinewidth": 0,
              "ticks": ""
             }
            },
            "type": "scattergeo"
           }
          ],
          "scattergl": [
           {
            "marker": {
             "colorbar": {
              "outlinewidth": 0,
              "ticks": ""
             }
            },
            "type": "scattergl"
           }
          ],
          "scattermapbox": [
           {
            "marker": {
             "colorbar": {
              "outlinewidth": 0,
              "ticks": ""
             }
            },
            "type": "scattermapbox"
           }
          ],
          "scatterpolar": [
           {
            "marker": {
             "colorbar": {
              "outlinewidth": 0,
              "ticks": ""
             }
            },
            "type": "scatterpolar"
           }
          ],
          "scatterpolargl": [
           {
            "marker": {
             "colorbar": {
              "outlinewidth": 0,
              "ticks": ""
             }
            },
            "type": "scatterpolargl"
           }
          ],
          "scatterternary": [
           {
            "marker": {
             "colorbar": {
              "outlinewidth": 0,
              "ticks": ""
             }
            },
            "type": "scatterternary"
           }
          ],
          "surface": [
           {
            "colorbar": {
             "outlinewidth": 0,
             "ticks": ""
            },
            "colorscale": [
             [
              0,
              "#0d0887"
             ],
             [
              0.1111111111111111,
              "#46039f"
             ],
             [
              0.2222222222222222,
              "#7201a8"
             ],
             [
              0.3333333333333333,
              "#9c179e"
             ],
             [
              0.4444444444444444,
              "#bd3786"
             ],
             [
              0.5555555555555556,
              "#d8576b"
             ],
             [
              0.6666666666666666,
              "#ed7953"
             ],
             [
              0.7777777777777778,
              "#fb9f3a"
             ],
             [
              0.8888888888888888,
              "#fdca26"
             ],
             [
              1,
              "#f0f921"
             ]
            ],
            "type": "surface"
           }
          ],
          "table": [
           {
            "cells": {
             "fill": {
              "color": "#EBF0F8"
             },
             "line": {
              "color": "white"
             }
            },
            "header": {
             "fill": {
              "color": "#C8D4E3"
             },
             "line": {
              "color": "white"
             }
            },
            "type": "table"
           }
          ]
         },
         "layout": {
          "annotationdefaults": {
           "arrowcolor": "#2a3f5f",
           "arrowhead": 0,
           "arrowwidth": 1
          },
          "colorscale": {
           "diverging": [
            [
             0,
             "#8e0152"
            ],
            [
             0.1,
             "#c51b7d"
            ],
            [
             0.2,
             "#de77ae"
            ],
            [
             0.3,
             "#f1b6da"
            ],
            [
             0.4,
             "#fde0ef"
            ],
            [
             0.5,
             "#f7f7f7"
            ],
            [
             0.6,
             "#e6f5d0"
            ],
            [
             0.7,
             "#b8e186"
            ],
            [
             0.8,
             "#7fbc41"
            ],
            [
             0.9,
             "#4d9221"
            ],
            [
             1,
             "#276419"
            ]
           ],
           "sequential": [
            [
             0,
             "#0d0887"
            ],
            [
             0.1111111111111111,
             "#46039f"
            ],
            [
             0.2222222222222222,
             "#7201a8"
            ],
            [
             0.3333333333333333,
             "#9c179e"
            ],
            [
             0.4444444444444444,
             "#bd3786"
            ],
            [
             0.5555555555555556,
             "#d8576b"
            ],
            [
             0.6666666666666666,
             "#ed7953"
            ],
            [
             0.7777777777777778,
             "#fb9f3a"
            ],
            [
             0.8888888888888888,
             "#fdca26"
            ],
            [
             1,
             "#f0f921"
            ]
           ],
           "sequentialminus": [
            [
             0,
             "#0d0887"
            ],
            [
             0.1111111111111111,
             "#46039f"
            ],
            [
             0.2222222222222222,
             "#7201a8"
            ],
            [
             0.3333333333333333,
             "#9c179e"
            ],
            [
             0.4444444444444444,
             "#bd3786"
            ],
            [
             0.5555555555555556,
             "#d8576b"
            ],
            [
             0.6666666666666666,
             "#ed7953"
            ],
            [
             0.7777777777777778,
             "#fb9f3a"
            ],
            [
             0.8888888888888888,
             "#fdca26"
            ],
            [
             1,
             "#f0f921"
            ]
           ]
          },
          "colorway": [
           "#636efa",
           "#EF553B",
           "#00cc96",
           "#ab63fa",
           "#FFA15A",
           "#19d3f3",
           "#FF6692",
           "#B6E880",
           "#FF97FF",
           "#FECB52"
          ],
          "font": {
           "color": "#2a3f5f"
          },
          "geo": {
           "bgcolor": "white",
           "lakecolor": "white",
           "landcolor": "#E5ECF6",
           "showlakes": true,
           "showland": true,
           "subunitcolor": "white"
          },
          "hoverlabel": {
           "align": "left"
          },
          "hovermode": "closest",
          "mapbox": {
           "style": "light"
          },
          "paper_bgcolor": "white",
          "plot_bgcolor": "#E5ECF6",
          "polar": {
           "angularaxis": {
            "gridcolor": "white",
            "linecolor": "white",
            "ticks": ""
           },
           "bgcolor": "#E5ECF6",
           "radialaxis": {
            "gridcolor": "white",
            "linecolor": "white",
            "ticks": ""
           }
          },
          "scene": {
           "xaxis": {
            "backgroundcolor": "#E5ECF6",
            "gridcolor": "white",
            "gridwidth": 2,
            "linecolor": "white",
            "showbackground": true,
            "ticks": "",
            "zerolinecolor": "white"
           },
           "yaxis": {
            "backgroundcolor": "#E5ECF6",
            "gridcolor": "white",
            "gridwidth": 2,
            "linecolor": "white",
            "showbackground": true,
            "ticks": "",
            "zerolinecolor": "white"
           },
           "zaxis": {
            "backgroundcolor": "#E5ECF6",
            "gridcolor": "white",
            "gridwidth": 2,
            "linecolor": "white",
            "showbackground": true,
            "ticks": "",
            "zerolinecolor": "white"
           }
          },
          "shapedefaults": {
           "line": {
            "color": "#2a3f5f"
           }
          },
          "ternary": {
           "aaxis": {
            "gridcolor": "white",
            "linecolor": "white",
            "ticks": ""
           },
           "baxis": {
            "gridcolor": "white",
            "linecolor": "white",
            "ticks": ""
           },
           "bgcolor": "#E5ECF6",
           "caxis": {
            "gridcolor": "white",
            "linecolor": "white",
            "ticks": ""
           }
          },
          "title": {
           "x": 0.05
          },
          "xaxis": {
           "automargin": true,
           "gridcolor": "white",
           "linecolor": "white",
           "ticks": "",
           "zerolinecolor": "white",
           "zerolinewidth": 2
          },
          "yaxis": {
           "automargin": true,
           "gridcolor": "white",
           "linecolor": "white",
           "ticks": "",
           "zerolinecolor": "white",
           "zerolinewidth": 2
          }
         }
        },
        "title": {
         "text": "2018 US city Salaries<br>(Click legend to toggle traces)"
        }
       }
      },
      "text/html": [
       "<div>\n",
       "        \n",
       "        \n",
       "            <div id=\"00b7cf6b-188d-4f61-a6d9-ebde1240cd39\" class=\"plotly-graph-div\" style=\"height:525px; width:100%;\"></div>\n",
       "            <script type=\"text/javascript\">\n",
       "                require([\"plotly\"], function(Plotly) {\n",
       "                    window.PLOTLYENV=window.PLOTLYENV || {};\n",
       "                    \n",
       "                if (document.getElementById(\"00b7cf6b-188d-4f61-a6d9-ebde1240cd39\")) {\n",
       "                    Plotly.newPlot(\n",
       "                        '00b7cf6b-188d-4f61-a6d9-ebde1240cd39',\n",
       "                        [{\"lat\": [37.35411320000001, 37.343850200000006, 37.7792768, 29.7589382, 42.3604823, 47.6694141, 47.6694141, 25.7742658, 25.7742658, 37.461645399999995, 37.461645399999995, 37.461645399999995, 37.548269700000006, 37.548269700000006, 37.548269700000006, 39.952335, 39.952335, 42.633424700000006, 42.633424700000006, 42.633424700000006, 32.7761963, 32.7761963, 32.7761963, 37.442156, 37.442156, 33.3067132, 42.4853125, 42.6055893, 42.6055893, 42.6055893, 42.6055893, 42.6055893, 42.6055893, 44.4723989, 44.4723989, 44.4723989, 44.4723989, 44.4723989, 44.4723989, 39.0840054, 39.952335, 39.952335, 37.442156, 37.343850200000006, 47.4799078, 40.730599100000006, 38.8462236, 38.8462236, 41.788641999999996, 41.788641999999996], \"locationmode\": \"USA-states\", \"lon\": [-121.95517439999999, -121.88313490000002, -122.41927040000002, -95.36769740000001, -71.0595678, -122.1238767, -122.1238767, -80.1936589, -80.1936589, -89.2504793, -89.2504793, -89.2504793, -121.98857190000001, -121.98857190000001, -121.98857190000001, -75.16378900000001, -75.16378900000001, -71.3161718, -71.3161718, -71.3161718, -96.7968994, -96.7968994, -96.7968994, -122.16344720000001, -122.16344720000001, -111.84084890000001, -83.3771553, -83.1499304, -83.1499304, -83.1499304, -83.1499304, -83.1499304, -83.1499304, -73.2114941, -73.2114941, -73.2114941, -73.2114941, -73.2114941, -73.2114941, -77.15275729999999, -75.16378900000001, -75.16378900000001, -122.16344720000001, -121.88313490000002, -122.2034496, -73.9865812, -77.3063733, -77.3063733, -89.6962194, -89.6962194], \"marker\": {\"color\": \"rgb(0,116,217)\", \"line\": {\"color\": \"rgb(40,40,40)\", \"width\": 0.5}, \"size\": [118.01, 971.495, 816.239, 2129.784, 630.645, 55.501, 26.617, 412.438, 13.629, 10.372, 10.284, 8.304, 217.63, 26.687, 16.633, 1539.313, 7.482, 107.553, 9.335, 7.524, 1219.399, 14.668, 11.844, 65.442, 65.442, 239.977, 80.196, 81.53, 50.024, 25.323, 18.232, 10.864, 9.934, 51.12, 42.41, 25.494, 10.509, 9.898, 8.453, 62.143, 1539.313, 7.482, 65.442, 971.495, 94.03, 8287.238, 22.792, 7.511, 15.323, 14.773], \"sizemode\": \"area\"}, \"name\": \"0 - 50\", \"text\": [\"santa clara<br>Salary 133.016 thousand\", \"san jose<br>Salary 99.154 thousand\", \"san francisco<br>Salary 121.077 thousand\", \"houston<br>Salary 77.979 thousand\", \"boston<br>Salary 87.859 thousand\", \"redmond<br>Salary 88.733 thousand\", \"redmond<br>Salary 88.733 thousand\", \"miami<br>Salary 66.643 thousand\", \"miami<br>Salary 66.643 thousand\", \"union<br>Salary 96.72 thousand\", \"union<br>Salary 96.72 thousand\", \"union<br>Salary 96.72 thousand\", \"fremont<br>Salary 108.576 thousand\", \"fremont<br>Salary 108.576 thousand\", \"fremont<br>Salary 108.576 thousand\", \"philadelphia<br>Salary 64.23 thousand\", \"philadelphia<br>Salary 64.23 thousand\", \"lowell<br>Salary 91.291 thousand\", \"lowell<br>Salary 91.291 thousand\", \"lowell<br>Salary 91.291 thousand\", \"dallas<br>Salary 78.624 thousand\", \"dallas<br>Salary 78.624 thousand\", \"dallas<br>Salary 78.624 thousand\", \"palo alto<br>Salary 122.533 thousand\", \"palo alto<br>Salary 88.733 thousand\", \"chandler<br>Salary 78.021 thousand\", \"farmington hills<br>Salary 92.768 thousand\", \"troy<br>Salary 63.939 thousand\", \"troy<br>Salary 63.939 thousand\", \"troy<br>Salary 63.939 thousand\", \"troy<br>Salary 63.939 thousand\", \"troy<br>Salary 63.939 thousand\", \"troy<br>Salary 63.939 thousand\", \"burlington<br>Salary 87.859 thousand\", \"burlington<br>Salary 87.859 thousand\", \"burlington<br>Salary 87.859 thousand\", \"burlington<br>Salary 87.859 thousand\", \"burlington<br>Salary 87.859 thousand\", \"burlington<br>Salary 87.859 thousand\", \"rockville<br>Salary 88.317 thousand\", \"philadelphia<br>Salary 77.189 thousand\", \"philadelphia<br>Salary 77.189 thousand\", \"palo alto<br>Salary 89.96 thousand\", \"san jose<br>Salary 103.168 thousand\", \"renton<br>Salary 71.51 thousand\", \"new york<br>Salary 94.827 thousand\", \"fairfax<br>Salary 93.309 thousand\", \"fairfax<br>Salary 93.309 thousand\", \"sterling<br>Salary 71.656 thousand\", \"sterling<br>Salary 71.656 thousand\"], \"type\": \"scattergeo\"}, {\"lat\": [39.952335, 41.772910700000004, 38.6779591, 41.258731700000006, 37.7799273, 42.6055893, 42.6055893, 42.6055893, 42.6055893, 42.6055893, 42.6055893, 39.0840054, 40.730599100000006, 37.6624312, 37.6624312, 39.7989763, 39.7989763, 39.7989763, 39.7989763], \"locationmode\": \"USA-states\", \"lon\": [-75.16378900000001, -88.147867, -121.17605829999998, -95.93787320000001, -121.9780153, -83.1499304, -83.1499304, -83.1499304, -83.1499304, -83.1499304, -83.1499304, -77.15275729999999, -73.9865812, -121.8746789, -121.8746789, -89.6443688, -89.6443688, -89.6443688, -89.6443688], \"marker\": {\"color\": \"rgb(255,65,54)\", \"line\": {\"color\": \"rgb(40,40,40)\", \"width\": 0.5}, \"size\": [7.482, 142.994, 72.682, 429.604, 73.062, 81.53, 50.024, 25.323, 18.232, 10.864, 9.934, 62.143, 8287.238, 71.249, 9.077, 160.408, 153.798, 117.096, 60.306], \"sizemode\": \"area\"}, \"name\": \"51 - 70\", \"text\": [\"philadelphia<br>Salary 71.074 thousand\", \"naperville<br>Salary 71.635 thousand\", \"folsom<br>Salary 96.325 thousand\", \"omaha<br>Salary 89.502 thousand\", \"san ramon<br>Salary 79.934 thousand\", \"troy<br>Salary 78.624 thousand\", \"troy<br>Salary 78.624 thousand\", \"troy<br>Salary 78.624 thousand\", \"troy<br>Salary 78.624 thousand\", \"troy<br>Salary 78.624 thousand\", \"troy<br>Salary 78.624 thousand\", \"rockville<br>Salary 58.51 thousand\", \"new york<br>Salary 92.768 thousand\", \"pleasanton<br>Salary 60.029 thousand\", \"pleasanton<br>Salary 60.029 thousand\", \"springfield<br>Salary 74.152 thousand\", \"springfield<br>Salary 74.152 thousand\", \"springfield<br>Salary 74.152 thousand\", \"springfield<br>Salary 74.152 thousand\"], \"type\": \"scattergeo\"}, {\"lat\": [39.7989763, 39.7989763, 25.7742658, 25.7742658, 29.7589382, 47.614421899999996, 47.614421899999996, 47.614421899999996, 37.7792768, 42.3604823, 47.6694141, 47.6694141, 33.749098700000005, 37.343850200000006, 32.7761963, 32.7761963, 32.7761963, 38.62727329999999, 38.62727329999999], \"locationmode\": \"USA-states\", \"lon\": [-89.6443688, -89.6443688, -80.1936589, -80.1936589, -95.36769740000001, -122.1923372, -122.1923372, -122.1923372, -122.41927040000002, -71.0595678, -122.1238767, -122.1238767, -84.39018490000001, -121.88313490000002, -96.7968994, -96.7968994, -96.7968994, -90.19788890000001, -90.19788890000001], \"marker\": {\"color\": \"rgb(133,20,75)\", \"line\": {\"color\": \"rgb(40,40,40)\", \"width\": 0.5}, \"size\": [16.544, 8.942, 412.438, 13.629, 2129.784, 130.267, 51.888, 8.164, 816.239, 630.645, 55.501, 26.617, 432.135, 971.495, 1219.399, 14.668, 11.844, 319.188, 7.38], \"sizemode\": \"area\"}, \"name\": \"71 - 90\", \"text\": [\"springfield<br>Salary 74.152 thousand\", \"springfield<br>Salary 74.152 thousand\", \"miami<br>Salary 66.248 thousand\", \"miami<br>Salary 66.248 thousand\", \"houston<br>Salary 94.598 thousand\", \"bellevue<br>Salary 117.0 thousand\", \"bellevue<br>Salary 117.0 thousand\", \"bellevue<br>Salary 117.0 thousand\", \"san francisco<br>Salary 118.186 thousand\", \"boston<br>Salary 109.741 thousand\", \"redmond<br>Salary 92.81 thousand\", \"redmond<br>Salary 92.81 thousand\", \"atlanta<br>Salary 82.098 thousand\", \"san jose<br>Salary 135.387 thousand\", \"dallas<br>Salary 70.346 thousand\", \"dallas<br>Salary 70.346 thousand\", \"dallas<br>Salary 70.346 thousand\", \"st. louis<br>Salary 66.81 thousand\", \"st. louis<br>Salary 66.81 thousand\"], \"type\": \"scattergeo\"}, {\"lat\": [25.7742658, 25.7742658, 37.453827399999994, 40.3492744, 40.3492744, 40.3492744, 40.3492744, 37.35411320000001, 40.7433066, 42.303275799999994, 42.303275799999994, 38.969531599999996, 42.6055893, 42.6055893, 42.6055893, 42.6055893, 42.6055893, 42.6055893, 39.0840054], \"locationmode\": \"USA-states\", \"lon\": [-80.1936589, -80.1936589, -122.18218710000001, -74.6592958, -74.6592958, -74.6592958, -74.6592958, -121.95517439999999, -74.0323752, -83.02851109999999, -83.02851109999999, -77.3859479, -83.1499304, -83.1499304, -83.1499304, -83.1499304, -83.1499304, -83.1499304, -77.15275729999999], \"marker\": {\"color\": \"rgb(255,133,27)\", \"line\": {\"color\": \"rgb(40,40,40)\", \"width\": 0.5}, \"size\": [412.438, 13.629, 32.519, 28.206, 8.627, 7.592, 7.288, 118.01, 51.33, 26.93, 19.237, 23.889, 81.53, 50.024, 25.323, 18.232, 10.864, 9.934, 62.143], \"sizemode\": \"area\"}, \"name\": \"91 - 110\", \"text\": [\"miami<br>Salary 66.643 thousand\", \"miami<br>Salary 66.643 thousand\", \"menlo park<br>Salary 151.59 thousand\", \"princeton<br>Salary 109.325 thousand\", \"princeton<br>Salary 109.325 thousand\", \"princeton<br>Salary 109.325 thousand\", \"princeton<br>Salary 109.325 thousand\", \"santa clara<br>Salary 133.016 thousand\", \"hoboken<br>Salary 73.403 thousand\", \"windsor<br>Salary 76.003 thousand\", \"windsor<br>Salary 76.003 thousand\", \"herndon<br>Salary 58.885 thousand\", \"troy<br>Salary 98.363 thousand\", \"troy<br>Salary 98.363 thousand\", \"troy<br>Salary 98.363 thousand\", \"troy<br>Salary 98.363 thousand\", \"troy<br>Salary 98.363 thousand\", \"troy<br>Salary 98.363 thousand\", \"rockville<br>Salary 78.978 thousand\"], \"type\": \"scattergeo\"}, {\"lat\": [37.2158191, 34.2163939, 39.952335, 39.952335, 39.0840054, 32.862919500000004, 40.3492744, 40.3492744, 40.3492744, 40.3492744, 33.749098700000005, 46.77293220000001, 46.77293220000001, 32.862919500000004, 37.7792768, 41.9758872, 40.730599100000006, 33.749098700000005, 41.8755546, 40.735657, 40.735657, 40.735657, 40.735657, 35.2270869, 35.2270869, 47.6038321, 36.73042879999999, 36.73042879999999, 36.73042879999999, 36.73042879999999, 36.73042879999999, 42.4853125, 44.8277446, 44.8277446, 40.7670126, 37.7792768, 37.35411320000001, 40.3492744, 40.3492744, 40.3492744, 40.3492744, 33.013676399999994, 33.013676399999994, 27.947759499999997, 37.35411320000001, 42.6055893, 42.6055893, 42.6055893, 42.6055893, 42.6055893, 42.6055893, 42.48059, 37.3855745, 41.258731700000006, 37.35411320000001, 39.952335, 39.952335, 40.730599100000006, 39.952335, 39.952335, 41.258731700000006, 40.730599100000006, 37.35411320000001, 40.233843799999995, 40.730599100000006, 39.7989763, 39.7989763, 39.7989763, 39.7989763, 39.7989763, 39.7989763, 39.7989763, 37.35411320000001, 39.952335, 39.952335, 37.7792768, 33.44676810000001, 37.7792768, 37.4282724, 29.7589382, 35.2351765, 38.969531599999996, 37.442156, 37.7792768, 39.9622601, 39.9622601, 39.9622601, 39.9622601, 39.9622601, 41.258731700000006, 37.343850200000006, 27.770379600000002, 40.730599100000006, 39.952335, 39.952335, 39.0840054, 37.4282724, 37.7792768, 33.749098700000005, 40.4416941, 37.496904, 40.730599100000006, 41.6096029, 37.3855745, 30.5119385, 37.7792768, 41.5067003, 42.7653662, 44.4669941, 37.7792768, 42.633424700000006, 42.633424700000006, 42.633424700000006, 33.3067132, 37.343850200000006, 37.368830100000004, 37.3855745, 39.952335, 39.952335, 37.7792768, 39.0840054, 37.7792768, 44.4669941, 45.4871723, 38.0464066, 38.0464066, 38.0464066, 38.0464066, 30.3321838, 30.3321838, 30.3321838, 30.3321838, 30.3321838, 30.3321838, 39.952335, 39.952335, 34.0709576, 44.4669941, 39.7989763, 39.7989763, 39.7989763, 39.7989763, 39.7989763, 39.7989763, 39.7989763, 40.730599100000006, 43.0605671, 37.453827399999994, 40.3492744, 40.3492744, 40.3492744, 40.3492744, 37.343850200000006, 37.3855745, 37.35411320000001, 32.753177, 39.0840054, 47.6694141, 47.6694141, 37.453827399999994, 37.35411320000001, 47.6694141, 47.6694141, 47.0263876, 33.6633386, 47.614421899999996, 47.614421899999996, 47.614421899999996, 39.952335, 39.952335, 42.4853125, 40.3492744, 40.3492744, 40.3492744, 40.3492744, 41.772910700000004, 40.844282799999995, 40.844282799999995, 40.844282799999995, 47.6694141, 47.6694141, 39.7989763, 39.7989763, 39.7989763, 39.7989763, 39.7989763, 39.7989763, 39.7989763, 39.952335, 39.952335, 47.6694141, 47.6694141, 37.3855745, 41.258731700000006, 41.8755546, 47.6694141, 47.6694141, 25.818472500000002, 33.749098700000005, 39.004554399999996, 37.548269700000006, 37.548269700000006, 37.548269700000006, 41.258731700000006, 42.6055893, 42.6055893, 42.6055893, 42.6055893, 42.6055893, 42.6055893, 34.7464809, 37.368830100000004, 40.7281575, 47.6038321, 34.0181557, 40.730599100000006, 35.8428646, 39.0840054, 42.268156899999994, 37.343850200000006, 42.473368900000004, 39.952335, 39.952335, 32.862919500000004, 42.3604823, 32.7761963, 32.7761963, 32.7761963, 39.952335, 39.952335, 37.343850200000006, 47.6694141, 47.6694141, 37.7799273, 37.368830100000004, 37.343850200000006, 47.6038321, 40.730599100000006, 37.368830100000004, 34.0514898, 41.1175966, 41.1175966, 41.1175966, 41.1175966, 37.7792768, 35.2827525, 41.8755546, 41.564533700000005, 41.772910700000004, 40.730599100000006, 37.7792768, 35.2351765, 42.6055893, 42.6055893, 42.6055893, 42.6055893, 42.6055893, 42.6055893, 47.6694141, 47.6694141, 42.6055893, 42.6055893, 42.6055893, 42.6055893, 42.6055893, 42.6055893, 40.5246711, 37.4282724, 47.6694141, 47.6694141, 37.7792768, 37.548269700000006, 37.548269700000006, 37.548269700000006, 39.0840054, 40.3492744, 40.3492744, 40.3492744, 40.3492744, 42.3604823, 34.0709576, 37.343850200000006, 47.6694141, 47.6694141, 33.3067132, 41.772910700000004, 47.6694141, 47.6694141, 47.6694141, 47.6694141, 47.6694141, 47.6694141, 42.6055893, 42.6055893, 42.6055893, 42.6055893, 42.6055893, 42.6055893, 47.4799078, 40.758390000000006, 40.758390000000006, 37.442156, 37.343850200000006, 40.126174299999995, 47.6694141, 47.6694141, 39.143440600000005, 32.862919500000004, 37.4852152, 38.8462236, 38.8462236, 37.548269700000006, 37.548269700000006, 37.548269700000006, 37.35411320000001, 35.2351765, 37.368830100000004, 37.7792768, 42.0841936, 33.6633386, 37.343850200000006, 40.3492744, 40.3492744, 40.3492744, 40.3492744, 40.730599100000006, 38.8462236, 38.8462236, 35.823483, 42.3604823, 33.9562149, 30.3321838, 30.3321838, 30.3321838, 30.3321838, 30.3321838, 30.3321838, 39.952335, 39.952335, 37.4282724, 42.6055893, 42.6055893, 42.6055893, 42.6055893, 42.6055893, 42.6055893, 40.7281575, 40.730599100000006, 37.7799273, 29.424600199999997, 42.3604823, 34.0709576, 37.7792768, 37.560033600000004, 39.0840054, 37.7792768, 37.7792768, 40.730599100000006, 37.7792768, 32.7761963, 32.7761963, 32.7761963, 39.1014537, 47.6694141, 47.6694141, 29.7589382, 37.496904, 39.952335, 39.952335, 41.8755546, 40.233843799999995, 42.6055893, 42.6055893, 42.6055893, 42.6055893, 42.6055893, 42.6055893, 37.7792768, 37.35411320000001, 43.6205056, 43.6205056, 33.685696899999996, 39.952335, 39.952335, 40.730599100000006, 35.4729886, 39.952335, 39.952335, 41.788641999999996, 41.788641999999996, 39.952335, 39.952335, 42.473368900000004, 38.5815719, 47.6694141, 47.6694141, 39.952335, 39.952335, 41.6096029, 47.6694141, 47.6694141, 33.3067132, 39.952335, 39.952335, 42.3604823, 39.7989763, 39.7989763, 39.7989763, 39.7989763, 39.7989763, 39.7989763, 39.7989763, 42.041582299999995, 42.5247729, 35.2351765, 39.952335, 39.952335, 42.48059, 40.730599100000006, 37.368830100000004, 40.730599100000006, 37.35411320000001, 37.6624312, 37.6624312, 37.7792768, 29.6196787, 32.862919500000004, 47.6694141, 47.6694141, 39.7989763, 39.7989763, 39.7989763, 39.7989763, 39.7989763, 39.7989763, 39.7989763, 42.6055893, 42.6055893, 42.6055893, 42.6055893, 42.6055893, 42.6055893, 32.862919500000004, 30.3321838, 30.3321838, 30.3321838, 30.3321838, 30.3321838, 30.3321838, 39.0840054, 39.0840054, 39.952335, 39.952335, 39.952335, 39.952335, 37.368830100000004, 47.6694141, 47.6694141, 39.952335, 39.952335, 28.5421175, 32.862919500000004, 40.7281575, 37.7792768, 39.7989763, 39.7989763, 39.7989763, 39.7989763, 39.7989763, 39.7989763, 39.7989763, 25.7742658, 25.7742658, 37.4852152, 35.4729886, 35.7804015, 47.6038321, 37.7792768, 37.442156, 38.969531599999996, 39.952335, 39.952335, 37.7792768, 37.548269700000006, 37.548269700000006, 37.548269700000006, 40.2975185, 40.266310700000005, 40.266310700000005, 40.266310700000005, 42.3604823, 38.8949549, 38.8949549, 38.8949549, 38.8949549, 38.8949549, 38.8949549, 38.8949549, 38.8949549, 33.685696899999996, 42.4853125, 40.730599100000006, 40.730599100000006, 36.9746099, 37.368830100000004, 37.35411320000001, 29.424600199999997, 47.6694141, 47.6694141, 42.6055893, 42.6055893, 42.6055893, 42.6055893, 42.6055893, 42.6055893, 29.7589382, 39.952335, 39.952335, 40.730599100000006, 37.7799273, 37.35411320000001, 37.323010700000005, 39.952335, 39.952335, 44.4723989, 44.4723989, 44.4723989, 44.4723989, 44.4723989, 44.4723989, 47.6694141, 47.6694141, 42.4853125, 41.788641999999996, 41.788641999999996, 30.2711286, 30.2711286, 32.7761963, 32.7761963, 32.7761963, 42.36837, 42.633424700000006, 42.633424700000006, 42.633424700000006, 29.7589382, 40.6178915, 34.0514898, 42.48059, 25.7742658, 25.7742658, 32.862919500000004, 42.041582299999995, 37.4282724, 47.6694141, 47.6694141, 37.226611, 37.496904, 42.6055893, 42.6055893, 42.6055893, 42.6055893, 42.6055893, 42.6055893, 39.0840054, 47.6694141, 47.6694141, 47.6694141, 47.6694141, 42.3604823, 40.730599100000006, 42.6055893, 42.6055893, 42.6055893, 42.6055893, 42.6055893, 42.6055893, 42.6055893, 42.6055893, 42.6055893, 42.6055893, 42.6055893, 42.6055893, 37.496904, 34.0709576, 32.862919500000004, 42.4853125, 42.48059, 37.4852152, 37.9716898, 37.9716898, 37.9716898, 37.9716898, 33.013676399999994, 33.013676399999994, 37.343850200000006, 33.013676399999994, 33.013676399999994, 35.788297299999996, 47.6038321, 25.7742658, 25.7742658, 38.9822282, 39.7989763, 39.7989763, 39.7989763, 39.7989763, 39.7989763, 39.7989763, 39.7989763, 41.558152500000006, 37.7792768, 32.862919500000004, 42.6647495, 41.788641999999996, 41.788641999999996, 32.7761963, 32.7761963, 32.7761963, 47.6694141, 47.6694141, 40.3492744, 40.3492744, 40.3492744, 40.3492744, 33.013676399999994, 33.013676399999994, 42.963240500000005, 42.963240500000005, 36.0726355, 41.258731700000006, 37.7792768, 40.5621704, 40.735657, 40.735657, 40.735657, 40.735657, 47.6694141, 47.6694141, 39.9622601, 39.9622601, 39.9622601, 39.9622601, 39.9622601, 40.730599100000006, 39.952335, 39.952335, 38.969531599999996, 37.548269700000006, 37.548269700000006, 37.548269700000006, 37.35411320000001, 47.6038321, 38.882334, 41.6096029, 32.862919500000004, 32.862919500000004, 40.730599100000006, 39.952335, 39.952335, 37.7792768, 39.952335, 39.952335, 42.041582299999995, 47.6038321, 40.730599100000006, 40.7433066, 39.1670396, 39.1670396, 39.1670396, 37.7792768, 37.35411320000001, 37.453827399999994, 37.7792768, 40.730599100000006, 38.969531599999996, 39.952335, 39.952335, 32.7761963, 32.7761963, 32.7761963, 34.0709576, 42.48059, 37.7792768, 41.564533700000005, 33.749098700000005, 39.952335, 39.952335, 41.258731700000006, 38.595018200000005, 41.258731700000006, 38.9822282, 40.730599100000006, 37.368830100000004, 47.6694141, 47.6694141, 40.730599100000006, 37.53850870000001, 37.53850870000001, 37.53850870000001, 37.53850870000001, 37.53850870000001, 37.368830100000004, 37.4282724, 37.453827399999994, 42.6055893, 42.6055893, 42.6055893, 42.6055893, 42.6055893, 42.6055893, 38.8462236, 38.8462236, 47.6694141, 47.6694141, 39.0840054, 33.013676399999994, 33.013676399999994, 47.4799078, 42.3604823, 34.851354, 34.851354, 34.851354, 34.851354, 34.851354, 34.851354, 34.851354, 37.6820583, 41.8755546, 37.343850200000006, 37.442156, 47.6694141, 47.6694141, 29.7857853, 38.969531599999996, 42.6055893, 42.6055893, 42.6055893, 42.6055893, 42.6055893, 42.6055893, 38.538942299999995, 32.862919500000004, 40.730599100000006, 41.258731700000006, 37.343850200000006, 40.730599100000006, 39.1670396, 39.1670396, 39.1670396, 47.6694141, 47.6694141, 42.40920379999999, 40.730599100000006, 36.73042879999999, 36.73042879999999, 36.73042879999999, 36.73042879999999, 36.73042879999999, 37.7792768, 37.496904, 40.3492744, 40.3492744, 40.3492744, 40.3492744, 40.126174299999995, 43.0833231, 32.7761963, 32.7761963, 32.7761963, 47.6694141, 47.6694141, 44.4723989, 44.4723989, 44.4723989, 44.4723989, 44.4723989, 44.4723989, 37.343850200000006, 44.4723989, 44.4723989, 44.4723989, 44.4723989, 44.4723989, 44.4723989, 47.6694141, 47.6694141, 39.952335, 39.952335, 32.862919500000004, 43.0833231, 35.4729886, 42.3604823, 38.969531599999996, 34.0709576, 37.7792768, 37.7792768, 39.952335, 39.952335, 39.0840054, 40.730599100000006, 37.7792768, 42.5247729, 41.8755546, 43.0116784, 37.3855745, 42.6055893, 42.6055893, 42.6055893, 42.6055893, 42.6055893, 42.6055893, 37.548269700000006, 37.548269700000006, 37.548269700000006, 34.0195598, 47.6694141, 47.6694141, 39.0067768, 39.414443, 39.414443, 40.730599100000006, 37.343850200000006, 47.6038321, 40.730599100000006, 28.5421175, 41.8755546, 34.0709576, 41.8755546, 37.35411320000001, 30.2711286, 30.2711286, 39.952335, 39.952335, 42.6055893, 42.6055893, 42.6055893, 42.6055893, 42.6055893, 42.6055893, 39.7391536, 37.7792768, 47.6694141, 47.6694141, 35.2270869, 35.2270869, 41.788641999999996, 41.788641999999996, 37.368830100000004, 29.7589382, 39.952335, 39.952335, 39.0840054, 39.004554399999996, 35.7804015, 33.750037799999994, 33.750037799999994, 34.053717, 47.6694141, 47.6694141, 41.8755546, 37.548269700000006, 37.548269700000006, 37.548269700000006, 37.496904, 39.7989763, 39.7989763, 39.7989763, 39.7989763, 39.7989763, 39.7989763, 39.7989763, 35.8970899, 37.7792768, 40.730599100000006, 34.2694474, 37.4852152, 40.730599100000006, 39.952335, 39.952335, 42.4853125, 39.952335, 39.952335, 42.268156899999994, 39.952335, 39.952335, 37.226611, 39.952335, 39.952335, 33.44676810000001], \"locationmode\": \"USA-states\", \"lon\": [-79.1165953, -119.0376024, -75.16378900000001, -75.16378900000001, -77.15275729999999, -96.97917017, -74.6592958, -74.6592958, -74.6592958, -74.6592958, -84.39018490000001, -92.1251218, -92.1251218, -96.97917017, -122.41927040000002, -91.6704053, -73.9865812, -84.39018490000001, -87.6244212, -74.1723667, -74.1723667, -74.1723667, -74.1723667, -80.8431268, -80.8431268, -122.3300624, -108.20891909999999, -108.20891909999999, -108.20891909999999, -108.20891909999999, -108.20891909999999, -83.3771553, -92.9438218, -92.9438218, -111.89043079999999, -122.41927040000002, -121.95517439999999, -74.6592958, -74.6592958, -74.6592958, -74.6592958, -96.6925096, -96.6925096, -82.458444, -121.95517439999999, -83.1499304, -83.1499304, -83.1499304, -83.1499304, -83.1499304, -83.1499304, -83.47549129999999, -122.08205, -95.93787320000001, -121.95517439999999, -75.16378900000001, -75.16378900000001, -73.9865812, -75.16378900000001, -75.16378900000001, -95.93787320000001, -73.9865812, -121.95517439999999, -111.6585337, -73.9865812, -89.6443688, -89.6443688, -89.6443688, -89.6443688, -89.6443688, -89.6443688, -89.6443688, -121.95517439999999, -75.16378900000001, -75.16378900000001, -122.41927040000002, -112.07567240000002, -122.41927040000002, -121.90662379999999, -95.36769740000001, -75.6284903, -77.3859479, -122.16344720000001, -122.41927040000002, -83.00070649999999, -83.00070649999999, -83.00070649999999, -83.00070649999999, -83.00070649999999, -95.93787320000001, -121.88313490000002, -82.66950849999999, -73.9865812, -75.16378900000001, -75.16378900000001, -77.15275729999999, -121.90662379999999, -122.41927040000002, -84.39018490000001, -79.99008609999998, -122.33305729999998, -73.9865812, -93.7754352, -122.08205, -97.80974470000001, -122.41927040000002, -90.5151342, -71.467566, -73.1709604, -122.41927040000002, -71.3161718, -71.3161718, -71.3161718, -111.84084890000001, -121.88313490000002, -122.03634960000001, -122.08205, -75.16378900000001, -75.16378900000001, -122.41927040000002, -77.15275729999999, -122.41927040000002, -73.1709604, -122.8037804, -84.4970393, -84.4970393, -84.4970393, -84.4970393, -81.655651, -81.655651, -81.655651, -81.655651, -81.655651, -81.655651, -75.16378900000001, -75.16378900000001, -84.2747329, -73.1709604, -89.6443688, -89.6443688, -89.6443688, -89.6443688, -89.6443688, -89.6443688, -89.6443688, -73.9865812, -88.1064787, -122.18218710000001, -74.6592958, -74.6592958, -74.6592958, -74.6592958, -121.88313490000002, -122.08205, -121.95517439999999, -97.3327459, -77.15275729999999, -122.1238767, -122.1238767, -122.18218710000001, -121.95517439999999, -122.1238767, -122.1238767, -122.8072257, -117.90331699999999, -122.1923372, -122.1923372, -122.1923372, -75.16378900000001, -75.16378900000001, -83.3771553, -74.6592958, -74.6592958, -74.6592958, -74.6592958, -88.147867, -90.61684079999999, -90.61684079999999, -90.61684079999999, -122.1238767, -122.1238767, -89.6443688, -89.6443688, -89.6443688, -89.6443688, -89.6443688, -89.6443688, -89.6443688, -75.16378900000001, -75.16378900000001, -122.1238767, -122.1238767, -122.08205, -95.93787320000001, -87.6244212, -122.1238767, -122.1238767, -80.35396781, -84.39018490000001, -76.8755282, -121.98857190000001, -121.98857190000001, -121.98857190000001, -95.93787320000001, -83.1499304, -83.1499304, -83.1499304, -83.1499304, -83.1499304, -83.1499304, -92.2895948, -122.03634960000001, -74.0776417, -122.3300624, -84.190196, -73.9865812, -90.7034522, -77.15275729999999, -83.7312291, -121.88313490000002, -83.2218731, -75.16378900000001, -75.16378900000001, -96.97917017, -71.0595678, -96.7968994, -96.7968994, -96.7968994, -75.16378900000001, -75.16378900000001, -121.88313490000002, -122.1238767, -122.1238767, -121.9780153, -122.03634960000001, -121.88313490000002, -122.3300624, -73.9865812, -122.03634960000001, -84.0712997, -73.4078968, -73.4078968, -73.4078968, -73.4078968, -122.41927040000002, -120.6596156, -87.6244212, -93.7595281, -88.147867, -73.9865812, -122.41927040000002, -75.6284903, -83.1499304, -83.1499304, -83.1499304, -83.1499304, -83.1499304, -83.1499304, -122.1238767, -122.1238767, -83.1499304, -83.1499304, -83.1499304, -83.1499304, -83.1499304, -83.1499304, -111.8638226, -121.90662379999999, -122.1238767, -122.1238767, -122.41927040000002, -121.98857190000001, -121.98857190000001, -121.98857190000001, -77.15275729999999, -74.6592958, -74.6592958, -74.6592958, -74.6592958, -71.0595678, -84.2747329, -121.88313490000002, -122.1238767, -122.1238767, -111.84084890000001, -88.147867, -122.1238767, -122.1238767, -122.1238767, -122.1238767, -122.1238767, -122.1238767, -83.1499304, -83.1499304, -83.1499304, -83.1499304, -83.1499304, -83.1499304, -122.2034496, -82.51544709999999, -82.51544709999999, -122.16344720000001, -121.88313490000002, -82.9290696, -122.1238767, -122.1238767, -77.2013705, -96.97917017, -122.2363548, -77.3063733, -77.3063733, -121.98857190000001, -121.98857190000001, -121.98857190000001, -121.95517439999999, -75.6284903, -122.03634960000001, -122.41927040000002, -88.0131275, -117.90331699999999, -121.88313490000002, -74.6592958, -74.6592958, -74.6592958, -74.6592958, -73.9865812, -77.3063733, -77.3063733, -78.8255621, -71.0595678, -83.9879625, -81.655651, -81.655651, -81.655651, -81.655651, -81.655651, -81.655651, -75.16378900000001, -75.16378900000001, -121.90662379999999, -83.1499304, -83.1499304, -83.1499304, -83.1499304, -83.1499304, -83.1499304, -74.0776417, -73.9865812, -121.9780153, -98.4951405, -71.0595678, -84.2747329, -122.41927040000002, -122.26885220000001, -77.15275729999999, -122.41927040000002, -122.41927040000002, -73.9865812, -122.41927040000002, -96.7968994, -96.7968994, -96.7968994, -84.5124602, -122.1238767, -122.1238767, -95.36769740000001, -122.33305729999998, -75.16378900000001, -75.16378900000001, -87.6244212, -111.6585337, -83.1499304, -83.1499304, -83.1499304, -83.1499304, -83.1499304, -83.1499304, -122.41927040000002, -121.95517439999999, -95.5956434, -95.5956434, -117.82598190000002, -75.16378900000001, -75.16378900000001, -73.9865812, -97.5170536, -75.16378900000001, -75.16378900000001, -89.6962194, -89.6962194, -75.16378900000001, -75.16378900000001, -83.2218731, -121.49439960000001, -122.1238767, -122.1238767, -75.16378900000001, -75.16378900000001, -93.7754352, -122.1238767, -122.1238767, -111.84084890000001, -75.16378900000001, -75.16378900000001, -71.0595678, -89.6443688, -89.6443688, -89.6443688, -89.6443688, -89.6443688, -89.6443688, -89.6443688, -87.8873916, -83.5363339, -75.6284903, -75.16378900000001, -75.16378900000001, -83.47549129999999, -73.9865812, -122.03634960000001, -73.9865812, -121.95517439999999, -121.8746789, -121.8746789, -122.41927040000002, -95.6349463, -96.97917017, -122.1238767, -122.1238767, -89.6443688, -89.6443688, -89.6443688, -89.6443688, -89.6443688, -89.6443688, -89.6443688, -83.1499304, -83.1499304, -83.1499304, -83.1499304, -83.1499304, -83.1499304, -96.97917017, -81.655651, -81.655651, -81.655651, -81.655651, -81.655651, -81.655651, -77.15275729999999, -77.15275729999999, -75.16378900000001, -75.16378900000001, -75.16378900000001, -75.16378900000001, -122.03634960000001, -122.1238767, -122.1238767, -75.16378900000001, -75.16378900000001, -81.3790462, -96.97917017, -74.0776417, -122.41927040000002, -89.6443688, -89.6443688, -89.6443688, -89.6443688, -89.6443688, -89.6443688, -89.6443688, -80.1936589, -80.1936589, -122.2363548, -97.5170536, -78.6390779, -122.3300624, -122.41927040000002, -122.16344720000001, -77.3859479, -75.16378900000001, -75.16378900000001, -122.41927040000002, -121.98857190000001, -121.98857190000001, -121.98857190000001, -111.6944685, -76.8861122, -76.8861122, -76.8861122, -71.0595678, -77.03664559999999, -77.03664559999999, -77.03664559999999, -77.03664559999999, -77.03664559999999, -77.03664559999999, -77.03664559999999, -77.03664559999999, -117.82598190000002, -83.3771553, -73.9865812, -73.9865812, -122.0294259, -122.03634960000001, -121.95517439999999, -98.4951405, -122.1238767, -122.1238767, -83.1499304, -83.1499304, -83.1499304, -83.1499304, -83.1499304, -83.1499304, -95.36769740000001, -75.16378900000001, -75.16378900000001, -73.9865812, -121.9780153, -121.95517439999999, -122.0322519, -75.16378900000001, -75.16378900000001, -73.2114941, -73.2114941, -73.2114941, -73.2114941, -73.2114941, -73.2114941, -122.1238767, -122.1238767, -83.3771553, -89.6962194, -89.6962194, -97.7436995, -97.7436995, -96.7968994, -96.7968994, -96.7968994, -83.3527097, -71.3161718, -71.3161718, -71.3161718, -95.36769740000001, -75.3786521, -84.0712997, -83.47549129999999, -80.1936589, -80.1936589, -96.97917017, -87.8873916, -121.90662379999999, -122.1238767, -122.1238767, -121.9746797, -122.33305729999998, -83.1499304, -83.1499304, -83.1499304, -83.1499304, -83.1499304, -83.1499304, -77.15275729999999, -122.1238767, -122.1238767, -122.1238767, -122.1238767, -71.0595678, -73.9865812, -83.1499304, -83.1499304, -83.1499304, -83.1499304, -83.1499304, -83.1499304, -83.1499304, -83.1499304, -83.1499304, -83.1499304, -83.1499304, -83.1499304, -122.33305729999998, -84.2747329, -96.97917017, -83.3771553, -83.47549129999999, -122.2363548, -100.8726618, -100.8726618, -100.8726618, -100.8726618, -96.6925096, -96.6925096, -121.88313490000002, -96.6925096, -96.6925096, -78.7811925, -122.3300624, -80.1936589, -80.1936589, -94.6707917, -89.6443688, -89.6443688, -89.6443688, -89.6443688, -89.6443688, -89.6443688, -89.6443688, -73.0514966, -122.41927040000002, -96.97917017, -83.23093751, -89.6962194, -89.6962194, -96.7968994, -96.7968994, -96.7968994, -122.1238767, -122.1238767, -74.6592958, -74.6592958, -74.6592958, -74.6592958, -96.6925096, -96.6925096, -85.66786390000001, -85.66786390000001, -79.79197540000001, -95.93787320000001, -122.41927040000002, -111.929658, -74.1723667, -74.1723667, -74.1723667, -74.1723667, -122.1238767, -122.1238767, -83.00070649999999, -83.00070649999999, -83.00070649999999, -83.00070649999999, -83.00070649999999, -73.9865812, -75.16378900000001, -75.16378900000001, -77.3859479, -121.98857190000001, -121.98857190000001, -121.98857190000001, -121.95517439999999, -122.3300624, -77.17109140000001, -93.7754352, -96.97917017, -96.97917017, -73.9865812, -75.16378900000001, -75.16378900000001, -122.41927040000002, -75.16378900000001, -75.16378900000001, -87.8873916, -122.3300624, -73.9865812, -74.0323752, -86.5342881, -86.5342881, -86.5342881, -122.41927040000002, -121.95517439999999, -122.18218710000001, -122.41927040000002, -73.9865812, -77.3859479, -75.16378900000001, -75.16378900000001, -96.7968994, -96.7968994, -96.7968994, -84.2747329, -83.47549129999999, -122.41927040000002, -93.7595281, -84.39018490000001, -75.16378900000001, -75.16378900000001, -95.93787320000001, -90.54691329999999, -95.93787320000001, -94.6707917, -73.9865812, -122.03634960000001, -122.1238767, -122.1238767, -73.9865812, -77.43428, -77.43428, -77.43428, -77.43428, -77.43428, -122.03634960000001, -121.90662379999999, -122.18218710000001, -83.1499304, -83.1499304, -83.1499304, -83.1499304, -83.1499304, -83.1499304, -77.3063733, -77.3063733, -122.1238767, -122.1238767, -77.15275729999999, -96.6925096, -96.6925096, -122.2034496, -71.0595678, -82.3984882, -82.3984882, -82.3984882, -82.3984882, -82.3984882, -82.3984882, -82.3984882, -121.76805309999999, -87.6244212, -121.88313490000002, -122.16344720000001, -122.1238767, -122.1238767, -95.82439559999999, -77.3859479, -83.1499304, -83.1499304, -83.1499304, -83.1499304, -83.1499304, -83.1499304, -90.407341, -96.97917017, -73.9865812, -95.93787320000001, -121.88313490000002, -73.9865812, -86.5342881, -86.5342881, -86.5342881, -122.1238767, -122.1238767, -82.8918587, -73.9865812, -108.20891909999999, -108.20891909999999, -108.20891909999999, -108.20891909999999, -108.20891909999999, -122.41927040000002, -122.33305729999998, -74.6592958, -74.6592958, -74.6592958, -74.6592958, -82.9290696, -73.8712155, -96.7968994, -96.7968994, -96.7968994, -122.1238767, -122.1238767, -73.2114941, -73.2114941, -73.2114941, -73.2114941, -73.2114941, -73.2114941, -121.88313490000002, -73.2114941, -73.2114941, -73.2114941, -73.2114941, -73.2114941, -73.2114941, -122.1238767, -122.1238767, -75.16378900000001, -75.16378900000001, -96.97917017, -73.8712155, -97.5170536, -71.0595678, -77.3859479, -84.2747329, -122.41927040000002, -122.41927040000002, -75.16378900000001, -75.16378900000001, -77.15275729999999, -73.9865812, -122.41927040000002, -83.5363339, -87.6244212, -88.2314813, -122.08205, -83.1499304, -83.1499304, -83.1499304, -83.1499304, -83.1499304, -83.1499304, -121.98857190000001, -121.98857190000001, -121.98857190000001, -118.48697390000001, -122.1238767, -122.1238767, -76.77913649999999, -77.4105783, -77.4105783, -73.9865812, -121.88313490000002, -122.3300624, -73.9865812, -81.3790462, -87.6244212, -84.2747329, -87.6244212, -121.95517439999999, -97.7436995, -97.7436995, -75.16378900000001, -75.16378900000001, -83.1499304, -83.1499304, -83.1499304, -83.1499304, -83.1499304, -83.1499304, -104.9847034, -122.41927040000002, -122.1238767, -122.1238767, -80.8431268, -80.8431268, -89.6962194, -89.6962194, -122.03634960000001, -95.36769740000001, -75.16378900000001, -75.16378900000001, -77.15275729999999, -76.8755282, -78.6390779, -117.87049309999999, -117.87049309999999, -118.24272659999998, -122.1238767, -122.1238767, -87.6244212, -121.98857190000001, -121.98857190000001, -121.98857190000001, -122.33305729999998, -89.6443688, -89.6443688, -89.6443688, -89.6443688, -89.6443688, -89.6443688, -89.6443688, -98.42259609999999, -122.41927040000002, -73.9865812, -118.78148200000001, -122.2363548, -73.9865812, -75.16378900000001, -75.16378900000001, -83.3771553, -75.16378900000001, -75.16378900000001, -83.7312291, -75.16378900000001, -75.16378900000001, -121.9746797, -75.16378900000001, -75.16378900000001, -112.07567240000002], \"marker\": {\"color\": \"lightgrey\", \"line\": {\"color\": \"rgb(40,40,40)\", \"width\": 0.5}, \"size\": [8.177, 65.67, 1539.313, 7.482, 62.143, 220.012, 28.206, 8.627, 7.592, 7.288, 432.135, 86.27, 27.326, 220.012, 816.239, 127.837, 8287.238, 432.135, 2705.627, 277.854, 47.793, 43.065, 31.934, 756.204, 9.051, 622.175, 45.511, 21.472, 19.311, 16.796, 10.426, 80.196, 34.912, 9.748, 188.158, 816.239, 118.01, 28.206, 8.627, 7.592, 7.288, 267.62, 10.981, 346.934, 118.01, 81.53, 50.024, 25.323, 18.232, 10.864, 9.934, 55.933, 75.207, 429.604, 118.01, 1539.313, 7.482, 8287.238, 1539.313, 7.482, 429.604, 8287.238, 118.01, 114.611, 8287.238, 160.408, 153.798, 117.096, 60.306, 59.728, 16.544, 8.942, 118.01, 1539.313, 7.482, 816.239, 1465.114, 816.239, 67.188, 2129.784, 123.605, 23.889, 65.442, 816.239, 799.27, 195.272, 44.578, 23.554, 22.37, 429.604, 971.495, 246.042, 8287.238, 1539.313, 7.482, 62.143, 67.188, 816.239, 432.135, 306.099, 98.669, 8287.238, 15.837, 75.207, 55.36, 816.239, 43.243, 86.644, 18.142, 816.239, 107.553, 9.335, 7.524, 239.977, 971.495, 143.968, 75.207, 1539.313, 7.482, 816.239, 62.143, 816.239, 18.142, 91.406, 18.968, 18.619, 10.244, 7.775, 829.543, 68.161, 28.808, 19.452, 14.579, 12.473, 1539.313, 7.482, 59.424, 18.142, 160.408, 153.798, 117.096, 60.306, 59.728, 16.544, 8.942, 8287.238, 37.912, 32.519, 28.206, 8.627, 7.592, 7.288, 971.495, 75.207, 118.01, 761.895, 62.143, 55.501, 26.617, 32.519, 118.01, 55.501, 26.617, 43.354, 111.049, 130.267, 51.888, 8.164, 1539.313, 7.482, 80.196, 28.206, 8.627, 7.592, 7.288, 142.994, 133.904, 41.062, 9.625, 55.501, 26.617, 160.408, 153.798, 117.096, 60.306, 59.728, 16.544, 8.942, 1539.313, 7.482, 55.501, 26.617, 75.207, 429.604, 2705.627, 55.501, 26.617, 47.648, 432.135, 23.362, 217.63, 26.687, 16.633, 429.604, 81.53, 50.024, 25.323, 18.232, 10.864, 9.934, 195.279, 143.968, 253.117, 622.175, 79.521, 8287.238, 69.069, 62.143, 115.276, 971.495, 72.109, 1539.313, 7.482, 220.012, 630.645, 1219.399, 14.668, 11.844, 1539.313, 7.482, 971.495, 55.501, 26.617, 73.062, 143.968, 971.495, 622.175, 8287.238, 143.968, 15.798, 106.188, 86.705, 16.975, 9.288, 816.239, 45.415, 2705.627, 58.373, 142.994, 8287.238, 816.239, 123.605, 81.53, 50.024, 25.323, 18.232, 10.864, 9.934, 55.501, 26.617, 81.53, 50.024, 25.323, 18.232, 10.864, 9.934, 43.273, 67.188, 55.501, 26.617, 816.239, 217.63, 26.687, 16.633, 62.143, 28.206, 8.627, 7.592, 7.288, 630.645, 59.424, 971.495, 55.501, 26.617, 239.977, 142.994, 55.501, 26.617, 55.501, 26.617, 55.501, 26.617, 81.53, 50.024, 25.323, 18.232, 10.864, 9.934, 94.03, 58.065, 47.246, 65.442, 971.495, 36.787, 55.501, 26.617, 61.491, 220.012, 78.066, 22.792, 7.511, 217.63, 26.687, 16.633, 118.01, 123.605, 143.968, 816.239, 24.178, 111.049, 971.495, 28.206, 8.627, 7.592, 7.288, 8287.238, 22.792, 7.511, 19.545, 630.645, 28.946, 829.543, 68.161, 28.808, 19.452, 14.579, 12.473, 1539.313, 7.482, 67.188, 81.53, 50.024, 25.323, 18.232, 10.864, 9.934, 253.117, 8287.238, 73.062, 1359.174, 630.645, 59.424, 816.239, 31.01, 62.143, 816.239, 816.239, 8287.238, 816.239, 1219.399, 14.668, 11.844, 296.114, 55.501, 26.617, 2129.784, 98.669, 1539.313, 7.482, 2705.627, 114.611, 81.53, 50.024, 25.323, 18.232, 10.864, 9.934, 816.239, 118.01, 13.664, 12.917, 220.528, 1539.313, 7.482, 8287.238, 589.896, 1539.313, 7.482, 15.323, 14.773, 1539.313, 7.482, 72.109, 471.625, 55.501, 26.617, 1539.313, 7.482, 15.837, 55.501, 26.617, 239.977, 1539.313, 7.482, 630.645, 160.408, 153.798, 117.096, 60.306, 59.728, 16.544, 8.942, 58.637, 13.569, 123.605, 1539.313, 7.482, 55.933, 8287.238, 143.968, 8287.238, 118.01, 71.249, 9.077, 816.239, 80.527, 220.012, 55.501, 26.617, 160.408, 153.798, 117.096, 60.306, 59.728, 16.544, 8.942, 81.53, 50.024, 25.323, 18.232, 10.864, 9.934, 220.012, 829.543, 68.161, 28.808, 19.452, 14.579, 12.473, 62.143, 62.143, 1539.313, 7.482, 1539.313, 7.482, 143.968, 55.501, 26.617, 1539.313, 7.482, 243.787, 220.012, 253.117, 816.239, 160.408, 153.798, 117.096, 60.306, 59.728, 16.544, 8.942, 412.438, 13.629, 78.066, 589.896, 414.135, 622.175, 816.239, 65.442, 23.889, 1539.313, 7.482, 816.239, 217.63, 26.687, 16.633, 89.613, 49.365, 13.274, 9.041, 630.645, 620.427, 19.974, 15.409, 13.976, 13.805, 11.64, 9.729, 7.302, 220.528, 80.196, 8287.238, 8287.238, 61.449, 143.968, 118.01, 1359.174, 55.501, 26.617, 81.53, 50.024, 25.323, 18.232, 10.864, 9.934, 2129.784, 1539.313, 7.482, 8287.238, 73.062, 118.01, 59.253, 1539.313, 7.482, 51.12, 42.41, 25.494, 10.509, 9.898, 8.453, 55.501, 26.617, 80.196, 15.323, 14.773, 839.714, 24.8, 1219.399, 14.668, 11.844, 96.315, 107.553, 9.335, 7.524, 2129.784, 75.084, 15.798, 55.933, 412.438, 13.629, 220.012, 58.637, 67.188, 55.501, 26.617, 29.874, 98.669, 81.53, 50.024, 25.323, 18.232, 10.864, 9.934, 62.143, 55.501, 26.617, 55.501, 26.617, 630.645, 8287.238, 81.53, 50.024, 25.323, 18.232, 10.864, 9.934, 81.53, 50.024, 25.323, 18.232, 10.864, 9.934, 98.669, 59.424, 220.012, 80.196, 55.933, 78.066, 27.508, 26.921, 11.112, 8.923, 267.62, 10.981, 971.495, 267.62, 10.981, 141.773, 622.175, 412.438, 13.629, 176.068, 160.408, 153.798, 117.096, 60.306, 59.728, 16.544, 8.942, 110.08, 816.239, 220.012, 21.51, 15.323, 14.773, 1219.399, 14.668, 11.844, 55.501, 26.617, 28.206, 8.627, 7.592, 7.288, 267.62, 10.981, 189.054, 10.897, 272.521, 429.604, 816.239, 53.347, 277.854, 47.793, 43.065, 31.934, 55.501, 26.617, 799.27, 195.272, 44.578, 23.554, 22.37, 8287.238, 1539.313, 7.482, 23.889, 217.63, 26.687, 16.633, 118.01, 622.175, 12.72, 15.837, 220.012, 220.012, 8287.238, 1539.313, 7.482, 816.239, 1539.313, 7.482, 58.637, 622.175, 8287.238, 51.33, 83.917, 81.71, 77.12, 816.239, 118.01, 32.519, 816.239, 8287.238, 23.889, 1539.313, 7.482, 1219.399, 14.668, 11.844, 59.424, 55.933, 816.239, 58.373, 432.135, 1539.313, 7.482, 429.604, 30.418, 429.604, 176.068, 8287.238, 143.968, 55.501, 26.617, 8287.238, 206.977, 105.404, 36.833, 32.489, 11.676, 143.968, 67.188, 32.519, 81.53, 50.024, 25.323, 18.232, 10.864, 9.934, 22.792, 7.511, 55.501, 26.617, 62.143, 267.62, 10.981, 94.03, 630.645, 86.244, 59.947, 33.913, 25.797, 13.156, 8.45, 8.033, 82.36, 2705.627, 971.495, 65.442, 55.501, 26.617, 14.41, 23.889, 81.53, 50.024, 25.323, 18.232, 10.864, 9.934, 8.499, 220.012, 8287.238, 429.604, 971.495, 8287.238, 83.917, 81.71, 77.12, 55.501, 26.617, 9.418, 8287.238, 45.511, 21.472, 19.311, 16.796, 10.426, 816.239, 98.669, 28.206, 8.627, 7.592, 7.288, 36.787, 30.363, 1219.399, 14.668, 11.844, 55.501, 26.617, 51.12, 42.41, 25.494, 10.509, 9.898, 8.453, 971.495, 51.12, 42.41, 25.494, 10.509, 9.898, 8.453, 55.501, 26.617, 1539.313, 7.482, 220.012, 30.363, 589.896, 630.645, 23.889, 59.424, 816.239, 816.239, 1539.313, 7.482, 62.143, 8287.238, 816.239, 13.569, 2705.627, 70.709, 75.207, 81.53, 50.024, 25.323, 18.232, 10.864, 9.934, 217.63, 26.687, 16.633, 90.749, 55.501, 26.617, 55.725, 65.965, 8.969, 8287.238, 971.495, 622.175, 8287.238, 243.787, 2705.627, 59.424, 2705.627, 118.01, 839.714, 24.8, 1539.313, 7.482, 81.53, 50.024, 25.323, 18.232, 10.864, 9.934, 619.39, 816.239, 55.501, 26.617, 756.204, 9.051, 15.323, 14.773, 143.968, 2129.784, 1539.313, 7.482, 62.143, 23.362, 414.135, 138.438, 18.676, 3826.423, 55.501, 26.617, 2705.627, 217.63, 26.687, 16.633, 98.669, 160.408, 153.798, 117.096, 60.306, 59.728, 16.544, 8.942, 58.128, 816.239, 8287.238, 125.184, 78.066, 8287.238, 1539.313, 7.482, 80.196, 1539.313, 7.482, 115.276, 1539.313, 7.482, 29.874, 1539.313, 7.482, 1465.114], \"sizemode\": \"area\"}, \"name\": \"111 - 1000\", \"text\": [\"campbell<br>Salary 88.733 thousand\", \"camarillo<br>Salary 112.611 thousand\", \"philadelphia<br>Salary 57.096 thousand\", \"philadelphia<br>Salary 57.096 thousand\", \"rockville<br>Salary 102.731 thousand\", \"irving<br>Salary 83.366 thousand\", \"princeton<br>Salary 87.693 thousand\", \"princeton<br>Salary 87.693 thousand\", \"princeton<br>Salary 87.693 thousand\", \"princeton<br>Salary 87.693 thousand\", \"atlanta<br>Salary 102.669 thousand\", \"duluth<br>Salary 82.098 thousand\", \"duluth<br>Salary 82.098 thousand\", \"irving<br>Salary 83.97 thousand\", \"san francisco<br>Salary 122.429 thousand\", \"cedar rapids<br>Salary 83.366 thousand\", \"new york<br>Salary 138.861 thousand\", \"atlanta<br>Salary 83.595 thousand\", \"chicago<br>Salary 138.861 thousand\", \"newark<br>Salary 85.384 thousand\", \"newark<br>Salary 85.384 thousand\", \"newark<br>Salary 85.384 thousand\", \"newark<br>Salary 85.384 thousand\", \"charlotte<br>Salary 83.47 thousand\", \"charlotte<br>Salary 83.47 thousand\", \"seattle<br>Salary 113.318 thousand\", \"farmington<br>Salary 83.533 thousand\", \"farmington<br>Salary 83.533 thousand\", \"farmington<br>Salary 83.533 thousand\", \"farmington<br>Salary 83.533 thousand\", \"farmington<br>Salary 83.533 thousand\", \"farmington hills<br>Salary 51.272 thousand\", \"cottage grove<br>Salary 83.97 thousand\", \"cottage grove<br>Salary 83.97 thousand\", \"salt lake city<br>Salary 69.576 thousand\", \"san francisco<br>Salary 117.0 thousand\", \"santa clara<br>Salary 93.038 thousand\", \"princeton<br>Salary 87.693 thousand\", \"princeton<br>Salary 87.693 thousand\", \"princeton<br>Salary 87.693 thousand\", \"princeton<br>Salary 87.693 thousand\", \"plano<br>Salary 68.827 thousand\", \"plano<br>Salary 68.827 thousand\", \"tampa<br>Salary 74.734 thousand\", \"santa clara<br>Salary 172.515 thousand\", \"troy<br>Salary 93.454 thousand\", \"troy<br>Salary 93.454 thousand\", \"troy<br>Salary 93.454 thousand\", \"troy<br>Salary 93.454 thousand\", \"troy<br>Salary 93.454 thousand\", \"troy<br>Salary 93.454 thousand\", \"novi<br>Salary 71.635 thousand\", \"mountain view<br>Salary 132.184 thousand\", \"omaha<br>Salary 88.13 thousand\", \"santa clara<br>Salary 88.733 thousand\", \"philadelphia<br>Salary 58.968 thousand\", \"philadelphia<br>Salary 58.968 thousand\", \"new york<br>Salary 70.554 thousand\", \"philadelphia<br>Salary 60.341 thousand\", \"philadelphia<br>Salary 60.341 thousand\", \"omaha<br>Salary 89.502 thousand\", \"new york<br>Salary 80.808 thousand\", \"santa clara<br>Salary 125.05 thousand\", \"provo<br>Salary 66.165 thousand\", \"new york<br>Salary 77.022 thousand\", \"springfield<br>Salary 77.002 thousand\", \"springfield<br>Salary 77.002 thousand\", \"springfield<br>Salary 77.002 thousand\", \"springfield<br>Salary 77.002 thousand\", \"springfield<br>Salary 77.002 thousand\", \"springfield<br>Salary 77.002 thousand\", \"springfield<br>Salary 77.002 thousand\", \"santa clara<br>Salary 110.864 thousand\", \"philadelphia<br>Salary 73.507 thousand\", \"philadelphia<br>Salary 73.507 thousand\", \"san francisco<br>Salary 135.99 thousand\", \"phoenix<br>Salary 78.582 thousand\", \"san francisco<br>Salary 121.077 thousand\", \"milpitas<br>Salary 90.002 thousand\", \"houston<br>Salary 90.002 thousand\", \"frisco<br>Salary 90.646 thousand\", \"herndon<br>Salary 61.818 thousand\", \"palo alto<br>Salary 102.669 thousand\", \"san francisco<br>Salary 135.99 thousand\", \"columbus<br>Salary 83.595 thousand\", \"columbus<br>Salary 83.595 thousand\", \"columbus<br>Salary 83.595 thousand\", \"columbus<br>Salary 83.595 thousand\", \"columbus<br>Salary 83.595 thousand\", \"omaha<br>Salary 96.762 thousand\", \"san jose<br>Salary 78.915 thousand\", \"st. petersburg<br>Salary 110.864 thousand\", \"new york<br>Salary 133.016 thousand\", \"philadelphia<br>Salary 53.082 thousand\", \"philadelphia<br>Salary 53.082 thousand\", \"rockville<br>Salary 60.653 thousand\", \"milpitas<br>Salary 110.864 thousand\", \"san francisco<br>Salary 122.429 thousand\", \"atlanta<br>Salary 62.026 thousand\", \"pittsburgh<br>Salary 81.12 thousand\", \"san mateo<br>Salary 102.669 thousand\", \"new york<br>Salary 102.669 thousand\", \"clive<br>Salary 83.47 thousand\", \"mountain view<br>Salary 125.05 thousand\", \"cedar park<br>Salary 79.082 thousand\", \"san francisco<br>Salary 94.827 thousand\", \"moline<br>Salary 68.411 thousand\", \"nashua<br>Salary 83.741 thousand\", \"south burlington<br>Salary 92.768 thousand\", \"san francisco<br>Salary 122.429 thousand\", \"lowell<br>Salary 76.523 thousand\", \"lowell<br>Salary 76.523 thousand\", \"lowell<br>Salary 76.523 thousand\", \"chandler<br>Salary 73.278 thousand\", \"san jose<br>Salary 78.915 thousand\", \"sunnyvale<br>Salary 133.016 thousand\", \"mountain view<br>Salary 133.016 thousand\", \"philadelphia<br>Salary 57.096 thousand\", \"philadelphia<br>Salary 57.096 thousand\", \"san francisco<br>Salary 122.429 thousand\", \"rockville<br>Salary 69.722 thousand\", \"san francisco<br>Salary 142.168 thousand\", \"south burlington<br>Salary 92.768 thousand\", \"beaverton<br>Salary 67.35 thousand\", \"lexington<br>Salary 60.0 thousand\", \"lexington<br>Salary 60.0 thousand\", \"lexington<br>Salary 60.0 thousand\", \"lexington<br>Salary 60.0 thousand\", \"jacksonville<br>Salary 77.875 thousand\", \"jacksonville<br>Salary 77.875 thousand\", \"jacksonville<br>Salary 77.875 thousand\", \"jacksonville<br>Salary 77.875 thousand\", \"jacksonville<br>Salary 77.875 thousand\", \"jacksonville<br>Salary 77.875 thousand\", \"philadelphia<br>Salary 57.533 thousand\", \"philadelphia<br>Salary 57.533 thousand\", \"alpharetta<br>Salary 60.528 thousand\", \"south burlington<br>Salary 80.912 thousand\", \"springfield<br>Salary 59.779 thousand\", \"springfield<br>Salary 59.779 thousand\", \"springfield<br>Salary 59.779 thousand\", \"springfield<br>Salary 59.779 thousand\", \"springfield<br>Salary 59.779 thousand\", \"springfield<br>Salary 59.779 thousand\", \"springfield<br>Salary 59.779 thousand\", \"new york<br>Salary 138.861 thousand\", \"brookfield<br>Salary 73.362 thousand\", \"menlo park<br>Salary 121.805 thousand\", \"princeton<br>Salary 49.962 thousand\", \"princeton<br>Salary 49.962 thousand\", \"princeton<br>Salary 49.962 thousand\", \"princeton<br>Salary 49.962 thousand\", \"san jose<br>Salary 110.864 thousand\", \"mountain view<br>Salary 110.864 thousand\", \"santa clara<br>Salary 110.864 thousand\", \"fort worth<br>Salary 73.944 thousand\", \"rockville<br>Salary 65.707 thousand\", \"redmond<br>Salary 112.549 thousand\", \"redmond<br>Salary 112.549 thousand\", \"menlo park<br>Salary 121.139 thousand\", \"santa clara<br>Salary 136.635 thousand\", \"redmond<br>Salary 113.318 thousand\", \"redmond<br>Salary 113.318 thousand\", \"lacey<br>Salary 76.482 thousand\", \"costa mesa<br>Salary 84.739 thousand\", \"bellevue<br>Salary 68.702 thousand\", \"bellevue<br>Salary 68.702 thousand\", \"bellevue<br>Salary 68.702 thousand\", \"philadelphia<br>Salary 57.096 thousand\", \"philadelphia<br>Salary 57.096 thousand\", \"farmington hills<br>Salary 71.635 thousand\", \"princeton<br>Salary 75.546 thousand\", \"princeton<br>Salary 75.546 thousand\", \"princeton<br>Salary 75.546 thousand\", \"princeton<br>Salary 75.546 thousand\", \"naperville<br>Salary 83.595 thousand\", \"warren<br>Salary 77.917 thousand\", \"warren<br>Salary 77.917 thousand\", \"warren<br>Salary 77.917 thousand\", \"redmond<br>Salary 113.318 thousand\", \"redmond<br>Salary 113.318 thousand\", \"springfield<br>Salary 73.528 thousand\", \"springfield<br>Salary 73.528 thousand\", \"springfield<br>Salary 73.528 thousand\", \"springfield<br>Salary 73.528 thousand\", \"springfield<br>Salary 73.528 thousand\", \"springfield<br>Salary 73.528 thousand\", \"springfield<br>Salary 73.528 thousand\", \"philadelphia<br>Salary 57.096 thousand\", \"philadelphia<br>Salary 57.096 thousand\", \"redmond<br>Salary 112.549 thousand\", \"redmond<br>Salary 112.549 thousand\", \"mountain view<br>Salary 142.376 thousand\", \"omaha<br>Salary 75.504 thousand\", \"chicago<br>Salary 59.093 thousand\", \"redmond<br>Salary 93.038 thousand\", \"redmond<br>Salary 93.038 thousand\", \"doral<br>Salary 81.598 thousand\", \"atlanta<br>Salary 80.517 thousand\", \"greenbelt<br>Salary 102.731 thousand\", \"fremont<br>Salary 70.47 thousand\", \"fremont<br>Salary 70.47 thousand\", \"fremont<br>Salary 70.47 thousand\", \"omaha<br>Salary 84.24 thousand\", \"troy<br>Salary 63.939 thousand\", \"troy<br>Salary 63.939 thousand\", \"troy<br>Salary 63.939 thousand\", \"troy<br>Salary 63.939 thousand\", \"troy<br>Salary 63.939 thousand\", \"troy<br>Salary 63.939 thousand\", \"little rock<br>Salary 87.693 thousand\", \"sunnyvale<br>Salary 133.016 thousand\", \"jersey city<br>Salary 69.701 thousand\", \"seattle<br>Salary 118.456 thousand\", \"johns creek<br>Salary 103.688 thousand\", \"new york<br>Salary 71.51 thousand\", \"jonesboro<br>Salary 82.098 thousand\", \"rockville<br>Salary 61.152 thousand\", \"ann arbor<br>Salary 82.098 thousand\", \"san jose<br>Salary 87.714 thousand\", \"southfield<br>Salary 72.197 thousand\", \"philadelphia<br>Salary 67.891 thousand\", \"philadelphia<br>Salary 67.891 thousand\", \"irving<br>Salary 82.493 thousand\", \"boston<br>Salary 87.859 thousand\", \"dallas<br>Salary 74.194 thousand\", \"dallas<br>Salary 74.194 thousand\", \"dallas<br>Salary 74.194 thousand\", \"philadelphia<br>Salary 57.096 thousand\", \"philadelphia<br>Salary 57.096 thousand\", \"san jose<br>Salary 83.47 thousand\", \"redmond<br>Salary 112.549 thousand\", \"redmond<br>Salary 112.549 thousand\", \"san ramon<br>Salary 109.325 thousand\", \"sunnyvale<br>Salary 93.995 thousand\", \"san jose<br>Salary 144.518 thousand\", \"seattle<br>Salary 107.39 thousand\", \"new york<br>Salary 71.51 thousand\", \"sunnyvale<br>Salary 101.587 thousand\", \"suwanee<br>Salary 79.373 thousand\", \"norwalk<br>Salary 65.229 thousand\", \"norwalk<br>Salary 65.229 thousand\", \"norwalk<br>Salary 65.229 thousand\", \"norwalk<br>Salary 65.229 thousand\", \"san francisco<br>Salary 118.186 thousand\", \"san luis obispo<br>Salary 82.098 thousand\", \"chicago<br>Salary 100.09 thousand\", \"west des moines<br>Salary 56.534 thousand\", \"naperville<br>Salary 102.003 thousand\", \"new york<br>Salary 69.701 thousand\", \"san francisco<br>Salary 107.203 thousand\", \"frisco<br>Salary 90.646 thousand\", \"troy<br>Salary 83.678 thousand\", \"troy<br>Salary 83.678 thousand\", \"troy<br>Salary 83.678 thousand\", \"troy<br>Salary 83.678 thousand\", \"troy<br>Salary 83.678 thousand\", \"troy<br>Salary 83.678 thousand\", \"redmond<br>Salary 83.47 thousand\", \"redmond<br>Salary 83.47 thousand\", \"troy<br>Salary 96.47 thousand\", \"troy<br>Salary 96.47 thousand\", \"troy<br>Salary 96.47 thousand\", \"troy<br>Salary 96.47 thousand\", \"troy<br>Salary 96.47 thousand\", \"troy<br>Salary 96.47 thousand\", \"draper<br>Salary 77.667 thousand\", \"milpitas<br>Salary 155.147 thousand\", \"redmond<br>Salary 93.038 thousand\", \"redmond<br>Salary 93.038 thousand\", \"san francisco<br>Salary 142.168 thousand\", \"fremont<br>Salary 87.506 thousand\", \"fremont<br>Salary 87.506 thousand\", \"fremont<br>Salary 87.506 thousand\", \"rockville<br>Salary 76.586 thousand\", \"princeton<br>Salary 67.746 thousand\", \"princeton<br>Salary 67.746 thousand\", \"princeton<br>Salary 67.746 thousand\", \"princeton<br>Salary 67.746 thousand\", \"boston<br>Salary 95.618 thousand\", \"alpharetta<br>Salary 60.299 thousand\", \"san jose<br>Salary 96.325 thousand\", \"redmond<br>Salary 93.038 thousand\", \"redmond<br>Salary 93.038 thousand\", \"chandler<br>Salary 78.021 thousand\", \"naperville<br>Salary 84.24 thousand\", \"redmond<br>Salary 112.549 thousand\", \"redmond<br>Salary 112.549 thousand\", \"redmond<br>Salary 93.038 thousand\", \"redmond<br>Salary 93.038 thousand\", \"redmond<br>Salary 93.038 thousand\", \"redmond<br>Salary 93.038 thousand\", \"troy<br>Salary 83.678 thousand\", \"troy<br>Salary 83.678 thousand\", \"troy<br>Salary 83.678 thousand\", \"troy<br>Salary 83.678 thousand\", \"troy<br>Salary 83.678 thousand\", \"troy<br>Salary 83.678 thousand\", \"renton<br>Salary 81.765 thousand\", \"mansfield<br>Salary 85.238 thousand\", \"mansfield<br>Salary 85.238 thousand\", \"palo alto<br>Salary 153.774 thousand\", \"san jose<br>Salary 77.605 thousand\", \"westerville<br>Salary 80.85 thousand\", \"redmond<br>Salary 92.81 thousand\", \"redmond<br>Salary 92.81 thousand\", \"gaithersburg<br>Salary 83.97 thousand\", \"irving<br>Salary 74.152 thousand\", \"redwood city<br>Salary 102.669 thousand\", \"fairfax<br>Salary 113.589 thousand\", \"fairfax<br>Salary 113.589 thousand\", \"fremont<br>Salary 92.768 thousand\", \"fremont<br>Salary 92.768 thousand\", \"fremont<br>Salary 92.768 thousand\", \"santa clara<br>Salary 88.733 thousand\", \"frisco<br>Salary 90.646 thousand\", \"sunnyvale<br>Salary 71.365 thousand\", \"san francisco<br>Salary 121.077 thousand\", \"rolling meadows<br>Salary 92.768 thousand\", \"costa mesa<br>Salary 102.669 thousand\", \"san jose<br>Salary 146.619 thousand\", \"princeton<br>Salary 127.878 thousand\", \"princeton<br>Salary 127.878 thousand\", \"princeton<br>Salary 127.878 thousand\", \"princeton<br>Salary 127.878 thousand\", \"new york<br>Salary 88.733 thousand\", \"fairfax<br>Salary 70.283 thousand\", \"fairfax<br>Salary 70.283 thousand\", \"morrisville<br>Salary 99.32 thousand\", \"boston<br>Salary 84.698 thousand\", \"lawrenceville<br>Salary 52.52 thousand\", \"jacksonville<br>Salary 63.44 thousand\", \"jacksonville<br>Salary 63.44 thousand\", \"jacksonville<br>Salary 63.44 thousand\", \"jacksonville<br>Salary 63.44 thousand\", \"jacksonville<br>Salary 63.44 thousand\", \"jacksonville<br>Salary 63.44 thousand\", \"philadelphia<br>Salary 82.93 thousand\", \"philadelphia<br>Salary 82.93 thousand\", \"milpitas<br>Salary 155.147 thousand\", \"troy<br>Salary 83.678 thousand\", \"troy<br>Salary 83.678 thousand\", \"troy<br>Salary 83.678 thousand\", \"troy<br>Salary 83.678 thousand\", \"troy<br>Salary 83.678 thousand\", \"troy<br>Salary 83.678 thousand\", \"jersey city<br>Salary 94.827 thousand\", \"new york<br>Salary 58.594 thousand\", \"san ramon<br>Salary 75.941 thousand\", \"san antonio<br>Salary 132.08 thousand\", \"boston<br>Salary 110.698 thousand\", \"alpharetta<br>Salary 82.098 thousand\", \"san francisco<br>Salary 129.106 thousand\", \"foster city<br>Salary 122.429 thousand\", \"rockville<br>Salary 68.869 thousand\", \"san francisco<br>Salary 92.955 thousand\", \"san francisco<br>Salary 102.669 thousand\", \"new york<br>Salary 137.696 thousand\", \"san francisco<br>Salary 102.669 thousand\", \"dallas<br>Salary 73.507 thousand\", \"dallas<br>Salary 73.507 thousand\", \"dallas<br>Salary 73.507 thousand\", \"cincinnati<br>Salary 63.211 thousand\", \"redmond<br>Salary 101.837 thousand\", \"redmond<br>Salary 101.837 thousand\", \"houston<br>Salary 81.058 thousand\", \"san mateo<br>Salary 122.429 thousand\", \"philadelphia<br>Salary 71.531 thousand\", \"philadelphia<br>Salary 71.531 thousand\", \"chicago<br>Salary 71.365 thousand\", \"provo<br>Salary 88.358 thousand\", \"troy<br>Salary 128.44 thousand\", \"troy<br>Salary 128.44 thousand\", \"troy<br>Salary 128.44 thousand\", \"troy<br>Salary 128.44 thousand\", \"troy<br>Salary 128.44 thousand\", \"troy<br>Salary 128.44 thousand\", \"san francisco<br>Salary 122.429 thousand\", \"santa clara<br>Salary 120.349 thousand\", \"worthington<br>Salary 86.59 thousand\", \"worthington<br>Salary 86.59 thousand\", \"irvine<br>Salary 120.994 thousand\", \"philadelphia<br>Salary 62.733 thousand\", \"philadelphia<br>Salary 62.733 thousand\", \"new york<br>Salary 114.026 thousand\", \"oklahoma city<br>Salary 62.026 thousand\", \"philadelphia<br>Salary 55.64 thousand\", \"philadelphia<br>Salary 55.64 thousand\", \"sterling<br>Salary 92.019 thousand\", \"sterling<br>Salary 92.019 thousand\", \"philadelphia<br>Salary 73.507 thousand\", \"philadelphia<br>Salary 73.507 thousand\", \"southfield<br>Salary 66.186 thousand\", \"sacramento<br>Salary 98.218 thousand\", \"redmond<br>Salary 112.549 thousand\", \"redmond<br>Salary 112.549 thousand\", \"philadelphia<br>Salary 70.283 thousand\", \"philadelphia<br>Salary 70.283 thousand\", \"clive<br>Salary 109.741 thousand\", \"redmond<br>Salary 113.318 thousand\", \"redmond<br>Salary 113.318 thousand\", \"chandler<br>Salary 81.266 thousand\", \"philadelphia<br>Salary 62.941 thousand\", \"philadelphia<br>Salary 62.941 thousand\", \"boston<br>Salary 67.829 thousand\", \"springfield<br>Salary 66.269 thousand\", \"springfield<br>Salary 66.269 thousand\", \"springfield<br>Salary 66.269 thousand\", \"springfield<br>Salary 66.269 thousand\", \"springfield<br>Salary 66.269 thousand\", \"springfield<br>Salary 66.269 thousand\", \"springfield<br>Salary 66.269 thousand\", \"des plaines<br>Salary 67.163 thousand\", \"wixom<br>Salary 78.125 thousand\", \"frisco<br>Salary 72.363 thousand\", \"philadelphia<br>Salary 55.453 thousand\", \"philadelphia<br>Salary 55.453 thousand\", \"novi<br>Salary 101.816 thousand\", \"new york<br>Salary 135.283 thousand\", \"sunnyvale<br>Salary 105.414 thousand\", \"new york<br>Salary 52.208 thousand\", \"santa clara<br>Salary 88.733 thousand\", \"pleasanton<br>Salary 109.325 thousand\", \"pleasanton<br>Salary 109.325 thousand\", \"san francisco<br>Salary 110.864 thousand\", \"sugar land<br>Salary 85.53 thousand\", \"irving<br>Salary 85.197 thousand\", \"redmond<br>Salary 112.549 thousand\", \"redmond<br>Salary 112.549 thousand\", \"springfield<br>Salary 90.646 thousand\", \"springfield<br>Salary 90.646 thousand\", \"springfield<br>Salary 90.646 thousand\", \"springfield<br>Salary 90.646 thousand\", \"springfield<br>Salary 90.646 thousand\", \"springfield<br>Salary 90.646 thousand\", \"springfield<br>Salary 90.646 thousand\", \"troy<br>Salary 63.939 thousand\", \"troy<br>Salary 63.939 thousand\", \"troy<br>Salary 63.939 thousand\", \"troy<br>Salary 63.939 thousand\", \"troy<br>Salary 63.939 thousand\", \"troy<br>Salary 63.939 thousand\", \"irving<br>Salary 89.024 thousand\", \"jacksonville<br>Salary 82.098 thousand\", \"jacksonville<br>Salary 82.098 thousand\", \"jacksonville<br>Salary 82.098 thousand\", \"jacksonville<br>Salary 82.098 thousand\", \"jacksonville<br>Salary 82.098 thousand\", \"jacksonville<br>Salary 82.098 thousand\", \"rockville<br>Salary 61.152 thousand\", \"rockville<br>Salary 86.029 thousand\", \"philadelphia<br>Salary 67.829 thousand\", \"philadelphia<br>Salary 67.829 thousand\", \"philadelphia<br>Salary 62.733 thousand\", \"philadelphia<br>Salary 62.733 thousand\", \"sunnyvale<br>Salary 133.016 thousand\", \"redmond<br>Salary 113.318 thousand\", \"redmond<br>Salary 113.318 thousand\", \"philadelphia<br>Salary 55.536 thousand\", \"philadelphia<br>Salary 55.536 thousand\", \"orlando<br>Salary 79.414 thousand\", \"irving<br>Salary 86.154 thousand\", \"jersey city<br>Salary 73.507 thousand\", \"san francisco<br>Salary 110.864 thousand\", \"springfield<br>Salary 85.925 thousand\", \"springfield<br>Salary 85.925 thousand\", \"springfield<br>Salary 85.925 thousand\", \"springfield<br>Salary 85.925 thousand\", \"springfield<br>Salary 85.925 thousand\", \"springfield<br>Salary 85.925 thousand\", \"springfield<br>Salary 85.925 thousand\", \"miami<br>Salary 78.874 thousand\", \"miami<br>Salary 78.874 thousand\", \"redwood city<br>Salary 102.669 thousand\", \"oklahoma city<br>Salary 73.091 thousand\", \"raleigh<br>Salary 88.712 thousand\", \"seattle<br>Salary 112.549 thousand\", \"san francisco<br>Salary 114.65 thousand\", \"palo alto<br>Salary 110.864 thousand\", \"herndon<br>Salary 124.218 thousand\", \"philadelphia<br>Salary 67.142 thousand\", \"philadelphia<br>Salary 67.142 thousand\", \"san francisco<br>Salary 112.362 thousand\", \"fremont<br>Salary 85.155 thousand\", \"fremont<br>Salary 85.155 thousand\", \"fremont<br>Salary 85.155 thousand\", \"orem<br>Salary 77.667 thousand\", \"harrisburg<br>Salary 66.248 thousand\", \"harrisburg<br>Salary 66.248 thousand\", \"harrisburg<br>Salary 66.248 thousand\", \"boston<br>Salary 87.859 thousand\", \"washington<br>Salary 105.83 thousand\", \"washington<br>Salary 105.83 thousand\", \"washington<br>Salary 105.83 thousand\", \"washington<br>Salary 105.83 thousand\", \"washington<br>Salary 105.83 thousand\", \"washington<br>Salary 105.83 thousand\", \"washington<br>Salary 105.83 thousand\", \"washington<br>Salary 105.83 thousand\", \"irvine<br>Salary 78.083 thousand\", \"farmington hills<br>Salary 90.646 thousand\", \"new york<br>Salary 60.341 thousand\", \"new york<br>Salary 87.235 thousand\", \"santa cruz<br>Salary 88.067 thousand\", \"sunnyvale<br>Salary 133.016 thousand\", \"santa clara<br>Salary 91.874 thousand\", \"san antonio<br>Salary 109.242 thousand\", \"redmond<br>Salary 92.81 thousand\", \"redmond<br>Salary 92.81 thousand\", \"troy<br>Salary 82.805 thousand\", \"troy<br>Salary 82.805 thousand\", \"troy<br>Salary 82.805 thousand\", \"troy<br>Salary 82.805 thousand\", \"troy<br>Salary 82.805 thousand\", \"troy<br>Salary 82.805 thousand\", \"houston<br>Salary 121.077 thousand\", \"philadelphia<br>Salary 41.704 thousand\", \"philadelphia<br>Salary 41.704 thousand\", \"new york<br>Salary 69.701 thousand\", \"san ramon<br>Salary 79.581 thousand\", \"santa clara<br>Salary 116.522 thousand\", \"cupertino<br>Salary 110.864 thousand\", \"philadelphia<br>Salary 62.733 thousand\", \"philadelphia<br>Salary 62.733 thousand\", \"burlington<br>Salary 58.219 thousand\", \"burlington<br>Salary 58.219 thousand\", \"burlington<br>Salary 58.219 thousand\", \"burlington<br>Salary 58.219 thousand\", \"burlington<br>Salary 58.219 thousand\", \"burlington<br>Salary 58.219 thousand\", \"redmond<br>Salary 110.864 thousand\", \"redmond<br>Salary 110.864 thousand\", \"farmington hills<br>Salary 78.125 thousand\", \"sterling<br>Salary 92.019 thousand\", \"sterling<br>Salary 92.019 thousand\", \"austin<br>Salary 70.928 thousand\", \"austin<br>Salary 70.928 thousand\", \"dallas<br>Salary 76.523 thousand\", \"dallas<br>Salary 76.523 thousand\", \"dallas<br>Salary 76.523 thousand\", \"livonia<br>Salary 69.805 thousand\", \"lowell<br>Salary 76.523 thousand\", \"lowell<br>Salary 76.523 thousand\", \"lowell<br>Salary 76.523 thousand\", \"houston<br>Salary 90.002 thousand\", \"bethlehem<br>Salary 99.902 thousand\", \"suwanee<br>Salary 86.133 thousand\", \"novi<br>Salary 71.635 thousand\", \"miami<br>Salary 71.51 thousand\", \"miami<br>Salary 71.51 thousand\", \"irving<br>Salary 89.024 thousand\", \"des plaines<br>Salary 67.163 thousand\", \"milpitas<br>Salary 110.864 thousand\", \"redmond<br>Salary 112.549 thousand\", \"redmond<br>Salary 112.549 thousand\", \"los gatos<br>Salary 78.021 thousand\", \"san mateo<br>Salary 122.429 thousand\", \"troy<br>Salary 101.754 thousand\", \"troy<br>Salary 101.754 thousand\", \"troy<br>Salary 101.754 thousand\", \"troy<br>Salary 101.754 thousand\", \"troy<br>Salary 101.754 thousand\", \"troy<br>Salary 101.754 thousand\", \"rockville<br>Salary 98.696 thousand\", \"redmond<br>Salary 93.038 thousand\", \"redmond<br>Salary 93.038 thousand\", \"redmond<br>Salary 68.266 thousand\", \"redmond<br>Salary 68.266 thousand\", \"boston<br>Salary 38.563 thousand\", \"new york<br>Salary 165.006 thousand\", \"troy<br>Salary 83.678 thousand\", \"troy<br>Salary 83.678 thousand\", \"troy<br>Salary 83.678 thousand\", \"troy<br>Salary 83.678 thousand\", \"troy<br>Salary 83.678 thousand\", \"troy<br>Salary 83.678 thousand\", \"troy<br>Salary 101.171 thousand\", \"troy<br>Salary 101.171 thousand\", \"troy<br>Salary 101.171 thousand\", \"troy<br>Salary 101.171 thousand\", \"troy<br>Salary 101.171 thousand\", \"troy<br>Salary 101.171 thousand\", \"san mateo<br>Salary 122.429 thousand\", \"alpharetta<br>Salary 72.904 thousand\", \"irving<br>Salary 98.363 thousand\", \"farmington hills<br>Salary 71.635 thousand\", \"novi<br>Salary 71.635 thousand\", \"redwood city<br>Salary 76.336 thousand\", \"garden city<br>Salary 99.341 thousand\", \"garden city<br>Salary 99.341 thousand\", \"garden city<br>Salary 99.341 thousand\", \"garden city<br>Salary 99.341 thousand\", \"plano<br>Salary 78.624 thousand\", \"plano<br>Salary 78.624 thousand\", \"san jose<br>Salary 113.256 thousand\", \"plano<br>Salary 68.827 thousand\", \"plano<br>Salary 68.827 thousand\", \"cary<br>Salary 82.098 thousand\", \"seattle<br>Salary 102.669 thousand\", \"miami<br>Salary 66.643 thousand\", \"miami<br>Salary 66.643 thousand\", \"overland park<br>Salary 65.728 thousand\", \"springfield<br>Salary 90.646 thousand\", \"springfield<br>Salary 90.646 thousand\", \"springfield<br>Salary 90.646 thousand\", \"springfield<br>Salary 90.646 thousand\", \"springfield<br>Salary 90.646 thousand\", \"springfield<br>Salary 90.646 thousand\", \"springfield<br>Salary 90.646 thousand\", \"waterbury<br>Salary 62.213 thousand\", \"san francisco<br>Salary 102.669 thousand\", \"irving<br>Salary 66.81 thousand\", \"auburn hills<br>Salary 73.112 thousand\", \"sterling<br>Salary 92.019 thousand\", \"sterling<br>Salary 92.019 thousand\", \"dallas<br>Salary 90.646 thousand\", \"dallas<br>Salary 90.646 thousand\", \"dallas<br>Salary 90.646 thousand\", \"redmond<br>Salary 132.08 thousand\", \"redmond<br>Salary 132.08 thousand\", \"princeton<br>Salary 54.558 thousand\", \"princeton<br>Salary 54.558 thousand\", \"princeton<br>Salary 54.558 thousand\", \"princeton<br>Salary 54.558 thousand\", \"plano<br>Salary 73.507 thousand\", \"plano<br>Salary 73.507 thousand\", \"grand rapids<br>Salary 86.653 thousand\", \"grand rapids<br>Salary 86.653 thousand\", \"greensboro<br>Salary 60.133 thousand\", \"omaha<br>Salary 107.89 thousand\", \"san francisco<br>Salary 112.549 thousand\", \"south jordan<br>Salary 77.667 thousand\", \"newark<br>Salary 102.274 thousand\", \"newark<br>Salary 102.274 thousand\", \"newark<br>Salary 102.274 thousand\", \"newark<br>Salary 102.274 thousand\", \"redmond<br>Salary 113.318 thousand\", \"redmond<br>Salary 113.318 thousand\", \"columbus<br>Salary 98.384 thousand\", \"columbus<br>Salary 98.384 thousand\", \"columbus<br>Salary 98.384 thousand\", \"columbus<br>Salary 98.384 thousand\", \"columbus<br>Salary 98.384 thousand\", \"new york<br>Salary 133.016 thousand\", \"philadelphia<br>Salary 56.285 thousand\", \"philadelphia<br>Salary 56.285 thousand\", \"herndon<br>Salary 86.299 thousand\", \"fremont<br>Salary 90.646 thousand\", \"fremont<br>Salary 90.646 thousand\", \"fremont<br>Salary 90.646 thousand\", \"santa clara<br>Salary 86.154 thousand\", \"seattle<br>Salary 146.619 thousand\", \"falls church<br>Salary 72.862 thousand\", \"clive<br>Salary 65.645 thousand\", \"irving<br>Salary 74.152 thousand\", \"irving<br>Salary 68.328 thousand\", \"new york<br>Salary 92.768 thousand\", \"philadelphia<br>Salary 86.32 thousand\", \"philadelphia<br>Salary 86.32 thousand\", \"san francisco<br>Salary 122.429 thousand\", \"philadelphia<br>Salary 57.096 thousand\", \"philadelphia<br>Salary 57.096 thousand\", \"des plaines<br>Salary 67.163 thousand\", \"seattle<br>Salary 112.549 thousand\", \"new york<br>Salary 81.037 thousand\", \"hoboken<br>Salary 74.194 thousand\", \"bloomington<br>Salary 82.098 thousand\", \"bloomington<br>Salary 82.098 thousand\", \"bloomington<br>Salary 82.098 thousand\", \"san francisco<br>Salary 103.771 thousand\", \"santa clara<br>Salary 86.195 thousand\", \"menlo park<br>Salary 102.669 thousand\", \"san francisco<br>Salary 99.382 thousand\", \"new york<br>Salary 53.976 thousand\", \"herndon<br>Salary 90.646 thousand\", \"philadelphia<br>Salary 57.533 thousand\", \"philadelphia<br>Salary 57.533 thousand\", \"dallas<br>Salary 73.507 thousand\", \"dallas<br>Salary 73.507 thousand\", \"dallas<br>Salary 73.507 thousand\", \"alpharetta<br>Salary 86.59 thousand\", \"novi<br>Salary 68.702 thousand\", \"san francisco<br>Salary 102.669 thousand\", \"west des moines<br>Salary 67.725 thousand\", \"atlanta<br>Salary 70.283 thousand\", \"philadelphia<br>Salary 56.826 thousand\", \"philadelphia<br>Salary 56.826 thousand\", \"omaha<br>Salary 131.165 thousand\", \"ballwin<br>Salary 82.098 thousand\", \"omaha<br>Salary 82.098 thousand\", \"overland park<br>Salary 83.699 thousand\", \"new york<br>Salary 114.026 thousand\", \"sunnyvale<br>Salary 125.59 thousand\", \"redmond<br>Salary 113.318 thousand\", \"redmond<br>Salary 113.318 thousand\", \"new york<br>Salary 110.864 thousand\", \"richmond<br>Salary 74.402 thousand\", \"richmond<br>Salary 74.402 thousand\", \"richmond<br>Salary 74.402 thousand\", \"richmond<br>Salary 74.402 thousand\", \"richmond<br>Salary 74.402 thousand\", \"sunnyvale<br>Salary 88.587 thousand\", \"milpitas<br>Salary 110.864 thousand\", \"menlo park<br>Salary 117.77 thousand\", \"troy<br>Salary 86.133 thousand\", \"troy<br>Salary 86.133 thousand\", \"troy<br>Salary 86.133 thousand\", \"troy<br>Salary 86.133 thousand\", \"troy<br>Salary 86.133 thousand\", \"troy<br>Salary 86.133 thousand\", \"fairfax<br>Salary 113.755 thousand\", \"fairfax<br>Salary 113.755 thousand\", \"redmond<br>Salary 113.318 thousand\", \"redmond<br>Salary 113.318 thousand\", \"rockville<br>Salary 66.706 thousand\", \"plano<br>Salary 87.859 thousand\", \"plano<br>Salary 87.859 thousand\", \"renton<br>Salary 69.722 thousand\", \"boston<br>Salary 90.355 thousand\", \"greenville<br>Salary 53.186 thousand\", \"greenville<br>Salary 53.186 thousand\", \"greenville<br>Salary 53.186 thousand\", \"greenville<br>Salary 53.186 thousand\", \"greenville<br>Salary 53.186 thousand\", \"greenville<br>Salary 53.186 thousand\", \"greenville<br>Salary 53.186 thousand\", \"livermore<br>Salary 109.325 thousand\", \"chicago<br>Salary 83.658 thousand\", \"san jose<br>Salary 110.864 thousand\", \"palo alto<br>Salary 76.918 thousand\", \"redmond<br>Salary 112.549 thousand\", \"redmond<br>Salary 112.549 thousand\", \"katy<br>Salary 90.002 thousand\", \"herndon<br>Salary 84.739 thousand\", \"troy<br>Salary 117.541 thousand\", \"troy<br>Salary 117.541 thousand\", \"troy<br>Salary 117.541 thousand\", \"troy<br>Salary 117.541 thousand\", \"troy<br>Salary 117.541 thousand\", \"troy<br>Salary 117.541 thousand\", \"sunset hills<br>Salary 78.624 thousand\", \"irving<br>Salary 66.643 thousand\", \"new york<br>Salary 87.859 thousand\", \"omaha<br>Salary 76.523 thousand\", \"san jose<br>Salary 87.714 thousand\", \"new york<br>Salary 100.09 thousand\", \"bloomington<br>Salary 94.058 thousand\", \"bloomington<br>Salary 94.058 thousand\", \"bloomington<br>Salary 94.058 thousand\", \"redmond<br>Salary 112.549 thousand\", \"redmond<br>Salary 112.549 thousand\", \"grosse pointe farms<br>Salary 50.253 thousand\", \"new york<br>Salary 92.768 thousand\", \"farmington<br>Salary 66.206 thousand\", \"farmington<br>Salary 66.206 thousand\", \"farmington<br>Salary 66.206 thousand\", \"farmington<br>Salary 66.206 thousand\", \"farmington<br>Salary 66.206 thousand\", \"san francisco<br>Salary 153.774 thousand\", \"san mateo<br>Salary 71.51 thousand\", \"princeton<br>Salary 71.51 thousand\", \"princeton<br>Salary 71.51 thousand\", \"princeton<br>Salary 71.51 thousand\", \"princeton<br>Salary 71.51 thousand\", \"westerville<br>Salary 86.59 thousand\", \"saratoga<br>Salary 88.733 thousand\", \"dallas<br>Salary 90.646 thousand\", \"dallas<br>Salary 90.646 thousand\", \"dallas<br>Salary 90.646 thousand\", \"redmond<br>Salary 113.318 thousand\", \"redmond<br>Salary 113.318 thousand\", \"burlington<br>Salary 67.829 thousand\", \"burlington<br>Salary 67.829 thousand\", \"burlington<br>Salary 67.829 thousand\", \"burlington<br>Salary 67.829 thousand\", \"burlington<br>Salary 67.829 thousand\", \"burlington<br>Salary 67.829 thousand\", \"san jose<br>Salary 75.92 thousand\", \"burlington<br>Salary 87.859 thousand\", \"burlington<br>Salary 87.859 thousand\", \"burlington<br>Salary 87.859 thousand\", \"burlington<br>Salary 87.859 thousand\", \"burlington<br>Salary 87.859 thousand\", \"burlington<br>Salary 87.859 thousand\", \"redmond<br>Salary 113.318 thousand\", \"redmond<br>Salary 113.318 thousand\", \"philadelphia<br>Salary 57.096 thousand\", \"philadelphia<br>Salary 57.096 thousand\", \"irving<br>Salary 92.768 thousand\", \"saratoga<br>Salary 96.99 thousand\", \"oklahoma city<br>Salary 62.026 thousand\", \"boston<br>Salary 113.256 thousand\", \"herndon<br>Salary 75.067 thousand\", \"alpharetta<br>Salary 84.24 thousand\", \"san francisco<br>Salary 133.806 thousand\", \"san francisco<br>Salary 118.186 thousand\", \"philadelphia<br>Salary 57.096 thousand\", \"philadelphia<br>Salary 57.096 thousand\", \"rockville<br>Salary 76.586 thousand\", \"new york<br>Salary 114.026 thousand\", \"san francisco<br>Salary 92.955 thousand\", \"wixom<br>Salary 65.042 thousand\", \"chicago<br>Salary 100.09 thousand\", \"waukesha<br>Salary 83.366 thousand\", \"mountain view<br>Salary 88.733 thousand\", \"troy<br>Salary 101.171 thousand\", \"troy<br>Salary 101.171 thousand\", \"troy<br>Salary 101.171 thousand\", \"troy<br>Salary 101.171 thousand\", \"troy<br>Salary 101.171 thousand\", \"troy<br>Salary 101.171 thousand\", \"fremont<br>Salary 96.72 thousand\", \"fremont<br>Salary 96.72 thousand\", \"fremont<br>Salary 96.72 thousand\", \"santa monica<br>Salary 55.557 thousand\", \"redmond<br>Salary 112.549 thousand\", \"redmond<br>Salary 112.549 thousand\", \"bowie<br>Salary 37.586 thousand\", \"frederick<br>Salary 65.874 thousand\", \"frederick<br>Salary 65.874 thousand\", \"new york<br>Salary 71.51 thousand\", \"san jose<br>Salary 92.518 thousand\", \"seattle<br>Salary 49.171 thousand\", \"new york<br>Salary 76.794 thousand\", \"orlando<br>Salary 106.454 thousand\", \"chicago<br>Salary 83.366 thousand\", \"alpharetta<br>Salary 82.098 thousand\", \"chicago<br>Salary 86.466 thousand\", \"santa clara<br>Salary 110.864 thousand\", \"austin<br>Salary 86.611 thousand\", \"austin<br>Salary 86.611 thousand\", \"philadelphia<br>Salary 57.096 thousand\", \"philadelphia<br>Salary 57.096 thousand\", \"troy<br>Salary 73.112 thousand\", \"troy<br>Salary 73.112 thousand\", \"troy<br>Salary 73.112 thousand\", \"troy<br>Salary 73.112 thousand\", \"troy<br>Salary 73.112 thousand\", \"troy<br>Salary 73.112 thousand\", \"denver<br>Salary 44.782 thousand\", \"san francisco<br>Salary 92.768 thousand\", \"redmond<br>Salary 93.038 thousand\", \"redmond<br>Salary 93.038 thousand\", \"charlotte<br>Salary 83.47 thousand\", \"charlotte<br>Salary 83.47 thousand\", \"sterling<br>Salary 83.366 thousand\", \"sterling<br>Salary 83.366 thousand\", \"sunnyvale<br>Salary 109.325 thousand\", \"houston<br>Salary 81.058 thousand\", \"philadelphia<br>Salary 83.366 thousand\", \"philadelphia<br>Salary 83.366 thousand\", \"rockville<br>Salary 75.442 thousand\", \"greenbelt<br>Salary 113.755 thousand\", \"raleigh<br>Salary 65.728 thousand\", \"orange<br>Salary 78.083 thousand\", \"orange<br>Salary 78.083 thousand\", \"los angeles<br>Salary 78.478 thousand\", \"redmond<br>Salary 112.549 thousand\", \"redmond<br>Salary 112.549 thousand\", \"chicago<br>Salary 102.669 thousand\", \"fremont<br>Salary 96.72 thousand\", \"fremont<br>Salary 96.72 thousand\", \"fremont<br>Salary 96.72 thousand\", \"san mateo<br>Salary 102.669 thousand\", \"springfield<br>Salary 83.47 thousand\", \"springfield<br>Salary 83.47 thousand\", \"springfield<br>Salary 83.47 thousand\", \"springfield<br>Salary 83.47 thousand\", \"springfield<br>Salary 83.47 thousand\", \"springfield<br>Salary 83.47 thousand\", \"springfield<br>Salary 83.47 thousand\", \"blaine<br>Salary 81.0 thousand\", \"san francisco<br>Salary 122.429 thousand\", \"new york<br>Salary 75.941 thousand\", \"simi valley<br>Salary 70.283 thousand\", \"redwood city<br>Salary 102.669 thousand\", \"new york<br>Salary 92.768 thousand\", \"philadelphia<br>Salary 55.536 thousand\", \"philadelphia<br>Salary 55.536 thousand\", \"farmington hills<br>Salary 92.768 thousand\", \"philadelphia<br>Salary 57.845 thousand\", \"philadelphia<br>Salary 57.845 thousand\", \"ann arbor<br>Salary 63.669 thousand\", \"philadelphia<br>Salary 57.096 thousand\", \"philadelphia<br>Salary 57.096 thousand\", \"los gatos<br>Salary 110.864 thousand\", \"philadelphia<br>Salary 57.069 thousand\", \"philadelphia<br>Salary 57.069 thousand\", \"phoenix<br>Salary 88.733 thousand\"], \"type\": \"scattergeo\"}],\n",
       "                        {\"geo\": {\"countrycolor\": \"rgb(255, 255, 255)\", \"countrywidth\": 1, \"landcolor\": \"rgb(217, 217, 217)\", \"projection\": {\"type\": \"albers usa\"}, \"scope\": \"usa\", \"showland\": true, \"subunitcolor\": \"rgb(255, 255, 255)\", \"subunitwidth\": 1}, \"showlegend\": true, \"template\": {\"data\": {\"bar\": [{\"error_x\": {\"color\": \"#2a3f5f\"}, \"error_y\": {\"color\": \"#2a3f5f\"}, \"marker\": {\"line\": {\"color\": \"#E5ECF6\", \"width\": 0.5}}, \"type\": \"bar\"}], \"barpolar\": [{\"marker\": {\"line\": {\"color\": \"#E5ECF6\", \"width\": 0.5}}, \"type\": \"barpolar\"}], \"carpet\": [{\"aaxis\": {\"endlinecolor\": \"#2a3f5f\", \"gridcolor\": \"white\", \"linecolor\": \"white\", \"minorgridcolor\": \"white\", \"startlinecolor\": \"#2a3f5f\"}, \"baxis\": {\"endlinecolor\": \"#2a3f5f\", \"gridcolor\": \"white\", \"linecolor\": \"white\", \"minorgridcolor\": \"white\", \"startlinecolor\": \"#2a3f5f\"}, \"type\": \"carpet\"}], \"choropleth\": [{\"colorbar\": {\"outlinewidth\": 0, \"ticks\": \"\"}, \"type\": \"choropleth\"}], \"contour\": [{\"colorbar\": {\"outlinewidth\": 0, \"ticks\": \"\"}, \"colorscale\": [[0.0, \"#0d0887\"], [0.1111111111111111, \"#46039f\"], [0.2222222222222222, \"#7201a8\"], [0.3333333333333333, \"#9c179e\"], [0.4444444444444444, \"#bd3786\"], [0.5555555555555556, \"#d8576b\"], [0.6666666666666666, \"#ed7953\"], [0.7777777777777778, \"#fb9f3a\"], [0.8888888888888888, \"#fdca26\"], [1.0, \"#f0f921\"]], \"type\": \"contour\"}], \"contourcarpet\": [{\"colorbar\": {\"outlinewidth\": 0, \"ticks\": \"\"}, \"type\": \"contourcarpet\"}], \"heatmap\": [{\"colorbar\": {\"outlinewidth\": 0, \"ticks\": \"\"}, \"colorscale\": [[0.0, \"#0d0887\"], [0.1111111111111111, \"#46039f\"], [0.2222222222222222, \"#7201a8\"], [0.3333333333333333, \"#9c179e\"], [0.4444444444444444, \"#bd3786\"], [0.5555555555555556, \"#d8576b\"], [0.6666666666666666, \"#ed7953\"], [0.7777777777777778, \"#fb9f3a\"], [0.8888888888888888, \"#fdca26\"], [1.0, \"#f0f921\"]], \"type\": \"heatmap\"}], \"heatmapgl\": [{\"colorbar\": {\"outlinewidth\": 0, \"ticks\": \"\"}, \"colorscale\": [[0.0, \"#0d0887\"], [0.1111111111111111, \"#46039f\"], [0.2222222222222222, \"#7201a8\"], [0.3333333333333333, \"#9c179e\"], [0.4444444444444444, \"#bd3786\"], [0.5555555555555556, \"#d8576b\"], [0.6666666666666666, \"#ed7953\"], [0.7777777777777778, \"#fb9f3a\"], [0.8888888888888888, \"#fdca26\"], [1.0, \"#f0f921\"]], \"type\": \"heatmapgl\"}], \"histogram\": [{\"marker\": {\"colorbar\": {\"outlinewidth\": 0, \"ticks\": \"\"}}, \"type\": \"histogram\"}], \"histogram2d\": [{\"colorbar\": {\"outlinewidth\": 0, \"ticks\": \"\"}, \"colorscale\": [[0.0, \"#0d0887\"], [0.1111111111111111, \"#46039f\"], [0.2222222222222222, \"#7201a8\"], [0.3333333333333333, \"#9c179e\"], [0.4444444444444444, \"#bd3786\"], [0.5555555555555556, \"#d8576b\"], [0.6666666666666666, \"#ed7953\"], [0.7777777777777778, \"#fb9f3a\"], [0.8888888888888888, \"#fdca26\"], [1.0, \"#f0f921\"]], \"type\": \"histogram2d\"}], \"histogram2dcontour\": [{\"colorbar\": {\"outlinewidth\": 0, \"ticks\": \"\"}, \"colorscale\": [[0.0, \"#0d0887\"], [0.1111111111111111, \"#46039f\"], [0.2222222222222222, \"#7201a8\"], [0.3333333333333333, \"#9c179e\"], [0.4444444444444444, \"#bd3786\"], [0.5555555555555556, \"#d8576b\"], [0.6666666666666666, \"#ed7953\"], [0.7777777777777778, \"#fb9f3a\"], [0.8888888888888888, \"#fdca26\"], [1.0, \"#f0f921\"]], \"type\": \"histogram2dcontour\"}], \"mesh3d\": [{\"colorbar\": {\"outlinewidth\": 0, \"ticks\": \"\"}, \"type\": \"mesh3d\"}], \"parcoords\": [{\"line\": {\"colorbar\": {\"outlinewidth\": 0, \"ticks\": \"\"}}, \"type\": \"parcoords\"}], \"scatter\": [{\"marker\": {\"colorbar\": {\"outlinewidth\": 0, \"ticks\": \"\"}}, \"type\": \"scatter\"}], \"scatter3d\": [{\"line\": {\"colorbar\": {\"outlinewidth\": 0, \"ticks\": \"\"}}, \"marker\": {\"colorbar\": {\"outlinewidth\": 0, \"ticks\": \"\"}}, \"type\": \"scatter3d\"}], \"scattercarpet\": [{\"marker\": {\"colorbar\": {\"outlinewidth\": 0, \"ticks\": \"\"}}, \"type\": \"scattercarpet\"}], \"scattergeo\": [{\"marker\": {\"colorbar\": {\"outlinewidth\": 0, \"ticks\": \"\"}}, \"type\": \"scattergeo\"}], \"scattergl\": [{\"marker\": {\"colorbar\": {\"outlinewidth\": 0, \"ticks\": \"\"}}, \"type\": \"scattergl\"}], \"scattermapbox\": [{\"marker\": {\"colorbar\": {\"outlinewidth\": 0, \"ticks\": \"\"}}, \"type\": \"scattermapbox\"}], \"scatterpolar\": [{\"marker\": {\"colorbar\": {\"outlinewidth\": 0, \"ticks\": \"\"}}, \"type\": \"scatterpolar\"}], \"scatterpolargl\": [{\"marker\": {\"colorbar\": {\"outlinewidth\": 0, \"ticks\": \"\"}}, \"type\": \"scatterpolargl\"}], \"scatterternary\": [{\"marker\": {\"colorbar\": {\"outlinewidth\": 0, \"ticks\": \"\"}}, \"type\": \"scatterternary\"}], \"surface\": [{\"colorbar\": {\"outlinewidth\": 0, \"ticks\": \"\"}, \"colorscale\": [[0.0, \"#0d0887\"], [0.1111111111111111, \"#46039f\"], [0.2222222222222222, \"#7201a8\"], [0.3333333333333333, \"#9c179e\"], [0.4444444444444444, \"#bd3786\"], [0.5555555555555556, \"#d8576b\"], [0.6666666666666666, \"#ed7953\"], [0.7777777777777778, \"#fb9f3a\"], [0.8888888888888888, \"#fdca26\"], [1.0, \"#f0f921\"]], \"type\": \"surface\"}], \"table\": [{\"cells\": {\"fill\": {\"color\": \"#EBF0F8\"}, \"line\": {\"color\": \"white\"}}, \"header\": {\"fill\": {\"color\": \"#C8D4E3\"}, \"line\": {\"color\": \"white\"}}, \"type\": \"table\"}]}, \"layout\": {\"annotationdefaults\": {\"arrowcolor\": \"#2a3f5f\", \"arrowhead\": 0, \"arrowwidth\": 1}, \"colorscale\": {\"diverging\": [[0, \"#8e0152\"], [0.1, \"#c51b7d\"], [0.2, \"#de77ae\"], [0.3, \"#f1b6da\"], [0.4, \"#fde0ef\"], [0.5, \"#f7f7f7\"], [0.6, \"#e6f5d0\"], [0.7, \"#b8e186\"], [0.8, \"#7fbc41\"], [0.9, \"#4d9221\"], [1, \"#276419\"]], \"sequential\": [[0.0, \"#0d0887\"], [0.1111111111111111, \"#46039f\"], [0.2222222222222222, \"#7201a8\"], [0.3333333333333333, \"#9c179e\"], [0.4444444444444444, \"#bd3786\"], [0.5555555555555556, \"#d8576b\"], [0.6666666666666666, \"#ed7953\"], [0.7777777777777778, \"#fb9f3a\"], [0.8888888888888888, \"#fdca26\"], [1.0, \"#f0f921\"]], \"sequentialminus\": [[0.0, \"#0d0887\"], [0.1111111111111111, \"#46039f\"], [0.2222222222222222, \"#7201a8\"], [0.3333333333333333, \"#9c179e\"], [0.4444444444444444, \"#bd3786\"], [0.5555555555555556, \"#d8576b\"], [0.6666666666666666, \"#ed7953\"], [0.7777777777777778, \"#fb9f3a\"], [0.8888888888888888, \"#fdca26\"], [1.0, \"#f0f921\"]]}, \"colorway\": [\"#636efa\", \"#EF553B\", \"#00cc96\", \"#ab63fa\", \"#FFA15A\", \"#19d3f3\", \"#FF6692\", \"#B6E880\", \"#FF97FF\", \"#FECB52\"], \"font\": {\"color\": \"#2a3f5f\"}, \"geo\": {\"bgcolor\": \"white\", \"lakecolor\": \"white\", \"landcolor\": \"#E5ECF6\", \"showlakes\": true, \"showland\": true, \"subunitcolor\": \"white\"}, \"hoverlabel\": {\"align\": \"left\"}, \"hovermode\": \"closest\", \"mapbox\": {\"style\": \"light\"}, \"paper_bgcolor\": \"white\", \"plot_bgcolor\": \"#E5ECF6\", \"polar\": {\"angularaxis\": {\"gridcolor\": \"white\", \"linecolor\": \"white\", \"ticks\": \"\"}, \"bgcolor\": \"#E5ECF6\", \"radialaxis\": {\"gridcolor\": \"white\", \"linecolor\": \"white\", \"ticks\": \"\"}}, \"scene\": {\"xaxis\": {\"backgroundcolor\": \"#E5ECF6\", \"gridcolor\": \"white\", \"gridwidth\": 2, \"linecolor\": \"white\", \"showbackground\": true, \"ticks\": \"\", \"zerolinecolor\": \"white\"}, \"yaxis\": {\"backgroundcolor\": \"#E5ECF6\", \"gridcolor\": \"white\", \"gridwidth\": 2, \"linecolor\": \"white\", \"showbackground\": true, \"ticks\": \"\", \"zerolinecolor\": \"white\"}, \"zaxis\": {\"backgroundcolor\": \"#E5ECF6\", \"gridcolor\": \"white\", \"gridwidth\": 2, \"linecolor\": \"white\", \"showbackground\": true, \"ticks\": \"\", \"zerolinecolor\": \"white\"}}, \"shapedefaults\": {\"line\": {\"color\": \"#2a3f5f\"}}, \"ternary\": {\"aaxis\": {\"gridcolor\": \"white\", \"linecolor\": \"white\", \"ticks\": \"\"}, \"baxis\": {\"gridcolor\": \"white\", \"linecolor\": \"white\", \"ticks\": \"\"}, \"bgcolor\": \"#E5ECF6\", \"caxis\": {\"gridcolor\": \"white\", \"linecolor\": \"white\", \"ticks\": \"\"}}, \"title\": {\"x\": 0.05}, \"xaxis\": {\"automargin\": true, \"gridcolor\": \"white\", \"linecolor\": \"white\", \"ticks\": \"\", \"zerolinecolor\": \"white\", \"zerolinewidth\": 2}, \"yaxis\": {\"automargin\": true, \"gridcolor\": \"white\", \"linecolor\": \"white\", \"ticks\": \"\", \"zerolinecolor\": \"white\", \"zerolinewidth\": 2}}}, \"title\": {\"text\": \"2018 US city Salaries<br>(Click legend to toggle traces)\"}},\n",
       "                        {\"responsive\": true}\n",
       "                    ).then(function(){\n",
       "                            \n",
       "var gd = document.getElementById('00b7cf6b-188d-4f61-a6d9-ebde1240cd39');\n",
       "var x = new MutationObserver(function (mutations, observer) {{\n",
       "        var display = window.getComputedStyle(gd).display;\n",
       "        if (!display || display === 'none') {{\n",
       "            console.log([gd, 'removed!']);\n",
       "            Plotly.purge(gd);\n",
       "            observer.disconnect();\n",
       "        }}\n",
       "}});\n",
       "\n",
       "// Listen for the removal of the full notebook cells\n",
       "var notebookContainer = gd.closest('#notebook-container');\n",
       "if (notebookContainer) {{\n",
       "    x.observe(notebookContainer, {childList: true});\n",
       "}}\n",
       "\n",
       "// Listen for the clearing of the current output cell\n",
       "var outputEl = gd.closest('.output');\n",
       "if (outputEl) {{\n",
       "    x.observe(outputEl, {childList: true});\n",
       "}}\n",
       "\n",
       "                        })\n",
       "                };\n",
       "                });\n",
       "            </script>\n",
       "        </div>"
      ]
     },
     "metadata": {},
     "output_type": "display_data"
    }
   ],
   "source": [
    "fig.show()"
   ]
  },
  {
   "cell_type": "code",
   "execution_count": null,
   "metadata": {},
   "outputs": [],
   "source": []
  }
 ],
 "metadata": {
  "kernelspec": {
   "display_name": "Python 3",
   "language": "python",
   "name": "python3"
  },
  "language_info": {
   "codemirror_mode": {
    "name": "ipython",
    "version": 3
   },
   "file_extension": ".py",
   "mimetype": "text/x-python",
   "name": "python",
   "nbconvert_exporter": "python",
   "pygments_lexer": "ipython3",
   "version": "3.7.4"
  }
 },
 "nbformat": 4,
 "nbformat_minor": 2
}
